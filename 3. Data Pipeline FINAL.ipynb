{
 "cells": [
  {
   "cell_type": "markdown",
   "metadata": {
    "application/vnd.databricks.v1+cell": {
     "cellMetadata": {
      "byteLimit": 2048000,
      "rowLimit": 10000
     },
     "inputWidgets": {},
     "nuid": "30de0787-3e61-4200-a2b4-1384276c09a7",
     "showTitle": false,
     "title": ""
    },
    "id": "pYj0LOr0KtIA"
   },
   "source": [
    "# Flight Prediction Data Pipeline\n",
    "This data pipeline code ingests the flight and weather data from blob storage and processes it so it is ready for training with a machine learning estimator. It transforms the data: one-hot-encodes cateogorical features, normalizes numeric features, and imputes missinges values with the mean for numeric features. It also engineers new features, such as airport pagerank,  airport triangle count, and a lagged outcome variable. The code creates cross-validation folds for the training set and processes the full training and test datasets. In the data pipeline image below, this code completes the first half, stage 1 data cleaning, splitting the data into train and test datasets, and stage 2 data cleaning.\n",
    "\n",
    "**Pipeline Image**\n",
    "![Pipeline Image](https://i.imgur.com/wq62T0E.png)\n",
    "\n",
    "### Project Description\n",
    "This is a group project conducted for course w261: Machine Learning at Scale at the University of California Berkeley in Summer 2023. This project develops a machine learning model that predicts flight delays based on historical flight, airport station, and weather data spanning five years from 2015-2019 in the United States.\n",
    "\n",
    "###Group members\n",
    "Jessica Stockham, Chase Madison, Kisha Kim, Eric Danforth"
   ]
  },
  {
   "cell_type": "code",
   "execution_count": 0,
   "metadata": {
    "application/vnd.databricks.v1+cell": {
     "cellMetadata": {
      "byteLimit": 2048000,
      "rowLimit": 10000
     },
     "inputWidgets": {},
     "nuid": "39afb451-29c3-4a84-a0d1-aac896d0b667",
     "showTitle": true,
     "title": "Import Packages"
    }
   },
   "outputs": [],
   "source": [
    "import numpy as np\n",
    "import re\n",
    "import pandas as pd\n",
    "from collections import namedtuple\n",
    "from datetime import datetime, timedelta, date\n",
    "import holidays\n",
    "from datetime import datetime\n",
    "\n",
    "from pyspark.sql.types import *\n",
    "from pyspark.sql.functions import udf, col,isnan,when,count, lag, to_timestamp, to_date, first, row_number\n",
    "from pyspark.sql import Window\n",
    "from pyspark.ml.feature import OneHotEncoder, StringIndexer, VectorAssembler,StandardScaler, Imputer, Bucketizer\n",
    "from pyspark.ml import Pipeline\n",
    "from pyspark.ml.tuning import ParamGridBuilder, TrainValidationSplit\n",
    "from pyspark.ml.classification import LogisticRegression, RandomForestClassifier, GBTClassifier\n",
    "from pyspark.ml.evaluation import BinaryClassificationEvaluator, MulticlassClassificationEvaluator\n",
    "from pyspark.mllib.evaluation import MulticlassMetrics\n",
    "from pyspark.ml.evaluation import MulticlassClassificationEvaluator\n",
    "\n",
    "from sklearn.metrics import confusion_matrix\n",
    "\n",
    "from graphframes import GraphFrame\n",
    "from hyperopt import fmin, tpe, Trials, SparkTrials, hp\n"
   ]
  },
  {
   "cell_type": "code",
   "execution_count": 0,
   "metadata": {
    "application/vnd.databricks.v1+cell": {
     "cellMetadata": {
      "byteLimit": 2048000,
      "rowLimit": 10000
     },
     "inputWidgets": {},
     "nuid": "20ef9ca5-132a-4678-a5bc-f41544c8a84d",
     "showTitle": true,
     "title": "Code to Access the Azure Blob Storage"
    }
   },
   "outputs": [],
   "source": [
    "## Place this cell in any team notebook that needs access to the team cloud storage\n",
    "mids261_mount_path = '/mnt/mids-w261'  # 261 course blob storage is mounted here\n",
    "secret_scope = 'sec5-team1-scope'  # Name of the secret scope Chase created i|n Databricks CLI\n",
    "secret_key = 'sec5-team1-key'  # Name of the secret key Chase created in Databricks CLI\n",
    "storage_account = 'sec5team1storage'  # Name of the Azure Storage Account Chase created\n",
    "blob_container = 'sec5-team1-container'  # Name of the container Chase created in Azure Storage Account\n",
    "team_blob_url = f'wasbs://{blob_container}@{storage_account}.blob.core.windows.net'  # Points to the root of your team storage bucket\n",
    "spark.conf.set(  # SAS Token: Grant the team limited access to Azure Storage resources\n",
    "  f'fs.azure.sas.{blob_container}.{storage_account}.blob.core.windows.net',\n",
    "  dbutils.secrets.get(scope=secret_scope, key=secret_key)\n",
    ")"
   ]
  },
  {
   "cell_type": "markdown",
   "metadata": {
    "application/vnd.databricks.v1+cell": {
     "cellMetadata": {
      "byteLimit": 2048000,
      "rowLimit": 10000
     },
     "inputWidgets": {},
     "nuid": "9d8483d1-e54c-4afa-b7d9-f0528af9eb11",
     "showTitle": false,
     "title": ""
    }
   },
   "source": [
    "### Cross Validation Folds\n",
    "The training set is further divided into training folds that each contain training and validation dataframes using the Block Splits cross validation method. We create non-overlapping folds. The first chunk of days of each fold are used for testing and the next chunk of days are used for validation.\n",
    "\n",
    "This arrangement also ensures that our validation folds are representative of different days of year and months, which is important because we have temporal features that we want to evaluate."
   ]
  },
  {
   "cell_type": "code",
   "execution_count": 0,
   "metadata": {
    "application/vnd.databricks.v1+cell": {
     "cellMetadata": {
      "byteLimit": 2048000,
      "rowLimit": 10000
     },
     "inputWidgets": {},
     "nuid": "420912f1-60ef-47b4-b6e5-f043cbb909fd",
     "showTitle": true,
     "title": "Define Functions for Cross Validation"
    }
   },
   "outputs": [],
   "source": [
    "# Citation: make_block_splits() code provided by Course Instructor as part of a lab demonstration\n",
    "\n",
    "BlockSplit = namedtuple(\"BlockSplit\", [\"min_date\", \"train_cut\", \"val_cut\"])\n",
    "\n",
    "def make_block_splits(min_date, max_date, train_width, val_width):\n",
    "    \"\"\"\n",
    "    Return a list of breakpoints for building the train and validation folds.\n",
    "\n",
    "    Each item in the list contains a namedtuple of dates: (min_date, train_cut, val_cut).\n",
    "    The folds can be generated using these cuts as follows: \n",
    "    \n",
    "    * train data is (min_date <= flight_date < train_cut)\n",
    "    * val data is (train_cut <= flight_date < val_cut)\n",
    "\n",
    "    Args:\n",
    "        min_date - the first date to include in the first fold\n",
    "        max_date - the validation cut of the last fold (i.e. this is the first day\n",
    "            of the test set and is not included in the folds)\n",
    "        train_width - the timespan covered by each training set\n",
    "        val_delta - the timespan covered by each validation set\n",
    "\n",
    "    Returns:\n",
    "        a list of ``BlockSplit`` instances\n",
    "    \"\"\"\n",
    "    blocks = list()\n",
    "    train_min = min_date\n",
    "    val_cut = min_date\n",
    "    \n",
    "    # Loop over and create blocks\n",
    "    while True:\n",
    "        train_cut = train_min + train_width\n",
    "        val_cut = train_cut + val_width\n",
    "        if train_cut > max_date or val_cut > max_date:\n",
    "            break\n",
    "        blocks.append(BlockSplit(train_min, train_cut, val_cut))\n",
    "        train_min = val_cut\n",
    "    \n",
    "    return blocks\n",
    "\n",
    "def make_folds(df, date_col, splits):\n",
    "    \"\"\"\n",
    "    Make folds using the specified block splits.\n",
    "\n",
    "    Args:\n",
    "        df - the dataframe to make folds from\n",
    "        date_col - the name of a date column to split on\n",
    "        splits - a list of ``BlockSplit`` instances\n",
    "    \n",
    "    Returns:\n",
    "        a list of (train_df, val_df) tuples\n",
    "    \"\"\"\n",
    "    folds = list()\n",
    "    for split in splits:\n",
    "        train_df = df.filter((df[date_col] >= split.min_date) & (df[date_col] < split.train_cut))\n",
    "        val_df = df.filter((df[date_col] >= split.train_cut) & (df[date_col] < split.val_cut))\n",
    "        folds.append((train_df, val_df))\n",
    "    return folds\n",
    "\n",
    "def save_folds_to_blob(folds, blob_url, fold_name):\n",
    "    for i, (train_df, val_df) in enumerate(folds):\n",
    "        dbutils.fs.rm(f\"{blob_url}/{fold_name}/train_{i}_df\", recurse=True)\n",
    "        dbutils.fs.rm(f\"{blob_url}/{fold_name}/val_{i}_df\", recurse=True)\n",
    "        train_df.write.parquet(f\"{blob_url}/{fold_name}/train_{i}_df\")\n",
    "        val_df.write.parquet(f\"{blob_url}/{fold_name}/val_{i}_df\")\n",
    "\n",
    "def load_folds_from_blob_and_cache(blob_url, fold_name):\n",
    "    folds = list()\n",
    "    DEFAULT_PARTITION_COUNT = 36\n",
    "\n",
    "    # Compute the fold count\n",
    "    files = dbutils.fs.ls(f\"{blob_url}/{fold_name}\")\n",
    "    fold_names = sorted([f.name for f in files if f.name.startswith(\"train\")])\n",
    "    match = re.match(r\"train_(\\d+)_df\", fold_names[-1])\n",
    "    fold_count = int(match.group(1)) + 1\n",
    "    print(f\"Loading {fold_count} folds...\")\n",
    "\n",
    "    # Load folds\n",
    "    for i in range(fold_count):\n",
    "        train_df = (\n",
    "            spark.read.parquet(f\"{blob_url}/{fold_name}/train_{i}_df\")\n",
    "            .repartition(DEFAULT_PARTITION_COUNT)\n",
    "            .cache()\n",
    "        )\n",
    "        val_df = (\n",
    "            spark.read.parquet(f\"{blob_url}/{fold_name}/val_{i}_df\")\n",
    "            .repartition(DEFAULT_PARTITION_COUNT)\n",
    "            .cache()\n",
    "        )\n",
    "        folds.append((train_df, val_df))\n",
    "    return folds"
   ]
  },
  {
   "cell_type": "markdown",
   "metadata": {
    "application/vnd.databricks.v1+cell": {
     "cellMetadata": {
      "byteLimit": 2048000,
      "rowLimit": 10000
     },
     "inputWidgets": {},
     "nuid": "93a263f7-b088-4dc3-b0bf-89c46d294376",
     "showTitle": false,
     "title": ""
    }
   },
   "source": [
    "**Save Folds Data**\n",
    "\n",
    "Save the folds (each fold contains a training dataframe and a validation dataframe) to blob storage, then load them back. This is a recovery point if we need to rerun part of the pipeline."
   ]
  },
  {
   "cell_type": "code",
   "execution_count": 0,
   "metadata": {
    "application/vnd.databricks.v1+cell": {
     "cellMetadata": {
      "byteLimit": 2048000,
      "rowLimit": 10000
     },
     "inputWidgets": {},
     "nuid": "b7548105-d277-4f94-942f-f14d13027691",
     "showTitle": true,
     "title": "Save Folds Data"
    }
   },
   "outputs": [],
   "source": [
    "# Citation: Code written by Jessica Stockham\n",
    "\n",
    "def foldsWork(i, train_df, val_df):\n",
    "\n",
    "    print(f'CV FOLD START: {i}: {datetime.now()}')\n",
    "\n",
    "    display(train_df.count())\n",
    "    display(val_df.count())\n",
    "\n",
    "    # Downsample Training Set\n",
    "    train_downsampled = downsample(train_df)\n",
    "\n",
    "    display(train_downsampled.count())\n",
    "\n",
    "    print(f'Done with downsampling: {datetime.now()}')\n",
    "\n",
    "    # Add graph features to each fold\n",
    "    df_train_graph_downsampled, df_test_graph = get_graph_features(train_downsampled, val_df)      \n",
    "\n",
    "    print(f'Done with graph features: {datetime.now()}') \n",
    "\n",
    "    # CV Pipeline\n",
    "    pipelineModel, cv_features = cvPipeline(df_train_graph_downsampled)\n",
    "    train_split = pipelineModel.transform(df_train_graph_downsampled)\n",
    "    test_split = pipelineModel.transform(df_test_graph)\n",
    "\n",
    "    print(f'Done with CV Pipeline: {datetime.now()}')\n",
    "    print(f'cv_features: {cv_features}')\n",
    "                \n",
    "    features_all = features + cv_features\n",
    "    \n",
    "    print(f'features_all: {features_all}')\n",
    "    assembler = VectorAssembler(inputCols=features_all, outputCol=\"features\")           \n",
    "    train = assembler.transform(train_split)\n",
    "    test = assembler.transform(test_split)\n",
    "\n",
    "    display(train.count())\n",
    "    display(test.count())\n",
    "\n",
    "    print(f'Done with Assembling Features: {datetime.now()}')\n",
    "\n",
    "    return train, test\n",
    "\n",
    "\n",
    "def make_folds_and_save(df_in, splits, fold_name=\"folds\"):\n",
    "    \"\"\"\n",
    "    Create training folds and save to blob storage.\n",
    "\n",
    "    Args:\n",
    "        df_in - the dataframe to split into folds\n",
    "        splits - the block splits as returned by make_block_splits()\n",
    "    \"\"\"\n",
    "\n",
    "    global features\n",
    "\n",
    "    if input(f\"Are you sure you want to overwrite '{fold_name}'? (y/n)\").lower().strip() == \"y\":\n",
    "        print(\"Making train/val folds...\")\n",
    "        df = df_in\n",
    "        folds = make_folds(df, \"FL_DATE\", splits)\n",
    "\n",
    "        folds_transformed = []\n",
    "\n",
    "        # Apply data processing within each fold to avoid data leakage\n",
    "        for i, (train_df, val_df) in enumerate(folds):\n",
    "\n",
    "            train, test = foldsWork(i, train_df, val_df)\n",
    "\n",
    "            folds_transformed.append((train, test))\n",
    "\n",
    "            save_folds_to_blob(folds_transformed, team_blob_url, fold_name)\n",
    "        return folds_transformed\n",
    "    else:\n",
    "        print(\"Cancelled\")\n",
    "    "
   ]
  },
  {
   "cell_type": "markdown",
   "metadata": {
    "application/vnd.databricks.v1+cell": {
     "cellMetadata": {},
     "inputWidgets": {},
     "nuid": "3f4fb0d4-616f-4282-af51-7f774bccd94c",
     "showTitle": false,
     "title": ""
    }
   },
   "source": [
    "### Clean Data to Prepare for Training\n",
    "Clean and process the full dataset. Drops canceled flights, does one-hot imputation on categorical variables, creates new features."
   ]
  },
  {
   "cell_type": "code",
   "execution_count": 0,
   "metadata": {
    "application/vnd.databricks.v1+cell": {
     "cellMetadata": {
      "byteLimit": 2048000,
      "rowLimit": 10000
     },
     "inputWidgets": {},
     "nuid": "f4f5ebc4-21f0-4dc2-b4ef-4bc9e458578a",
     "showTitle": true,
     "title": "Clean All Data"
    }
   },
   "outputs": [],
   "source": [
    "# Citation: Cleaning code in this block was written collaboratively by Chase Madision, Kisha Kim, and Jessica Stockham.\n",
    "\n",
    "# HOLIDAY PROCESSING\n",
    "\n",
    "# Create a broadcast variable for a list of US holidays\n",
    "us_holidays = spark.sparkContext.broadcast(\n",
    "    holidays.US(years=list(range(2015, 2021)))\n",
    ")\n",
    "\n",
    "# Define a UDF that uses the broadcast variable to check if a given date is a US holiday \n",
    "def is_holiday(date):\n",
    "    return date in us_holidays.value\n",
    "\n",
    "# Define a UDF to check if a given date is adjacent to a holiday\n",
    "def is_holiday_adjacent(date):\n",
    "    day_before = date - timedelta(days=1)\n",
    "    day_after = date + timedelta(days=1)\n",
    "    return is_holiday(day_before) or is_holiday(day_after)\n",
    "    \n",
    "def timeFeatures(df_otpw):\n",
    "    \n",
    "    ## KISHA CODE\n",
    "\n",
    "    ## Avg flight delay in minutes from previous day\n",
    "\n",
    "    df_otpw.createOrReplaceTempView(\"my_temp_view\")\n",
    "    # WHERE OP_CARRIER_FL_NUM==1\n",
    "    sql_query1 = \"SELECT DISTINCT OP_CARRIER_FL_NUM, FL_DATE, sum(DEP_DELAY) over (PARTITION BY OP_CARRIER_FL_NUM ORDER BY FL_DATE) AS CURRENT_DAY_DELAY, COUNT(DEP_DELAY) over (PARTITION BY OP_CARRIER_FL_NUM ORDER BY FL_DATE) AS NUM_FLIGHT_TODAY FROM my_temp_view ORDER BY 1,2\"\n",
    "    result_df1 = spark.sql(sql_query1)\n",
    "    result_df1.createOrReplaceTempView(\"my_temp_view2\")\n",
    "\n",
    "    sql_query2 = \"SELECT DISTINCT OP_CARRIER_FL_NUM, FL_DATE, CURRENT_DAY_DELAY, NUM_FLIGHT_TODAY, CURRENT_DAY_DELAY/NUM_FLIGHT_TODAY as DAILY_AVG_DEP_DELAY FROM my_temp_view2\"\n",
    "    result_df2 = spark.sql(sql_query2)\n",
    "    result_df2.createOrReplaceTempView(\"my_temp_view3\")\n",
    "\n",
    "    sql_query3 = \"SELECT OP_CARRIER_FL_NUM, FL_DATE, CURRENT_DAY_DELAY, NUM_FLIGHT_TODAY, DAILY_AVG_DEP_DELAY, LAG(DAILY_AVG_DEP_DELAY, 1) OVER (PARTITION BY OP_CARRIER_FL_NUM ORDER BY FL_DATE) AS PRIOR_DAILY_AVG_DEP_DELAY FROM my_temp_view3 ORDER BY 1,2\"\n",
    "    result_df3 = spark.sql(sql_query3)\n",
    "    # Show the result DataFrame\n",
    "\n",
    "    # display(result_df3.limit(50).toPandas())\n",
    "    df_avg_delay_by_flightnum = result_df3.fillna(0, subset=\"PRIOR_DAILY_AVG_DEP_DELAY\")\n",
    "\n",
    "    # Rename multiple columns\n",
    "    df_avg_delay_by_flightnum = df_avg_delay_by_flightnum.withColumnRenamed(\n",
    "        \"OP_CARRIER_FL_NUM\", \"FLIGHT_NUM\"\n",
    "    ).withColumnRenamed(\"FL_DATE\", \"FLIGHT_DATE\")\n",
    "\n",
    "    #Joining to main table \n",
    "    df_otpw = df_otpw.join(\n",
    "            df_avg_delay_by_flightnum.withColumnRenamed('DAILY_AVG_DEP_DELAY', 'FE_DAILY_AVG_DEP_DELAY') \\\n",
    "                .withColumnRenamed('PRIOR_DAILY_AVG_DEP_DELAY', 'FE_PRIOR_DAILY_AVG_DEP_DELAY'),\n",
    "            on=((df_otpw[\"OP_CARRIER_FL_NUM\"] == df_avg_delay_by_flightnum[\"FLIGHT_NUM\"]) & (df_otpw[\"FL_DATE\"] == df_avg_delay_by_flightnum[\"FLIGHT_DATE\"]) ) ,\n",
    "            how=\"left\"\n",
    "        ) .drop(\"FLIGHT_NUM\", \"FLIGHT_DATE\")\n",
    "    \n",
    "    ## Avg flight duration from previous day\n",
    "    df_otpw.createOrReplaceTempView(\"my_temp_view\")\n",
    "    # WHERE OP_CARRIER_FL_NUM==1\n",
    "    a_sql_query1 = \"SELECT DISTINCT OP_CARRIER_FL_NUM, FL_DATE, sum(AIR_TIME) over (PARTITION BY OP_CARRIER_FL_NUM ORDER BY FL_DATE) AS SUM_DURATION_BY_FLIGHT, COUNT(AIR_TIME) over (PARTITION BY OP_CARRIER_FL_NUM ORDER BY FL_DATE) AS NUM_FLIGHT_TODAY FROM my_temp_view ORDER BY 1,2\"\n",
    "    a_result_df1 = spark.sql(a_sql_query1)\n",
    "    a_result_df1.createOrReplaceTempView(\"my_temp_view2\")\n",
    "\n",
    "    a_sql_query2 = \"SELECT OP_CARRIER_FL_NUM, FL_DATE, SUM_DURATION_BY_FLIGHT, NUM_FLIGHT_TODAY, SUM_DURATION_BY_FLIGHT/NUM_FLIGHT_TODAY as AVG_DURATION FROM my_temp_view2\"\n",
    "    a_result_df2 = spark.sql(a_sql_query2)\n",
    "    a_result_df2.createOrReplaceTempView(\"my_temp_view3\")\n",
    "\n",
    "    a_sql_query3 = \"SELECT OP_CARRIER_FL_NUM, FL_DATE, SUM_DURATION_BY_FLIGHT, NUM_FLIGHT_TODAY, AVG_DURATION, LAG(AVG_DURATION, 1) OVER (PARTITION BY OP_CARRIER_FL_NUM ORDER BY FL_DATE) AS PRIOR_AVG_DURATION FROM my_temp_view3 ORDER BY 1,2\"\n",
    "    a_result_df3 = spark.sql(a_sql_query3)\n",
    "    df_avg_flight_duration = a_result_df3.fillna(0, subset=\"PRIOR_AVG_DURATION\")\n",
    "\n",
    "    # Rename multiple columns\n",
    "    df_avg_flight_duration = df_avg_flight_duration.withColumnRenamed(\n",
    "        \"OP_CARRIER_FL_NUM\", \"FLIGHT_NUM\"\n",
    "    ).withColumnRenamed(\"FL_DATE\", \"FLIGHT_DATE\")\n",
    "\n",
    "    display(df_avg_flight_duration.limit(1000).toPandas())\n",
    "    keep = [\"FLIGHT_NUM\", \"FLIGHT_DATE\", \"AVG_DURATION\", \"PRIOR_AVG_DURATION\"]\n",
    "    df_avg_flight_duration = df_avg_flight_duration.select(keep)\n",
    "\n",
    "    # join back\n",
    "    df_otpw = df_otpw.join(\n",
    "        df_avg_flight_duration.withColumnRenamed('AVG_DURATION', 'FE_AVG_DURATION') \\\n",
    "            .withColumnRenamed('PRIOR_AVG_DURATION', 'FE_PRIOR_AVG_DURATION'),\n",
    "        on=((df_otpw[\"OP_CARRIER_FL_NUM\"] == df_avg_flight_duration[\"FLIGHT_NUM\"]) & (df_otpw[\"FL_DATE\"] == df_avg_flight_duration[\"FLIGHT_DATE\"]) ) ,\n",
    "        how=\"left\"\n",
    "    ) .drop(\"FLIGHT_NUM\", \"FLIGHT_DATE\")\n",
    "\n",
    "    ## Number of Flight Scheduled\n",
    "\n",
    "    df_otpw.createOrReplaceTempView(\"my_temp_view\")\n",
    "    b_sql_query1 = \"SELECT DISTINCT FL_DATE, ORIGIN, DEP_TIME_BLK, COUNT(OP_CARRIER_FL_NUM) over (PARTITION BY ORIGIN, DEP_TIME_BLK ORDER BY FL_DATE) AS FLIGHT_SCHEDULE FROM my_temp_view ORDER BY 1,2\"\n",
    "    b_result_df1 = spark.sql(b_sql_query1)\n",
    "\n",
    "    df_num_scheduled_flight = b_result_df1.fillna(0, subset=\"FLIGHT_SCHEDULE\")\n",
    "\n",
    "    # Rename multiple columns\n",
    "    df_num_scheduled_flight = df_num_scheduled_flight.withColumnRenamed(\n",
    "        \"ORIGIN\", \"ORIGIN_AIRPORT\").withColumnRenamed(\"FL_DATE\", \"FLIGHT_DATE\").withColumnRenamed(\"DEP_TIME_BLK\", \"Departure_Time_Block\")\n",
    "    #display(df_num_scheduled_flight.limit(1000).toPandas())\n",
    "\n",
    "    #Joining to main table \n",
    "    df_otpw = df_otpw.join(\n",
    "            df_num_scheduled_flight.withColumnRenamed('FLIGHT_SCHEDULE', 'FE_NUM_FLIGHT_SCHEDULED'),\n",
    "            on=((df_otpw[\"ORIGIN\"] == df_num_scheduled_flight[\"ORIGIN_AIRPORT\"]) & (df_otpw[\"FL_DATE\"] == df_num_scheduled_flight[\"FLIGHT_DATE\"]) & (df_otpw[\"DEP_TIME_BLK\"] == df_num_scheduled_flight[\"Departure_Time_Block\"])) ,\n",
    "            how=\"left\"\n",
    "        ) .drop(\"ORIGIN_AIRPORT\", \"FLIGHT_DATE\",\"Departure_Time_Block\")\n",
    "\n",
    "    return df_otpw\n",
    "\n",
    "# Prior Flight Delay in Minutes\n",
    "def get_flights_lagged_delay(df):\n",
    "    \"\"\"Looks at the scheduled plane's flight immediately prior to see difference \"\"\"\n",
    "    # Partition the data by tail number, then order by datetime of flight in UTC\n",
    "    window_spec = Window.partitionBy('TAIL_NUM').orderBy('sched_depart_date_time_UTC')\n",
    "    # Create the new column 'DEP_DELAY_LAG' using the lag function, and set the default value to 0 for the first flight in the sequence.\n",
    "    df_with_lag = df.withColumn('DEP_DELAY_LAG', lag(col('DEP_DELAY')).over(window_spec)) \\\n",
    "        .na.fill({'DEP_DELAY_LAG': 0})\n",
    "    return df_with_lag\n",
    "\n",
    "# First Flight Indicator Variable\n",
    "def get_first_flight_of_day(df):\n",
    "    \"\"\"Value of 1 indicates that its the plane's first flight of the day\"\"\"\n",
    "    # Create the window specification to partition by TAIL_NUM and order by sched_depart_date_time_UTC\n",
    "    window_spec = Window.partitionBy('TAIL_NUM', 'FL_DATE').orderBy('sched_depart_date_time_UTC')\n",
    "    # Use row_number() to assign a row number to each record within the partition\n",
    "    df_with_first_flights = df.withColumn('row_number', row_number().over(window_spec)) \\\n",
    "        .withColumn('IS_FIRST_FLIGHT_OF_DAY', col('row_number') == 1) \\\n",
    "        .drop('row_number')\n",
    "\n",
    "    # Cast boolean to double for ingestion in MLlilb\n",
    "    df_with_first_flights = df_with_first_flights\\\n",
    "        .withColumn(\"IS_FIRST_FLIGHT_OF_DAY_double\", col(\"IS_FIRST_FLIGHT_OF_DAY\").cast(\"integer\").cast(\"double\"))\n",
    "    \n",
    "    return df_with_first_flights\n",
    "\n",
    "# DATA CLEANING PIPELINE: ALL DATA\n",
    "def pipelineAllData(df):\n",
    "\n",
    "    \"\"\"Pipeline steps we apply uniformly to all training and held-out data. Only run this once\n",
    "    \"\"\"\n",
    "\n",
    "    global features\n",
    "    global numericFeatures\n",
    "    global categoricalFeatures\n",
    "    global ordinalFeatures\n",
    "    global bucketFeatures\n",
    "    global binaryfeatures\n",
    "    global processingFeatures\n",
    "    global labelCol\n",
    "\n",
    "    # ADD NEW FEATURES\n",
    "\n",
    "    # Cast Data to Needed Data Types\n",
    "    cast_df = df\\\n",
    "        .withColumn('DEP_DEL15',col('DEP_DEL15').cast(DoubleType()))\\\n",
    "        .withColumn('DEP_DELAY',col('DEP_DELAY').cast(DoubleType()))\\\n",
    "        .withColumn('AIR_TIME',col('AIR_TIME').cast(DoubleType()))\\\n",
    "        .withColumn('DISTANCE',col('DISTANCE').cast(DoubleType()))\\\n",
    "        .withColumn('ELEVATION',col('ELEVATION').cast(DoubleType()))\\\n",
    "        .withColumn('CRS_DEP_TIME',col('CRS_DEP_TIME').cast(IntegerType()))\\\n",
    "        .withColumn(\"DATE\",to_timestamp(\"DATE\"))\\\n",
    "        .withColumn(\"FL_DATE\",to_date(\"FL_DATE\"))\\\n",
    "        .withColumn(\"sched_depart_date_time_UTC\",to_timestamp(\"sched_depart_date_time_UTC\"))\\\n",
    "        .withColumn('OP_CARRIER_FL_NUM',col('OP_CARRIER_FL_NUM').cast(IntegerType()))\\\n",
    "        .withColumn('MONTH',col('MONTH').cast(IntegerType()))\\\n",
    "        .withColumn('YEAR',col('YEAR').cast(IntegerType()))\\\n",
    "        .withColumn('DAY_OF_WEEK',col('DAY_OF_WEEK').cast(IntegerType()))\\\n",
    "        .withColumn('CANCELLED',col('CANCELLED').cast(IntegerType()))\n",
    "\n",
    "    print(\"count before drop\")\n",
    "    display(cast_df.count())\n",
    "\n",
    "    # Drop canceled flights\n",
    "    df_dropped = cast_df.where(col('CANCELLED') == 0).drop('CANCELLED')\n",
    "    print(f\"count after drop\")\n",
    "    display(df_dropped.count())\n",
    "\n",
    "    # Add First Flight Indicator [categorical feature]\n",
    "    df_firstFlight = get_first_flight_of_day(df_dropped)\n",
    "\n",
    "    # Add lagged Departure Delay (Prior Flight) [numeric feature]\n",
    "    df_lag_delay = get_flights_lagged_delay(df_firstFlight)\n",
    "\n",
    "    # Add Time features (numeric) [numeric features]\n",
    "    time_df = timeFeatures(df_lag_delay)\n",
    "\n",
    "    # Add Holiday Features (binary 0/1) [categorical features]\n",
    "\n",
    "    udf_is_holiday = udf(is_holiday, BooleanType())\n",
    "    udf_is_holiday_adjacent = udf(is_holiday_adjacent, BooleanType())\n",
    "    holiday_df = time_df.withColumn('is_holiday', udf_is_holiday('FL_DATE')).withColumn('is_holiday_adjacent', udf_is_holiday_adjacent(col('FL_DATE')))\n",
    "\n",
    "    holiday_df = holiday_df.withColumn(\"is_holiday_double\",holiday_df.is_holiday.cast(\"integer\").cast(\"double\"))\n",
    "    holiday_df = holiday_df.withColumn(\"is_holiday_adjacent_double\",holiday_df.is_holiday_adjacent.cast(\"integer\").cast(\"double\"))\n",
    "\n",
    "    # Create a Missing Category for \n",
    "\n",
    "     # Create column \"label\" to represent our outcome variable\n",
    "    labeled_df = holiday_df.withColumn(\"label\", col(labelCol))\n",
    "\n",
    "    print(f\"count after label\")\n",
    "    display(labeled_df.count())\n",
    "\n",
    "    #Filter to just the features we need for training\n",
    "    slim_df = labeled_df.na.drop(subset=[\"DEP_DEL15\"]).select(['label'] + numericFeatures + categoricalFeatures_orig + processingFeatures)\n",
    "\n",
    "    display(slim_df.printSchema())\n",
    "\n",
    "    ### PIPELINE (one-hot encode categorical) ###\n",
    "    stages = []\n",
    "\n",
    "    # Departure Time Buckets\n",
    "    bucketizer = Bucketizer(splits=[ 0, 900, 1200, 1600, 2000, 2359],inputCol=\"CRS_DEP_TIME\", outputCol=\"CRS_DEP_BUCKET\")\n",
    "    stages += [bucketizer]\n",
    "\n",
    "    # Categorical: StringIndex and One-Hot Encode\n",
    "    ix_output_cols = [f\"{c}_ix\" for c in categoricalFeatures_plus_bin]\n",
    "    cat_ix = StringIndexer(inputCols=categoricalFeatures_plus_bin, outputCols=ix_output_cols, handleInvalid=\"keep\")\n",
    "    hot_output_cols = [f\"{c}_hot\" for c in categoricalFeatures_plus_bin]\n",
    "    hot_ix = OneHotEncoder(inputCols=ix_output_cols, outputCols=hot_output_cols, handleInvalid=\"keep\")\n",
    "    stages += [cat_ix, hot_ix]\n",
    "    features += hot_output_cols\n",
    "\n",
    "    # Create Pipeline\n",
    "    pipeline = Pipeline(stages = stages)\n",
    "    \n",
    "    # Fit the Pipeline to Dataset\n",
    "    pipelineModel = pipeline.fit(slim_df)\n",
    "        \n",
    "    return pipelineModel, slim_df"
   ]
  },
  {
   "cell_type": "markdown",
   "metadata": {
    "application/vnd.databricks.v1+cell": {
     "cellMetadata": {},
     "inputWidgets": {},
     "nuid": "00fd5a9e-be45-41aa-ae82-e016e20a43b4",
     "showTitle": false,
     "title": ""
    }
   },
   "source": [
    "###Apply Meta-Data from Training Dataset to Validation or Test Dataset\n",
    "Create graph features, normalize numeric features, impute missing for numeric features."
   ]
  },
  {
   "cell_type": "code",
   "execution_count": 0,
   "metadata": {
    "application/vnd.databricks.v1+cell": {
     "cellMetadata": {
      "byteLimit": 2048000,
      "rowLimit": 10000
     },
     "inputWidgets": {},
     "nuid": "a4ea854b-4c7b-4c67-b462-5b23029f5d67",
     "showTitle": true,
     "title": "Apply Data Transformations Individually to Each Fold or to the Heldout Test Dataset"
    }
   },
   "outputs": [],
   "source": [
    "# Citation: Cleaning code in this block was written collaboratively by Chase Madision and Jessica Stockham\n",
    "# Chase wrote get_graph_features() and downsample(). Jessica wrote cvPipeline()\n",
    "\n",
    "flight_composite_key = [\n",
    "    'OP_UNIQUE_CARRIER',\n",
    "    'OP_CARRIER_FL_NUM',\n",
    "    'origin_iata_code',\n",
    "    'dest_iata_code',\n",
    "    'FL_DATE',\n",
    "    'TAIL_NUM',\n",
    "    'CRS_DEP_TIME']\n",
    "\n",
    "def get_graph_features(df_train, df_test):\n",
    "    \"\"\"\n",
    "    Takes as input the train and test spark dfs\n",
    "    Calculates PageRank, Triangle Count, and LPA based on train dataframe\n",
    "    Produces input dfs, joined with 2 sets of new features on ORIGIN and DEST, and the features\n",
    "    \"\"\"\n",
    "    ### 1. Create a GraphFrame ###\n",
    "    vertices = df_train.select(col('ORIGIN').alias('id')) \\\n",
    "        .distinct() \\\n",
    "        .union(df_train.select(col('DEST').alias('id')).distinct()) \\\n",
    "        .distinct()\n",
    "    edges = df_train.select(\n",
    "        col('ORIGIN').alias('src'), \n",
    "        col('DEST').alias('dst'), \n",
    "        'OP_UNIQUE_CARRIER', 'OP_CARRIER_FL_NUM', 'TAIL_NUM'\n",
    "    )\n",
    "    f = GraphFrame(vertices, edges)\n",
    "    ### 2. Compute Graph Algorithms ###\n",
    "    # Page Rank\n",
    "    page_rank = f.pageRank(maxIter=10, resetProbability=0.15).vertices \\\n",
    "                .withColumnRenamed(\"id\", \"airport_iata_code\") \\\n",
    "                .withColumnRenamed(\"pagerank\", \"pagerank\")\n",
    "    # Triangle Count\n",
    "    triangle_count = f.triangleCount() \\\n",
    "             .withColumnRenamed(\"id\", \"airport_iata_code\") \\\n",
    "             .withColumnRenamed(\"count\", \"triangle_count\")\n",
    "    # # Label Propagation Algorithm (LPA)\n",
    "    # lpa = f.labelPropagation(maxIter=4) \\\n",
    "    #    .withColumnRenamed(\"id\", \"airport_iata_code\") \\\n",
    "    #    .withColumnRenamed(\"label\", \"lpa_label\")\n",
    "    graph_features = page_rank.join(triangle_count, on=\"airport_iata_code\") \\\n",
    "       # .join(lpa, on=\"airport_iata_code\")\n",
    "\n",
    "    ### 3. Join Back to DataFrames on Origin and Dest Airports ###\n",
    "    # Join to Training Set\n",
    "    df_train = df_train.join(\n",
    "        graph_features.withColumnRenamed('pagerank', 'pagerank_origin') \\\n",
    "            .withColumnRenamed('triangle_count', 'triangle_count_origin'), \\\n",
    "            # .withColumnRenamed('lpa_label', 'lpa_label_origin'),\n",
    "        on=df_train[\"ORIGIN\"] == graph_features[\"airport_iata_code\"],\n",
    "        how=\"left_outer\"\n",
    "    ).drop('airport_iata_code') \\\n",
    "    .join(\n",
    "        graph_features.withColumnRenamed('pagerank', 'pagerank_dest') \\\n",
    "            .withColumnRenamed('triangle_count', 'triangle_count_dest'), \\\n",
    "            # .withColumnRenamed('lpa_label', 'lpa_label_dest'),\n",
    "        on=df_train[\"DEST\"] == graph_features[\"airport_iata_code\"],\n",
    "        how=\"left_outer\"\n",
    "    ).drop('airport_iata_code')\n",
    "    \n",
    "    # Join to Validation Set\n",
    "    df_test = df_test.join(\n",
    "        graph_features.withColumnRenamed('pagerank', 'pagerank_origin') \\\n",
    "            .withColumnRenamed('triangle_count', 'triangle_count_origin'), \\\n",
    "            # .withColumnRenamed('lpa_label', 'lpa_label_origin'),\n",
    "        on=df_test[\"ORIGIN\"] == graph_features[\"airport_iata_code\"],\n",
    "        how=\"left_outer\"\n",
    "    ).drop('airport_iata_code') \\\n",
    "    .join(\n",
    "        graph_features.withColumnRenamed('pagerank', 'pagerank_dest') \\\n",
    "            .withColumnRenamed('triangle_count', 'triangle_count_dest'), \\\n",
    "            # .withColumnRenamed('lpa_label', 'lpa_label_dest'),\n",
    "        on=df_test[\"DEST\"] == graph_features[\"airport_iata_code\"],\n",
    "        how=\"left_outer\"\n",
    "    ).drop('airport_iata_code')\n",
    "\n",
    "    return df_train, df_test\n",
    "    \n",
    "def downsample(df_train):\n",
    "    \"\"\"Takes the training set and downsamples to return a balanced set based on DEP_DEL15\"\"\"\n",
    "    # Count the rows in the training set\n",
    "    num_flights = df_train.count()\n",
    "    # Filter down to just the delayed flights\n",
    "    df_flights_delayed = df_train.where(col('label') == 1).cache()\n",
    "    # Count the number of delayed flights\n",
    "    num_flights_delayed = df_flights_delayed.count()\n",
    "    # Sample a little more than we need, then limit to the number of delayed flights and combine\n",
    "    flights_downsampled = df_train.where(col('label') == 0) \\\n",
    "        .sample(\n",
    "            withReplacement=False,\n",
    "            fraction=1.1 * num_flights_delayed / (num_flights - num_flights_delayed),\n",
    "            seed=261\n",
    "        ) \\\n",
    "        .limit(num_flights_delayed) \\\n",
    "        .union(df_flights_delayed)\n",
    "    return flights_downsampled\n",
    "\n",
    "\n",
    "def cvPipeline(df_train_cv):\n",
    "    \"\"\"Pipeline steps we apply Individually to each CV Split.\n",
    "    1. Impute missing for numeric values\n",
    "    2. Normalize numeric data    \n",
    "    \"\"\"\n",
    "\n",
    "    stages = []\n",
    "\n",
    "    # cv_features are features transformed for this particular CV split\n",
    "    cv_features = []\n",
    "\n",
    "    # Numeric: Impute missing: mean (faster for big data)\n",
    "    imputer = Imputer(\n",
    "        strategy='mean',inputCols = numeric_all_features,\n",
    "        outputCols=[\"{}_imputed\".format(c) for c in numeric_all_features]\n",
    "    )\n",
    "    stages += [imputer]\n",
    "\n",
    "    # Numeric: Scale the features (first assemble)\n",
    "    num_assembler = VectorAssembler(\n",
    "        inputCols=[c + \"_imputed\" for c in numeric_all_features], \n",
    "        outputCol=\"vectorized_numeric_features\")\n",
    "    \n",
    "    stages += [num_assembler]\n",
    "    \n",
    "    scaler = StandardScaler(\n",
    "        inputCol=\"vectorized_numeric_features\", withStd=True, withMean=True, \n",
    "        outputCol=\"scaled_numeric\")\n",
    "    \n",
    "    stages += [scaler]\n",
    "    \n",
    "    cv_features.append(\"scaled_numeric\")\n",
    "\n",
    "    # Create Pipeline\n",
    "    pipeline = Pipeline(stages = stages)\n",
    "    \n",
    "    # Fit the Pipeline to Dataset\n",
    "    pipelineModel = pipeline.fit(df_train_cv)\n",
    "\n",
    "    \n",
    "    pipeline = Pipeline(stages = stages)\n",
    "    \n",
    "    # Fit the Pipeline to Dataset\n",
    "    pipelineModel = pipeline.fit(df_train_cv)\n",
    "    \n",
    "    return pipelineModel, cv_features"
   ]
  },
  {
   "cell_type": "code",
   "execution_count": 0,
   "metadata": {
    "application/vnd.databricks.v1+cell": {
     "cellMetadata": {
      "byteLimit": 2048000,
      "rowLimit": 10000
     },
     "inputWidgets": {},
     "nuid": "9f21fcf8-adff-46ca-b617-8bbbf94b9fdc",
     "showTitle": false,
     "title": ""
    }
   },
   "outputs": [],
   "source": [
    "# STORE A GLOBAL FINAL FEATURES LIST\n",
    "def featuresList(features):\n",
    "    '''Store features list'''\n",
    "    features_df = pd.DataFrame(features)\n",
    "    features_spark_df=spark.createDataFrame(features_df)\n",
    "\n",
    "    features_spark_df.write.format(\"csv\").mode(\"overwrite\")\\\n",
    "        .option(\"path\", (f\"{team_blob_url}/features\"))\\\n",
    "        .save()\n",
    "    print(features)\n",
    "\n",
    "    #Read features from disk\n",
    "    features_in = spark.read.format(\"csv\")\\\n",
    "        .option(\"path\", (f\"{team_blob_url}/features\"))\\\n",
    "        .load()\n",
    "    features_in.show()\n",
    "    return"
   ]
  },
  {
   "cell_type": "markdown",
   "metadata": {
    "application/vnd.databricks.v1+cell": {
     "cellMetadata": {},
     "inputWidgets": {},
     "nuid": "9a52613e-210f-4447-bae9-a3bf95bfd249",
     "showTitle": false,
     "title": ""
    }
   },
   "source": [
    "### Run Data Pipeline\n",
    "This code runs the functions defined above."
   ]
  },
  {
   "cell_type": "code",
   "execution_count": 0,
   "metadata": {
    "application/vnd.databricks.v1+cell": {
     "cellMetadata": {
      "byteLimit": 2048000,
      "rowLimit": 10000
     },
     "inputWidgets": {},
     "nuid": "6130b4af-6a7d-4b37-98f3-a54048007095",
     "showTitle": false,
     "title": ""
    }
   },
   "outputs": [
    {
     "output_type": "stream",
     "name": "stdout",
     "output_type": "stream",
     "text": [
      "Fold 0 Splits:\n  Train: 2015-01-01 <= x < 2015-07-20\n    Val: 2015-07-20 <= x < 2015-10-20\nFold 1 Splits:\n  Train: 2015-10-20 <= x < 2016-05-07\n    Val: 2016-05-07 <= x < 2016-08-07\nFold 2 Splits:\n  Train: 2016-08-07 <= x < 2017-02-23\n    Val: 2017-02-23 <= x < 2017-05-26\nFold 3 Splits:\n  Train: 2017-05-26 <= x < 2017-12-12\n    Val: 2017-12-12 <= x < 2018-03-14\nFold 4 Splits:\n  Train: 2018-03-14 <= x < 2018-09-30\n    Val: 2018-09-30 <= x < 2018-12-31\n"
     ]
    }
   ],
   "source": [
    "# Citation: Code written by Jessica Stockham\n",
    "\n",
    "############## 0. PIPELINE SETUP ####################\n",
    "\n",
    "## PARAMETERS WE SET\n",
    "\n",
    "# # Dataset Setting\n",
    "DEFAULT_PARTITION_COUNT = 36\n",
    "timeInterval = '60mo'  \n",
    "#timeInterval = '3mo'\n",
    "\n",
    "\n",
    "# Splits for 60 Months\n",
    "#5 years\n",
    "\n",
    "# Determine split points: 5 folds.\n",
    "splits = make_block_splits(\n",
    "    min_date = date(2015,1,1), \n",
    "    max_date = date(2018,12,31), \n",
    "    train_width = timedelta(days=200),\n",
    "    val_width = timedelta(days=92),\n",
    ")\n",
    "\n",
    "# Splits for 3 Months\n",
    "\n",
    "# # Determine split points (creates 3 folds)\n",
    "# splits = make_block_splits(\n",
    "#     min_date = date(2015,1,1), \n",
    "#     max_date = date(2015,3,31), \n",
    "#     train_width = timedelta(days=20),\n",
    "#     val_width = timedelta(days=9),\n",
    "# )\n",
    "\n",
    "for i, split in enumerate(splits):\n",
    "    print(f\"Fold {i} Splits:\")\n",
    "    print(f\"  Train: {split.min_date} <= x < {split.train_cut}\")\n",
    "    print(f\"    Val: {split.train_cut} <= x < {split.val_cut}\")\n",
    "\n",
    "# Features\n",
    "labelCol = 'DEP_DEL15'\n",
    "\n",
    "graph_features_numeric = [\n",
    "    'pagerank_origin',       # Numeric float value typically ranging from 0-10\n",
    "    'pagerank_dest', \n",
    "    'triangle_count_origin', # Numeric integer values typically ranging from 0-500\n",
    "    'triangle_count_dest'\n",
    "    ]\n",
    "\n",
    "# Special Feature Categories \n",
    "time_features = ['FE_PRIOR_DAILY_AVG_DEP_DELAY', 'FE_PRIOR_AVG_DURATION', 'FE_NUM_FLIGHT_SCHEDULED', \"DEP_DELAY_LAG\"]\n",
    "binaryfeatures = [\"is_holiday_double\", \"is_holiday_adjacent_double\", \"IS_FIRST_FLIGHT_OF_DAY_double\"]\n",
    "bucketFeatures = [\"CRS_DEP_BUCKET\"] # Result of binning CRS_DEP_TIME\n",
    "processingFeatures = [\"DATE\", \"FL_DATE\", \"OP_CARRIER_FL_NUM\", \"DEP_DELAY\", \"AIR_TIME\", \"DEP_TIME_BLK\", 'origin_iata_code', 'dest_iata_code', 'TAIL_NUM', 'sched_depart_date_time_UTC', \"CRS_DEP_TIME\", \"ORIGIN\", \"DEST\"]\n",
    "\n",
    "# Cleaning Stage 1 Numeric.\n",
    "numericFeatures = [\"DISTANCE\", \"ELEVATION\"] + time_features \n",
    "\n",
    "# Cleaning Stage 1: Categorical Features Within Original Dataset. \n",
    "categoricalFeatures_orig = [\"DAY_OF_WEEK\", \"MONTH\", \"YEAR\", \"OP_UNIQUE_CARRIER\",\n",
    " \"origin_type\", \"dest_type\"] + binaryfeatures\n",
    "\n",
    "# Categorical with the newly created \"CRS_DEP_BUCKET\" feature: Will one-hot encode\n",
    "categoricalFeatures_plus_bin = categoricalFeatures_orig + bucketFeatures\n",
    "\n",
    "# Cleaning Stage 2 Numeric: CV Fold Processing Category: impute missing, standardize. \n",
    "# Graph features are added to the numeric list because we create the graph features on each fold\n",
    "# (time=4, graph=4, elevation and distance = 2 = 11 scaled features)\n",
    "numeric_all_features = numericFeatures + graph_features_numeric"
   ]
  },
  {
   "cell_type": "code",
   "execution_count": 0,
   "metadata": {
    "application/vnd.databricks.v1+cell": {
     "cellMetadata": {
      "byteLimit": 2048000,
      "rowLimit": 10000
     },
     "inputWidgets": {},
     "nuid": "fa6b489b-2fee-42b4-9291-7c4e31b8e527",
     "showTitle": false,
     "title": ""
    }
   },
   "outputs": [
    {
     "output_type": "stream",
     "name": "stdout",
     "output_type": "stream",
     "text": [
      "count before drop\n"
     ]
    },
    {
     "output_type": "display_data",
     "data": {
      "text/plain": [
       "1401363"
      ]
     },
     "metadata": {},
     "output_type": "display_data"
    },
    {
     "output_type": "stream",
     "name": "stdout",
     "output_type": "stream",
     "text": [
      "count after drop\n"
     ]
    },
    {
     "output_type": "display_data",
     "data": {
      "text/plain": [
       "1357914"
      ]
     },
     "metadata": {},
     "output_type": "display_data"
    },
    {
     "output_type": "display_data",
     "data": {
      "text/html": [
       "<style scoped>\n",
       "  .table-result-container {\n",
       "    max-height: 300px;\n",
       "    overflow: auto;\n",
       "  }\n",
       "  table, th, td {\n",
       "    border: 1px solid black;\n",
       "    border-collapse: collapse;\n",
       "  }\n",
       "  th, td {\n",
       "    padding: 5px;\n",
       "  }\n",
       "  th {\n",
       "    text-align: left;\n",
       "  }\n",
       "</style><div class='table-result-container'><table class='table-result'><thead style='background-color: white'><tr><th>FLIGHT_NUM</th><th>FLIGHT_DATE</th><th>SUM_DURATION_BY_FLIGHT</th><th>NUM_FLIGHT_TODAY</th><th>AVG_DURATION</th><th>PRIOR_AVG_DURATION</th></tr></thead><tbody><tr><td>1</td><td>2015-01-01</td><td>1477.0</td><td>5</td><td>295.4</td><td>0.0</td></tr><tr><td>1</td><td>2015-01-02</td><td>2983.0</td><td>11</td><td>271.1818181818182</td><td>295.4</td></tr><tr><td>1</td><td>2015-01-03</td><td>4486.0</td><td>17</td><td>263.88235294117646</td><td>271.1818181818182</td></tr><tr><td>1</td><td>2015-01-04</td><td>5974.0</td><td>23</td><td>259.7391304347826</td><td>263.88235294117646</td></tr><tr><td>1</td><td>2015-01-05</td><td>7492.0</td><td>29</td><td>258.3448275862069</td><td>259.7391304347826</td></tr><tr><td>1</td><td>2015-01-06</td><td>9012.0</td><td>35</td><td>257.48571428571427</td><td>258.3448275862069</td></tr><tr><td>1</td><td>2015-01-07</td><td>10516.0</td><td>41</td><td>256.4878048780488</td><td>257.48571428571427</td></tr><tr><td>1</td><td>2015-01-08</td><td>11979.0</td><td>47</td><td>254.87234042553192</td><td>256.4878048780488</td></tr><tr><td>1</td><td>2015-01-09</td><td>13490.0</td><td>53</td><td>254.52830188679246</td><td>254.87234042553192</td></tr><tr><td>1</td><td>2015-01-10</td><td>14786.0</td><td>57</td><td>259.4035087719298</td><td>254.52830188679246</td></tr><tr><td>1</td><td>2015-01-11</td><td>16221.0</td><td>62</td><td>261.6290322580645</td><td>259.4035087719298</td></tr><tr><td>1</td><td>2015-01-12</td><td>17690.0</td><td>68</td><td>260.1470588235294</td><td>261.6290322580645</td></tr><tr><td>1</td><td>2015-01-13</td><td>19168.0</td><td>74</td><td>259.02702702702703</td><td>260.1470588235294</td></tr><tr><td>1</td><td>2015-01-14</td><td>20580.0</td><td>80</td><td>257.25</td><td>259.02702702702703</td></tr><tr><td>1</td><td>2015-01-15</td><td>22034.0</td><td>86</td><td>256.2093023255814</td><td>257.25</td></tr><tr><td>1</td><td>2015-01-16</td><td>23495.0</td><td>92</td><td>255.3804347826087</td><td>256.2093023255814</td></tr><tr><td>1</td><td>2015-01-17</td><td>24941.0</td><td>97</td><td>257.12371134020617</td><td>255.3804347826087</td></tr><tr><td>1</td><td>2015-01-18</td><td>26401.0</td><td>102</td><td>258.8333333333333</td><td>257.12371134020617</td></tr><tr><td>1</td><td>2015-01-19</td><td>27862.0</td><td>108</td><td>257.98148148148147</td><td>258.8333333333333</td></tr><tr><td>1</td><td>2015-01-20</td><td>29339.0</td><td>114</td><td>257.359649122807</td><td>257.98148148148147</td></tr><tr><td>1</td><td>2015-01-21</td><td>30748.0</td><td>120</td><td>256.23333333333335</td><td>257.359649122807</td></tr><tr><td>1</td><td>2015-01-22</td><td>32193.0</td><td>126</td><td>255.5</td><td>256.23333333333335</td></tr><tr><td>1</td><td>2015-01-23</td><td>33644.0</td><td>132</td><td>254.87878787878788</td><td>255.5</td></tr><tr><td>1</td><td>2015-01-24</td><td>35082.0</td><td>137</td><td>256.0729927007299</td><td>254.87878787878788</td></tr><tr><td>1</td><td>2015-01-25</td><td>36494.0</td><td>142</td><td>257.0</td><td>256.0729927007299</td></tr><tr><td>1</td><td>2015-01-26</td><td>37951.0</td><td>148</td><td>256.4256756756757</td><td>257.0</td></tr><tr><td>1</td><td>2015-01-27</td><td>38940.0</td><td>152</td><td>256.1842105263158</td><td>256.4256756756757</td></tr><tr><td>1</td><td>2015-01-28</td><td>40051.0</td><td>157</td><td>255.10191082802547</td><td>256.1842105263158</td></tr><tr><td>1</td><td>2015-01-29</td><td>41510.0</td><td>163</td><td>254.66257668711657</td><td>255.10191082802547</td></tr><tr><td>1</td><td>2015-01-30</td><td>42964.0</td><td>168</td><td>255.73809523809524</td><td>254.66257668711657</td></tr><tr><td>1</td><td>2015-01-31</td><td>44427.0</td><td>173</td><td>256.8034682080925</td><td>255.73809523809524</td></tr><tr><td>1</td><td>2015-02-01</td><td>45835.0</td><td>178</td><td>257.5</td><td>256.8034682080925</td></tr><tr><td>1</td><td>2015-02-02</td><td>46990.0</td><td>183</td><td>256.775956284153</td><td>257.5</td></tr><tr><td>1</td><td>2015-02-03</td><td>48339.0</td><td>188</td><td>257.1223404255319</td><td>256.775956284153</td></tr><tr><td>1</td><td>2015-02-04</td><td>49845.0</td><td>194</td><td>256.9329896907216</td><td>257.1223404255319</td></tr><tr><td>1</td><td>2015-02-05</td><td>51369.0</td><td>200</td><td>256.845</td><td>256.9329896907216</td></tr><tr><td>1</td><td>2015-02-06</td><td>52873.0</td><td>206</td><td>256.6650485436893</td><td>256.845</td></tr><tr><td>1</td><td>2015-02-07</td><td>54324.0</td><td>211</td><td>257.45971563981044</td><td>256.6650485436893</td></tr><tr><td>1</td><td>2015-02-08</td><td>55767.0</td><td>216</td><td>258.18055555555554</td><td>257.45971563981044</td></tr><tr><td>1</td><td>2015-02-09</td><td>57216.0</td><td>222</td><td>257.72972972972974</td><td>258.18055555555554</td></tr><tr><td>1</td><td>2015-02-10</td><td>58703.0</td><td>228</td><td>257.469298245614</td><td>257.72972972972974</td></tr><tr><td>1</td><td>2015-02-11</td><td>60168.0</td><td>234</td><td>257.12820512820514</td><td>257.469298245614</td></tr><tr><td>1</td><td>2015-02-12</td><td>61476.0</td><td>239</td><td>257.22175732217573</td><td>257.12820512820514</td></tr><tr><td>1</td><td>2015-02-13</td><td>62782.0</td><td>244</td><td>257.3032786885246</td><td>257.22175732217573</td></tr><tr><td>1</td><td>2015-02-14</td><td>64051.0</td><td>248</td><td>258.27016129032256</td><td>257.3032786885246</td></tr><tr><td>1</td><td>2015-02-15</td><td>65325.0</td><td>252</td><td>259.2261904761905</td><td>258.27016129032256</td></tr><tr><td>1</td><td>2015-02-16</td><td>66661.0</td><td>257</td><td>259.38132295719845</td><td>259.2261904761905</td></tr><tr><td>1</td><td>2015-02-17</td><td>67966.0</td><td>262</td><td>259.412213740458</td><td>259.38132295719845</td></tr><tr><td>1</td><td>2015-02-18</td><td>69248.0</td><td>267</td><td>259.3558052434457</td><td>259.412213740458</td></tr><tr><td>1</td><td>2015-02-19</td><td>70572.0</td><td>272</td><td>259.45588235294116</td><td>259.3558052434457</td></tr><tr><td>1</td><td>2015-02-20</td><td>71882.0</td><td>277</td><td>259.50180505415165</td><td>259.45588235294116</td></tr><tr><td>1</td><td>2015-02-21</td><td>72886.0</td><td>280</td><td>260.3071428571429</td><td>259.50180505415165</td></tr><tr><td>1</td><td>2015-02-22</td><td>73762.0</td><td>283</td><td>260.64310954063603</td><td>260.3071428571429</td></tr><tr><td>1</td><td>2015-02-23</td><td>75036.0</td><td>287</td><td>261.44947735191636</td><td>260.64310954063603</td></tr><tr><td>1</td><td>2015-02-24</td><td>76353.0</td><td>292</td><td>261.4828767123288</td><td>261.44947735191636</td></tr><tr><td>1</td><td>2015-02-25</td><td>77673.0</td><td>297</td><td>261.52525252525254</td><td>261.4828767123288</td></tr><tr><td>1</td><td>2015-02-26</td><td>78934.0</td><td>302</td><td>261.3708609271523</td><td>261.52525252525254</td></tr><tr><td>1</td><td>2015-02-27</td><td>80229.0</td><td>307</td><td>261.33224755700326</td><td>261.3708609271523</td></tr><tr><td>1</td><td>2015-02-28</td><td>81524.0</td><td>311</td><td>262.13504823151123</td><td>261.33224755700326</td></tr><tr><td>1</td><td>2015-03-01</td><td>82800.0</td><td>315</td><td>262.85714285714283</td><td>262.13504823151123</td></tr><tr><td>1</td><td>2015-03-02</td><td>84167.0</td><td>320</td><td>263.021875</td><td>262.85714285714283</td></tr><tr><td>1</td><td>2015-03-03</td><td>85505.0</td><td>325</td><td>263.0923076923077</td><td>263.021875</td></tr><tr><td>1</td><td>2015-03-04</td><td>86895.0</td><td>330</td><td>263.3181818181818</td><td>263.0923076923077</td></tr><tr><td>1</td><td>2015-03-05</td><td>88271.0</td><td>335</td><td>263.4955223880597</td><td>263.3181818181818</td></tr><tr><td>1</td><td>2015-03-06</td><td>89601.0</td><td>340</td><td>263.5323529411765</td><td>263.4955223880597</td></tr><tr><td>1</td><td>2015-03-07</td><td>91506.0</td><td>350</td><td>261.4457142857143</td><td>263.5323529411765</td></tr><tr><td>1</td><td>2015-03-08</td><td>92982.0</td><td>357</td><td>260.453781512605</td><td>261.4457142857143</td></tr><tr><td>1</td><td>2015-03-09</td><td>94448.0</td><td>364</td><td>259.4725274725275</td><td>260.453781512605</td></tr><tr><td>1</td><td>2015-03-10</td><td>95903.0</td><td>371</td><td>258.49865229110515</td><td>259.4725274725275</td></tr><tr><td>1</td><td>2015-03-11</td><td>97393.0</td><td>378</td><td>257.65343915343914</td><td>258.49865229110515</td></tr><tr><td>1</td><td>2015-03-12</td><td>98843.0</td><td>385</td><td>256.73506493506494</td><td>257.65343915343914</td></tr><tr><td>1</td><td>2015-03-13</td><td>100292.0</td><td>392</td><td>255.8469387755102</td><td>256.73506493506494</td></tr><tr><td>1</td><td>2015-03-14</td><td>101599.0</td><td>396</td><td>256.5631313131313</td><td>255.8469387755102</td></tr><tr><td>1</td><td>2015-03-15</td><td>103027.0</td><td>403</td><td>255.65012406947892</td><td>256.5631313131313</td></tr><tr><td>1</td><td>2015-03-16</td><td>104378.0</td><td>409</td><td>255.20293398533008</td><td>255.65012406947892</td></tr><tr><td>1</td><td>2015-03-17</td><td>105810.0</td><td>416</td><td>254.35096153846155</td><td>255.20293398533008</td></tr><tr><td>1</td><td>2015-03-18</td><td>107285.0</td><td>423</td><td>253.62884160756502</td><td>254.35096153846155</td></tr><tr><td>1</td><td>2015-03-19</td><td>108725.0</td><td>430</td><td>252.84883720930233</td><td>253.62884160756502</td></tr><tr><td>1</td><td>2015-03-20</td><td>110218.0</td><td>437</td><td>252.21510297482837</td><td>252.84883720930233</td></tr><tr><td>1</td><td>2015-03-21</td><td>111527.0</td><td>441</td><td>252.89569160997732</td><td>252.21510297482837</td></tr><tr><td>1</td><td>2015-03-22</td><td>112981.0</td><td>448</td><td>252.18973214285714</td><td>252.89569160997732</td></tr><tr><td>1</td><td>2015-03-23</td><td>114408.0</td><td>455</td><td>251.44615384615383</td><td>252.18973214285714</td></tr><tr><td>1</td><td>2015-03-24</td><td>115807.0</td><td>462</td><td>250.66450216450215</td><td>251.44615384615383</td></tr><tr><td>1</td><td>2015-03-25</td><td>117239.0</td><td>469</td><td>249.9765458422175</td><td>250.66450216450215</td></tr><tr><td>1</td><td>2015-03-26</td><td>118664.0</td><td>476</td><td>249.2941176470588</td><td>249.9765458422175</td></tr><tr><td>1</td><td>2015-03-27</td><td>120040.0</td><td>483</td><td>248.53002070393376</td><td>249.2941176470588</td></tr><tr><td>1</td><td>2015-03-28</td><td>121255.0</td><td>487</td><td>248.9835728952772</td><td>248.53002070393376</td></tr><tr><td>1</td><td>2015-03-29</td><td>122671.0</td><td>494</td><td>248.32186234817814</td><td>248.9835728952772</td></tr><tr><td>1</td><td>2015-03-30</td><td>124128.0</td><td>501</td><td>247.76047904191617</td><td>248.32186234817814</td></tr><tr><td>1</td><td>2015-03-31</td><td>125597.0</td><td>508</td><td>247.23818897637796</td><td>247.76047904191617</td></tr><tr><td>2</td><td>2015-01-01</td><td>1299.0</td><td>5</td><td>259.8</td><td>0.0</td></tr><tr><td>2</td><td>2015-01-02</td><td>2703.0</td><td>12</td><td>225.25</td><td>259.8</td></tr><tr><td>2</td><td>2015-01-03</td><td>4005.0</td><td>17</td><td>235.58823529411765</td><td>225.25</td></tr><tr><td>2</td><td>2015-01-04</td><td>5385.0</td><td>24</td><td>224.375</td><td>235.58823529411765</td></tr><tr><td>2</td><td>2015-01-05</td><td>6758.0</td><td>31</td><td>218.0</td><td>224.375</td></tr><tr><td>2</td><td>2015-01-06</td><td>8025.0</td><td>36</td><td>222.91666666666666</td><td>218.0</td></tr><tr><td>2</td><td>2015-01-07</td><td>9319.0</td><td>41</td><td>227.29268292682926</td><td>222.91666666666666</td></tr><tr><td>2</td><td>2015-01-08</td><td>10625.0</td><td>46</td><td>230.97826086956522</td><td>227.29268292682926</td></tr><tr><td>2</td><td>2015-01-09</td><td>11918.0</td><td>51</td><td>233.68627450980392</td><td>230.97826086956522</td></tr><tr><td>2</td><td>2015-01-10</td><td>13267.0</td><td>58</td><td>228.74137931034483</td><td>233.68627450980392</td></tr><tr><td>2</td><td>2015-01-11</td><td>14598.0</td><td>63</td><td>231.71428571428572</td><td>228.74137931034483</td></tr><tr><td>2</td><td>2015-01-12</td><td>15946.0</td><td>68</td><td>234.5</td><td>231.71428571428572</td></tr><tr><td>2</td><td>2015-01-13</td><td>17237.0</td><td>73</td><td>236.12328767123287</td><td>234.5</td></tr><tr><td>2</td><td>2015-01-14</td><td>18556.0</td><td>78</td><td>237.89743589743588</td><td>236.12328767123287</td></tr><tr><td>2</td><td>2015-01-15</td><td>19876.0</td><td>83</td><td>239.46987951807228</td><td>237.89743589743588</td></tr><tr><td>2</td><td>2015-01-16</td><td>21207.0</td><td>88</td><td>240.98863636363637</td><td>239.46987951807228</td></tr><tr><td>2</td><td>2015-01-17</td><td>22553.0</td><td>95</td><td>237.4</td><td>240.98863636363637</td></tr><tr><td>2</td><td>2015-01-18</td><td>23865.0</td><td>100</td><td>238.65</td><td>237.4</td></tr><tr><td>2</td><td>2015-01-19</td><td>25187.0</td><td>105</td><td>239.8761904761905</td><td>238.65</td></tr><tr><td>2</td><td>2015-01-20</td><td>26504.0</td><td>110</td><td>240.94545454545454</td><td>239.8761904761905</td></tr><tr><td>2</td><td>2015-01-21</td><td>27811.0</td><td>115</td><td>241.83478260869566</td><td>240.94545454545454</td></tr><tr><td>2</td><td>2015-01-22</td><td>29118.0</td><td>120</td><td>242.65</td><td>241.83478260869566</td></tr><tr><td>2</td><td>2015-01-23</td><td>30429.0</td><td>125</td><td>243.432</td><td>242.65</td></tr><tr><td>2</td><td>2015-01-24</td><td>31779.0</td><td>132</td><td>240.75</td><td>243.432</td></tr><tr><td>2</td><td>2015-01-25</td><td>33112.0</td><td>137</td><td>241.6934306569343</td><td>240.75</td></tr><tr><td>2</td><td>2015-01-26</td><td>34122.0</td><td>141</td><td>242.0</td><td>241.6934306569343</td></tr><tr><td>2</td><td>2015-01-27</td><td>34992.0</td><td>144</td><td>243.0</td><td>242.0</td></tr><tr><td>2</td><td>2015-01-28</td><td>36285.0</td><td>149</td><td>243.5234899328859</td><td>243.0</td></tr><tr><td>2</td><td>2015-01-29</td><td>37575.0</td><td>154</td><td>243.9935064935065</td><td>243.5234899328859</td></tr><tr><td>2</td><td>2015-01-30</td><td>38883.0</td><td>159</td><td>244.54716981132074</td><td>243.9935064935065</td></tr><tr><td>2</td><td>2015-01-31</td><td>40246.0</td><td>166</td><td>242.44578313253012</td><td>244.54716981132074</td></tr><tr><td>2</td><td>2015-02-01</td><td>41685.0</td><td>172</td><td>242.3546511627907</td><td>242.44578313253012</td></tr><tr><td>2</td><td>2015-02-02</td><td>43036.0</td><td>177</td><td>243.14124293785312</td><td>242.3546511627907</td></tr><tr><td>2</td><td>2015-02-03</td><td>44350.0</td><td>182</td><td>243.6813186813187</td><td>243.14124293785312</td></tr><tr><td>2</td><td>2015-02-04</td><td>45667.0</td><td>187</td><td>244.20855614973263</td><td>243.6813186813187</td></tr><tr><td>2</td><td>2015-02-05</td><td>46955.0</td><td>192</td><td>244.55729166666666</td><td>244.20855614973263</td></tr><tr><td>2</td><td>2015-02-06</td><td>48267.0</td><td>197</td><td>245.01015228426397</td><td>244.55729166666666</td></tr><tr><td>2</td><td>2015-02-07</td><td>49442.0</td><td>202</td><td>244.76237623762376</td><td>245.01015228426397</td></tr><tr><td>2</td><td>2015-02-08</td><td>50736.0</td><td>207</td><td>245.1014492753623</td><td>244.76237623762376</td></tr><tr><td>2</td><td>2015-02-09</td><td>51788.0</td><td>211</td><td>245.44075829383885</td><td>245.1014492753623</td></tr><tr><td>2</td><td>2015-02-10</td><td>53058.0</td><td>216</td><td>245.63888888888889</td><td>245.44075829383885</td></tr><tr><td>2</td><td>2015-02-11</td><td>54336.0</td><td>221</td><td>245.86425339366517</td><td>245.63888888888889</td></tr><tr><td>2</td><td>2015-02-12</td><td>55634.0</td><td>226</td><td>246.16814159292036</td><td>245.86425339366517</td></tr><tr><td>2</td><td>2015-02-13</td><td>56919.0</td><td>231</td><td>246.4025974025974</td><td>246.16814159292036</td></tr><tr><td>2</td><td>2015-02-14</td><td>58313.0</td><td>238</td><td>245.01260504201682</td><td>246.4025974025974</td></tr><tr><td>2</td><td>2015-02-15</td><td>59664.0</td><td>243</td><td>245.53086419753086</td><td>245.01260504201682</td></tr><tr><td>2</td><td>2015-02-16</td><td>60993.0</td><td>248</td><td>245.93951612903226</td><td>245.53086419753086</td></tr><tr><td>2</td><td>2015-02-17</td><td>62274.0</td><td>253</td><td>246.14229249011856</td><td>245.93951612903226</td></tr><tr><td>2</td><td>2015-02-18</td><td>63602.0</td><td>258</td><td>246.51937984496124</td><td>246.14229249011856</td></tr><tr><td>2</td><td>2015-02-19</td><td>65267.0</td><td>264</td><td>247.22348484848484</td><td>246.51937984496124</td></tr><tr><td>2</td><td>2015-02-20</td><td>66570.0</td><td>269</td><td>247.4721189591078</td><td>247.22348484848484</td></tr><tr><td>2</td><td>2015-02-21</td><td>67621.0</td><td>275</td><td>245.89454545454547</td><td>247.4721189591078</td></tr><tr><td>2</td><td>2015-02-22</td><td>68963.0</td><td>280</td><td>246.29642857142858</td><td>245.89454545454547</td></tr><tr><td>2</td><td>2015-02-23</td><td>70249.0</td><td>285</td><td>246.48771929824562</td><td>246.29642857142858</td></tr><tr><td>2</td><td>2015-02-24</td><td>71558.0</td><td>290</td><td>246.75172413793103</td><td>246.48771929824562</td></tr><tr><td>2</td><td>2015-02-25</td><td>72879.0</td><td>295</td><td>247.04745762711863</td><td>246.75172413793103</td></tr><tr><td>2</td><td>2015-02-26</td><td>74525.0</td><td>301</td><td>247.59136212624585</td><td>247.04745762711863</td></tr><tr><td>2</td><td>2015-02-27</td><td>75849.0</td><td>306</td><td>247.87254901960785</td><td>247.59136212624585</td></tr><tr><td>2</td><td>2015-02-28</td><td>77580.0</td><td>314</td><td>247.0700636942675</td><td>247.87254901960785</td></tr><tr><td>2</td><td>2015-03-01</td><td>78931.0</td><td>319</td><td>247.43260188087774</td><td>247.0700636942675</td></tr><tr><td>2</td><td>2015-03-02</td><td>80250.0</td><td>324</td><td>247.6851851851852</td><td>247.43260188087774</td></tr><tr><td>2</td><td>2015-03-03</td><td>81575.0</td><td>329</td><td>247.9483282674772</td><td>247.6851851851852</td></tr><tr><td>2</td><td>2015-03-04</td><td>82890.0</td><td>334</td><td>248.17365269461078</td><td>247.9483282674772</td></tr><tr><td>2</td><td>2015-03-05</td><td>84203.0</td><td>339</td><td>248.38643067846607</td><td>248.17365269461078</td></tr><tr><td>2</td><td>2015-03-06</td><td>85368.0</td><td>343</td><td>248.8862973760933</td><td>248.38643067846607</td></tr><tr><td>2</td><td>2015-03-07</td><td>86534.0</td><td>348</td><td>248.66091954022988</td><td>248.8862973760933</td></tr><tr><td>2</td><td>2015-03-08</td><td>87846.0</td><td>353</td><td>248.8555240793201</td><td>248.66091954022988</td></tr><tr><td>2</td><td>2015-03-09</td><td>89152.0</td><td>358</td><td>249.02793296089385</td><td>248.8555240793201</td></tr><tr><td>2</td><td>2015-03-10</td><td>90448.0</td><td>363</td><td>249.168044077135</td><td>249.02793296089385</td></tr><tr><td>2</td><td>2015-03-11</td><td>91778.0</td><td>368</td><td>249.39673913043478</td><td>249.168044077135</td></tr><tr><td>2</td><td>2015-03-12</td><td>93089.0</td><td>373</td><td>249.56836461126005</td><td>249.39673913043478</td></tr><tr><td>2</td><td>2015-03-13</td><td>94404.0</td><td>378</td><td>249.74603174603175</td><td>249.56836461126005</td></tr><tr><td>2</td><td>2015-03-14</td><td>95882.0</td><td>384</td><td>249.69270833333334</td><td>249.74603174603175</td></tr><tr><td>2</td><td>2015-03-15</td><td>97194.0</td><td>389</td><td>249.8560411311054</td><td>249.69270833333334</td></tr><tr><td>2</td><td>2015-03-16</td><td>98328.0</td><td>393</td><td>250.19847328244273</td><td>249.8560411311054</td></tr><tr><td>2</td><td>2015-03-17</td><td>99608.0</td><td>398</td><td>250.2713567839196</td><td>250.19847328244273</td></tr><tr><td>2</td><td>2015-03-18</td><td>100895.0</td><td>403</td><td>250.35980148883374</td><td>250.2713567839196</td></tr><tr><td>2</td><td>2015-03-19</td><td>102182.0</td><td>408</td><td>250.44607843137254</td><td>250.35980148883374</td></tr><tr><td>2</td><td>2015-03-20</td><td>103494.0</td><td>413</td><td>250.590799031477</td><td>250.44607843137254</td></tr><tr><td>2</td><td>2015-03-21</td><td>104984.0</td><td>419</td><td>250.5584725536993</td><td>250.590799031477</td></tr><tr><td>2</td><td>2015-03-22</td><td>106303.0</td><td>424</td><td>250.71462264150944</td><td>250.5584725536993</td></tr><tr><td>2</td><td>2015-03-23</td><td>107598.0</td><td>429</td><td>250.8111888111888</td><td>250.71462264150944</td></tr><tr><td>2</td><td>2015-03-24</td><td>108929.0</td><td>434</td><td>250.9884792626728</td><td>250.8111888111888</td></tr><tr><td>2</td><td>2015-03-25</td><td>110246.0</td><td>439</td><td>251.12984054669704</td><td>250.9884792626728</td></tr><tr><td>2</td><td>2015-03-26</td><td>111571.0</td><td>444</td><td>251.28603603603602</td><td>251.12984054669704</td></tr><tr><td>2</td><td>2015-03-27</td><td>112907.0</td><td>449</td><td>251.4632516703786</td><td>251.28603603603602</td></tr><tr><td>2</td><td>2015-03-28</td><td>114328.0</td><td>455</td><td>251.27032967032966</td><td>251.4632516703786</td></tr><tr><td>2</td><td>2015-03-29</td><td>115626.0</td><td>460</td><td>251.3608695652174</td><td>251.27032967032966</td></tr><tr><td>2</td><td>2015-03-30</td><td>116926.0</td><td>465</td><td>251.45376344086023</td><td>251.3608695652174</td></tr><tr><td>2</td><td>2015-03-31</td><td>118256.0</td><td>470</td><td>251.60851063829787</td><td>251.45376344086023</td></tr><tr><td>3</td><td>2015-01-01</td><td>1343.0</td><td>5</td><td>268.6</td><td>0.0</td></tr><tr><td>3</td><td>2015-01-02</td><td>2874.0</td><td>12</td><td>239.5</td><td>268.6</td></tr><tr><td>3</td><td>2015-01-03</td><td>4340.0</td><td>18</td><td>241.11111111111111</td><td>239.5</td></tr><tr><td>3</td><td>2015-01-04</td><td>5730.0</td><td>24</td><td>238.75</td><td>241.11111111111111</td></tr><tr><td>3</td><td>2015-01-05</td><td>7524.0</td><td>34</td><td>221.2941176470588</td><td>238.75</td></tr><tr><td>3</td><td>2015-01-06</td><td>8956.0</td><td>40</td><td>223.9</td><td>221.2941176470588</td></tr><tr><td>3</td><td>2015-01-07</td><td>10336.0</td><td>46</td><td>224.69565217391303</td><td>223.9</td></tr><tr><td>3</td><td>2015-01-08</td><td>11760.0</td><td>52</td><td>226.15384615384616</td><td>224.69565217391303</td></tr><tr><td>3</td><td>2015-01-09</td><td>13155.0</td><td>58</td><td>226.81034482758622</td><td>226.15384615384616</td></tr><tr><td>3</td><td>2015-01-10</td><td>14427.0</td><td>63</td><td>229.0</td><td>226.81034482758622</td></tr><tr><td>3</td><td>2015-01-11</td><td>15780.0</td><td>69</td><td>228.69565217391303</td><td>229.0</td></tr><tr><td>3</td><td>2015-01-12</td><td>17140.0</td><td>75</td><td>228.53333333333333</td><td>228.69565217391303</td></tr><tr><td>3</td><td>2015-01-13</td><td>18482.0</td><td>81</td><td>228.17283950617283</td><td>228.53333333333333</td></tr><tr><td>3</td><td>2015-01-14</td><td>19800.0</td><td>87</td><td>227.58620689655172</td><td>228.17283950617283</td></tr><tr><td>3</td><td>2015-01-15</td><td>21122.0</td><td>93</td><td>227.11827956989248</td><td>227.58620689655172</td></tr><tr><td>3</td><td>2015-01-16</td><td>22478.0</td><td>99</td><td>227.05050505050505</td><td>227.11827956989248</td></tr><tr><td>3</td><td>2015-01-17</td><td>23622.0</td><td>103</td><td>229.3398058252427</td><td>227.05050505050505</td></tr><tr><td>3</td><td>2015-01-18</td><td>24988.0</td><td>109</td><td>229.24770642201835</td><td>229.3398058252427</td></tr><tr><td>3</td><td>2015-01-19</td><td>26354.0</td><td>115</td><td>229.16521739130434</td><td>229.24770642201835</td></tr><tr><td>3</td><td>2015-01-20</td><td>27728.0</td><td>121</td><td>229.15702479338842</td><td>229.16521739130434</td></tr><tr><td>3</td><td>2015-01-21</td><td>29054.0</td><td>127</td><td>228.77165354330708</td><td>229.15702479338842</td></tr><tr><td>3</td><td>2015-01-22</td><td>30349.0</td><td>133</td><td>228.18796992481202</td><td>228.77165354330708</td></tr><tr><td>3</td><td>2015-01-23</td><td>31633.0</td><td>138</td><td>229.2246376811594</td><td>228.18796992481202</td></tr><tr><td>3</td><td>2015-01-24</td><td>32894.0</td><td>143</td><td>230.02797202797203</td><td>229.2246376811594</td></tr><tr><td>3</td><td>2015-01-25</td><td>34168.0</td><td>148</td><td>230.86486486486487</td><td>230.02797202797203</td></tr><tr><td>3</td><td>2015-01-26</td><td>35381.0</td><td>153</td><td>231.2483660130719</td><td>230.86486486486487</td></tr><tr><td>3</td><td>2015-01-27</td><td>36084.0</td><td>156</td><td>231.30769230769232</td><td>231.2483660130719</td></tr><tr><td>3</td><td>2015-01-28</td><td>37140.0</td><td>161</td><td>230.6832298136646</td><td>231.30769230769232</td></tr><tr><td>3</td><td>2015-01-29</td><td>38512.0</td><td>167</td><td>230.61077844311376</td><td>230.6832298136646</td></tr><tr><td>3</td><td>2015-01-30</td><td>39937.0</td><td>173</td><td>230.84971098265896</td><td>230.61077844311376</td></tr><tr><td>3</td><td>2015-01-31</td><td>41262.0</td><td>178</td><td>231.80898876404495</td><td>230.84971098265896</td></tr><tr><td>3</td><td>2015-02-01</td><td>42518.0</td><td>183</td><td>232.33879781420765</td><td>231.80898876404495</td></tr><tr><td>3</td><td>2015-02-02</td><td>43419.0</td><td>187</td><td>232.18716577540107</td><td>232.33879781420765</td></tr><tr><td>3</td><td>2015-02-03</td><td>44802.0</td><td>193</td><td>232.13471502590673</td><td>232.18716577540107</td></tr><tr><td>3</td><td>2015-02-04</td><td>46186.0</td><td>199</td><td>232.09045226130652</td><td>232.13471502590673</td></tr><tr><td>3</td><td>2015-02-05</td><td>47585.0</td><td>205</td><td>232.1219512195122</td><td>232.09045226130652</td></tr><tr><td>3</td><td>2015-02-06</td><td>48997.0</td><td>211</td><td>232.2132701421801</td><td>232.1219512195122</td></tr><tr><td>3</td><td>2015-02-07</td><td>49976.0</td><td>215</td><td>232.44651162790697</td><td>232.2132701421801</td></tr><tr><td>3</td><td>2015-02-08</td><td>51359.0</td><td>221</td><td>232.39366515837105</td><td>232.44651162790697</td></tr><tr><td>3</td><td>2015-02-09</td><td>52393.0</td><td>226</td><td>231.82743362831857</td><td>232.39366515837105</td></tr><tr><td>3</td><td>2015-02-10</td><td>53773.0</td><td>232</td><td>231.7801724137931</td><td>231.82743362831857</td></tr><tr><td>3</td><td>2015-02-11</td><td>55142.0</td><td>238</td><td>231.6890756302521</td><td>231.7801724137931</td></tr><tr><td>3</td><td>2015-02-12</td><td>56497.0</td><td>244</td><td>231.54508196721312</td><td>231.6890756302521</td></tr><tr><td>3</td><td>2015-02-13</td><td>57950.0</td><td>250</td><td>231.8</td><td>231.54508196721312</td></tr><tr><td>3</td><td>2015-02-14</td><td>58950.0</td><td>254</td><td>232.08661417322836</td><td>231.8</td></tr><tr><td>3</td><td>2015-02-15</td><td>60332.0</td><td>260</td><td>232.04615384615386</td><td>232.08661417322836</td></tr><tr><td>3</td><td>2015-02-16</td><td>61736.0</td><td>266</td><td>232.09022556390977</td><td>232.04615384615386</td></tr><tr><td>3</td><td>2015-02-17</td><td>63071.0</td><td>272</td><td>231.87867647058823</td><td>232.09022556390977</td></tr><tr><td>3</td><td>2015-02-18</td><td>64423.0</td><td>278</td><td>231.73741007194243</td><td>231.87867647058823</td></tr><tr><td>3</td><td>2015-02-19</td><td>65823.0</td><td>284</td><td>231.7711267605634</td><td>231.73741007194243</td></tr><tr><td>3</td><td>2015-02-20</td><td>67235.0</td><td>290</td><td>231.8448275862069</td><td>231.7711267605634</td></tr><tr><td>3</td><td>2015-02-21</td><td>68240.0</td><td>294</td><td>232.10884353741497</td><td>231.8448275862069</td></tr><tr><td>3</td><td>2015-02-22</td><td>69594.0</td><td>300</td><td>231.98</td><td>232.10884353741497</td></tr><tr><td>3</td><td>2015-02-23</td><td>70921.0</td><td>305</td><td>232.52786885245902</td><td>231.98</td></tr><tr><td>3</td><td>2015-02-24</td><td>72241.0</td><td>310</td><td>233.03548387096774</td><td>232.52786885245902</td></tr><tr><td>3</td><td>2015-02-25</td><td>73540.0</td><td>315</td><td>233.46031746031747</td><td>233.03548387096774</td></tr><tr><td>3</td><td>2015-02-26</td><td>74843.0</td><td>321</td><td>233.1557632398754</td><td>233.46031746031747</td></tr><tr><td>3</td><td>2015-02-27</td><td>76208.0</td><td>327</td><td>233.0519877675841</td><td>233.1557632398754</td></tr><tr><td>3</td><td>2015-02-28</td><td>77364.0</td><td>332</td><td>233.02409638554218</td><td>233.0519877675841</td></tr><tr><td>3</td><td>2015-03-01</td><td>78559.0</td><td>336</td><td>233.80654761904762</td><td>233.02409638554218</td></tr><tr><td>3</td><td>2015-03-02</td><td>79926.0</td><td>342</td><td>233.7017543859649</td><td>233.80654761904762</td></tr><tr><td>3</td><td>2015-03-03</td><td>81320.0</td><td>348</td><td>233.67816091954023</td><td>233.7017543859649</td></tr><tr><td>3</td><td>2015-03-04</td><td>82740.0</td><td>354</td><td>233.72881355932202</td><td>233.67816091954023</td></tr><tr><td>3</td><td>2015-03-05</td><td>83640.0</td><td>358</td><td>233.6312849162011</td><td>233.72881355932202</td></tr><tr><td>3</td><td>2015-03-06</td><td>85007.0</td><td>364</td><td>233.53571428571428</td><td>233.6312849162011</td></tr><tr><td>3</td><td>2015-03-07</td><td>86116.0</td><td>369</td><td>233.37669376693768</td><td>233.53571428571428</td></tr><tr><td>3</td><td>2015-03-08</td><td>87744.0</td><td>377</td><td>232.74270557029178</td><td>233.37669376693768</td></tr><tr><td>3</td><td>2015-03-09</td><td>89423.0</td><td>387</td><td>231.0671834625323</td><td>232.74270557029178</td></tr><tr><td>3</td><td>2015-03-10</td><td>91118.0</td><td>397</td><td>229.51637279596977</td><td>231.0671834625323</td></tr><tr><td>3</td><td>2015-03-11</td><td>92813.0</td><td>407</td><td>228.04176904176904</td><td>229.51637279596977</td></tr><tr><td>3</td><td>2015-03-12</td><td>94455.0</td><td>417</td><td>226.5107913669065</td><td>228.04176904176904</td></tr><tr><td>3</td><td>2015-03-13</td><td>96165.0</td><td>427</td><td>225.21077283372367</td><td>226.5107913669065</td></tr><tr><td>3</td><td>2015-03-14</td><td>97477.0</td><td>432</td><td>225.6412037037037</td><td>225.21077283372367</td></tr><tr><td>3</td><td>2015-03-15</td><td>99074.0</td><td>440</td><td>225.1681818181818</td><td>225.6412037037037</td></tr><tr><td>3</td><td>2015-03-16</td><td>100737.0</td><td>450</td><td>223.86</td><td>225.1681818181818</td></tr><tr><td>3</td><td>2015-03-17</td><td>102448.0</td><td>460</td><td>222.71304347826086</td><td>223.86</td></tr><tr><td>3</td><td>2015-03-18</td><td>104122.0</td><td>470</td><td>221.53617021276597</td><td>222.71304347826086</td></tr><tr><td>3</td><td>2015-03-19</td><td>105798.0</td><td>480</td><td>220.4125</td><td>221.53617021276597</td></tr><tr><td>3</td><td>2015-03-20</td><td>107496.0</td><td>490</td><td>219.3795918367347</td><td>220.4125</td></tr><tr><td>3</td><td>2015-03-21</td><td>108827.0</td><td>495</td><td>219.85252525252525</td><td>219.3795918367347</td></tr><tr><td>3</td><td>2015-03-22</td><td>110394.0</td><td>503</td><td>219.47117296222663</td><td>219.85252525252525</td></tr><tr><td>3</td><td>2015-03-23</td><td>111942.0</td><td>512</td><td>218.63671875</td><td>219.47117296222663</td></tr><tr><td>3</td><td>2015-03-24</td><td>113956.0</td><td>523</td><td>217.8891013384321</td><td>218.63671875</td></tr><tr><td>3</td><td>2015-03-25</td><td>115642.0</td><td>533</td><td>216.96435272045028</td><td>217.8891013384321</td></tr><tr><td>3</td><td>2015-03-26</td><td>117274.0</td><td>543</td><td>215.97421731123387</td><td>216.96435272045028</td></tr><tr><td>3</td><td>2015-03-27</td><td>118878.0</td><td>553</td><td>214.96925858951175</td><td>215.97421731123387</td></tr><tr><td>3</td><td>2015-03-28</td><td>120146.0</td><td>558</td><td>215.31541218637992</td><td>214.96925858951175</td></tr><tr><td>3</td><td>2015-03-29</td><td>121750.0</td><td>566</td><td>215.1060070671378</td><td>215.31541218637992</td></tr><tr><td>3</td><td>2015-03-30</td><td>123418.0</td><td>576</td><td>214.26736111111111</td><td>215.1060070671378</td></tr><tr><td>3</td><td>2015-03-31</td><td>125084.0</td><td>585</td><td>213.8188034188034</td><td>214.26736111111111</td></tr><tr><td>4</td><td>2015-01-01</td><td>1041.0</td><td>4</td><td>260.25</td><td>0.0</td></tr><tr><td>4</td><td>2015-01-02</td><td>2316.0</td><td>11</td><td>210.54545454545453</td><td>260.25</td></tr><tr><td>4</td><td>2015-01-03</td><td>3621.0</td><td>18</td><td>201.16666666666666</td><td>210.54545454545453</td></tr><tr><td>4</td><td>2015-01-04</td><td>4897.0</td><td>25</td><td>195.88</td><td>201.16666666666666</td></tr><tr><td>4</td><td>2015-01-05</td><td>6122.0</td><td>32</td><td>191.3125</td><td>195.88</td></tr><tr><td>4</td><td>2015-01-06</td><td>7326.0</td><td>39</td><td>187.84615384615384</td><td>191.3125</td></tr><tr><td>4</td><td>2015-01-07</td><td>8545.0</td><td>46</td><td>185.7608695652174</td><td>187.84615384615384</td></tr><tr><td>4</td><td>2015-01-08</td><td>9737.0</td><td>53</td><td>183.71698113207546</td><td>185.7608695652174</td></tr><tr><td>4</td><td>2015-01-09</td><td>10934.0</td><td>60</td><td>182.23333333333332</td><td>183.71698113207546</td></tr><tr><td>4</td><td>2015-01-10</td><td>11973.0</td><td>64</td><td>187.078125</td><td>182.23333333333332</td></tr><tr><td>4</td><td>2015-01-11</td><td>13031.0</td><td>68</td><td>191.63235294117646</td><td>187.078125</td></tr><tr><td>4</td><td>2015-01-12</td><td>14317.0</td><td>75</td><td>190.89333333333335</td><td>191.63235294117646</td></tr><tr><td>4</td><td>2015-01-13</td><td>15591.0</td><td>82</td><td>190.1341463414634</td><td>190.89333333333335</td></tr><tr><td>4</td><td>2015-01-14</td><td>16859.0</td><td>89</td><td>189.42696629213484</td><td>190.1341463414634</td></tr><tr><td>4</td><td>2015-01-15</td><td>18130.0</td><td>96</td><td>188.85416666666666</td><td>189.42696629213484</td></tr><tr><td>4</td><td>2015-01-16</td><td>19381.0</td><td>103</td><td>188.16504854368932</td><td>188.85416666666666</td></tr><tr><td>4</td><td>2015-01-17</td><td>20429.0</td><td>107</td><td>190.92523364485982</td><td>188.16504854368932</td></tr><tr><td>4</td><td>2015-01-18</td><td>21475.0</td><td>111</td><td>193.46846846846847</td><td>190.92523364485982</td></tr><tr><td>4</td><td>2015-01-19</td><td>22727.0</td><td>118</td><td>192.60169491525423</td><td>193.46846846846847</td></tr><tr><td>4</td><td>2015-01-20</td><td>23976.0</td><td>125</td><td>191.808</td><td>192.60169491525423</td></tr><tr><td>4</td><td>2015-01-21</td><td>25228.0</td><td>132</td><td>191.12121212121212</td><td>191.808</td></tr><tr><td>4</td><td>2015-01-22</td><td>26523.0</td><td>139</td><td>190.81294964028777</td><td>191.12121212121212</td></tr><tr><td>4</td><td>2015-01-23</td><td>27780.0</td><td>146</td><td>190.27397260273972</td><td>190.81294964028777</td></tr><tr><td>4</td><td>2015-01-24</td><td>28864.0</td><td>150</td><td>192.42666666666668</td><td>190.27397260273972</td></tr><tr><td>4</td><td>2015-01-25</td><td>29954.0</td><td>154</td><td>194.5064935064935</td><td>192.42666666666668</td></tr><tr><td>4</td><td>2015-01-26</td><td>30889.0</td><td>160</td><td>193.05625</td><td>194.5064935064935</td></tr><tr><td>4</td><td>2015-01-27</td><td>31630.0</td><td>165</td><td>191.6969696969697</td><td>193.05625</td></tr><tr><td>4</td><td>2015-01-28</td><td>32844.0</td><td>172</td><td>190.95348837209303</td><td>191.6969696969697</td></tr><tr><td>4</td><td>2015-01-29</td><td>34056.0</td><td>179</td><td>190.25698324022346</td><td>190.95348837209303</td></tr><tr><td>4</td><td>2015-01-30</td><td>35283.0</td><td>186</td><td>189.69354838709677</td><td>190.25698324022346</td></tr><tr><td>4</td><td>2015-01-31</td><td>36317.0</td><td>190</td><td>191.1421052631579</td><td>189.69354838709677</td></tr><tr><td>4</td><td>2015-02-01</td><td>37140.0</td><td>194</td><td>191.44329896907217</td><td>191.1421052631579</td></tr><tr><td>4</td><td>2015-02-02</td><td>38393.0</td><td>201</td><td>191.0099502487562</td><td>191.44329896907217</td></tr><tr><td>4</td><td>2015-02-03</td><td>39614.0</td><td>208</td><td>190.45192307692307</td><td>191.0099502487562</td></tr><tr><td>4</td><td>2015-02-04</td><td>40555.0</td><td>214</td><td>189.50934579439252</td><td>190.45192307692307</td></tr><tr><td>4</td><td>2015-02-05</td><td>41777.0</td><td>221</td><td>189.03619909502262</td><td>189.50934579439252</td></tr><tr><td>4</td><td>2015-02-06</td><td>42991.0</td><td>228</td><td>188.55701754385964</td><td>189.03619909502262</td></tr><tr><td>4</td><td>2015-02-07</td><td>44008.0</td><td>232</td><td>189.68965517241378</td><td>188.55701754385964</td></tr><tr><td>4</td><td>2015-02-08</td><td>44752.0</td><td>235</td><td>190.4340425531915</td><td>189.68965517241378</td></tr><tr><td>4</td><td>2015-02-09</td><td>45685.0</td><td>241</td><td>189.5643153526971</td><td>190.4340425531915</td></tr><tr><td>4</td><td>2015-02-10</td><td>46886.0</td><td>248</td><td>189.05645161290323</td><td>189.5643153526971</td></tr><tr><td>4</td><td>2015-02-11</td><td>48119.0</td><td>255</td><td>188.7019607843137</td><td>189.05645161290323</td></tr><tr><td>4</td><td>2015-02-12</td><td>49348.0</td><td>262</td><td>188.35114503816794</td><td>188.7019607843137</td></tr><tr><td>4</td><td>2015-02-13</td><td>50563.0</td><td>269</td><td>187.96654275092936</td><td>188.35114503816794</td></tr><tr><td>4</td><td>2015-02-14</td><td>51606.0</td><td>273</td><td>189.03296703296704</td><td>187.96654275092936</td></tr><tr><td>4</td><td>2015-02-15</td><td>52673.0</td><td>277</td><td>190.1552346570397</td><td>189.03296703296704</td></tr><tr><td>4</td><td>2015-02-16</td><td>53930.0</td><td>284</td><td>189.8943661971831</td><td>190.1552346570397</td></tr><tr><td>4</td><td>2015-02-17</td><td>55197.0</td><td>291</td><td>189.68041237113403</td><td>189.8943661971831</td></tr><tr><td>4</td><td>2015-02-18</td><td>56445.0</td><td>298</td><td>189.41275167785236</td><td>189.68041237113403</td></tr><tr><td>4</td><td>2015-02-19</td><td>57658.0</td><td>305</td><td>189.04262295081966</td><td>189.41275167785236</td></tr><tr><td>4</td><td>2015-02-20</td><td>58907.0</td><td>312</td><td>188.80448717948718</td><td>189.04262295081966</td></tr><tr><td>4</td><td>2015-02-21</td><td>60014.0</td><td>316</td><td>189.91772151898735</td><td>188.80448717948718</td></tr><tr><td>4</td><td>2015-02-22</td><td>60793.0</td><td>319</td><td>190.57366771159874</td><td>189.91772151898735</td></tr><tr><td>4</td><td>2015-02-23</td><td>62006.0</td><td>325</td><td>190.7876923076923</td><td>190.57366771159874</td></tr><tr><td>4</td><td>2015-02-24</td><td>63259.0</td><td>332</td><td>190.539156626506</td><td>190.7876923076923</td></tr><tr><td>4</td><td>2015-02-25</td><td>64530.0</td><td>339</td><td>190.35398230088495</td><td>190.539156626506</td></tr><tr><td>4</td><td>2015-02-26</td><td>65794.0</td><td>346</td><td>190.15606936416185</td><td>190.35398230088495</td></tr><tr><td>4</td><td>2015-02-27</td><td>67048.0</td><td>353</td><td>189.93767705382436</td><td>190.15606936416185</td></tr><tr><td>4</td><td>2015-02-28</td><td>68068.0</td><td>357</td><td>190.66666666666666</td><td>189.93767705382436</td></tr><tr><td>4</td><td>2015-03-01</td><td>69113.0</td><td>361</td><td>191.4487534626039</td><td>190.66666666666666</td></tr><tr><td>4</td><td>2015-03-02</td><td>70561.0</td><td>369</td><td>191.22222222222223</td><td>191.4487534626039</td></tr><tr><td>4</td><td>2015-03-03</td><td>71515.0</td><td>375</td><td>190.70666666666668</td><td>191.22222222222223</td></tr><tr><td>4</td><td>2015-03-04</td><td>72476.0</td><td>381</td><td>190.2257217847769</td><td>190.70666666666668</td></tr><tr><td>4</td><td>2015-03-05</td><td>73946.0</td><td>389</td><td>190.09254498714654</td><td>190.2257217847769</td></tr><tr><td>4</td><td>2015-03-06</td><td>75392.0</td><td>397</td><td>189.90428211586902</td><td>190.09254498714654</td></tr><tr><td>4</td><td>2015-03-07</td><td>77015.0</td><td>408</td><td>188.76225490196077</td><td>189.90428211586902</td></tr><tr><td>4</td><td>2015-03-08</td><td>78256.0</td><td>413</td><td>189.4818401937046</td><td>188.76225490196077</td></tr><tr><td>4</td><td>2015-03-09</td><td>79561.0</td><td>419</td><td>189.88305489260142</td><td>189.4818401937046</td></tr><tr><td>4</td><td>2015-03-10</td><td>80662.0</td><td>424</td><td>190.24056603773585</td><td>189.88305489260142</td></tr><tr><td>4</td><td>2015-03-11</td><td>81731.0</td><td>429</td><td>190.5151515151515</td><td>190.24056603773585</td></tr><tr><td>4</td><td>2015-03-12</td><td>83014.0</td><td>435</td><td>190.8367816091954</td><td>190.5151515151515</td></tr><tr><td>4</td><td>2015-03-13</td><td>84323.0</td><td>441</td><td>191.20861678004536</td><td>190.8367816091954</td></tr><tr><td>4</td><td>2015-03-14</td><td>85468.0</td><td>446</td><td>191.6322869955157</td><td>191.20861678004536</td></tr><tr><td>4</td><td>2015-03-15</td><td>86753.0</td><td>451</td><td>192.3569844789357</td><td>191.6322869955157</td></tr><tr><td>4</td><td>2015-03-16</td><td>88036.0</td><td>457</td><td>192.63894967177242</td><td>192.3569844789357</td></tr><tr><td>4</td><td>2015-03-17</td><td>89101.0</td><td>462</td><td>192.85930735930737</td><td>192.63894967177242</td></tr><tr><td>4</td><td>2015-03-18</td><td>90169.0</td><td>467</td><td>193.08137044967881</td><td>192.85930735930737</td></tr><tr><td>4</td><td>2015-03-19</td><td>91448.0</td><td>473</td><td>193.33615221987316</td><td>193.08137044967881</td></tr><tr><td>4</td><td>2015-03-20</td><td>92772.0</td><td>479</td><td>193.678496868476</td><td>193.33615221987316</td></tr><tr><td>4</td><td>2015-03-21</td><td>93860.0</td><td>484</td><td>193.92561983471074</td><td>193.678496868476</td></tr><tr><td>4</td><td>2015-03-22</td><td>95144.0</td><td>489</td><td>194.5685071574642</td><td>193.92561983471074</td></tr><tr><td>4</td><td>2015-03-23</td><td>96465.0</td><td>495</td><td>194.87878787878788</td><td>194.5685071574642</td></tr><tr><td>4</td><td>2015-03-24</td><td>97587.0</td><td>500</td><td>195.174</td><td>194.87878787878788</td></tr><tr><td>4</td><td>2015-03-25</td><td>98702.0</td><td>505</td><td>195.44950495049505</td><td>195.174</td></tr><tr><td>4</td><td>2015-03-26</td><td>100066.0</td><td>511</td><td>195.8238747553816</td><td>195.44950495049505</td></tr><tr><td>4</td><td>2015-03-27</td><td>101408.0</td><td>517</td><td>196.147001934236</td><td>195.8238747553816</td></tr><tr><td>4</td><td>2015-03-28</td><td>102547.0</td><td>522</td><td>196.45019157088123</td><td>196.147001934236</td></tr><tr><td>4</td><td>2015-03-29</td><td>103815.0</td><td>527</td><td>196.99240986717268</td><td>196.45019157088123</td></tr><tr><td>4</td><td>2015-03-30</td><td>105113.0</td><td>533</td><td>197.21013133208254</td><td>196.99240986717268</td></tr><tr><td>4</td><td>2015-03-31</td><td>105914.0</td><td>537</td><td>197.23277467411546</td><td>197.21013133208254</td></tr><tr><td>5</td><td>2015-01-01</td><td>1198.0</td><td>5</td><td>239.6</td><td>0.0</td></tr><tr><td>5</td><td>2015-01-02</td><td>2911.0</td><td>13</td><td>223.92307692307693</td><td>239.6</td></tr><tr><td>5</td><td>2015-01-03</td><td>4230.0</td><td>20</td><td>211.5</td><td>223.92307692307693</td></tr><tr><td>5</td><td>2015-01-04</td><td>5925.0</td><td>28</td><td>211.60714285714286</td><td>211.5</td></tr><tr><td>5</td><td>2015-01-05</td><td>7258.0</td><td>35</td><td>207.37142857142857</td><td>211.60714285714286</td></tr><tr><td>5</td><td>2015-01-06</td><td>8213.0</td><td>38</td><td>216.1315789473684</td><td>207.37142857142857</td></tr><tr><td>5</td><td>2015-01-07</td><td>9542.0</td><td>42</td><td>227.1904761904762</td><td>216.1315789473684</td></tr><tr><td>5</td><td>2015-01-08</td><td>10483.0</td><td>45</td><td>232.95555555555555</td><td>227.1904761904762</td></tr><tr><td>5</td><td>2015-01-09</td><td>11801.0</td><td>49</td><td>240.83673469387756</td><td>232.95555555555555</td></tr><tr><td>5</td><td>2015-01-10</td><td>12906.0</td><td>54</td><td>239.0</td><td>240.83673469387756</td></tr><tr><td>5</td><td>2015-01-11</td><td>14211.0</td><td>58</td><td>245.01724137931035</td><td>239.0</td></tr><tr><td>5</td><td>2015-01-12</td><td>15181.0</td><td>61</td><td>248.86885245901638</td><td>245.01724137931035</td></tr><tr><td>5</td><td>2015-01-13</td><td>16159.0</td><td>64</td><td>252.484375</td><td>248.86885245901638</td></tr><tr><td>5</td><td>2015-01-14</td><td>17444.0</td><td>68</td><td>256.52941176470586</td><td>252.484375</td></tr><tr><td>5</td><td>2015-01-15</td><td>18374.0</td><td>71</td><td>258.7887323943662</td><td>256.52941176470586</td></tr><tr><td>5</td><td>2015-01-16</td><td>19673.0</td><td>75</td><td>262.3066666666667</td><td>258.7887323943662</td></tr><tr><td>5</td><td>2015-01-17</td><td>20774.0</td><td>80</td><td>259.675</td><td>262.3066666666667</td></tr><tr><td>5</td><td>2015-01-18</td><td>22128.0</td><td>84</td><td>263.42857142857144</td><td>259.675</td></tr><tr><td>5</td><td>2015-01-19</td><td>23087.0</td><td>87</td><td>265.367816091954</td><td>263.42857142857144</td></tr><tr><td>5</td><td>2015-01-20</td><td>24086.0</td><td>90</td><td>267.6222222222222</td><td>265.367816091954</td></tr><tr><td>5</td><td>2015-01-21</td><td>25366.0</td><td>94</td><td>269.8510638297872</td><td>267.6222222222222</td></tr><tr><td>5</td><td>2015-01-22</td><td>26313.0</td><td>97</td><td>271.2680412371134</td><td>269.8510638297872</td></tr><tr><td>5</td><td>2015-01-23</td><td>27596.0</td><td>101</td><td>273.2277227722772</td><td>271.2680412371134</td></tr><tr><td>5</td><td>2015-01-24</td><td>28690.0</td><td>106</td><td>270.66037735849056</td><td>273.2277227722772</td></tr><tr><td>5</td><td>2015-01-25</td><td>29946.0</td><td>110</td><td>272.23636363636365</td><td>270.66037735849056</td></tr><tr><td>5</td><td>2015-01-26</td><td>30872.0</td><td>113</td><td>273.20353982300884</td><td>272.23636363636365</td></tr><tr><td>5</td><td>2015-01-27</td><td>31650.0</td><td>115</td><td>275.2173913043478</td><td>273.20353982300884</td></tr><tr><td>5</td><td>2015-01-28</td><td>32972.0</td><td>119</td><td>277.07563025210084</td><td>275.2173913043478</td></tr><tr><td>5</td><td>2015-01-29</td><td>33934.0</td><td>122</td><td>278.1475409836066</td><td>277.07563025210084</td></tr><tr><td>5</td><td>2015-01-30</td><td>35306.0</td><td>126</td><td>280.2063492063492</td><td>278.1475409836066</td></tr><tr><td>5</td><td>2015-01-31</td><td>36387.0</td><td>131</td><td>277.76335877862596</td><td>280.2063492063492</td></tr><tr><td>5</td><td>2015-02-01</td><td>37772.0</td><td>136</td><td>277.7352941176471</td><td>277.76335877862596</td></tr><tr><td>5</td><td>2015-02-02</td><td>38744.0</td><td>139</td><td>278.7338129496403</td><td>277.7352941176471</td></tr><tr><td>5</td><td>2015-02-03</td><td>39713.0</td><td>142</td><td>279.66901408450707</td><td>278.7338129496403</td></tr><tr><td>5</td><td>2015-02-04</td><td>41032.0</td><td>146</td><td>281.041095890411</td><td>279.66901408450707</td></tr><tr><td>5</td><td>2015-02-05</td><td>42002.0</td><td>149</td><td>281.89261744966444</td><td>281.041095890411</td></tr><tr><td>5</td><td>2015-02-06</td><td>43320.0</td><td>153</td><td>283.1372549019608</td><td>281.89261744966444</td></tr><tr><td>5</td><td>2015-02-07</td><td>44395.0</td><td>158</td><td>280.9810126582278</td><td>283.1372549019608</td></tr><tr><td>5</td><td>2015-02-08</td><td>45743.0</td><td>162</td><td>282.3641975308642</td><td>280.9810126582278</td></tr><tr><td>5</td><td>2015-02-09</td><td>46698.0</td><td>165</td><td>283.0181818181818</td><td>282.3641975308642</td></tr><tr><td>5</td><td>2015-02-10</td><td>47660.0</td><td>168</td><td>283.6904761904762</td><td>283.0181818181818</td></tr><tr><td>5</td><td>2015-02-11</td><td>48996.0</td><td>172</td><td>284.86046511627904</td><td>283.6904761904762</td></tr><tr><td>5</td><td>2015-02-12</td><td>49938.0</td><td>175</td><td>285.36</td><td>284.86046511627904</td></tr><tr><td>5</td><td>2015-02-13</td><td>51230.0</td><td>179</td><td>286.20111731843576</td><td>285.36</td></tr><tr><td>5</td><td>2015-02-14</td><td>52306.0</td><td>184</td><td>284.2717391304348</td><td>286.20111731843576</td></tr><tr><td>5</td><td>2015-02-15</td><td>53471.0</td><td>187</td><td>285.94117647058823</td><td>284.2717391304348</td></tr><tr><td>5</td><td>2015-02-16</td><td>54432.0</td><td>190</td><td>286.4842105263158</td><td>285.94117647058823</td></tr><tr><td>5</td><td>2015-02-17</td><td>55394.0</td><td>193</td><td>287.01554404145077</td><td>286.4842105263158</td></tr><tr><td>5</td><td>2015-02-18</td><td>56752.0</td><td>197</td><td>288.0812182741117</td><td>287.01554404145077</td></tr><tr><td>5</td><td>2015-02-19</td><td>57715.0</td><td>200</td><td>288.575</td><td>288.0812182741117</td></tr><tr><td>5</td><td>2015-02-20</td><td>59069.0</td><td>204</td><td>289.55392156862746</td><td>288.575</td></tr><tr><td>5</td><td>2015-02-21</td><td>60176.0</td><td>209</td><td>287.92344497607655</td><td>289.55392156862746</td></tr><tr><td>5</td><td>2015-02-22</td><td>61517.0</td><td>213</td><td>288.81220657277</td><td>287.92344497607655</td></tr><tr><td>5</td><td>2015-02-23</td><td>62506.0</td><td>216</td><td>289.3796296296296</td><td>288.81220657277</td></tr><tr><td>5</td><td>2015-02-24</td><td>63448.0</td><td>219</td><td>289.716894977169</td><td>289.3796296296296</td></tr><tr><td>5</td><td>2015-02-25</td><td>64744.0</td><td>223</td><td>290.3318385650224</td><td>289.716894977169</td></tr><tr><td>5</td><td>2015-02-26</td><td>65711.0</td><td>226</td><td>290.7566371681416</td><td>290.3318385650224</td></tr><tr><td>5</td><td>2015-02-27</td><td>67062.0</td><td>230</td><td>291.5739130434783</td><td>290.7566371681416</td></tr><tr><td>5</td><td>2015-02-28</td><td>68220.0</td><td>235</td><td>290.29787234042556</td><td>291.5739130434783</td></tr><tr><td>5</td><td>2015-03-01</td><td>69551.0</td><td>239</td><td>291.0083682008368</td><td>290.29787234042556</td></tr><tr><td>5</td><td>2015-03-02</td><td>70699.0</td><td>243</td><td>290.9423868312757</td><td>291.0083682008368</td></tr><tr><td>5</td><td>2015-03-03</td><td>71688.0</td><td>246</td><td>291.4146341463415</td><td>290.9423868312757</td></tr><tr><td>5</td><td>2015-03-04</td><td>73113.0</td><td>250</td><td>292.452</td><td>291.4146341463415</td></tr><tr><td>5</td><td>2015-03-05</td><td>74276.0</td><td>254</td><td>292.4251968503937</td><td>292.452</td></tr><tr><td>5</td><td>2015-03-06</td><td>75782.0</td><td>259</td><td>292.5945945945946</td><td>292.4251968503937</td></tr><tr><td>5</td><td>2015-03-07</td><td>77013.0</td><td>264</td><td>291.71590909090907</td><td>292.5945945945946</td></tr><tr><td>5</td><td>2015-03-08</td><td>78814.0</td><td>272</td><td>289.75735294117646</td><td>291.71590909090907</td></tr><tr><td>5</td><td>2015-03-09</td><td>80224.0</td><td>279</td><td>287.5412186379928</td><td>289.75735294117646</td></tr><tr><td>5</td><td>2015-03-10</td><td>81440.0</td><td>285</td><td>285.7543859649123</td><td>287.5412186379928</td></tr><tr><td>5</td><td>2015-03-11</td><td>83058.0</td><td>292</td><td>284.44520547945206</td><td>285.7543859649123</td></tr><tr><td>5</td><td>2015-03-12</td><td>84441.0</td><td>299</td><td>282.4113712374582</td><td>284.44520547945206</td></tr><tr><td>5</td><td>2015-03-13</td><td>86209.0</td><td>307</td><td>280.81107491856676</td><td>282.4113712374582</td></tr><tr><td>5</td><td>2015-03-14</td><td>87106.0</td><td>310</td><td>280.98709677419356</td><td>280.81107491856676</td></tr><tr><td>5</td><td>2015-03-15</td><td>88791.0</td><td>318</td><td>279.2169811320755</td><td>280.98709677419356</td></tr><tr><td>5</td><td>2015-03-16</td><td>90111.0</td><td>325</td><td>277.2646153846154</td><td>279.2169811320755</td></tr><tr><td>5</td><td>2015-03-17</td><td>91284.0</td><td>331</td><td>275.7824773413897</td><td>277.2646153846154</td></tr><tr><td>5</td><td>2015-03-18</td><td>92862.0</td><td>338</td><td>274.7396449704142</td><td>275.7824773413897</td></tr><tr><td>5</td><td>2015-03-19</td><td>94210.0</td><td>345</td><td>273.07246376811594</td><td>274.7396449704142</td></tr><tr><td>5</td><td>2015-03-20</td><td>95943.0</td><td>353</td><td>271.79320113314446</td><td>273.07246376811594</td></tr><tr><td>5</td><td>2015-03-21</td><td>96905.0</td><td>356</td><td>272.2050561797753</td><td>271.79320113314446</td></tr><tr><td>5</td><td>2015-03-22</td><td>98655.0</td><td>364</td><td>271.0302197802198</td><td>272.2050561797753</td></tr><tr><td>5</td><td>2015-03-23</td><td>99892.0</td><td>370</td><td>269.97837837837835</td><td>271.0302197802198</td></tr><tr><td>5</td><td>2015-03-24</td><td>101104.0</td><td>376</td><td>268.8936170212766</td><td>269.97837837837835</td></tr><tr><td>5</td><td>2015-03-25</td><td>102635.0</td><td>383</td><td>267.97650130548305</td><td>268.8936170212766</td></tr><tr><td>5</td><td>2015-03-26</td><td>104006.0</td><td>390</td><td>266.6820512820513</td><td>267.97650130548305</td></tr><tr><td>5</td><td>2015-03-27</td><td>105700.0</td><td>398</td><td>265.5778894472362</td><td>266.6820512820513</td></tr><tr><td>5</td><td>2015-03-28</td><td>106628.0</td><td>401</td><td>265.9052369077307</td><td>265.5778894472362</td></tr><tr><td>5</td><td>2015-03-29</td><td>108358.0</td><td>409</td><td>264.93398533007337</td><td>265.9052369077307</td></tr><tr><td>5</td><td>2015-03-30</td><td>109708.0</td><td>415</td><td>264.3566265060241</td><td>264.93398533007337</td></tr><tr><td>5</td><td>2015-03-31</td><td>110918.0</td><td>421</td><td>263.4631828978622</td><td>264.3566265060241</td></tr><tr><td>6</td><td>2015-01-01</td><td>404.0</td><td>2</td><td>202.0</td><td>0.0</td></tr><tr><td>6</td><td>2015-01-02</td><td>1527.0</td><td>6</td><td>254.5</td><td>202.0</td></tr><tr><td>6</td><td>2015-01-03</td><td>1931.0</td><td>8</td><td>241.375</td><td>254.5</td></tr><tr><td>6</td><td>2015-01-04</td><td>3169.0</td><td>13</td><td>243.76923076923077</td><td>241.375</td></tr><tr><td>6</td><td>2015-01-05</td><td>4006.0</td><td>16</td><td>250.375</td><td>243.76923076923077</td></tr><tr><td>6</td><td>2015-01-06</td><td>4831.0</td><td>19</td><td>254.26315789473685</td><td>250.375</td></tr><tr><td>6</td><td>2015-01-07</td><td>5990.0</td><td>23</td><td>260.4347826086956</td><td>254.26315789473685</td></tr><tr><td>6</td><td>2015-01-08</td><td>6793.0</td><td>26</td><td>261.2692307692308</td><td>260.4347826086956</td></tr><tr><td>6</td><td>2015-01-09</td><td>7908.0</td><td>30</td><td>263.6</td><td>261.2692307692308</td></tr><tr><td>6</td><td>2015-01-10</td><td>8935.0</td><td>36</td><td>248.19444444444446</td><td>263.6</td></tr><tr><td>6</td><td>2015-01-11</td><td>10079.0</td><td>40</td><td>251.975</td><td>248.19444444444446</td></tr><tr><td>6</td><td>2015-01-12</td><td>10893.0</td><td>43</td><td>253.32558139534885</td><td>251.975</td></tr><tr><td>6</td><td>2015-01-13</td><td>11690.0</td><td>46</td><td>254.1304347826087</td><td>253.32558139534885</td></tr><tr><td>6</td><td>2015-01-14</td><td>12827.0</td><td>50</td><td>256.54</td><td>254.1304347826087</td></tr><tr><td>6</td><td>2015-01-15</td><td>13657.0</td><td>53</td><td>257.6792452830189</td><td>256.54</td></tr><tr><td>6</td><td>2015-01-16</td><td>14796.0</td><td>57</td><td>259.57894736842104</td><td>257.6792452830189</td></tr><tr><td>6</td><td>2015-01-17</td><td>15806.0</td><td>63</td><td>250.88888888888889</td><td>259.57894736842104</td></tr><tr><td>6</td><td>2015-01-18</td><td>16887.0</td><td>67</td><td>252.044776119403</td><td>250.88888888888889</td></tr><tr><td>6</td><td>2015-01-19</td><td>17677.0</td><td>70</td><td>252.52857142857144</td><td>252.044776119403</td></tr><tr><td>6</td><td>2015-01-20</td><td>18480.0</td><td>73</td><td>253.15068493150685</td><td>252.52857142857144</td></tr><tr><td>6</td><td>2015-01-21</td><td>19638.0</td><td>77</td><td>255.03896103896105</td><td>253.15068493150685</td></tr><tr><td>6</td><td>2015-01-22</td><td>20459.0</td><td>80</td><td>255.7375</td><td>255.03896103896105</td></tr><tr><td>6</td><td>2015-01-23</td><td>21592.0</td><td>84</td><td>257.04761904761904</td><td>255.7375</td></tr><tr><td>6</td><td>2015-01-24</td><td>22673.0</td><td>90</td><td>251.92222222222222</td><td>257.04761904761904</td></tr><tr><td>6</td><td>2015-01-25</td><td>23843.0</td><td>94</td><td>253.64893617021278</td><td>251.92222222222222</td></tr><tr><td>6</td><td>2015-01-26</td><td>24548.0</td><td>96</td><td>255.70833333333334</td><td>253.64893617021278</td></tr><tr><td>6</td><td>2015-01-27</td><td>25371.0</td><td>99</td><td>256.27272727272725</td><td>255.70833333333334</td></tr><tr><td>6</td><td>2015-01-28</td><td>26503.0</td><td>103</td><td>257.31067961165047</td><td>256.27272727272725</td></tr><tr><td>6</td><td>2015-01-29</td><td>27309.0</td><td>106</td><td>257.6320754716981</td><td>257.31067961165047</td></tr><tr><td>6</td><td>2015-01-30</td><td>28437.0</td><td>110</td><td>258.5181818181818</td><td>257.6320754716981</td></tr><tr><td>6</td><td>2015-01-31</td><td>29465.0</td><td>116</td><td>254.00862068965517</td><td>258.5181818181818</td></tr><tr><td>6</td><td>2015-02-01</td><td>30666.0</td><td>121</td><td>253.43801652892563</td><td>254.00862068965517</td></tr><tr><td>6</td><td>2015-02-02</td><td>31494.0</td><td>124</td><td>253.98387096774192</td><td>253.43801652892563</td></tr><tr><td>6</td><td>2015-02-03</td><td>32323.0</td><td>127</td><td>254.51181102362204</td><td>253.98387096774192</td></tr><tr><td>6</td><td>2015-02-04</td><td>33447.0</td><td>131</td><td>255.3206106870229</td><td>254.51181102362204</td></tr><tr><td>6</td><td>2015-02-05</td><td>34255.0</td><td>134</td><td>255.63432835820896</td><td>255.3206106870229</td></tr><tr><td>6</td><td>2015-02-06</td><td>35338.0</td><td>138</td><td>256.07246376811594</td><td>255.63432835820896</td></tr><tr><td>6</td><td>2015-02-07</td><td>36352.0</td><td>144</td><td>252.44444444444446</td><td>256.07246376811594</td></tr><tr><td>6</td><td>2015-02-08</td><td>37439.0</td><td>148</td><td>252.96621621621622</td><td>252.44444444444446</td></tr><tr><td>6</td><td>2015-02-09</td><td>38234.0</td><td>151</td><td>253.20529801324503</td><td>252.96621621621622</td></tr><tr><td>6</td><td>2015-02-10</td><td>39042.0</td><td>154</td><td>253.5194805194805</td><td>253.20529801324503</td></tr><tr><td>6</td><td>2015-02-11</td><td>40192.0</td><td>158</td><td>254.37974683544303</td><td>253.5194805194805</td></tr><tr><td>6</td><td>2015-02-12</td><td>41045.0</td><td>161</td><td>254.93788819875778</td><td>254.37974683544303</td></tr><tr><td>6</td><td>2015-02-13</td><td>42179.0</td><td>165</td><td>255.63030303030303</td><td>254.93788819875778</td></tr><tr><td>6</td><td>2015-02-14</td><td>43226.0</td><td>171</td><td>252.78362573099415</td><td>255.63030303030303</td></tr><tr><td>6</td><td>2015-02-15</td><td>44404.0</td><td>175</td><td>253.73714285714286</td><td>252.78362573099415</td></tr><tr><td>6</td><td>2015-02-16</td><td>45270.0</td><td>178</td><td>254.32584269662922</td><td>253.73714285714286</td></tr><tr><td>6</td><td>2015-02-17</td><td>46096.0</td><td>181</td><td>254.67403314917127</td><td>254.32584269662922</td></tr><tr><td>6</td><td>2015-02-18</td><td>47220.0</td><td>185</td><td>255.24324324324326</td><td>254.67403314917127</td></tr><tr><td>6</td><td>2015-02-19</td><td>48027.0</td><td>188</td><td>255.4627659574468</td><td>255.24324324324326</td></tr><tr><td>6</td><td>2015-02-20</td><td>49149.0</td><td>192</td><td>255.984375</td><td>255.4627659574468</td></tr><tr><td>6</td><td>2015-02-21</td><td>50081.0</td><td>197</td><td>254.21827411167513</td><td>255.984375</td></tr><tr><td>6</td><td>2015-02-22</td><td>51204.0</td><td>201</td><td>254.7462686567164</td><td>254.21827411167513</td></tr><tr><td>6</td><td>2015-02-23</td><td>51993.0</td><td>204</td><td>254.86764705882354</td><td>254.7462686567164</td></tr><tr><td>6</td><td>2015-02-24</td><td>52810.0</td><td>207</td><td>255.12077294685992</td><td>254.86764705882354</td></tr><tr><td>6</td><td>2015-02-25</td><td>53943.0</td><td>211</td><td>255.65402843601896</td><td>255.12077294685992</td></tr><tr><td>6</td><td>2015-02-26</td><td>54742.0</td><td>214</td><td>255.80373831775702</td><td>255.65402843601896</td></tr><tr><td>6</td><td>2015-02-27</td><td>55845.0</td><td>218</td><td>256.1697247706422</td><td>255.80373831775702</td></tr><tr><td>6</td><td>2015-02-28</td><td>56457.0</td><td>223</td><td>253.17040358744396</td><td>256.1697247706422</td></tr><tr><td>6</td><td>2015-03-01</td><td>57556.0</td><td>227</td><td>253.55066079295153</td><td>253.17040358744396</td></tr><tr><td>6</td><td>2015-03-02</td><td>58368.0</td><td>230</td><td>253.77391304347827</td><td>253.55066079295153</td></tr><tr><td>6</td><td>2015-03-03</td><td>59187.0</td><td>233</td><td>254.0214592274678</td><td>253.77391304347827</td></tr><tr><td>6</td><td>2015-03-04</td><td>60295.0</td><td>237</td><td>254.40928270042195</td><td>254.0214592274678</td></tr><tr><td>6</td><td>2015-03-05</td><td>61080.0</td><td>240</td><td>254.5</td><td>254.40928270042195</td></tr><tr><td>6</td><td>2015-03-06</td><td>62165.0</td><td>244</td><td>254.77459016393442</td><td>254.5</td></tr><tr><td>6</td><td>2015-03-07</td><td>63053.0</td><td>248</td><td>254.2459677419355</td><td>254.77459016393442</td></tr><tr><td>6</td><td>2015-03-08</td><td>63740.0</td><td>251</td><td>253.9442231075697</td><td>254.2459677419355</td></tr><tr><td>6</td><td>2015-03-09</td><td>64546.0</td><td>254</td><td>254.11811023622047</td><td>253.9442231075697</td></tr><tr><td>6</td><td>2015-03-10</td><td>65354.0</td><td>257</td><td>254.295719844358</td><td>254.11811023622047</td></tr><tr><td>6</td><td>2015-03-11</td><td>66452.0</td><td>261</td><td>254.60536398467434</td><td>254.295719844358</td></tr><tr><td>6</td><td>2015-03-12</td><td>67282.0</td><td>264</td><td>254.8560606060606</td><td>254.60536398467434</td></tr><tr><td>6</td><td>2015-03-13</td><td>68420.0</td><td>268</td><td>255.29850746268656</td><td>254.8560606060606</td></tr><tr><td>6</td><td>2015-03-14</td><td>69822.0</td><td>276</td><td>252.97826086956522</td><td>255.29850746268656</td></tr><tr><td>6</td><td>2015-03-15</td><td>70984.0</td><td>280</td><td>253.5142857142857</td><td>252.97826086956522</td></tr><tr><td>6</td><td>2015-03-16</td><td>71817.0</td><td>283</td><td>253.7703180212014</td><td>253.5142857142857</td></tr><tr><td>6</td><td>2015-03-17</td><td>72625.0</td><td>286</td><td>253.93356643356643</td><td>253.7703180212014</td></tr><tr><td>6</td><td>2015-03-18</td><td>73725.0</td><td>290</td><td>254.22413793103448</td><td>253.93356643356643</td></tr><tr><td>6</td><td>2015-03-19</td><td>74513.0</td><td>293</td><td>254.31058020477815</td><td>254.22413793103448</td></tr><tr><td>6</td><td>2015-03-20</td><td>75622.0</td><td>297</td><td>254.6195286195286</td><td>254.31058020477815</td></tr><tr><td>6</td><td>2015-03-21</td><td>77005.0</td><td>305</td><td>252.47540983606558</td><td>254.6195286195286</td></tr><tr><td>6</td><td>2015-03-22</td><td>78110.0</td><td>309</td><td>252.7831715210356</td><td>252.47540983606558</td></tr><tr><td>6</td><td>2015-03-23</td><td>78914.0</td><td>312</td><td>252.92948717948718</td><td>252.7831715210356</td></tr><tr><td>6</td><td>2015-03-24</td><td>79738.0</td><td>315</td><td>253.13650793650794</td><td>252.92948717948718</td></tr><tr><td>6</td><td>2015-03-25</td><td>80937.0</td><td>319</td><td>253.72100313479623</td><td>253.13650793650794</td></tr><tr><td>6</td><td>2015-03-26</td><td>81814.0</td><td>322</td><td>254.08074534161491</td><td>253.72100313479623</td></tr><tr><td>6</td><td>2015-03-27</td><td>82957.0</td><td>326</td><td>254.46932515337423</td><td>254.08074534161491</td></tr><tr><td>6</td><td>2015-03-28</td><td>84311.0</td><td>334</td><td>252.42814371257484</td><td>254.46932515337423</td></tr><tr><td>6</td><td>2015-03-29</td><td>85431.0</td><td>338</td><td>252.75443786982248</td><td>252.42814371257484</td></tr><tr><td>6</td><td>2015-03-30</td><td>86228.0</td><td>341</td><td>252.86803519061584</td><td>252.75443786982248</td></tr><tr><td>6</td><td>2015-03-31</td><td>87050.0</td><td>344</td><td>253.05232558139534</td><td>252.86803519061584</td></tr><tr><td>7</td><td>2015-01-01</td><td>1454.0</td><td>7</td><td>207.71428571428572</td><td>0.0</td></tr><tr><td>7</td><td>2015-01-02</td><td>2903.0</td><td>14</td><td>207.35714285714286</td><td>207.71428571428572</td></tr><tr><td>7</td><td>2015-01-03</td><td>3734.0</td><td>18</td><td>207.44444444444446</td><td>207.35714285714286</td></tr><tr><td>7</td><td>2015-01-04</td><td>5024.0</td><td>23</td><td>218.43478260869566</td><td>207.44444444444446</td></tr><tr><td>7</td><td>2015-01-05</td><td>6469.0</td><td>31</td><td>208.67741935483872</td><td>218.43478260869566</td></tr><tr><td>7</td><td>2015-01-06</td><td>8208.0</td><td>40</td><td>205.2</td><td>208.67741935483872</td></tr><tr><td>7</td><td>2015-01-07</td><td>9927.0</td><td>49</td><td>202.59183673469389</td><td>205.2</td></tr><tr><td>7</td><td>2015-01-08</td><td>11658.0</td><td>58</td><td>201.0</td><td>202.59183673469389</td></tr><tr><td>7</td><td>2015-01-09</td><td>13328.0</td><td>66</td><td>201.93939393939394</td><td>201.0</td></tr><tr><td>7</td><td>2015-01-10</td><td>14512.0</td><td>70</td><td>207.31428571428572</td><td>201.93939393939394</td></tr><tr><td>7</td><td>2015-01-11</td><td>16154.0</td><td>78</td><td>207.10256410256412</td><td>207.31428571428572</td></tr><tr><td>7</td><td>2015-01-12</td><td>17888.0</td><td>87</td><td>205.60919540229884</td><td>207.10256410256412</td></tr><tr><td>7</td><td>2015-01-13</td><td>19660.0</td><td>96</td><td>204.79166666666666</td><td>205.60919540229884</td></tr><tr><td>7</td><td>2015-01-14</td><td>21396.0</td><td>105</td><td>203.77142857142857</td><td>204.79166666666666</td></tr><tr><td>7</td><td>2015-01-15</td><td>23142.0</td><td>114</td><td>203.0</td><td>203.77142857142857</td></tr><tr><td>7</td><td>2015-01-16</td><td>24858.0</td><td>123</td><td>202.09756097560975</td><td>203.0</td></tr><tr><td>7</td><td>2015-01-17</td><td>26120.0</td><td>127</td><td>205.66929133858267</td><td>202.09756097560975</td></tr><tr><td>7</td><td>2015-01-18</td><td>27369.0</td><td>131</td><td>208.9236641221374</td><td>205.66929133858267</td></tr><tr><td>7</td><td>2015-01-19</td><td>29100.0</td><td>140</td><td>207.85714285714286</td><td>208.9236641221374</td></tr><tr><td>7</td><td>2015-01-20</td><td>30832.0</td><td>149</td><td>206.9261744966443</td><td>207.85714285714286</td></tr><tr><td>7</td><td>2015-01-21</td><td>32530.0</td><td>158</td><td>205.8860759493671</td><td>206.9261744966443</td></tr><tr><td>7</td><td>2015-01-22</td><td>34194.0</td><td>167</td><td>204.75449101796409</td><td>205.8860759493671</td></tr><tr><td>7</td><td>2015-01-23</td><td>35944.0</td><td>176</td><td>204.22727272727272</td><td>204.75449101796409</td></tr><tr><td>7</td><td>2015-01-24</td><td>37179.0</td><td>180</td><td>206.55</td><td>204.22727272727272</td></tr><tr><td>7</td><td>2015-01-25</td><td>38814.0</td><td>188</td><td>206.45744680851064</td><td>206.55</td></tr><tr><td>7</td><td>2015-01-26</td><td>40162.0</td><td>195</td><td>205.95897435897436</td><td>206.45744680851064</td></tr><tr><td>7</td><td>2015-01-27</td><td>41475.0</td><td>201</td><td>206.34328358208955</td><td>205.95897435897436</td></tr><tr><td>7</td><td>2015-01-28</td><td>43205.0</td><td>210</td><td>205.73809523809524</td><td>206.34328358208955</td></tr><tr><td>7</td><td>2015-01-29</td><td>44974.0</td><td>219</td><td>205.36073059360731</td><td>205.73809523809524</td></tr><tr><td>7</td><td>2015-01-30</td><td>46746.0</td><td>228</td><td>205.02631578947367</td><td>205.36073059360731</td></tr><tr><td>7</td><td>2015-01-31</td><td>47960.0</td><td>232</td><td>206.72413793103448</td><td>205.02631578947367</td></tr><tr><td>7</td><td>2015-02-01</td><td>49589.0</td><td>239</td><td>207.48535564853557</td><td>206.72413793103448</td></tr><tr><td>7</td><td>2015-02-02</td><td>51341.0</td><td>248</td><td>207.0201612903226</td><td>207.48535564853557</td></tr><tr><td>7</td><td>2015-02-03</td><td>53076.0</td><td>257</td><td>206.5214007782101</td><td>207.0201612903226</td></tr><tr><td>7</td><td>2015-02-04</td><td>54708.0</td><td>265</td><td>206.4452830188679</td><td>206.5214007782101</td></tr><tr><td>7</td><td>2015-02-05</td><td>56433.0</td><td>274</td><td>205.95985401459853</td><td>206.4452830188679</td></tr><tr><td>7</td><td>2015-02-06</td><td>58166.0</td><td>283</td><td>205.53356890459364</td><td>205.95985401459853</td></tr><tr><td>7</td><td>2015-02-07</td><td>59394.0</td><td>287</td><td>206.94773519163763</td><td>205.53356890459364</td></tr><tr><td>7</td><td>2015-02-08</td><td>61087.0</td><td>295</td><td>207.07457627118643</td><td>206.94773519163763</td></tr><tr><td>7</td><td>2015-02-09</td><td>62774.0</td><td>303</td><td>207.17491749174917</td><td>207.07457627118643</td></tr><tr><td>7</td><td>2015-02-10</td><td>64522.0</td><td>312</td><td>206.80128205128204</td><td>207.17491749174917</td></tr><tr><td>7</td><td>2015-02-11</td><td>66270.0</td><td>321</td><td>206.44859813084113</td><td>206.80128205128204</td></tr><tr><td>7</td><td>2015-02-12</td><td>67871.0</td><td>329</td><td>206.29483282674772</td><td>206.44859813084113</td></tr><tr><td>7</td><td>2015-02-13</td><td>69572.0</td><td>338</td><td>205.8343195266272</td><td>206.29483282674772</td></tr><tr><td>7</td><td>2015-02-14</td><td>70795.0</td><td>342</td><td>207.00292397660817</td><td>205.8343195266272</td></tr><tr><td>7</td><td>2015-02-15</td><td>72134.0</td><td>348</td><td>207.2816091954023</td><td>207.00292397660817</td></tr><tr><td>7</td><td>2015-02-16</td><td>73905.0</td><td>357</td><td>207.01680672268907</td><td>207.2816091954023</td></tr><tr><td>7</td><td>2015-02-17</td><td>75588.0</td><td>366</td><td>206.52459016393442</td><td>207.01680672268907</td></tr><tr><td>7</td><td>2015-02-18</td><td>77307.0</td><td>375</td><td>206.152</td><td>206.52459016393442</td></tr><tr><td>7</td><td>2015-02-19</td><td>79076.0</td><td>384</td><td>205.92708333333334</td><td>206.152</td></tr><tr><td>7</td><td>2015-02-20</td><td>80819.0</td><td>393</td><td>205.64631043256998</td><td>205.92708333333334</td></tr><tr><td>7</td><td>2015-02-21</td><td>82057.0</td><td>397</td><td>206.69269521410578</td><td>205.64631043256998</td></tr><tr><td>7</td><td>2015-02-22</td><td>83761.0</td><td>405</td><td>206.81728395061728</td><td>206.69269521410578</td></tr><tr><td>7</td><td>2015-02-23</td><td>85308.0</td><td>411</td><td>207.56204379562044</td><td>206.81728395061728</td></tr><tr><td>7</td><td>2015-02-24</td><td>87059.0</td><td>420</td><td>207.28333333333333</td><td>207.56204379562044</td></tr><tr><td>7</td><td>2015-02-25</td><td>88700.0</td><td>428</td><td>207.2429906542056</td><td>207.28333333333333</td></tr><tr><td>7</td><td>2015-02-26</td><td>90351.0</td><td>436</td><td>207.22706422018348</td><td>207.2429906542056</td></tr><tr><td>7</td><td>2015-02-27</td><td>92102.0</td><td>445</td><td>206.97078651685393</td><td>207.22706422018348</td></tr><tr><td>7</td><td>2015-02-28</td><td>92860.0</td><td>448</td><td>207.27678571428572</td><td>206.97078651685393</td></tr><tr><td>7</td><td>2015-03-01</td><td>94217.0</td><td>454</td><td>207.52643171806167</td><td>207.27678571428572</td></tr><tr><td>7</td><td>2015-03-02</td><td>96000.0</td><td>463</td><td>207.34341252699784</td><td>207.52643171806167</td></tr><tr><td>7</td><td>2015-03-03</td><td>97801.0</td><td>472</td><td>207.20550847457628</td><td>207.34341252699784</td></tr><tr><td>7</td><td>2015-03-04</td><td>99612.0</td><td>481</td><td>207.0935550935551</td><td>207.20550847457628</td></tr><tr><td>7</td><td>2015-03-05</td><td>100945.0</td><td>486</td><td>207.70576131687244</td><td>207.0935550935551</td></tr><tr><td>7</td><td>2015-03-06</td><td>102377.0</td><td>494</td><td>207.2408906882591</td><td>207.70576131687244</td></tr><tr><td>7</td><td>2015-03-07</td><td>103673.0</td><td>499</td><td>207.76152304609218</td><td>207.2408906882591</td></tr><tr><td>7</td><td>2015-03-08</td><td>104489.0</td><td>503</td><td>207.73161033797217</td><td>207.76152304609218</td></tr><tr><td>7</td><td>2015-03-09</td><td>105368.0</td><td>508</td><td>207.41732283464566</td><td>207.73161033797217</td></tr><tr><td>7</td><td>2015-03-10</td><td>106692.0</td><td>514</td><td>207.57198443579767</td><td>207.41732283464566</td></tr><tr><td>7</td><td>2015-03-11</td><td>108041.0</td><td>520</td><td>207.77115384615385</td><td>207.57198443579767</td></tr><tr><td>7</td><td>2015-03-12</td><td>109375.0</td><td>526</td><td>207.93726235741445</td><td>207.77115384615385</td></tr><tr><td>7</td><td>2015-03-13</td><td>110718.0</td><td>532</td><td>208.11654135338347</td><td>207.93726235741445</td></tr><tr><td>7</td><td>2015-03-14</td><td>112027.0</td><td>538</td><td>208.228624535316</td><td>208.11654135338347</td></tr><tr><td>7</td><td>2015-03-15</td><td>113260.0</td><td>543</td><td>208.58195211786372</td><td>208.228624535316</td></tr><tr><td>7</td><td>2015-03-16</td><td>114556.0</td><td>549</td><td>208.6630236794171</td><td>208.58195211786372</td></tr><tr><td>7</td><td>2015-03-17</td><td>115845.0</td><td>555</td><td>208.72972972972974</td><td>208.6630236794171</td></tr><tr><td>7</td><td>2015-03-18</td><td>117172.0</td><td>561</td><td>208.86274509803923</td><td>208.72972972972974</td></tr><tr><td>7</td><td>2015-03-19</td><td>118504.0</td><td>567</td><td>209.00176366843033</td><td>208.86274509803923</td></tr><tr><td>7</td><td>2015-03-20</td><td>119871.0</td><td>573</td><td>209.19895287958116</td><td>209.00176366843033</td></tr><tr><td>7</td><td>2015-03-21</td><td>121226.0</td><td>579</td><td>209.3713298791019</td><td>209.19895287958116</td></tr><tr><td>7</td><td>2015-03-22</td><td>122513.0</td><td>584</td><td>209.78253424657535</td><td>209.3713298791019</td></tr><tr><td>7</td><td>2015-03-23</td><td>123821.0</td><td>590</td><td>209.86610169491524</td><td>209.78253424657535</td></tr><tr><td>7</td><td>2015-03-24</td><td>125096.0</td><td>596</td><td>209.89261744966444</td><td>209.86610169491524</td></tr><tr><td>7</td><td>2015-03-25</td><td>126385.0</td><td>602</td><td>209.9418604651163</td><td>209.89261744966444</td></tr><tr><td>7</td><td>2015-03-26</td><td>127673.0</td><td>608</td><td>209.98848684210526</td><td>209.9418604651163</td></tr><tr><td>7</td><td>2015-03-27</td><td>128929.0</td><td>614</td><td>209.98208469055373</td><td>209.98848684210526</td></tr><tr><td>7</td><td>2015-03-28</td><td>130189.0</td><td>620</td><td>209.98225806451612</td><td>209.98208469055373</td></tr><tr><td>7</td><td>2015-03-29</td><td>131439.0</td><td>625</td><td>210.3024</td><td>209.98225806451612</td></tr><tr><td>7</td><td>2015-03-30</td><td>132770.0</td><td>631</td><td>210.4120443740095</td><td>210.3024</td></tr><tr><td>7</td><td>2015-03-31</td><td>134114.0</td><td>637</td><td>210.54003139717426</td><td>210.4120443740095</td></tr><tr><td>8</td><td>2015-01-01</td><td>1229.0</td><td>4</td><td>307.25</td><td>0.0</td></tr><tr><td>8</td><td>2015-01-02</td><td>2655.0</td><td>11</td><td>241.36363636363637</td><td>307.25</td></tr><tr><td>8</td><td>2015-01-03</td><td>4084.0</td><td>18</td><td>226.88888888888889</td><td>241.36363636363637</td></tr><tr><td>8</td><td>2015-01-04</td><td>5497.0</td><td>25</td><td>219.88</td><td>226.88888888888889</td></tr><tr><td>8</td><td>2015-01-05</td><td>6908.0</td><td>32</td><td>215.875</td><td>219.88</td></tr><tr><td>8</td><td>2015-01-06</td><td>8312.0</td><td>39</td><td>213.12820512820514</td><td>215.875</td></tr><tr><td>8</td><td>2015-01-07</td><td>9734.0</td><td>46</td><td>211.6086956521739</td><td>213.12820512820514</td></tr><tr><td>8</td><td>2015-01-08</td><td>11137.0</td><td>53</td><td>210.1320754716981</td><td>211.6086956521739</td></tr><tr><td>8</td><td>2015-01-09</td><td>12556.0</td><td>60</td><td>209.26666666666668</td><td>210.1320754716981</td></tr><tr><td>8</td><td>2015-01-10</td><td>13867.0</td><td>65</td><td>213.33846153846153</td><td>209.26666666666668</td></tr><tr><td>8</td><td>2015-01-11</td><td>15205.0</td><td>70</td><td>217.21428571428572</td><td>213.33846153846153</td></tr><tr><td>8</td><td>2015-01-12</td><td>16600.0</td><td>77</td><td>215.58441558441558</td><td>217.21428571428572</td></tr><tr><td>8</td><td>2015-01-13</td><td>17804.0</td><td>83</td><td>214.50602409638554</td><td>215.58441558441558</td></tr><tr><td>8</td><td>2015-01-14</td><td>19209.0</td><td>90</td><td>213.43333333333334</td><td>214.50602409638554</td></tr><tr><td>8</td><td>2015-01-15</td><td>20574.0</td><td>97</td><td>212.10309278350516</td><td>213.43333333333334</td></tr><tr><td>8</td><td>2015-01-16</td><td>21940.0</td><td>104</td><td>210.96153846153845</td><td>212.10309278350516</td></tr><tr><td>8</td><td>2015-01-17</td><td>23215.0</td><td>109</td><td>212.9816513761468</td><td>210.96153846153845</td></tr><tr><td>8</td><td>2015-01-18</td><td>24558.0</td><td>115</td><td>213.54782608695652</td><td>212.9816513761468</td></tr><tr><td>8</td><td>2015-01-19</td><td>25958.0</td><td>122</td><td>212.7704918032787</td><td>213.54782608695652</td></tr><tr><td>8</td><td>2015-01-20</td><td>27371.0</td><td>129</td><td>212.1782945736434</td><td>212.7704918032787</td></tr><tr><td>8</td><td>2015-01-21</td><td>28719.0</td><td>134</td><td>214.32089552238807</td><td>212.1782945736434</td></tr><tr><td>8</td><td>2015-01-22</td><td>30173.0</td><td>141</td><td>213.99290780141843</td><td>214.32089552238807</td></tr><tr><td>8</td><td>2015-01-23</td><td>31601.0</td><td>148</td><td>213.52027027027026</td><td>213.99290780141843</td></tr><tr><td>8</td><td>2015-01-24</td><td>32955.0</td><td>153</td><td>215.3921568627451</td><td>213.52027027027026</td></tr><tr><td>8</td><td>2015-01-25</td><td>34304.0</td><td>158</td><td>217.1139240506329</td><td>215.3921568627451</td></tr><tr><td>8</td><td>2015-01-26</td><td>35661.0</td><td>164</td><td>217.4451219512195</td><td>217.1139240506329</td></tr><tr><td>8</td><td>2015-01-27</td><td>36791.0</td><td>170</td><td>216.41764705882352</td><td>217.4451219512195</td></tr><tr><td>8</td><td>2015-01-28</td><td>38186.0</td><td>177</td><td>215.74011299435028</td><td>216.41764705882352</td></tr><tr><td>8</td><td>2015-01-29</td><td>39567.0</td><td>184</td><td>215.03804347826087</td><td>215.74011299435028</td></tr><tr><td>8</td><td>2015-01-30</td><td>41004.0</td><td>191</td><td>214.6806282722513</td><td>215.03804347826087</td></tr><tr><td>8</td><td>2015-01-31</td><td>42212.0</td><td>195</td><td>216.47179487179488</td><td>214.6806282722513</td></tr><tr><td>8</td><td>2015-02-01</td><td>43562.0</td><td>201</td><td>216.726368159204</td><td>216.47179487179488</td></tr><tr><td>8</td><td>2015-02-02</td><td>44716.0</td><td>207</td><td>216.01932367149757</td><td>216.726368159204</td></tr><tr><td>8</td><td>2015-02-03</td><td>46048.0</td><td>213</td><td>216.18779342723005</td><td>216.01932367149757</td></tr><tr><td>8</td><td>2015-02-04</td><td>47447.0</td><td>220</td><td>215.6681818181818</td><td>216.18779342723005</td></tr><tr><td>8</td><td>2015-02-05</td><td>48819.0</td><td>227</td><td>215.06167400881057</td><td>215.6681818181818</td></tr><tr><td>8</td><td>2015-02-06</td><td>50167.0</td><td>234</td><td>214.38888888888889</td><td>215.06167400881057</td></tr><tr><td>8</td><td>2015-02-07</td><td>51440.0</td><td>239</td><td>215.23012552301256</td><td>214.38888888888889</td></tr><tr><td>8</td><td>2015-02-08</td><td>52687.0</td><td>244</td><td>215.93032786885246</td><td>215.23012552301256</td></tr><tr><td>8</td><td>2015-02-09</td><td>54090.0</td><td>251</td><td>215.4980079681275</td><td>215.93032786885246</td></tr><tr><td>8</td><td>2015-02-10</td><td>55504.0</td><td>258</td><td>215.13178294573643</td><td>215.4980079681275</td></tr><tr><td>8</td><td>2015-02-11</td><td>56931.0</td><td>265</td><td>214.83396226415095</td><td>215.13178294573643</td></tr><tr><td>8</td><td>2015-02-12</td><td>58338.0</td><td>272</td><td>214.47794117647058</td><td>214.83396226415095</td></tr><tr><td>8</td><td>2015-02-13</td><td>59777.0</td><td>279</td><td>214.25448028673836</td><td>214.47794117647058</td></tr><tr><td>8</td><td>2015-02-14</td><td>61135.0</td><td>284</td><td>215.26408450704224</td><td>214.25448028673836</td></tr><tr><td>8</td><td>2015-02-15</td><td>62506.0</td><td>290</td><td>215.53793103448277</td><td>215.26408450704224</td></tr><tr><td>8</td><td>2015-02-16</td><td>63949.0</td><td>297</td><td>215.31649831649833</td><td>215.53793103448277</td></tr><tr><td>8</td><td>2015-02-17</td><td>65376.0</td><td>304</td><td>215.05263157894737</td><td>215.31649831649833</td></tr><tr><td>8</td><td>2015-02-18</td><td>66737.0</td><td>310</td><td>215.28064516129032</td><td>215.05263157894737</td></tr><tr><td>8</td><td>2015-02-19</td><td>68139.0</td><td>317</td><td>214.9495268138801</td><td>215.28064516129032</td></tr><tr><td>8</td><td>2015-02-20</td><td>69570.0</td><td>324</td><td>214.72222222222223</td><td>214.9495268138801</td></tr><tr><td>8</td><td>2015-02-21</td><td>70905.0</td><td>329</td><td>215.51671732522797</td><td>214.72222222222223</td></tr><tr><td>8</td><td>2015-02-22</td><td>72271.0</td><td>335</td><td>215.73432835820896</td><td>215.51671732522797</td></tr><tr><td>8</td><td>2015-02-23</td><td>73642.0</td><td>341</td><td>215.95894428152494</td><td>215.73432835820896</td></tr><tr><td>8</td><td>2015-02-24</td><td>75043.0</td><td>348</td><td>215.64080459770116</td><td>215.95894428152494</td></tr><tr><td>8</td><td>2015-02-25</td><td>76478.0</td><td>355</td><td>215.43098591549295</td><td>215.64080459770116</td></tr><tr><td>8</td><td>2015-02-26</td><td>77912.0</td><td>362</td><td>215.22651933701658</td><td>215.43098591549295</td></tr><tr><td>8</td><td>2015-02-27</td><td>78908.0</td><td>368</td><td>214.42391304347825</td><td>215.22651933701658</td></tr><tr><td>8</td><td>2015-02-28</td><td>80250.0</td><td>373</td><td>215.14745308310992</td><td>214.42391304347825</td></tr><tr><td>8</td><td>2015-03-01</td><td>81378.0</td><td>378</td><td>215.28571428571428</td><td>215.14745308310992</td></tr><tr><td>8</td><td>2015-03-02</td><td>82780.0</td><td>385</td><td>215.01298701298703</td><td>215.28571428571428</td></tr><tr><td>8</td><td>2015-03-03</td><td>84151.0</td><td>391</td><td>215.21994884910487</td><td>215.01298701298703</td></tr><tr><td>8</td><td>2015-03-04</td><td>85537.0</td><td>398</td><td>214.91708542713567</td><td>215.21994884910487</td></tr><tr><td>8</td><td>2015-03-05</td><td>86930.0</td><td>405</td><td>214.64197530864197</td><td>214.91708542713567</td></tr><tr><td>8</td><td>2015-03-06</td><td>88046.0</td><td>411</td><td>214.22384428223845</td><td>214.64197530864197</td></tr><tr><td>8</td><td>2015-03-07</td><td>89646.0</td><td>419</td><td>213.95226730310262</td><td>214.22384428223845</td></tr><tr><td>8</td><td>2015-03-08</td><td>90985.0</td><td>425</td><td>214.08235294117648</td><td>213.95226730310262</td></tr><tr><td>8</td><td>2015-03-09</td><td>92384.0</td><td>432</td><td>213.85185185185185</td><td>214.08235294117648</td></tr><tr><td>8</td><td>2015-03-10</td><td>93751.0</td><td>439</td><td>213.55580865603645</td><td>213.85185185185185</td></tr><tr><td>8</td><td>2015-03-11</td><td>95114.0</td><td>446</td><td>213.26008968609867</td><td>213.55580865603645</td></tr><tr><td>8</td><td>2015-03-12</td><td>96517.0</td><td>453</td><td>213.06181015452538</td><td>213.26008968609867</td></tr><tr><td>8</td><td>2015-03-13</td><td>97938.0</td><td>460</td><td>212.90869565217392</td><td>213.06181015452538</td></tr><tr><td>8</td><td>2015-03-14</td><td>99301.0</td><td>465</td><td>213.5505376344086</td><td>212.90869565217392</td></tr><tr><td>8</td><td>2015-03-15</td><td>100682.0</td><td>471</td><td>213.76220806794055</td><td>213.5505376344086</td></tr><tr><td>8</td><td>2015-03-16</td><td>102075.0</td><td>478</td><td>213.5460251046025</td><td>213.76220806794055</td></tr><tr><td>8</td><td>2015-03-17</td><td>103447.0</td><td>484</td><td>213.73347107438016</td><td>213.5460251046025</td></tr><tr><td>8</td><td>2015-03-18</td><td>104829.0</td><td>491</td><td>213.5010183299389</td><td>213.73347107438016</td></tr><tr><td>8</td><td>2015-03-19</td><td>106216.0</td><td>498</td><td>213.28514056224898</td><td>213.5010183299389</td></tr><tr><td>8</td><td>2015-03-20</td><td>107350.0</td><td>504</td><td>212.99603174603175</td><td>213.28514056224898</td></tr><tr><td>8</td><td>2015-03-21</td><td>108664.0</td><td>509</td><td>213.4852652259332</td><td>212.99603174603175</td></tr><tr><td>8</td><td>2015-03-22</td><td>110056.0</td><td>515</td><td>213.70097087378642</td><td>213.4852652259332</td></tr><tr><td>8</td><td>2015-03-23</td><td>111495.0</td><td>522</td><td>213.59195402298852</td><td>213.70097087378642</td></tr><tr><td>8</td><td>2015-03-24</td><td>112926.0</td><td>529</td><td>213.47069943289225</td><td>213.59195402298852</td></tr><tr><td>8</td><td>2015-03-25</td><td>114351.0</td><td>536</td><td>213.34141791044777</td><td>213.47069943289225</td></tr><tr><td>8</td><td>2015-03-26</td><td>115829.0</td><td>543</td><td>213.31307550644567</td><td>213.34141791044777</td></tr><tr><td>8</td><td>2015-03-27</td><td>117279.0</td><td>550</td><td>213.23454545454547</td><td>213.31307550644567</td></tr><tr><td>8</td><td>2015-03-28</td><td>118604.0</td><td>555</td><td>213.7009009009009</td><td>213.23454545454547</td></tr><tr><td>8</td><td>2015-03-29</td><td>119958.0</td><td>561</td><td>213.8288770053476</td><td>213.7009009009009</td></tr><tr><td>8</td><td>2015-03-30</td><td>121331.0</td><td>568</td><td>213.61091549295776</td><td>213.8288770053476</td></tr><tr><td>8</td><td>2015-03-31</td><td>122181.0</td><td>573</td><td>213.2303664921466</td><td>213.61091549295776</td></tr><tr><td>9</td><td>2015-01-01</td><td>707.0</td><td>2</td><td>353.5</td><td>0.0</td></tr><tr><td>9</td><td>2015-01-02</td><td>1113.0</td><td>4</td><td>278.25</td><td>353.5</td></tr><tr><td>9</td><td>2015-01-03</td><td>2258.0</td><td>9</td><td>250.88888888888889</td><td>278.25</td></tr><tr><td>9</td><td>2015-01-04</td><td>3440.0</td><td>14</td><td>245.71428571428572</td><td>250.88888888888889</td></tr><tr><td>9</td><td>2015-01-05</td><td>4226.0</td><td>18</td><td>234.77777777777777</td><td>245.71428571428572</td></tr><tr><td>9</td><td>2015-01-06</td><td>5220.0</td><td>24</td><td>217.5</td><td>234.77777777777777</td></tr><tr><td>9</td><td>2015-01-07</td><td>6224.0</td><td>30</td><td>207.46666666666667</td><td>217.5</td></tr><tr><td>9</td><td>2015-01-08</td><td>7216.0</td><td>36</td><td>200.44444444444446</td><td>207.46666666666667</td></tr><tr><td>9</td><td>2015-01-09</td><td>8200.0</td><td>42</td><td>195.23809523809524</td><td>200.44444444444446</td></tr><tr><td>9</td><td>2015-01-10</td><td>9219.0</td><td>45</td><td>204.86666666666667</td><td>195.23809523809524</td></tr><tr><td>9</td><td>2015-01-11</td><td>10471.0</td><td>51</td><td>205.31372549019608</td><td>204.86666666666667</td></tr><tr><td>9</td><td>2015-01-12</td><td>11497.0</td><td>57</td><td>201.7017543859649</td><td>205.31372549019608</td></tr><tr><td>9</td><td>2015-01-13</td><td>12489.0</td><td>63</td><td>198.23809523809524</td><td>201.7017543859649</td></tr><tr><td>9</td><td>2015-01-14</td><td>13458.0</td><td>69</td><td>195.04347826086956</td><td>198.23809523809524</td></tr><tr><td>9</td><td>2015-01-15</td><td>14408.0</td><td>75</td><td>192.10666666666665</td><td>195.04347826086956</td></tr><tr><td>9</td><td>2015-01-16</td><td>15389.0</td><td>81</td><td>189.98765432098764</td><td>192.10666666666665</td></tr><tr><td>9</td><td>2015-01-17</td><td>16464.0</td><td>84</td><td>196.0</td><td>189.98765432098764</td></tr><tr><td>9</td><td>2015-01-18</td><td>17776.0</td><td>90</td><td>197.51111111111112</td><td>196.0</td></tr><tr><td>9</td><td>2015-01-19</td><td>18773.0</td><td>96</td><td>195.55208333333334</td><td>197.51111111111112</td></tr><tr><td>9</td><td>2015-01-20</td><td>19749.0</td><td>102</td><td>193.61764705882354</td><td>195.55208333333334</td></tr><tr><td>9</td><td>2015-01-21</td><td>20730.0</td><td>108</td><td>191.94444444444446</td><td>193.61764705882354</td></tr><tr><td>9</td><td>2015-01-22</td><td>21689.0</td><td>114</td><td>190.25438596491227</td><td>191.94444444444446</td></tr><tr><td>9</td><td>2015-01-23</td><td>22682.0</td><td>120</td><td>189.01666666666668</td><td>190.25438596491227</td></tr><tr><td>9</td><td>2015-01-24</td><td>23687.0</td><td>123</td><td>192.5772357723577</td><td>189.01666666666668</td></tr><tr><td>9</td><td>2015-01-25</td><td>24932.0</td><td>129</td><td>193.27131782945736</td><td>192.5772357723577</td></tr><tr><td>9</td><td>2015-01-26</td><td>25884.0</td><td>135</td><td>191.73333333333332</td><td>193.27131782945736</td></tr><tr><td>9</td><td>2015-01-27</td><td>26530.0</td><td>140</td><td>189.5</td><td>191.73333333333332</td></tr><tr><td>9</td><td>2015-01-28</td><td>27197.0</td><td>145</td><td>187.5655172413793</td><td>189.5</td></tr><tr><td>9</td><td>2015-01-29</td><td>28213.0</td><td>151</td><td>186.841059602649</td><td>187.5655172413793</td></tr><tr><td>9</td><td>2015-01-30</td><td>29255.0</td><td>157</td><td>186.3375796178344</td><td>186.841059602649</td></tr><tr><td>9</td><td>2015-01-31</td><td>30308.0</td><td>160</td><td>189.425</td><td>186.3375796178344</td></tr><tr><td>9</td><td>2015-02-01</td><td>31594.0</td><td>166</td><td>190.32530120481928</td><td>189.425</td></tr><tr><td>9</td><td>2015-02-02</td><td>32243.0</td><td>171</td><td>188.55555555555554</td><td>190.32530120481928</td></tr><tr><td>9</td><td>2015-02-03</td><td>33244.0</td><td>177</td><td>187.819209039548</td><td>188.55555555555554</td></tr><tr><td>9</td><td>2015-02-04</td><td>34260.0</td><td>183</td><td>187.21311475409837</td><td>187.819209039548</td></tr><tr><td>9</td><td>2015-02-05</td><td>35268.0</td><td>189</td><td>186.6031746031746</td><td>187.21311475409837</td></tr><tr><td>9</td><td>2015-02-06</td><td>36285.0</td><td>195</td><td>186.07692307692307</td><td>186.6031746031746</td></tr><tr><td>9</td><td>2015-02-07</td><td>37316.0</td><td>198</td><td>188.46464646464648</td><td>186.07692307692307</td></tr><tr><td>9</td><td>2015-02-08</td><td>38666.0</td><td>204</td><td>189.5392156862745</td><td>188.46464646464648</td></tr><tr><td>9</td><td>2015-02-09</td><td>39662.0</td><td>210</td><td>188.86666666666667</td><td>189.5392156862745</td></tr><tr><td>9</td><td>2015-02-10</td><td>40700.0</td><td>216</td><td>188.42592592592592</td><td>188.86666666666667</td></tr><tr><td>9</td><td>2015-02-11</td><td>41712.0</td><td>222</td><td>187.8918918918919</td><td>188.42592592592592</td></tr><tr><td>9</td><td>2015-02-12</td><td>42692.0</td><td>228</td><td>187.24561403508773</td><td>187.8918918918919</td></tr><tr><td>9</td><td>2015-02-13</td><td>43668.0</td><td>234</td><td>186.6153846153846</td><td>187.24561403508773</td></tr><tr><td>9</td><td>2015-02-14</td><td>44707.0</td><td>237</td><td>188.63713080168776</td><td>186.6153846153846</td></tr><tr><td>9</td><td>2015-02-15</td><td>45641.0</td><td>242</td><td>188.599173553719</td><td>188.63713080168776</td></tr><tr><td>9</td><td>2015-02-16</td><td>46638.0</td><td>248</td><td>188.05645161290323</td><td>188.599173553719</td></tr><tr><td>9</td><td>2015-02-17</td><td>47599.0</td><td>254</td><td>187.39763779527559</td><td>188.05645161290323</td></tr><tr><td>9</td><td>2015-02-18</td><td>48592.0</td><td>260</td><td>186.8923076923077</td><td>187.39763779527559</td></tr><tr><td>9</td><td>2015-02-19</td><td>49597.0</td><td>266</td><td>186.45488721804512</td><td>186.8923076923077</td></tr><tr><td>9</td><td>2015-02-20</td><td>50601.0</td><td>272</td><td>186.03308823529412</td><td>186.45488721804512</td></tr><tr><td>9</td><td>2015-02-21</td><td>51640.0</td><td>275</td><td>187.78181818181818</td><td>186.03308823529412</td></tr><tr><td>9</td><td>2015-02-22</td><td>52927.0</td><td>281</td><td>188.35231316725978</td><td>187.78181818181818</td></tr><tr><td>9</td><td>2015-02-23</td><td>53859.0</td><td>285</td><td>188.97894736842105</td><td>188.35231316725978</td></tr><tr><td>9</td><td>2015-02-24</td><td>54843.0</td><td>291</td><td>188.46391752577318</td><td>188.97894736842105</td></tr><tr><td>9</td><td>2015-02-25</td><td>55835.0</td><td>297</td><td>187.996632996633</td><td>188.46391752577318</td></tr><tr><td>9</td><td>2015-02-26</td><td>56811.0</td><td>303</td><td>187.4950495049505</td><td>187.996632996633</td></tr><tr><td>9</td><td>2015-02-27</td><td>57803.0</td><td>309</td><td>187.06472491909386</td><td>187.4950495049505</td></tr><tr><td>9</td><td>2015-02-28</td><td>58863.0</td><td>312</td><td>188.66346153846155</td><td>187.06472491909386</td></tr><tr><td>9</td><td>2015-03-01</td><td>60175.0</td><td>318</td><td>189.22955974842768</td><td>188.66346153846155</td></tr><tr><td>9</td><td>2015-03-02</td><td>61223.0</td><td>324</td><td>188.95987654320987</td><td>189.22955974842768</td></tr><tr><td>9</td><td>2015-03-03</td><td>62250.0</td><td>330</td><td>188.63636363636363</td><td>188.95987654320987</td></tr><tr><td>9</td><td>2015-03-04</td><td>63322.0</td><td>336</td><td>188.45833333333334</td><td>188.63636363636363</td></tr><tr><td>9</td><td>2015-03-05</td><td>63987.0</td><td>341</td><td>187.6451612903226</td><td>188.45833333333334</td></tr><tr><td>9</td><td>2015-03-06</td><td>64969.0</td><td>347</td><td>187.23054755043228</td><td>187.6451612903226</td></tr><tr><td>9</td><td>2015-03-07</td><td>66200.0</td><td>352</td><td>188.0681818181818</td><td>187.23054755043228</td></tr><tr><td>9</td><td>2015-03-08</td><td>67429.0</td><td>357</td><td>188.8767507002801</td><td>188.0681818181818</td></tr><tr><td>9</td><td>2015-03-09</td><td>68261.0</td><td>361</td><td>189.08864265927977</td><td>188.8767507002801</td></tr><tr><td>9</td><td>2015-03-10</td><td>69092.0</td><td>365</td><td>189.2931506849315</td><td>189.08864265927977</td></tr><tr><td>9</td><td>2015-03-11</td><td>69931.0</td><td>369</td><td>189.5149051490515</td><td>189.2931506849315</td></tr><tr><td>9</td><td>2015-03-12</td><td>70781.0</td><td>373</td><td>189.76139410187668</td><td>189.5149051490515</td></tr><tr><td>9</td><td>2015-03-13</td><td>71626.0</td><td>377</td><td>189.9893899204244</td><td>189.76139410187668</td></tr><tr><td>9</td><td>2015-03-14</td><td>72636.0</td><td>380</td><td>191.14736842105262</td><td>189.9893899204244</td></tr><tr><td>9</td><td>2015-03-15</td><td>73714.0</td><td>384</td><td>191.96354166666666</td><td>191.14736842105262</td></tr><tr><td>9</td><td>2015-03-16</td><td>74485.0</td><td>388</td><td>191.97164948453607</td><td>191.96354166666666</td></tr><tr><td>9</td><td>2015-03-17</td><td>75238.0</td><td>391</td><td>192.42455242966753</td><td>191.97164948453607</td></tr><tr><td>9</td><td>2015-03-18</td><td>76045.0</td><td>395</td><td>192.51898734177215</td><td>192.42455242966753</td></tr><tr><td>9</td><td>2015-03-19</td><td>76850.0</td><td>399</td><td>192.60651629072683</td><td>192.51898734177215</td></tr><tr><td>9</td><td>2015-03-20</td><td>77641.0</td><td>403</td><td>192.6575682382134</td><td>192.60651629072683</td></tr><tr><td>9</td><td>2015-03-21</td><td>78706.0</td><td>406</td><td>193.85714285714286</td><td>192.6575682382134</td></tr><tr><td>9</td><td>2015-03-22</td><td>79853.0</td><td>411</td><td>194.28953771289537</td><td>193.85714285714286</td></tr><tr><td>9</td><td>2015-03-23</td><td>80646.0</td><td>415</td><td>194.3277108433735</td><td>194.28953771289537</td></tr><tr><td>9</td><td>2015-03-24</td><td>81427.0</td><td>419</td><td>194.3365155131265</td><td>194.3277108433735</td></tr><tr><td>9</td><td>2015-03-25</td><td>82229.0</td><td>423</td><td>194.39479905437352</td><td>194.3365155131265</td></tr><tr><td>9</td><td>2015-03-26</td><td>83001.0</td><td>427</td><td>194.38173302107728</td><td>194.39479905437352</td></tr><tr><td>9</td><td>2015-03-27</td><td>83767.0</td><td>431</td><td>194.3549883990719</td><td>194.38173302107728</td></tr><tr><td>9</td><td>2015-03-28</td><td>84757.0</td><td>434</td><td>195.2926267281106</td><td>194.3549883990719</td></tr><tr><td>9</td><td>2015-03-29</td><td>85906.0</td><td>439</td><td>195.6856492027335</td><td>195.2926267281106</td></tr><tr><td>9</td><td>2015-03-30</td><td>86732.0</td><td>443</td><td>195.78329571106096</td><td>195.6856492027335</td></tr><tr><td>9</td><td>2015-03-31</td><td>87550.0</td><td>447</td><td>195.8612975391499</td><td>195.78329571106096</td></tr><tr><td>10</td><td>2015-01-01</td><td>679.0</td><td>3</td><td>226.33333333333334</td><td>0.0</td></tr><tr><td>10</td><td>2015-01-02</td><td>1860.0</td><td>9</td><td>206.66666666666666</td><td>226.33333333333334</td></tr><tr><td>10</td><td>2015-01-03</td><td>3052.0</td><td>15</td><td>203.46666666666667</td><td>206.66666666666666</td></tr><tr><td>10</td><td>2015-01-04</td><td>3902.0</td><td>20</td><td>195.1</td><td>203.46666666666667</td></tr><tr><td>10</td><td>2015-01-05</td><td>4760.0</td><td>25</td><td>190.4</td><td>195.1</td></tr><tr><td>10</td><td>2015-01-06</td><td>5396.0</td><td>29</td><td>186.06896551724137</td><td>190.4</td></tr><tr><td>10</td><td>2015-01-07</td><td>6183.0</td><td>34</td><td>181.85294117647058</td><td>186.06896551724137</td></tr><tr><td>10</td><td>2015-01-08</td><td>6971.0</td><td>39</td><td>178.74358974358975</td><td>181.85294117647058</td></tr><tr><td>10</td><td>2015-01-09</td><td>8029.0</td><td>45</td><td>178.42222222222222</td><td>178.74358974358975</td></tr><tr><td>10</td><td>2015-01-10</td><td>8896.0</td><td>48</td><td>185.33333333333334</td><td>178.42222222222222</td></tr><tr><td>10</td><td>2015-01-11</td><td>9667.0</td><td>52</td><td>185.90384615384616</td><td>185.33333333333334</td></tr><tr><td>10</td><td>2015-01-12</td><td>10463.0</td><td>57</td><td>183.56140350877192</td><td>185.90384615384616</td></tr><tr><td>10</td><td>2015-01-13</td><td>11258.0</td><td>62</td><td>181.58064516129033</td><td>183.56140350877192</td></tr><tr><td>10</td><td>2015-01-14</td><td>12065.0</td><td>67</td><td>180.07462686567163</td><td>181.58064516129033</td></tr><tr><td>10</td><td>2015-01-15</td><td>12851.0</td><td>72</td><td>178.48611111111111</td><td>180.07462686567163</td></tr><tr><td>10</td><td>2015-01-16</td><td>13913.0</td><td>78</td><td>178.37179487179486</td><td>178.48611111111111</td></tr><tr><td>10</td><td>2015-01-17</td><td>14742.0</td><td>81</td><td>182.0</td><td>178.37179487179486</td></tr><tr><td>10</td><td>2015-01-18</td><td>15491.0</td><td>85</td><td>182.24705882352941</td><td>182.0</td></tr><tr><td>10</td><td>2015-01-19</td><td>16287.0</td><td>90</td><td>180.96666666666667</td><td>182.24705882352941</td></tr><tr><td>10</td><td>2015-01-20</td><td>17082.0</td><td>95</td><td>179.81052631578947</td><td>180.96666666666667</td></tr><tr><td>10</td><td>2015-01-21</td><td>17868.0</td><td>100</td><td>178.68</td><td>179.81052631578947</td></tr><tr><td>10</td><td>2015-01-22</td><td>18491.0</td><td>103</td><td>179.5242718446602</td><td>178.68</td></tr><tr><td>10</td><td>2015-01-23</td><td>19586.0</td><td>109</td><td>179.6880733944954</td><td>179.5242718446602</td></tr><tr><td>10</td><td>2015-01-24</td><td>20460.0</td><td>112</td><td>182.67857142857142</td><td>179.6880733944954</td></tr><tr><td>10</td><td>2015-01-25</td><td>21247.0</td><td>116</td><td>183.16379310344828</td><td>182.67857142857142</td></tr><tr><td>10</td><td>2015-01-26</td><td>21775.0</td><td>120</td><td>181.45833333333334</td><td>183.16379310344828</td></tr><tr><td>10</td><td>2015-01-27</td><td>22294.0</td><td>124</td><td>179.79032258064515</td><td>181.45833333333334</td></tr><tr><td>10</td><td>2015-01-28</td><td>23088.0</td><td>129</td><td>178.97674418604652</td><td>179.79032258064515</td></tr><tr><td>10</td><td>2015-01-29</td><td>23857.0</td><td>134</td><td>178.03731343283582</td><td>178.97674418604652</td></tr><tr><td>10</td><td>2015-01-30</td><td>24901.0</td><td>140</td><td>177.86428571428573</td><td>178.03731343283582</td></tr><tr><td>10</td><td>2015-01-31</td><td>25770.0</td><td>143</td><td>180.2097902097902</td><td>177.86428571428573</td></tr><tr><td>10</td><td>2015-02-01</td><td>26217.0</td><td>146</td><td>179.56849315068493</td><td>180.2097902097902</td></tr><tr><td>10</td><td>2015-02-02</td><td>26992.0</td><td>151</td><td>178.75496688741723</td><td>179.56849315068493</td></tr><tr><td>10</td><td>2015-02-03</td><td>27794.0</td><td>156</td><td>178.16666666666666</td><td>178.75496688741723</td></tr><tr><td>10</td><td>2015-02-04</td><td>28578.0</td><td>161</td><td>177.50310559006212</td><td>178.16666666666666</td></tr><tr><td>10</td><td>2015-02-05</td><td>29383.0</td><td>166</td><td>177.00602409638554</td><td>177.50310559006212</td></tr><tr><td>10</td><td>2015-02-06</td><td>30453.0</td><td>172</td><td>177.05232558139534</td><td>177.00602409638554</td></tr><tr><td>10</td><td>2015-02-07</td><td>31258.0</td><td>175</td><td>178.61714285714285</td><td>177.05232558139534</td></tr><tr><td>10</td><td>2015-02-08</td><td>32015.0</td><td>179</td><td>178.85474860335196</td><td>178.61714285714285</td></tr><tr><td>10</td><td>2015-02-09</td><td>32799.0</td><td>184</td><td>178.2554347826087</td><td>178.85474860335196</td></tr><tr><td>10</td><td>2015-02-10</td><td>33604.0</td><td>189</td><td>177.7989417989418</td><td>178.2554347826087</td></tr><tr><td>10</td><td>2015-02-11</td><td>34385.0</td><td>194</td><td>177.2422680412371</td><td>177.7989417989418</td></tr><tr><td>10</td><td>2015-02-12</td><td>35193.0</td><td>199</td><td>176.84924623115577</td><td>177.2422680412371</td></tr><tr><td>10</td><td>2015-02-13</td><td>36340.0</td><td>206</td><td>176.40776699029126</td><td>176.84924623115577</td></tr><tr><td>10</td><td>2015-02-14</td><td>36909.0</td><td>208</td><td>177.4471153846154</td><td>176.40776699029126</td></tr><tr><td>10</td><td>2015-02-15</td><td>37760.0</td><td>213</td><td>177.27699530516432</td><td>177.4471153846154</td></tr><tr><td>10</td><td>2015-02-16</td><td>38643.0</td><td>219</td><td>176.45205479452054</td><td>177.27699530516432</td></tr><tr><td>10</td><td>2015-02-17</td><td>39407.0</td><td>224</td><td>175.92410714285714</td><td>176.45205479452054</td></tr><tr><td>10</td><td>2015-02-18</td><td>40301.0</td><td>230</td><td>175.22173913043477</td><td>175.92410714285714</td></tr><tr><td>10</td><td>2015-02-19</td><td>41158.0</td><td>236</td><td>174.39830508474577</td><td>175.22173913043477</td></tr><tr><td>10</td><td>2015-02-20</td><td>42286.0</td><td>243</td><td>174.0164609053498</td><td>174.39830508474577</td></tr><tr><td>10</td><td>2015-02-21</td><td>43133.0</td><td>246</td><td>175.33739837398375</td><td>174.0164609053498</td></tr><tr><td>10</td><td>2015-02-22</td><td>43963.0</td><td>251</td><td>175.15139442231074</td><td>175.33739837398375</td></tr><tr><td>10</td><td>2015-02-23</td><td>44830.0</td><td>257</td><td>174.43579766536965</td><td>175.15139442231074</td></tr><tr><td>10</td><td>2015-02-24</td><td>45704.0</td><td>263</td><td>173.77946768060838</td><td>174.43579766536965</td></tr><tr><td>10</td><td>2015-02-25</td><td>46589.0</td><td>269</td><td>173.19330855018586</td><td>173.77946768060838</td></tr><tr><td>10</td><td>2015-02-26</td><td>47459.0</td><td>275</td><td>172.57818181818183</td><td>173.19330855018586</td></tr><tr><td>10</td><td>2015-02-27</td><td>48622.0</td><td>282</td><td>172.41843971631207</td><td>172.57818181818183</td></tr><tr><td>10</td><td>2015-02-28</td><td>49457.0</td><td>285</td><td>173.53333333333333</td><td>172.41843971631207</td></tr><tr><td>10</td><td>2015-03-01</td><td>50270.0</td><td>290</td><td>173.3448275862069</td><td>173.53333333333333</td></tr><tr><td>10</td><td>2015-03-02</td><td>51017.0</td><td>295</td><td>172.93898305084747</td><td>173.3448275862069</td></tr><tr><td>10</td><td>2015-03-03</td><td>51748.0</td><td>299</td><td>173.0702341137124</td><td>172.93898305084747</td></tr><tr><td>10</td><td>2015-03-04</td><td>52512.0</td><td>304</td><td>172.73684210526315</td><td>173.0702341137124</td></tr><tr><td>10</td><td>2015-03-05</td><td>52867.0</td><td>307</td><td>172.20521172638436</td><td>172.73684210526315</td></tr><tr><td>10</td><td>2015-03-06</td><td>53914.0</td><td>313</td><td>172.24920127795528</td><td>172.20521172638436</td></tr><tr><td>10</td><td>2015-03-07</td><td>55036.0</td><td>317</td><td>173.61514195583595</td><td>172.24920127795528</td></tr><tr><td>10</td><td>2015-03-08</td><td>55781.0</td><td>321</td><td>173.77258566978193</td><td>173.61514195583595</td></tr><tr><td>10</td><td>2015-03-09</td><td>56605.0</td><td>326</td><td>173.63496932515338</td><td>173.77258566978193</td></tr><tr><td>10</td><td>2015-03-10</td><td>57424.0</td><td>331</td><td>173.48640483383687</td><td>173.63496932515338</td></tr><tr><td>10</td><td>2015-03-11</td><td>58232.0</td><td>336</td><td>173.3095238095238</td><td>173.48640483383687</td></tr><tr><td>10</td><td>2015-03-12</td><td>59022.0</td><td>340</td><td>173.59411764705882</td><td>173.3095238095238</td></tr><tr><td>10</td><td>2015-03-13</td><td>60182.0</td><td>346</td><td>173.9364161849711</td><td>173.59411764705882</td></tr><tr><td>10</td><td>2015-03-14</td><td>61068.0</td><td>349</td><td>174.97994269340975</td><td>173.9364161849711</td></tr><tr><td>10</td><td>2015-03-15</td><td>61913.0</td><td>354</td><td>174.8954802259887</td><td>174.97994269340975</td></tr><tr><td>10</td><td>2015-03-16</td><td>62768.0</td><td>359</td><td>174.84122562674094</td><td>174.8954802259887</td></tr><tr><td>10</td><td>2015-03-17</td><td>63586.0</td><td>364</td><td>174.6868131868132</td><td>174.84122562674094</td></tr><tr><td>10</td><td>2015-03-18</td><td>64412.0</td><td>369</td><td>174.55826558265582</td><td>174.6868131868132</td></tr><tr><td>10</td><td>2015-03-19</td><td>65228.0</td><td>374</td><td>174.40641711229947</td><td>174.55826558265582</td></tr><tr><td>10</td><td>2015-03-20</td><td>66345.0</td><td>380</td><td>174.5921052631579</td><td>174.40641711229947</td></tr><tr><td>10</td><td>2015-03-21</td><td>67212.0</td><td>383</td><td>175.48825065274153</td><td>174.5921052631579</td></tr><tr><td>10</td><td>2015-03-22</td><td>68032.0</td><td>388</td><td>175.340206185567</td><td>175.48825065274153</td></tr><tr><td>10</td><td>2015-03-23</td><td>68870.0</td><td>393</td><td>175.2417302798982</td><td>175.340206185567</td></tr><tr><td>10</td><td>2015-03-24</td><td>69712.0</td><td>398</td><td>175.15577889447235</td><td>175.2417302798982</td></tr><tr><td>10</td><td>2015-03-25</td><td>70565.0</td><td>403</td><td>175.09925558312656</td><td>175.15577889447235</td></tr><tr><td>10</td><td>2015-03-26</td><td>71409.0</td><td>408</td><td>175.02205882352942</td><td>175.09925558312656</td></tr><tr><td>10</td><td>2015-03-27</td><td>72557.0</td><td>414</td><td>175.2584541062802</td><td>175.02205882352942</td></tr><tr><td>10</td><td>2015-03-28</td><td>73427.0</td><td>417</td><td>176.08393285371702</td><td>175.2584541062802</td></tr><tr><td>10</td><td>2015-03-29</td><td>74307.0</td><td>422</td><td>176.0829383886256</td><td>176.08393285371702</td></tr><tr><td>10</td><td>2015-03-30</td><td>75177.0</td><td>427</td><td>176.05854800936768</td><td>176.0829383886256</td></tr><tr><td>10</td><td>2015-03-31</td><td>75656.0</td><td>430</td><td>175.94418604651162</td><td>176.05854800936768</td></tr><tr><td>11</td><td>2015-01-01</td><td>656.0</td><td>2</td><td>328.0</td><td>0.0</td></tr><tr><td>11</td><td>2015-01-02</td><td>1883.0</td><td>6</td><td>313.8333333333333</td><td>328.0</td></tr><tr><td>11</td><td>2015-01-03</td><td>3313.0</td><td>13</td><td>254.84615384615384</td><td>313.8333333333333</td></tr><tr><td>11</td><td>2015-01-04</td><td>4816.0</td><td>21</td><td>229.33333333333334</td><td>254.84615384615384</td></tr><tr><td>11</td><td>2015-01-05</td><td>6015.0</td><td>25</td><td>240.6</td><td>229.33333333333334</td></tr><tr><td>11</td><td>2015-01-06</td><td>7198.0</td><td>29</td><td>248.20689655172413</td><td>240.6</td></tr><tr><td>11</td><td>2015-01-07</td><td>8377.0</td><td>33</td><td>253.84848484848484</td><td>248.20689655172413</td></tr><tr><td>11</td><td>2015-01-08</td><td>9531.0</td><td>37</td><td>257.5945945945946</td><td>253.84848484848484</td></tr><tr><td>11</td><td>2015-01-09</td><td>10699.0</td><td>41</td><td>260.9512195121951</td><td>257.5945945945946</td></tr><tr><td>11</td><td>2015-01-10</td><td>11874.0</td><td>45</td><td>263.8666666666667</td><td>260.9512195121951</td></tr><tr><td>11</td><td>2015-01-11</td><td>13006.0</td><td>49</td><td>265.42857142857144</td><td>263.8666666666667</td></tr><tr><td>11</td><td>2015-01-12</td><td>14141.0</td><td>53</td><td>266.811320754717</td><td>265.42857142857144</td></tr><tr><td>11</td><td>2015-01-13</td><td>15241.0</td><td>57</td><td>267.3859649122807</td><td>266.811320754717</td></tr><tr><td>11</td><td>2015-01-14</td><td>16338.0</td><td>61</td><td>267.8360655737705</td><td>267.3859649122807</td></tr><tr><td>11</td><td>2015-01-15</td><td>17496.0</td><td>65</td><td>269.16923076923075</td><td>267.8360655737705</td></tr><tr><td>11</td><td>2015-01-16</td><td>18672.0</td><td>69</td><td>270.60869565217394</td><td>269.16923076923075</td></tr><tr><td>11</td><td>2015-01-17</td><td>19701.0</td><td>72</td><td>273.625</td><td>270.60869565217394</td></tr><tr><td>11</td><td>2015-01-18</td><td>20892.0</td><td>76</td><td>274.89473684210526</td><td>273.625</td></tr><tr><td>11</td><td>2015-01-19</td><td>22056.0</td><td>80</td><td>275.7</td><td>274.89473684210526</td></tr><tr><td>11</td><td>2015-01-20</td><td>23171.0</td><td>84</td><td>275.8452380952381</td><td>275.7</td></tr><tr><td>11</td><td>2015-01-21</td><td>24234.0</td><td>88</td><td>275.3863636363636</td><td>275.8452380952381</td></tr><tr><td>11</td><td>2015-01-22</td><td>25333.0</td><td>92</td><td>275.35869565217394</td><td>275.3863636363636</td></tr><tr><td>11</td><td>2015-01-23</td><td>26475.0</td><td>96</td><td>275.78125</td><td>275.35869565217394</td></tr><tr><td>11</td><td>2015-01-24</td><td>27595.0</td><td>100</td><td>275.95</td><td>275.78125</td></tr><tr><td>11</td><td>2015-01-25</td><td>28708.0</td><td>104</td><td>276.03846153846155</td><td>275.95</td></tr><tr><td>11</td><td>2015-01-26</td><td>29812.0</td><td>108</td><td>276.037037037037</td><td>276.03846153846155</td></tr><tr><td>11</td><td>2015-01-27</td><td>30257.0</td><td>110</td><td>275.06363636363636</td><td>276.037037037037</td></tr><tr><td>11</td><td>2015-01-28</td><td>31041.0</td><td>113</td><td>274.6991150442478</td><td>275.06363636363636</td></tr><tr><td>11</td><td>2015-01-29</td><td>32196.0</td><td>117</td><td>275.1794871794872</td><td>274.6991150442478</td></tr><tr><td>11</td><td>2015-01-30</td><td>33425.0</td><td>121</td><td>276.2396694214876</td><td>275.1794871794872</td></tr><tr><td>11</td><td>2015-01-31</td><td>34633.0</td><td>125</td><td>277.064</td><td>276.2396694214876</td></tr><tr><td>11</td><td>2015-02-01</td><td>36064.0</td><td>131</td><td>275.2977099236641</td><td>277.064</td></tr><tr><td>11</td><td>2015-02-02</td><td>36527.0</td><td>133</td><td>274.6390977443609</td><td>275.2977099236641</td></tr><tr><td>11</td><td>2015-02-03</td><td>37742.0</td><td>137</td><td>275.4890510948905</td><td>274.6390977443609</td></tr><tr><td>11</td><td>2015-02-04</td><td>38934.0</td><td>141</td><td>276.1276595744681</td><td>275.4890510948905</td></tr><tr><td>11</td><td>2015-02-05</td><td>40137.0</td><td>145</td><td>276.80689655172415</td><td>276.1276595744681</td></tr><tr><td>11</td><td>2015-02-06</td><td>41360.0</td><td>149</td><td>277.5838926174497</td><td>276.80689655172415</td></tr><tr><td>11</td><td>2015-02-07</td><td>42589.0</td><td>153</td><td>278.359477124183</td><td>277.5838926174497</td></tr><tr><td>11</td><td>2015-02-08</td><td>43778.0</td><td>157</td><td>278.8407643312102</td><td>278.359477124183</td></tr><tr><td>11</td><td>2015-02-09</td><td>44569.0</td><td>160</td><td>278.55625</td><td>278.8407643312102</td></tr><tr><td>11</td><td>2015-02-10</td><td>45730.0</td><td>164</td><td>278.8414634146341</td><td>278.55625</td></tr><tr><td>11</td><td>2015-02-11</td><td>46560.0</td><td>167</td><td>278.8023952095808</td><td>278.8414634146341</td></tr><tr><td>11</td><td>2015-02-12</td><td>47703.0</td><td>171</td><td>278.96491228070175</td><td>278.8023952095808</td></tr><tr><td>11</td><td>2015-02-13</td><td>48842.0</td><td>175</td><td>279.09714285714284</td><td>278.96491228070175</td></tr><tr><td>11</td><td>2015-02-14</td><td>50023.0</td><td>179</td><td>279.4581005586592</td><td>279.09714285714284</td></tr><tr><td>11</td><td>2015-02-15</td><td>50854.0</td><td>182</td><td>279.4175824175824</td><td>279.4581005586592</td></tr><tr><td>11</td><td>2015-02-16</td><td>52007.0</td><td>186</td><td>279.60752688172045</td><td>279.4175824175824</td></tr><tr><td>11</td><td>2015-02-17</td><td>52782.0</td><td>189</td><td>279.26984126984127</td><td>279.60752688172045</td></tr><tr><td>11</td><td>2015-02-18</td><td>53943.0</td><td>193</td><td>279.4974093264249</td><td>279.26984126984127</td></tr><tr><td>11</td><td>2015-02-19</td><td>55106.0</td><td>197</td><td>279.7258883248731</td><td>279.4974093264249</td></tr><tr><td>11</td><td>2015-02-20</td><td>56270.0</td><td>201</td><td>279.9502487562189</td><td>279.7258883248731</td></tr><tr><td>11</td><td>2015-02-21</td><td>57075.0</td><td>204</td><td>279.77941176470586</td><td>279.9502487562189</td></tr><tr><td>11</td><td>2015-02-22</td><td>58170.0</td><td>208</td><td>279.66346153846155</td><td>279.77941176470586</td></tr><tr><td>11</td><td>2015-02-23</td><td>59275.0</td><td>212</td><td>279.5990566037736</td><td>279.66346153846155</td></tr><tr><td>11</td><td>2015-02-24</td><td>60395.0</td><td>216</td><td>279.60648148148147</td><td>279.5990566037736</td></tr><tr><td>11</td><td>2015-02-25</td><td>61534.0</td><td>220</td><td>279.7</td><td>279.60648148148147</td></tr><tr><td>11</td><td>2015-02-26</td><td>62637.0</td><td>224</td><td>279.6294642857143</td><td>279.7</td></tr><tr><td>11</td><td>2015-02-27</td><td>63780.0</td><td>228</td><td>279.7368421052632</td><td>279.6294642857143</td></tr><tr><td>11</td><td>2015-02-28</td><td>64928.0</td><td>232</td><td>279.86206896551727</td><td>279.7368421052632</td></tr><tr><td>11</td><td>2015-03-01</td><td>65771.0</td><td>235</td><td>279.87659574468086</td><td>279.86206896551727</td></tr><tr><td>11</td><td>2015-03-02</td><td>66235.0</td><td>237</td><td>279.47257383966246</td><td>279.87659574468086</td></tr><tr><td>11</td><td>2015-03-03</td><td>67423.0</td><td>241</td><td>279.76348547717845</td><td>279.47257383966246</td></tr><tr><td>11</td><td>2015-03-04</td><td>68626.0</td><td>245</td><td>280.1061224489796</td><td>279.76348547717845</td></tr><tr><td>11</td><td>2015-03-05</td><td>69416.0</td><td>248</td><td>279.9032258064516</td><td>280.1061224489796</td></tr><tr><td>11</td><td>2015-03-06</td><td>70562.0</td><td>252</td><td>280.0079365079365</td><td>279.9032258064516</td></tr><tr><td>11</td><td>2015-03-07</td><td>71981.0</td><td>258</td><td>278.99612403100775</td><td>280.0079365079365</td></tr><tr><td>11</td><td>2015-03-08</td><td>73196.0</td><td>262</td><td>279.37404580152673</td><td>278.99612403100775</td></tr><tr><td>11</td><td>2015-03-09</td><td>74356.0</td><td>266</td><td>279.5338345864662</td><td>279.37404580152673</td></tr><tr><td>11</td><td>2015-03-10</td><td>75551.0</td><td>270</td><td>279.81851851851854</td><td>279.5338345864662</td></tr><tr><td>11</td><td>2015-03-11</td><td>76764.0</td><td>274</td><td>280.16058394160586</td><td>279.81851851851854</td></tr><tr><td>11</td><td>2015-03-12</td><td>78100.0</td><td>279</td><td>279.9283154121864</td><td>280.16058394160586</td></tr><tr><td>11</td><td>2015-03-13</td><td>79444.0</td><td>284</td><td>279.7323943661972</td><td>279.9283154121864</td></tr><tr><td>11</td><td>2015-03-14</td><td>80808.0</td><td>290</td><td>278.64827586206894</td><td>279.7323943661972</td></tr><tr><td>11</td><td>2015-03-15</td><td>82132.0</td><td>295</td><td>278.4135593220339</td><td>278.64827586206894</td></tr><tr><td>11</td><td>2015-03-16</td><td>83437.0</td><td>300</td><td>278.12333333333333</td><td>278.4135593220339</td></tr><tr><td>11</td><td>2015-03-17</td><td>84769.0</td><td>305</td><td>277.9311475409836</td><td>278.12333333333333</td></tr><tr><td>11</td><td>2015-03-18</td><td>86134.0</td><td>310</td><td>277.8516129032258</td><td>277.9311475409836</td></tr><tr><td>11</td><td>2015-03-19</td><td>87290.0</td><td>314</td><td>277.9936305732484</td><td>277.8516129032258</td></tr><tr><td>11</td><td>2015-03-20</td><td>88127.0</td><td>317</td><td>278.0031545741325</td><td>277.9936305732484</td></tr><tr><td>11</td><td>2015-03-21</td><td>89359.0</td><td>322</td><td>277.5124223602484</td><td>278.0031545741325</td></tr><tr><td>11</td><td>2015-03-22</td><td>90541.0</td><td>326</td><td>277.73312883435585</td><td>277.5124223602484</td></tr><tr><td>11</td><td>2015-03-23</td><td>91669.0</td><td>330</td><td>277.7848484848485</td><td>277.73312883435585</td></tr><tr><td>11</td><td>2015-03-24</td><td>92787.0</td><td>334</td><td>277.8053892215569</td><td>277.7848484848485</td></tr><tr><td>11</td><td>2015-03-25</td><td>93917.0</td><td>338</td><td>277.8609467455621</td><td>277.8053892215569</td></tr><tr><td>11</td><td>2015-03-26</td><td>95049.0</td><td>342</td><td>277.92105263157896</td><td>277.8609467455621</td></tr><tr><td>11</td><td>2015-03-27</td><td>96146.0</td><td>346</td><td>277.87861271676303</td><td>277.92105263157896</td></tr><tr><td>11</td><td>2015-03-28</td><td>97292.0</td><td>351</td><td>277.18518518518516</td><td>277.87861271676303</td></tr><tr><td>11</td><td>2015-03-29</td><td>98438.0</td><td>355</td><td>277.2901408450704</td><td>277.18518518518516</td></tr><tr><td>11</td><td>2015-03-30</td><td>99601.0</td><td>359</td><td>277.4401114206128</td><td>277.2901408450704</td></tr><tr><td>11</td><td>2015-03-31</td><td>100778.0</td><td>363</td><td>277.6253443526171</td><td>277.4401114206128</td></tr><tr><td>12</td><td>2015-01-01</td><td>1608.0</td><td>8</td><td>201.0</td><td>0.0</td></tr><tr><td>12</td><td>2015-01-02</td><td>3591.0</td><td>20</td><td>179.55</td><td>201.0</td></tr><tr><td>12</td><td>2015-01-03</td><td>5333.0</td><td>27</td><td>197.5185185185185</td><td>179.55</td></tr><tr><td>12</td><td>2015-01-04</td><td>6841.0</td><td>35</td><td>195.45714285714286</td><td>197.5185185185185</td></tr><tr><td>12</td><td>2015-01-05</td><td>8512.0</td><td>44</td><td>193.45454545454547</td><td>195.45714285714286</td></tr><tr><td>12</td><td>2015-01-06</td><td>10177.0</td><td>54</td><td>188.46296296296296</td><td>193.45454545454547</td></tr><tr><td>12</td><td>2015-01-07</td><td>12028.0</td><td>64</td><td>187.9375</td><td>188.46296296296296</td></tr><tr><td>12</td><td>2015-01-08</td><td>13806.0</td><td>73</td><td>189.12328767123287</td><td>187.9375</td></tr><tr><td>12</td><td>2015-01-09</td><td>15715.0</td><td>84</td><td>187.08333333333334</td><td>189.12328767123287</td></tr><tr><td>12</td><td>2015-01-10</td><td>17127.0</td><td>90</td><td>190.3</td><td>187.08333333333334</td></tr></tbody></table></div>"
      ]
     },
     "metadata": {
      "application/vnd.databricks.v1+output": {
       "addedWidgets": {},
       "aggData": [],
       "aggError": "",
       "aggOverflow": false,
       "aggSchema": [],
       "aggSeriesLimitReached": false,
       "aggType": "",
       "arguments": {},
       "columnCustomDisplayInfos": {},
       "data": [
        [
         1,
         "2015-01-01",
         1477.0,
         5,
         295.4,
         0.0
        ],
        [
         1,
         "2015-01-02",
         2983.0,
         11,
         271.1818181818182,
         295.4
        ],
        [
         1,
         "2015-01-03",
         4486.0,
         17,
         263.88235294117646,
         271.1818181818182
        ],
        [
         1,
         "2015-01-04",
         5974.0,
         23,
         259.7391304347826,
         263.88235294117646
        ],
        [
         1,
         "2015-01-05",
         7492.0,
         29,
         258.3448275862069,
         259.7391304347826
        ],
        [
         1,
         "2015-01-06",
         9012.0,
         35,
         257.48571428571427,
         258.3448275862069
        ],
        [
         1,
         "2015-01-07",
         10516.0,
         41,
         256.4878048780488,
         257.48571428571427
        ],
        [
         1,
         "2015-01-08",
         11979.0,
         47,
         254.87234042553192,
         256.4878048780488
        ],
        [
         1,
         "2015-01-09",
         13490.0,
         53,
         254.52830188679246,
         254.87234042553192
        ],
        [
         1,
         "2015-01-10",
         14786.0,
         57,
         259.4035087719298,
         254.52830188679246
        ],
        [
         1,
         "2015-01-11",
         16221.0,
         62,
         261.6290322580645,
         259.4035087719298
        ],
        [
         1,
         "2015-01-12",
         17690.0,
         68,
         260.1470588235294,
         261.6290322580645
        ],
        [
         1,
         "2015-01-13",
         19168.0,
         74,
         259.02702702702703,
         260.1470588235294
        ],
        [
         1,
         "2015-01-14",
         20580.0,
         80,
         257.25,
         259.02702702702703
        ],
        [
         1,
         "2015-01-15",
         22034.0,
         86,
         256.2093023255814,
         257.25
        ],
        [
         1,
         "2015-01-16",
         23495.0,
         92,
         255.3804347826087,
         256.2093023255814
        ],
        [
         1,
         "2015-01-17",
         24941.0,
         97,
         257.12371134020617,
         255.3804347826087
        ],
        [
         1,
         "2015-01-18",
         26401.0,
         102,
         258.8333333333333,
         257.12371134020617
        ],
        [
         1,
         "2015-01-19",
         27862.0,
         108,
         257.98148148148147,
         258.8333333333333
        ],
        [
         1,
         "2015-01-20",
         29339.0,
         114,
         257.359649122807,
         257.98148148148147
        ],
        [
         1,
         "2015-01-21",
         30748.0,
         120,
         256.23333333333335,
         257.359649122807
        ],
        [
         1,
         "2015-01-22",
         32193.0,
         126,
         255.5,
         256.23333333333335
        ],
        [
         1,
         "2015-01-23",
         33644.0,
         132,
         254.87878787878788,
         255.5
        ],
        [
         1,
         "2015-01-24",
         35082.0,
         137,
         256.0729927007299,
         254.87878787878788
        ],
        [
         1,
         "2015-01-25",
         36494.0,
         142,
         257.0,
         256.0729927007299
        ],
        [
         1,
         "2015-01-26",
         37951.0,
         148,
         256.4256756756757,
         257.0
        ],
        [
         1,
         "2015-01-27",
         38940.0,
         152,
         256.1842105263158,
         256.4256756756757
        ],
        [
         1,
         "2015-01-28",
         40051.0,
         157,
         255.10191082802547,
         256.1842105263158
        ],
        [
         1,
         "2015-01-29",
         41510.0,
         163,
         254.66257668711657,
         255.10191082802547
        ],
        [
         1,
         "2015-01-30",
         42964.0,
         168,
         255.73809523809524,
         254.66257668711657
        ],
        [
         1,
         "2015-01-31",
         44427.0,
         173,
         256.8034682080925,
         255.73809523809524
        ],
        [
         1,
         "2015-02-01",
         45835.0,
         178,
         257.5,
         256.8034682080925
        ],
        [
         1,
         "2015-02-02",
         46990.0,
         183,
         256.775956284153,
         257.5
        ],
        [
         1,
         "2015-02-03",
         48339.0,
         188,
         257.1223404255319,
         256.775956284153
        ],
        [
         1,
         "2015-02-04",
         49845.0,
         194,
         256.9329896907216,
         257.1223404255319
        ],
        [
         1,
         "2015-02-05",
         51369.0,
         200,
         256.845,
         256.9329896907216
        ],
        [
         1,
         "2015-02-06",
         52873.0,
         206,
         256.6650485436893,
         256.845
        ],
        [
         1,
         "2015-02-07",
         54324.0,
         211,
         257.45971563981044,
         256.6650485436893
        ],
        [
         1,
         "2015-02-08",
         55767.0,
         216,
         258.18055555555554,
         257.45971563981044
        ],
        [
         1,
         "2015-02-09",
         57216.0,
         222,
         257.72972972972974,
         258.18055555555554
        ],
        [
         1,
         "2015-02-10",
         58703.0,
         228,
         257.469298245614,
         257.72972972972974
        ],
        [
         1,
         "2015-02-11",
         60168.0,
         234,
         257.12820512820514,
         257.469298245614
        ],
        [
         1,
         "2015-02-12",
         61476.0,
         239,
         257.22175732217573,
         257.12820512820514
        ],
        [
         1,
         "2015-02-13",
         62782.0,
         244,
         257.3032786885246,
         257.22175732217573
        ],
        [
         1,
         "2015-02-14",
         64051.0,
         248,
         258.27016129032256,
         257.3032786885246
        ],
        [
         1,
         "2015-02-15",
         65325.0,
         252,
         259.2261904761905,
         258.27016129032256
        ],
        [
         1,
         "2015-02-16",
         66661.0,
         257,
         259.38132295719845,
         259.2261904761905
        ],
        [
         1,
         "2015-02-17",
         67966.0,
         262,
         259.412213740458,
         259.38132295719845
        ],
        [
         1,
         "2015-02-18",
         69248.0,
         267,
         259.3558052434457,
         259.412213740458
        ],
        [
         1,
         "2015-02-19",
         70572.0,
         272,
         259.45588235294116,
         259.3558052434457
        ],
        [
         1,
         "2015-02-20",
         71882.0,
         277,
         259.50180505415165,
         259.45588235294116
        ],
        [
         1,
         "2015-02-21",
         72886.0,
         280,
         260.3071428571429,
         259.50180505415165
        ],
        [
         1,
         "2015-02-22",
         73762.0,
         283,
         260.64310954063603,
         260.3071428571429
        ],
        [
         1,
         "2015-02-23",
         75036.0,
         287,
         261.44947735191636,
         260.64310954063603
        ],
        [
         1,
         "2015-02-24",
         76353.0,
         292,
         261.4828767123288,
         261.44947735191636
        ],
        [
         1,
         "2015-02-25",
         77673.0,
         297,
         261.52525252525254,
         261.4828767123288
        ],
        [
         1,
         "2015-02-26",
         78934.0,
         302,
         261.3708609271523,
         261.52525252525254
        ],
        [
         1,
         "2015-02-27",
         80229.0,
         307,
         261.33224755700326,
         261.3708609271523
        ],
        [
         1,
         "2015-02-28",
         81524.0,
         311,
         262.13504823151123,
         261.33224755700326
        ],
        [
         1,
         "2015-03-01",
         82800.0,
         315,
         262.85714285714283,
         262.13504823151123
        ],
        [
         1,
         "2015-03-02",
         84167.0,
         320,
         263.021875,
         262.85714285714283
        ],
        [
         1,
         "2015-03-03",
         85505.0,
         325,
         263.0923076923077,
         263.021875
        ],
        [
         1,
         "2015-03-04",
         86895.0,
         330,
         263.3181818181818,
         263.0923076923077
        ],
        [
         1,
         "2015-03-05",
         88271.0,
         335,
         263.4955223880597,
         263.3181818181818
        ],
        [
         1,
         "2015-03-06",
         89601.0,
         340,
         263.5323529411765,
         263.4955223880597
        ],
        [
         1,
         "2015-03-07",
         91506.0,
         350,
         261.4457142857143,
         263.5323529411765
        ],
        [
         1,
         "2015-03-08",
         92982.0,
         357,
         260.453781512605,
         261.4457142857143
        ],
        [
         1,
         "2015-03-09",
         94448.0,
         364,
         259.4725274725275,
         260.453781512605
        ],
        [
         1,
         "2015-03-10",
         95903.0,
         371,
         258.49865229110515,
         259.4725274725275
        ],
        [
         1,
         "2015-03-11",
         97393.0,
         378,
         257.65343915343914,
         258.49865229110515
        ],
        [
         1,
         "2015-03-12",
         98843.0,
         385,
         256.73506493506494,
         257.65343915343914
        ],
        [
         1,
         "2015-03-13",
         100292.0,
         392,
         255.8469387755102,
         256.73506493506494
        ],
        [
         1,
         "2015-03-14",
         101599.0,
         396,
         256.5631313131313,
         255.8469387755102
        ],
        [
         1,
         "2015-03-15",
         103027.0,
         403,
         255.65012406947892,
         256.5631313131313
        ],
        [
         1,
         "2015-03-16",
         104378.0,
         409,
         255.20293398533008,
         255.65012406947892
        ],
        [
         1,
         "2015-03-17",
         105810.0,
         416,
         254.35096153846155,
         255.20293398533008
        ],
        [
         1,
         "2015-03-18",
         107285.0,
         423,
         253.62884160756502,
         254.35096153846155
        ],
        [
         1,
         "2015-03-19",
         108725.0,
         430,
         252.84883720930233,
         253.62884160756502
        ],
        [
         1,
         "2015-03-20",
         110218.0,
         437,
         252.21510297482837,
         252.84883720930233
        ],
        [
         1,
         "2015-03-21",
         111527.0,
         441,
         252.89569160997732,
         252.21510297482837
        ],
        [
         1,
         "2015-03-22",
         112981.0,
         448,
         252.18973214285714,
         252.89569160997732
        ],
        [
         1,
         "2015-03-23",
         114408.0,
         455,
         251.44615384615383,
         252.18973214285714
        ],
        [
         1,
         "2015-03-24",
         115807.0,
         462,
         250.66450216450215,
         251.44615384615383
        ],
        [
         1,
         "2015-03-25",
         117239.0,
         469,
         249.9765458422175,
         250.66450216450215
        ],
        [
         1,
         "2015-03-26",
         118664.0,
         476,
         249.2941176470588,
         249.9765458422175
        ],
        [
         1,
         "2015-03-27",
         120040.0,
         483,
         248.53002070393376,
         249.2941176470588
        ],
        [
         1,
         "2015-03-28",
         121255.0,
         487,
         248.9835728952772,
         248.53002070393376
        ],
        [
         1,
         "2015-03-29",
         122671.0,
         494,
         248.32186234817814,
         248.9835728952772
        ],
        [
         1,
         "2015-03-30",
         124128.0,
         501,
         247.76047904191617,
         248.32186234817814
        ],
        [
         1,
         "2015-03-31",
         125597.0,
         508,
         247.23818897637796,
         247.76047904191617
        ],
        [
         2,
         "2015-01-01",
         1299.0,
         5,
         259.8,
         0.0
        ],
        [
         2,
         "2015-01-02",
         2703.0,
         12,
         225.25,
         259.8
        ],
        [
         2,
         "2015-01-03",
         4005.0,
         17,
         235.58823529411765,
         225.25
        ],
        [
         2,
         "2015-01-04",
         5385.0,
         24,
         224.375,
         235.58823529411765
        ],
        [
         2,
         "2015-01-05",
         6758.0,
         31,
         218.0,
         224.375
        ],
        [
         2,
         "2015-01-06",
         8025.0,
         36,
         222.91666666666666,
         218.0
        ],
        [
         2,
         "2015-01-07",
         9319.0,
         41,
         227.29268292682926,
         222.91666666666666
        ],
        [
         2,
         "2015-01-08",
         10625.0,
         46,
         230.97826086956522,
         227.29268292682926
        ],
        [
         2,
         "2015-01-09",
         11918.0,
         51,
         233.68627450980392,
         230.97826086956522
        ],
        [
         2,
         "2015-01-10",
         13267.0,
         58,
         228.74137931034483,
         233.68627450980392
        ],
        [
         2,
         "2015-01-11",
         14598.0,
         63,
         231.71428571428572,
         228.74137931034483
        ],
        [
         2,
         "2015-01-12",
         15946.0,
         68,
         234.5,
         231.71428571428572
        ],
        [
         2,
         "2015-01-13",
         17237.0,
         73,
         236.12328767123287,
         234.5
        ],
        [
         2,
         "2015-01-14",
         18556.0,
         78,
         237.89743589743588,
         236.12328767123287
        ],
        [
         2,
         "2015-01-15",
         19876.0,
         83,
         239.46987951807228,
         237.89743589743588
        ],
        [
         2,
         "2015-01-16",
         21207.0,
         88,
         240.98863636363637,
         239.46987951807228
        ],
        [
         2,
         "2015-01-17",
         22553.0,
         95,
         237.4,
         240.98863636363637
        ],
        [
         2,
         "2015-01-18",
         23865.0,
         100,
         238.65,
         237.4
        ],
        [
         2,
         "2015-01-19",
         25187.0,
         105,
         239.8761904761905,
         238.65
        ],
        [
         2,
         "2015-01-20",
         26504.0,
         110,
         240.94545454545454,
         239.8761904761905
        ],
        [
         2,
         "2015-01-21",
         27811.0,
         115,
         241.83478260869566,
         240.94545454545454
        ],
        [
         2,
         "2015-01-22",
         29118.0,
         120,
         242.65,
         241.83478260869566
        ],
        [
         2,
         "2015-01-23",
         30429.0,
         125,
         243.432,
         242.65
        ],
        [
         2,
         "2015-01-24",
         31779.0,
         132,
         240.75,
         243.432
        ],
        [
         2,
         "2015-01-25",
         33112.0,
         137,
         241.6934306569343,
         240.75
        ],
        [
         2,
         "2015-01-26",
         34122.0,
         141,
         242.0,
         241.6934306569343
        ],
        [
         2,
         "2015-01-27",
         34992.0,
         144,
         243.0,
         242.0
        ],
        [
         2,
         "2015-01-28",
         36285.0,
         149,
         243.5234899328859,
         243.0
        ],
        [
         2,
         "2015-01-29",
         37575.0,
         154,
         243.9935064935065,
         243.5234899328859
        ],
        [
         2,
         "2015-01-30",
         38883.0,
         159,
         244.54716981132074,
         243.9935064935065
        ],
        [
         2,
         "2015-01-31",
         40246.0,
         166,
         242.44578313253012,
         244.54716981132074
        ],
        [
         2,
         "2015-02-01",
         41685.0,
         172,
         242.3546511627907,
         242.44578313253012
        ],
        [
         2,
         "2015-02-02",
         43036.0,
         177,
         243.14124293785312,
         242.3546511627907
        ],
        [
         2,
         "2015-02-03",
         44350.0,
         182,
         243.6813186813187,
         243.14124293785312
        ],
        [
         2,
         "2015-02-04",
         45667.0,
         187,
         244.20855614973263,
         243.6813186813187
        ],
        [
         2,
         "2015-02-05",
         46955.0,
         192,
         244.55729166666666,
         244.20855614973263
        ],
        [
         2,
         "2015-02-06",
         48267.0,
         197,
         245.01015228426397,
         244.55729166666666
        ],
        [
         2,
         "2015-02-07",
         49442.0,
         202,
         244.76237623762376,
         245.01015228426397
        ],
        [
         2,
         "2015-02-08",
         50736.0,
         207,
         245.1014492753623,
         244.76237623762376
        ],
        [
         2,
         "2015-02-09",
         51788.0,
         211,
         245.44075829383885,
         245.1014492753623
        ],
        [
         2,
         "2015-02-10",
         53058.0,
         216,
         245.63888888888889,
         245.44075829383885
        ],
        [
         2,
         "2015-02-11",
         54336.0,
         221,
         245.86425339366517,
         245.63888888888889
        ],
        [
         2,
         "2015-02-12",
         55634.0,
         226,
         246.16814159292036,
         245.86425339366517
        ],
        [
         2,
         "2015-02-13",
         56919.0,
         231,
         246.4025974025974,
         246.16814159292036
        ],
        [
         2,
         "2015-02-14",
         58313.0,
         238,
         245.01260504201682,
         246.4025974025974
        ],
        [
         2,
         "2015-02-15",
         59664.0,
         243,
         245.53086419753086,
         245.01260504201682
        ],
        [
         2,
         "2015-02-16",
         60993.0,
         248,
         245.93951612903226,
         245.53086419753086
        ],
        [
         2,
         "2015-02-17",
         62274.0,
         253,
         246.14229249011856,
         245.93951612903226
        ],
        [
         2,
         "2015-02-18",
         63602.0,
         258,
         246.51937984496124,
         246.14229249011856
        ],
        [
         2,
         "2015-02-19",
         65267.0,
         264,
         247.22348484848484,
         246.51937984496124
        ],
        [
         2,
         "2015-02-20",
         66570.0,
         269,
         247.4721189591078,
         247.22348484848484
        ],
        [
         2,
         "2015-02-21",
         67621.0,
         275,
         245.89454545454547,
         247.4721189591078
        ],
        [
         2,
         "2015-02-22",
         68963.0,
         280,
         246.29642857142858,
         245.89454545454547
        ],
        [
         2,
         "2015-02-23",
         70249.0,
         285,
         246.48771929824562,
         246.29642857142858
        ],
        [
         2,
         "2015-02-24",
         71558.0,
         290,
         246.75172413793103,
         246.48771929824562
        ],
        [
         2,
         "2015-02-25",
         72879.0,
         295,
         247.04745762711863,
         246.75172413793103
        ],
        [
         2,
         "2015-02-26",
         74525.0,
         301,
         247.59136212624585,
         247.04745762711863
        ],
        [
         2,
         "2015-02-27",
         75849.0,
         306,
         247.87254901960785,
         247.59136212624585
        ],
        [
         2,
         "2015-02-28",
         77580.0,
         314,
         247.0700636942675,
         247.87254901960785
        ],
        [
         2,
         "2015-03-01",
         78931.0,
         319,
         247.43260188087774,
         247.0700636942675
        ],
        [
         2,
         "2015-03-02",
         80250.0,
         324,
         247.6851851851852,
         247.43260188087774
        ],
        [
         2,
         "2015-03-03",
         81575.0,
         329,
         247.9483282674772,
         247.6851851851852
        ],
        [
         2,
         "2015-03-04",
         82890.0,
         334,
         248.17365269461078,
         247.9483282674772
        ],
        [
         2,
         "2015-03-05",
         84203.0,
         339,
         248.38643067846607,
         248.17365269461078
        ],
        [
         2,
         "2015-03-06",
         85368.0,
         343,
         248.8862973760933,
         248.38643067846607
        ],
        [
         2,
         "2015-03-07",
         86534.0,
         348,
         248.66091954022988,
         248.8862973760933
        ],
        [
         2,
         "2015-03-08",
         87846.0,
         353,
         248.8555240793201,
         248.66091954022988
        ],
        [
         2,
         "2015-03-09",
         89152.0,
         358,
         249.02793296089385,
         248.8555240793201
        ],
        [
         2,
         "2015-03-10",
         90448.0,
         363,
         249.168044077135,
         249.02793296089385
        ],
        [
         2,
         "2015-03-11",
         91778.0,
         368,
         249.39673913043478,
         249.168044077135
        ],
        [
         2,
         "2015-03-12",
         93089.0,
         373,
         249.56836461126005,
         249.39673913043478
        ],
        [
         2,
         "2015-03-13",
         94404.0,
         378,
         249.74603174603175,
         249.56836461126005
        ],
        [
         2,
         "2015-03-14",
         95882.0,
         384,
         249.69270833333334,
         249.74603174603175
        ],
        [
         2,
         "2015-03-15",
         97194.0,
         389,
         249.8560411311054,
         249.69270833333334
        ],
        [
         2,
         "2015-03-16",
         98328.0,
         393,
         250.19847328244273,
         249.8560411311054
        ],
        [
         2,
         "2015-03-17",
         99608.0,
         398,
         250.2713567839196,
         250.19847328244273
        ],
        [
         2,
         "2015-03-18",
         100895.0,
         403,
         250.35980148883374,
         250.2713567839196
        ],
        [
         2,
         "2015-03-19",
         102182.0,
         408,
         250.44607843137254,
         250.35980148883374
        ],
        [
         2,
         "2015-03-20",
         103494.0,
         413,
         250.590799031477,
         250.44607843137254
        ],
        [
         2,
         "2015-03-21",
         104984.0,
         419,
         250.5584725536993,
         250.590799031477
        ],
        [
         2,
         "2015-03-22",
         106303.0,
         424,
         250.71462264150944,
         250.5584725536993
        ],
        [
         2,
         "2015-03-23",
         107598.0,
         429,
         250.8111888111888,
         250.71462264150944
        ],
        [
         2,
         "2015-03-24",
         108929.0,
         434,
         250.9884792626728,
         250.8111888111888
        ],
        [
         2,
         "2015-03-25",
         110246.0,
         439,
         251.12984054669704,
         250.9884792626728
        ],
        [
         2,
         "2015-03-26",
         111571.0,
         444,
         251.28603603603602,
         251.12984054669704
        ],
        [
         2,
         "2015-03-27",
         112907.0,
         449,
         251.4632516703786,
         251.28603603603602
        ],
        [
         2,
         "2015-03-28",
         114328.0,
         455,
         251.27032967032966,
         251.4632516703786
        ],
        [
         2,
         "2015-03-29",
         115626.0,
         460,
         251.3608695652174,
         251.27032967032966
        ],
        [
         2,
         "2015-03-30",
         116926.0,
         465,
         251.45376344086023,
         251.3608695652174
        ],
        [
         2,
         "2015-03-31",
         118256.0,
         470,
         251.60851063829787,
         251.45376344086023
        ],
        [
         3,
         "2015-01-01",
         1343.0,
         5,
         268.6,
         0.0
        ],
        [
         3,
         "2015-01-02",
         2874.0,
         12,
         239.5,
         268.6
        ],
        [
         3,
         "2015-01-03",
         4340.0,
         18,
         241.11111111111111,
         239.5
        ],
        [
         3,
         "2015-01-04",
         5730.0,
         24,
         238.75,
         241.11111111111111
        ],
        [
         3,
         "2015-01-05",
         7524.0,
         34,
         221.2941176470588,
         238.75
        ],
        [
         3,
         "2015-01-06",
         8956.0,
         40,
         223.9,
         221.2941176470588
        ],
        [
         3,
         "2015-01-07",
         10336.0,
         46,
         224.69565217391303,
         223.9
        ],
        [
         3,
         "2015-01-08",
         11760.0,
         52,
         226.15384615384616,
         224.69565217391303
        ],
        [
         3,
         "2015-01-09",
         13155.0,
         58,
         226.81034482758622,
         226.15384615384616
        ],
        [
         3,
         "2015-01-10",
         14427.0,
         63,
         229.0,
         226.81034482758622
        ],
        [
         3,
         "2015-01-11",
         15780.0,
         69,
         228.69565217391303,
         229.0
        ],
        [
         3,
         "2015-01-12",
         17140.0,
         75,
         228.53333333333333,
         228.69565217391303
        ],
        [
         3,
         "2015-01-13",
         18482.0,
         81,
         228.17283950617283,
         228.53333333333333
        ],
        [
         3,
         "2015-01-14",
         19800.0,
         87,
         227.58620689655172,
         228.17283950617283
        ],
        [
         3,
         "2015-01-15",
         21122.0,
         93,
         227.11827956989248,
         227.58620689655172
        ],
        [
         3,
         "2015-01-16",
         22478.0,
         99,
         227.05050505050505,
         227.11827956989248
        ],
        [
         3,
         "2015-01-17",
         23622.0,
         103,
         229.3398058252427,
         227.05050505050505
        ],
        [
         3,
         "2015-01-18",
         24988.0,
         109,
         229.24770642201835,
         229.3398058252427
        ],
        [
         3,
         "2015-01-19",
         26354.0,
         115,
         229.16521739130434,
         229.24770642201835
        ],
        [
         3,
         "2015-01-20",
         27728.0,
         121,
         229.15702479338842,
         229.16521739130434
        ],
        [
         3,
         "2015-01-21",
         29054.0,
         127,
         228.77165354330708,
         229.15702479338842
        ],
        [
         3,
         "2015-01-22",
         30349.0,
         133,
         228.18796992481202,
         228.77165354330708
        ],
        [
         3,
         "2015-01-23",
         31633.0,
         138,
         229.2246376811594,
         228.18796992481202
        ],
        [
         3,
         "2015-01-24",
         32894.0,
         143,
         230.02797202797203,
         229.2246376811594
        ],
        [
         3,
         "2015-01-25",
         34168.0,
         148,
         230.86486486486487,
         230.02797202797203
        ],
        [
         3,
         "2015-01-26",
         35381.0,
         153,
         231.2483660130719,
         230.86486486486487
        ],
        [
         3,
         "2015-01-27",
         36084.0,
         156,
         231.30769230769232,
         231.2483660130719
        ],
        [
         3,
         "2015-01-28",
         37140.0,
         161,
         230.6832298136646,
         231.30769230769232
        ],
        [
         3,
         "2015-01-29",
         38512.0,
         167,
         230.61077844311376,
         230.6832298136646
        ],
        [
         3,
         "2015-01-30",
         39937.0,
         173,
         230.84971098265896,
         230.61077844311376
        ],
        [
         3,
         "2015-01-31",
         41262.0,
         178,
         231.80898876404495,
         230.84971098265896
        ],
        [
         3,
         "2015-02-01",
         42518.0,
         183,
         232.33879781420765,
         231.80898876404495
        ],
        [
         3,
         "2015-02-02",
         43419.0,
         187,
         232.18716577540107,
         232.33879781420765
        ],
        [
         3,
         "2015-02-03",
         44802.0,
         193,
         232.13471502590673,
         232.18716577540107
        ],
        [
         3,
         "2015-02-04",
         46186.0,
         199,
         232.09045226130652,
         232.13471502590673
        ],
        [
         3,
         "2015-02-05",
         47585.0,
         205,
         232.1219512195122,
         232.09045226130652
        ],
        [
         3,
         "2015-02-06",
         48997.0,
         211,
         232.2132701421801,
         232.1219512195122
        ],
        [
         3,
         "2015-02-07",
         49976.0,
         215,
         232.44651162790697,
         232.2132701421801
        ],
        [
         3,
         "2015-02-08",
         51359.0,
         221,
         232.39366515837105,
         232.44651162790697
        ],
        [
         3,
         "2015-02-09",
         52393.0,
         226,
         231.82743362831857,
         232.39366515837105
        ],
        [
         3,
         "2015-02-10",
         53773.0,
         232,
         231.7801724137931,
         231.82743362831857
        ],
        [
         3,
         "2015-02-11",
         55142.0,
         238,
         231.6890756302521,
         231.7801724137931
        ],
        [
         3,
         "2015-02-12",
         56497.0,
         244,
         231.54508196721312,
         231.6890756302521
        ],
        [
         3,
         "2015-02-13",
         57950.0,
         250,
         231.8,
         231.54508196721312
        ],
        [
         3,
         "2015-02-14",
         58950.0,
         254,
         232.08661417322836,
         231.8
        ],
        [
         3,
         "2015-02-15",
         60332.0,
         260,
         232.04615384615386,
         232.08661417322836
        ],
        [
         3,
         "2015-02-16",
         61736.0,
         266,
         232.09022556390977,
         232.04615384615386
        ],
        [
         3,
         "2015-02-17",
         63071.0,
         272,
         231.87867647058823,
         232.09022556390977
        ],
        [
         3,
         "2015-02-18",
         64423.0,
         278,
         231.73741007194243,
         231.87867647058823
        ],
        [
         3,
         "2015-02-19",
         65823.0,
         284,
         231.7711267605634,
         231.73741007194243
        ],
        [
         3,
         "2015-02-20",
         67235.0,
         290,
         231.8448275862069,
         231.7711267605634
        ],
        [
         3,
         "2015-02-21",
         68240.0,
         294,
         232.10884353741497,
         231.8448275862069
        ],
        [
         3,
         "2015-02-22",
         69594.0,
         300,
         231.98,
         232.10884353741497
        ],
        [
         3,
         "2015-02-23",
         70921.0,
         305,
         232.52786885245902,
         231.98
        ],
        [
         3,
         "2015-02-24",
         72241.0,
         310,
         233.03548387096774,
         232.52786885245902
        ],
        [
         3,
         "2015-02-25",
         73540.0,
         315,
         233.46031746031747,
         233.03548387096774
        ],
        [
         3,
         "2015-02-26",
         74843.0,
         321,
         233.1557632398754,
         233.46031746031747
        ],
        [
         3,
         "2015-02-27",
         76208.0,
         327,
         233.0519877675841,
         233.1557632398754
        ],
        [
         3,
         "2015-02-28",
         77364.0,
         332,
         233.02409638554218,
         233.0519877675841
        ],
        [
         3,
         "2015-03-01",
         78559.0,
         336,
         233.80654761904762,
         233.02409638554218
        ],
        [
         3,
         "2015-03-02",
         79926.0,
         342,
         233.7017543859649,
         233.80654761904762
        ],
        [
         3,
         "2015-03-03",
         81320.0,
         348,
         233.67816091954023,
         233.7017543859649
        ],
        [
         3,
         "2015-03-04",
         82740.0,
         354,
         233.72881355932202,
         233.67816091954023
        ],
        [
         3,
         "2015-03-05",
         83640.0,
         358,
         233.6312849162011,
         233.72881355932202
        ],
        [
         3,
         "2015-03-06",
         85007.0,
         364,
         233.53571428571428,
         233.6312849162011
        ],
        [
         3,
         "2015-03-07",
         86116.0,
         369,
         233.37669376693768,
         233.53571428571428
        ],
        [
         3,
         "2015-03-08",
         87744.0,
         377,
         232.74270557029178,
         233.37669376693768
        ],
        [
         3,
         "2015-03-09",
         89423.0,
         387,
         231.0671834625323,
         232.74270557029178
        ],
        [
         3,
         "2015-03-10",
         91118.0,
         397,
         229.51637279596977,
         231.0671834625323
        ],
        [
         3,
         "2015-03-11",
         92813.0,
         407,
         228.04176904176904,
         229.51637279596977
        ],
        [
         3,
         "2015-03-12",
         94455.0,
         417,
         226.5107913669065,
         228.04176904176904
        ],
        [
         3,
         "2015-03-13",
         96165.0,
         427,
         225.21077283372367,
         226.5107913669065
        ],
        [
         3,
         "2015-03-14",
         97477.0,
         432,
         225.6412037037037,
         225.21077283372367
        ],
        [
         3,
         "2015-03-15",
         99074.0,
         440,
         225.1681818181818,
         225.6412037037037
        ],
        [
         3,
         "2015-03-16",
         100737.0,
         450,
         223.86,
         225.1681818181818
        ],
        [
         3,
         "2015-03-17",
         102448.0,
         460,
         222.71304347826086,
         223.86
        ],
        [
         3,
         "2015-03-18",
         104122.0,
         470,
         221.53617021276597,
         222.71304347826086
        ],
        [
         3,
         "2015-03-19",
         105798.0,
         480,
         220.4125,
         221.53617021276597
        ],
        [
         3,
         "2015-03-20",
         107496.0,
         490,
         219.3795918367347,
         220.4125
        ],
        [
         3,
         "2015-03-21",
         108827.0,
         495,
         219.85252525252525,
         219.3795918367347
        ],
        [
         3,
         "2015-03-22",
         110394.0,
         503,
         219.47117296222663,
         219.85252525252525
        ],
        [
         3,
         "2015-03-23",
         111942.0,
         512,
         218.63671875,
         219.47117296222663
        ],
        [
         3,
         "2015-03-24",
         113956.0,
         523,
         217.8891013384321,
         218.63671875
        ],
        [
         3,
         "2015-03-25",
         115642.0,
         533,
         216.96435272045028,
         217.8891013384321
        ],
        [
         3,
         "2015-03-26",
         117274.0,
         543,
         215.97421731123387,
         216.96435272045028
        ],
        [
         3,
         "2015-03-27",
         118878.0,
         553,
         214.96925858951175,
         215.97421731123387
        ],
        [
         3,
         "2015-03-28",
         120146.0,
         558,
         215.31541218637992,
         214.96925858951175
        ],
        [
         3,
         "2015-03-29",
         121750.0,
         566,
         215.1060070671378,
         215.31541218637992
        ],
        [
         3,
         "2015-03-30",
         123418.0,
         576,
         214.26736111111111,
         215.1060070671378
        ],
        [
         3,
         "2015-03-31",
         125084.0,
         585,
         213.8188034188034,
         214.26736111111111
        ],
        [
         4,
         "2015-01-01",
         1041.0,
         4,
         260.25,
         0.0
        ],
        [
         4,
         "2015-01-02",
         2316.0,
         11,
         210.54545454545453,
         260.25
        ],
        [
         4,
         "2015-01-03",
         3621.0,
         18,
         201.16666666666666,
         210.54545454545453
        ],
        [
         4,
         "2015-01-04",
         4897.0,
         25,
         195.88,
         201.16666666666666
        ],
        [
         4,
         "2015-01-05",
         6122.0,
         32,
         191.3125,
         195.88
        ],
        [
         4,
         "2015-01-06",
         7326.0,
         39,
         187.84615384615384,
         191.3125
        ],
        [
         4,
         "2015-01-07",
         8545.0,
         46,
         185.7608695652174,
         187.84615384615384
        ],
        [
         4,
         "2015-01-08",
         9737.0,
         53,
         183.71698113207546,
         185.7608695652174
        ],
        [
         4,
         "2015-01-09",
         10934.0,
         60,
         182.23333333333332,
         183.71698113207546
        ],
        [
         4,
         "2015-01-10",
         11973.0,
         64,
         187.078125,
         182.23333333333332
        ],
        [
         4,
         "2015-01-11",
         13031.0,
         68,
         191.63235294117646,
         187.078125
        ],
        [
         4,
         "2015-01-12",
         14317.0,
         75,
         190.89333333333335,
         191.63235294117646
        ],
        [
         4,
         "2015-01-13",
         15591.0,
         82,
         190.1341463414634,
         190.89333333333335
        ],
        [
         4,
         "2015-01-14",
         16859.0,
         89,
         189.42696629213484,
         190.1341463414634
        ],
        [
         4,
         "2015-01-15",
         18130.0,
         96,
         188.85416666666666,
         189.42696629213484
        ],
        [
         4,
         "2015-01-16",
         19381.0,
         103,
         188.16504854368932,
         188.85416666666666
        ],
        [
         4,
         "2015-01-17",
         20429.0,
         107,
         190.92523364485982,
         188.16504854368932
        ],
        [
         4,
         "2015-01-18",
         21475.0,
         111,
         193.46846846846847,
         190.92523364485982
        ],
        [
         4,
         "2015-01-19",
         22727.0,
         118,
         192.60169491525423,
         193.46846846846847
        ],
        [
         4,
         "2015-01-20",
         23976.0,
         125,
         191.808,
         192.60169491525423
        ],
        [
         4,
         "2015-01-21",
         25228.0,
         132,
         191.12121212121212,
         191.808
        ],
        [
         4,
         "2015-01-22",
         26523.0,
         139,
         190.81294964028777,
         191.12121212121212
        ],
        [
         4,
         "2015-01-23",
         27780.0,
         146,
         190.27397260273972,
         190.81294964028777
        ],
        [
         4,
         "2015-01-24",
         28864.0,
         150,
         192.42666666666668,
         190.27397260273972
        ],
        [
         4,
         "2015-01-25",
         29954.0,
         154,
         194.5064935064935,
         192.42666666666668
        ],
        [
         4,
         "2015-01-26",
         30889.0,
         160,
         193.05625,
         194.5064935064935
        ],
        [
         4,
         "2015-01-27",
         31630.0,
         165,
         191.6969696969697,
         193.05625
        ],
        [
         4,
         "2015-01-28",
         32844.0,
         172,
         190.95348837209303,
         191.6969696969697
        ],
        [
         4,
         "2015-01-29",
         34056.0,
         179,
         190.25698324022346,
         190.95348837209303
        ],
        [
         4,
         "2015-01-30",
         35283.0,
         186,
         189.69354838709677,
         190.25698324022346
        ],
        [
         4,
         "2015-01-31",
         36317.0,
         190,
         191.1421052631579,
         189.69354838709677
        ],
        [
         4,
         "2015-02-01",
         37140.0,
         194,
         191.44329896907217,
         191.1421052631579
        ],
        [
         4,
         "2015-02-02",
         38393.0,
         201,
         191.0099502487562,
         191.44329896907217
        ],
        [
         4,
         "2015-02-03",
         39614.0,
         208,
         190.45192307692307,
         191.0099502487562
        ],
        [
         4,
         "2015-02-04",
         40555.0,
         214,
         189.50934579439252,
         190.45192307692307
        ],
        [
         4,
         "2015-02-05",
         41777.0,
         221,
         189.03619909502262,
         189.50934579439252
        ],
        [
         4,
         "2015-02-06",
         42991.0,
         228,
         188.55701754385964,
         189.03619909502262
        ],
        [
         4,
         "2015-02-07",
         44008.0,
         232,
         189.68965517241378,
         188.55701754385964
        ],
        [
         4,
         "2015-02-08",
         44752.0,
         235,
         190.4340425531915,
         189.68965517241378
        ],
        [
         4,
         "2015-02-09",
         45685.0,
         241,
         189.5643153526971,
         190.4340425531915
        ],
        [
         4,
         "2015-02-10",
         46886.0,
         248,
         189.05645161290323,
         189.5643153526971
        ],
        [
         4,
         "2015-02-11",
         48119.0,
         255,
         188.7019607843137,
         189.05645161290323
        ],
        [
         4,
         "2015-02-12",
         49348.0,
         262,
         188.35114503816794,
         188.7019607843137
        ],
        [
         4,
         "2015-02-13",
         50563.0,
         269,
         187.96654275092936,
         188.35114503816794
        ],
        [
         4,
         "2015-02-14",
         51606.0,
         273,
         189.03296703296704,
         187.96654275092936
        ],
        [
         4,
         "2015-02-15",
         52673.0,
         277,
         190.1552346570397,
         189.03296703296704
        ],
        [
         4,
         "2015-02-16",
         53930.0,
         284,
         189.8943661971831,
         190.1552346570397
        ],
        [
         4,
         "2015-02-17",
         55197.0,
         291,
         189.68041237113403,
         189.8943661971831
        ],
        [
         4,
         "2015-02-18",
         56445.0,
         298,
         189.41275167785236,
         189.68041237113403
        ],
        [
         4,
         "2015-02-19",
         57658.0,
         305,
         189.04262295081966,
         189.41275167785236
        ],
        [
         4,
         "2015-02-20",
         58907.0,
         312,
         188.80448717948718,
         189.04262295081966
        ],
        [
         4,
         "2015-02-21",
         60014.0,
         316,
         189.91772151898735,
         188.80448717948718
        ],
        [
         4,
         "2015-02-22",
         60793.0,
         319,
         190.57366771159874,
         189.91772151898735
        ],
        [
         4,
         "2015-02-23",
         62006.0,
         325,
         190.7876923076923,
         190.57366771159874
        ],
        [
         4,
         "2015-02-24",
         63259.0,
         332,
         190.539156626506,
         190.7876923076923
        ],
        [
         4,
         "2015-02-25",
         64530.0,
         339,
         190.35398230088495,
         190.539156626506
        ],
        [
         4,
         "2015-02-26",
         65794.0,
         346,
         190.15606936416185,
         190.35398230088495
        ],
        [
         4,
         "2015-02-27",
         67048.0,
         353,
         189.93767705382436,
         190.15606936416185
        ],
        [
         4,
         "2015-02-28",
         68068.0,
         357,
         190.66666666666666,
         189.93767705382436
        ],
        [
         4,
         "2015-03-01",
         69113.0,
         361,
         191.4487534626039,
         190.66666666666666
        ],
        [
         4,
         "2015-03-02",
         70561.0,
         369,
         191.22222222222223,
         191.4487534626039
        ],
        [
         4,
         "2015-03-03",
         71515.0,
         375,
         190.70666666666668,
         191.22222222222223
        ],
        [
         4,
         "2015-03-04",
         72476.0,
         381,
         190.2257217847769,
         190.70666666666668
        ],
        [
         4,
         "2015-03-05",
         73946.0,
         389,
         190.09254498714654,
         190.2257217847769
        ],
        [
         4,
         "2015-03-06",
         75392.0,
         397,
         189.90428211586902,
         190.09254498714654
        ],
        [
         4,
         "2015-03-07",
         77015.0,
         408,
         188.76225490196077,
         189.90428211586902
        ],
        [
         4,
         "2015-03-08",
         78256.0,
         413,
         189.4818401937046,
         188.76225490196077
        ],
        [
         4,
         "2015-03-09",
         79561.0,
         419,
         189.88305489260142,
         189.4818401937046
        ],
        [
         4,
         "2015-03-10",
         80662.0,
         424,
         190.24056603773585,
         189.88305489260142
        ],
        [
         4,
         "2015-03-11",
         81731.0,
         429,
         190.5151515151515,
         190.24056603773585
        ],
        [
         4,
         "2015-03-12",
         83014.0,
         435,
         190.8367816091954,
         190.5151515151515
        ],
        [
         4,
         "2015-03-13",
         84323.0,
         441,
         191.20861678004536,
         190.8367816091954
        ],
        [
         4,
         "2015-03-14",
         85468.0,
         446,
         191.6322869955157,
         191.20861678004536
        ],
        [
         4,
         "2015-03-15",
         86753.0,
         451,
         192.3569844789357,
         191.6322869955157
        ],
        [
         4,
         "2015-03-16",
         88036.0,
         457,
         192.63894967177242,
         192.3569844789357
        ],
        [
         4,
         "2015-03-17",
         89101.0,
         462,
         192.85930735930737,
         192.63894967177242
        ],
        [
         4,
         "2015-03-18",
         90169.0,
         467,
         193.08137044967881,
         192.85930735930737
        ],
        [
         4,
         "2015-03-19",
         91448.0,
         473,
         193.33615221987316,
         193.08137044967881
        ],
        [
         4,
         "2015-03-20",
         92772.0,
         479,
         193.678496868476,
         193.33615221987316
        ],
        [
         4,
         "2015-03-21",
         93860.0,
         484,
         193.92561983471074,
         193.678496868476
        ],
        [
         4,
         "2015-03-22",
         95144.0,
         489,
         194.5685071574642,
         193.92561983471074
        ],
        [
         4,
         "2015-03-23",
         96465.0,
         495,
         194.87878787878788,
         194.5685071574642
        ],
        [
         4,
         "2015-03-24",
         97587.0,
         500,
         195.174,
         194.87878787878788
        ],
        [
         4,
         "2015-03-25",
         98702.0,
         505,
         195.44950495049505,
         195.174
        ],
        [
         4,
         "2015-03-26",
         100066.0,
         511,
         195.8238747553816,
         195.44950495049505
        ],
        [
         4,
         "2015-03-27",
         101408.0,
         517,
         196.147001934236,
         195.8238747553816
        ],
        [
         4,
         "2015-03-28",
         102547.0,
         522,
         196.45019157088123,
         196.147001934236
        ],
        [
         4,
         "2015-03-29",
         103815.0,
         527,
         196.99240986717268,
         196.45019157088123
        ],
        [
         4,
         "2015-03-30",
         105113.0,
         533,
         197.21013133208254,
         196.99240986717268
        ],
        [
         4,
         "2015-03-31",
         105914.0,
         537,
         197.23277467411546,
         197.21013133208254
        ],
        [
         5,
         "2015-01-01",
         1198.0,
         5,
         239.6,
         0.0
        ],
        [
         5,
         "2015-01-02",
         2911.0,
         13,
         223.92307692307693,
         239.6
        ],
        [
         5,
         "2015-01-03",
         4230.0,
         20,
         211.5,
         223.92307692307693
        ],
        [
         5,
         "2015-01-04",
         5925.0,
         28,
         211.60714285714286,
         211.5
        ],
        [
         5,
         "2015-01-05",
         7258.0,
         35,
         207.37142857142857,
         211.60714285714286
        ],
        [
         5,
         "2015-01-06",
         8213.0,
         38,
         216.1315789473684,
         207.37142857142857
        ],
        [
         5,
         "2015-01-07",
         9542.0,
         42,
         227.1904761904762,
         216.1315789473684
        ],
        [
         5,
         "2015-01-08",
         10483.0,
         45,
         232.95555555555555,
         227.1904761904762
        ],
        [
         5,
         "2015-01-09",
         11801.0,
         49,
         240.83673469387756,
         232.95555555555555
        ],
        [
         5,
         "2015-01-10",
         12906.0,
         54,
         239.0,
         240.83673469387756
        ],
        [
         5,
         "2015-01-11",
         14211.0,
         58,
         245.01724137931035,
         239.0
        ],
        [
         5,
         "2015-01-12",
         15181.0,
         61,
         248.86885245901638,
         245.01724137931035
        ],
        [
         5,
         "2015-01-13",
         16159.0,
         64,
         252.484375,
         248.86885245901638
        ],
        [
         5,
         "2015-01-14",
         17444.0,
         68,
         256.52941176470586,
         252.484375
        ],
        [
         5,
         "2015-01-15",
         18374.0,
         71,
         258.7887323943662,
         256.52941176470586
        ],
        [
         5,
         "2015-01-16",
         19673.0,
         75,
         262.3066666666667,
         258.7887323943662
        ],
        [
         5,
         "2015-01-17",
         20774.0,
         80,
         259.675,
         262.3066666666667
        ],
        [
         5,
         "2015-01-18",
         22128.0,
         84,
         263.42857142857144,
         259.675
        ],
        [
         5,
         "2015-01-19",
         23087.0,
         87,
         265.367816091954,
         263.42857142857144
        ],
        [
         5,
         "2015-01-20",
         24086.0,
         90,
         267.6222222222222,
         265.367816091954
        ],
        [
         5,
         "2015-01-21",
         25366.0,
         94,
         269.8510638297872,
         267.6222222222222
        ],
        [
         5,
         "2015-01-22",
         26313.0,
         97,
         271.2680412371134,
         269.8510638297872
        ],
        [
         5,
         "2015-01-23",
         27596.0,
         101,
         273.2277227722772,
         271.2680412371134
        ],
        [
         5,
         "2015-01-24",
         28690.0,
         106,
         270.66037735849056,
         273.2277227722772
        ],
        [
         5,
         "2015-01-25",
         29946.0,
         110,
         272.23636363636365,
         270.66037735849056
        ],
        [
         5,
         "2015-01-26",
         30872.0,
         113,
         273.20353982300884,
         272.23636363636365
        ],
        [
         5,
         "2015-01-27",
         31650.0,
         115,
         275.2173913043478,
         273.20353982300884
        ],
        [
         5,
         "2015-01-28",
         32972.0,
         119,
         277.07563025210084,
         275.2173913043478
        ],
        [
         5,
         "2015-01-29",
         33934.0,
         122,
         278.1475409836066,
         277.07563025210084
        ],
        [
         5,
         "2015-01-30",
         35306.0,
         126,
         280.2063492063492,
         278.1475409836066
        ],
        [
         5,
         "2015-01-31",
         36387.0,
         131,
         277.76335877862596,
         280.2063492063492
        ],
        [
         5,
         "2015-02-01",
         37772.0,
         136,
         277.7352941176471,
         277.76335877862596
        ],
        [
         5,
         "2015-02-02",
         38744.0,
         139,
         278.7338129496403,
         277.7352941176471
        ],
        [
         5,
         "2015-02-03",
         39713.0,
         142,
         279.66901408450707,
         278.7338129496403
        ],
        [
         5,
         "2015-02-04",
         41032.0,
         146,
         281.041095890411,
         279.66901408450707
        ],
        [
         5,
         "2015-02-05",
         42002.0,
         149,
         281.89261744966444,
         281.041095890411
        ],
        [
         5,
         "2015-02-06",
         43320.0,
         153,
         283.1372549019608,
         281.89261744966444
        ],
        [
         5,
         "2015-02-07",
         44395.0,
         158,
         280.9810126582278,
         283.1372549019608
        ],
        [
         5,
         "2015-02-08",
         45743.0,
         162,
         282.3641975308642,
         280.9810126582278
        ],
        [
         5,
         "2015-02-09",
         46698.0,
         165,
         283.0181818181818,
         282.3641975308642
        ],
        [
         5,
         "2015-02-10",
         47660.0,
         168,
         283.6904761904762,
         283.0181818181818
        ],
        [
         5,
         "2015-02-11",
         48996.0,
         172,
         284.86046511627904,
         283.6904761904762
        ],
        [
         5,
         "2015-02-12",
         49938.0,
         175,
         285.36,
         284.86046511627904
        ],
        [
         5,
         "2015-02-13",
         51230.0,
         179,
         286.20111731843576,
         285.36
        ],
        [
         5,
         "2015-02-14",
         52306.0,
         184,
         284.2717391304348,
         286.20111731843576
        ],
        [
         5,
         "2015-02-15",
         53471.0,
         187,
         285.94117647058823,
         284.2717391304348
        ],
        [
         5,
         "2015-02-16",
         54432.0,
         190,
         286.4842105263158,
         285.94117647058823
        ],
        [
         5,
         "2015-02-17",
         55394.0,
         193,
         287.01554404145077,
         286.4842105263158
        ],
        [
         5,
         "2015-02-18",
         56752.0,
         197,
         288.0812182741117,
         287.01554404145077
        ],
        [
         5,
         "2015-02-19",
         57715.0,
         200,
         288.575,
         288.0812182741117
        ],
        [
         5,
         "2015-02-20",
         59069.0,
         204,
         289.55392156862746,
         288.575
        ],
        [
         5,
         "2015-02-21",
         60176.0,
         209,
         287.92344497607655,
         289.55392156862746
        ],
        [
         5,
         "2015-02-22",
         61517.0,
         213,
         288.81220657277,
         287.92344497607655
        ],
        [
         5,
         "2015-02-23",
         62506.0,
         216,
         289.3796296296296,
         288.81220657277
        ],
        [
         5,
         "2015-02-24",
         63448.0,
         219,
         289.716894977169,
         289.3796296296296
        ],
        [
         5,
         "2015-02-25",
         64744.0,
         223,
         290.3318385650224,
         289.716894977169
        ],
        [
         5,
         "2015-02-26",
         65711.0,
         226,
         290.7566371681416,
         290.3318385650224
        ],
        [
         5,
         "2015-02-27",
         67062.0,
         230,
         291.5739130434783,
         290.7566371681416
        ],
        [
         5,
         "2015-02-28",
         68220.0,
         235,
         290.29787234042556,
         291.5739130434783
        ],
        [
         5,
         "2015-03-01",
         69551.0,
         239,
         291.0083682008368,
         290.29787234042556
        ],
        [
         5,
         "2015-03-02",
         70699.0,
         243,
         290.9423868312757,
         291.0083682008368
        ],
        [
         5,
         "2015-03-03",
         71688.0,
         246,
         291.4146341463415,
         290.9423868312757
        ],
        [
         5,
         "2015-03-04",
         73113.0,
         250,
         292.452,
         291.4146341463415
        ],
        [
         5,
         "2015-03-05",
         74276.0,
         254,
         292.4251968503937,
         292.452
        ],
        [
         5,
         "2015-03-06",
         75782.0,
         259,
         292.5945945945946,
         292.4251968503937
        ],
        [
         5,
         "2015-03-07",
         77013.0,
         264,
         291.71590909090907,
         292.5945945945946
        ],
        [
         5,
         "2015-03-08",
         78814.0,
         272,
         289.75735294117646,
         291.71590909090907
        ],
        [
         5,
         "2015-03-09",
         80224.0,
         279,
         287.5412186379928,
         289.75735294117646
        ],
        [
         5,
         "2015-03-10",
         81440.0,
         285,
         285.7543859649123,
         287.5412186379928
        ],
        [
         5,
         "2015-03-11",
         83058.0,
         292,
         284.44520547945206,
         285.7543859649123
        ],
        [
         5,
         "2015-03-12",
         84441.0,
         299,
         282.4113712374582,
         284.44520547945206
        ],
        [
         5,
         "2015-03-13",
         86209.0,
         307,
         280.81107491856676,
         282.4113712374582
        ],
        [
         5,
         "2015-03-14",
         87106.0,
         310,
         280.98709677419356,
         280.81107491856676
        ],
        [
         5,
         "2015-03-15",
         88791.0,
         318,
         279.2169811320755,
         280.98709677419356
        ],
        [
         5,
         "2015-03-16",
         90111.0,
         325,
         277.2646153846154,
         279.2169811320755
        ],
        [
         5,
         "2015-03-17",
         91284.0,
         331,
         275.7824773413897,
         277.2646153846154
        ],
        [
         5,
         "2015-03-18",
         92862.0,
         338,
         274.7396449704142,
         275.7824773413897
        ],
        [
         5,
         "2015-03-19",
         94210.0,
         345,
         273.07246376811594,
         274.7396449704142
        ],
        [
         5,
         "2015-03-20",
         95943.0,
         353,
         271.79320113314446,
         273.07246376811594
        ],
        [
         5,
         "2015-03-21",
         96905.0,
         356,
         272.2050561797753,
         271.79320113314446
        ],
        [
         5,
         "2015-03-22",
         98655.0,
         364,
         271.0302197802198,
         272.2050561797753
        ],
        [
         5,
         "2015-03-23",
         99892.0,
         370,
         269.97837837837835,
         271.0302197802198
        ],
        [
         5,
         "2015-03-24",
         101104.0,
         376,
         268.8936170212766,
         269.97837837837835
        ],
        [
         5,
         "2015-03-25",
         102635.0,
         383,
         267.97650130548305,
         268.8936170212766
        ],
        [
         5,
         "2015-03-26",
         104006.0,
         390,
         266.6820512820513,
         267.97650130548305
        ],
        [
         5,
         "2015-03-27",
         105700.0,
         398,
         265.5778894472362,
         266.6820512820513
        ],
        [
         5,
         "2015-03-28",
         106628.0,
         401,
         265.9052369077307,
         265.5778894472362
        ],
        [
         5,
         "2015-03-29",
         108358.0,
         409,
         264.93398533007337,
         265.9052369077307
        ],
        [
         5,
         "2015-03-30",
         109708.0,
         415,
         264.3566265060241,
         264.93398533007337
        ],
        [
         5,
         "2015-03-31",
         110918.0,
         421,
         263.4631828978622,
         264.3566265060241
        ],
        [
         6,
         "2015-01-01",
         404.0,
         2,
         202.0,
         0.0
        ],
        [
         6,
         "2015-01-02",
         1527.0,
         6,
         254.5,
         202.0
        ],
        [
         6,
         "2015-01-03",
         1931.0,
         8,
         241.375,
         254.5
        ],
        [
         6,
         "2015-01-04",
         3169.0,
         13,
         243.76923076923077,
         241.375
        ],
        [
         6,
         "2015-01-05",
         4006.0,
         16,
         250.375,
         243.76923076923077
        ],
        [
         6,
         "2015-01-06",
         4831.0,
         19,
         254.26315789473685,
         250.375
        ],
        [
         6,
         "2015-01-07",
         5990.0,
         23,
         260.4347826086956,
         254.26315789473685
        ],
        [
         6,
         "2015-01-08",
         6793.0,
         26,
         261.2692307692308,
         260.4347826086956
        ],
        [
         6,
         "2015-01-09",
         7908.0,
         30,
         263.6,
         261.2692307692308
        ],
        [
         6,
         "2015-01-10",
         8935.0,
         36,
         248.19444444444446,
         263.6
        ],
        [
         6,
         "2015-01-11",
         10079.0,
         40,
         251.975,
         248.19444444444446
        ],
        [
         6,
         "2015-01-12",
         10893.0,
         43,
         253.32558139534885,
         251.975
        ],
        [
         6,
         "2015-01-13",
         11690.0,
         46,
         254.1304347826087,
         253.32558139534885
        ],
        [
         6,
         "2015-01-14",
         12827.0,
         50,
         256.54,
         254.1304347826087
        ],
        [
         6,
         "2015-01-15",
         13657.0,
         53,
         257.6792452830189,
         256.54
        ],
        [
         6,
         "2015-01-16",
         14796.0,
         57,
         259.57894736842104,
         257.6792452830189
        ],
        [
         6,
         "2015-01-17",
         15806.0,
         63,
         250.88888888888889,
         259.57894736842104
        ],
        [
         6,
         "2015-01-18",
         16887.0,
         67,
         252.044776119403,
         250.88888888888889
        ],
        [
         6,
         "2015-01-19",
         17677.0,
         70,
         252.52857142857144,
         252.044776119403
        ],
        [
         6,
         "2015-01-20",
         18480.0,
         73,
         253.15068493150685,
         252.52857142857144
        ],
        [
         6,
         "2015-01-21",
         19638.0,
         77,
         255.03896103896105,
         253.15068493150685
        ],
        [
         6,
         "2015-01-22",
         20459.0,
         80,
         255.7375,
         255.03896103896105
        ],
        [
         6,
         "2015-01-23",
         21592.0,
         84,
         257.04761904761904,
         255.7375
        ],
        [
         6,
         "2015-01-24",
         22673.0,
         90,
         251.92222222222222,
         257.04761904761904
        ],
        [
         6,
         "2015-01-25",
         23843.0,
         94,
         253.64893617021278,
         251.92222222222222
        ],
        [
         6,
         "2015-01-26",
         24548.0,
         96,
         255.70833333333334,
         253.64893617021278
        ],
        [
         6,
         "2015-01-27",
         25371.0,
         99,
         256.27272727272725,
         255.70833333333334
        ],
        [
         6,
         "2015-01-28",
         26503.0,
         103,
         257.31067961165047,
         256.27272727272725
        ],
        [
         6,
         "2015-01-29",
         27309.0,
         106,
         257.6320754716981,
         257.31067961165047
        ],
        [
         6,
         "2015-01-30",
         28437.0,
         110,
         258.5181818181818,
         257.6320754716981
        ],
        [
         6,
         "2015-01-31",
         29465.0,
         116,
         254.00862068965517,
         258.5181818181818
        ],
        [
         6,
         "2015-02-01",
         30666.0,
         121,
         253.43801652892563,
         254.00862068965517
        ],
        [
         6,
         "2015-02-02",
         31494.0,
         124,
         253.98387096774192,
         253.43801652892563
        ],
        [
         6,
         "2015-02-03",
         32323.0,
         127,
         254.51181102362204,
         253.98387096774192
        ],
        [
         6,
         "2015-02-04",
         33447.0,
         131,
         255.3206106870229,
         254.51181102362204
        ],
        [
         6,
         "2015-02-05",
         34255.0,
         134,
         255.63432835820896,
         255.3206106870229
        ],
        [
         6,
         "2015-02-06",
         35338.0,
         138,
         256.07246376811594,
         255.63432835820896
        ],
        [
         6,
         "2015-02-07",
         36352.0,
         144,
         252.44444444444446,
         256.07246376811594
        ],
        [
         6,
         "2015-02-08",
         37439.0,
         148,
         252.96621621621622,
         252.44444444444446
        ],
        [
         6,
         "2015-02-09",
         38234.0,
         151,
         253.20529801324503,
         252.96621621621622
        ],
        [
         6,
         "2015-02-10",
         39042.0,
         154,
         253.5194805194805,
         253.20529801324503
        ],
        [
         6,
         "2015-02-11",
         40192.0,
         158,
         254.37974683544303,
         253.5194805194805
        ],
        [
         6,
         "2015-02-12",
         41045.0,
         161,
         254.93788819875778,
         254.37974683544303
        ],
        [
         6,
         "2015-02-13",
         42179.0,
         165,
         255.63030303030303,
         254.93788819875778
        ],
        [
         6,
         "2015-02-14",
         43226.0,
         171,
         252.78362573099415,
         255.63030303030303
        ],
        [
         6,
         "2015-02-15",
         44404.0,
         175,
         253.73714285714286,
         252.78362573099415
        ],
        [
         6,
         "2015-02-16",
         45270.0,
         178,
         254.32584269662922,
         253.73714285714286
        ],
        [
         6,
         "2015-02-17",
         46096.0,
         181,
         254.67403314917127,
         254.32584269662922
        ],
        [
         6,
         "2015-02-18",
         47220.0,
         185,
         255.24324324324326,
         254.67403314917127
        ],
        [
         6,
         "2015-02-19",
         48027.0,
         188,
         255.4627659574468,
         255.24324324324326
        ],
        [
         6,
         "2015-02-20",
         49149.0,
         192,
         255.984375,
         255.4627659574468
        ],
        [
         6,
         "2015-02-21",
         50081.0,
         197,
         254.21827411167513,
         255.984375
        ],
        [
         6,
         "2015-02-22",
         51204.0,
         201,
         254.7462686567164,
         254.21827411167513
        ],
        [
         6,
         "2015-02-23",
         51993.0,
         204,
         254.86764705882354,
         254.7462686567164
        ],
        [
         6,
         "2015-02-24",
         52810.0,
         207,
         255.12077294685992,
         254.86764705882354
        ],
        [
         6,
         "2015-02-25",
         53943.0,
         211,
         255.65402843601896,
         255.12077294685992
        ],
        [
         6,
         "2015-02-26",
         54742.0,
         214,
         255.80373831775702,
         255.65402843601896
        ],
        [
         6,
         "2015-02-27",
         55845.0,
         218,
         256.1697247706422,
         255.80373831775702
        ],
        [
         6,
         "2015-02-28",
         56457.0,
         223,
         253.17040358744396,
         256.1697247706422
        ],
        [
         6,
         "2015-03-01",
         57556.0,
         227,
         253.55066079295153,
         253.17040358744396
        ],
        [
         6,
         "2015-03-02",
         58368.0,
         230,
         253.77391304347827,
         253.55066079295153
        ],
        [
         6,
         "2015-03-03",
         59187.0,
         233,
         254.0214592274678,
         253.77391304347827
        ],
        [
         6,
         "2015-03-04",
         60295.0,
         237,
         254.40928270042195,
         254.0214592274678
        ],
        [
         6,
         "2015-03-05",
         61080.0,
         240,
         254.5,
         254.40928270042195
        ],
        [
         6,
         "2015-03-06",
         62165.0,
         244,
         254.77459016393442,
         254.5
        ],
        [
         6,
         "2015-03-07",
         63053.0,
         248,
         254.2459677419355,
         254.77459016393442
        ],
        [
         6,
         "2015-03-08",
         63740.0,
         251,
         253.9442231075697,
         254.2459677419355
        ],
        [
         6,
         "2015-03-09",
         64546.0,
         254,
         254.11811023622047,
         253.9442231075697
        ],
        [
         6,
         "2015-03-10",
         65354.0,
         257,
         254.295719844358,
         254.11811023622047
        ],
        [
         6,
         "2015-03-11",
         66452.0,
         261,
         254.60536398467434,
         254.295719844358
        ],
        [
         6,
         "2015-03-12",
         67282.0,
         264,
         254.8560606060606,
         254.60536398467434
        ],
        [
         6,
         "2015-03-13",
         68420.0,
         268,
         255.29850746268656,
         254.8560606060606
        ],
        [
         6,
         "2015-03-14",
         69822.0,
         276,
         252.97826086956522,
         255.29850746268656
        ],
        [
         6,
         "2015-03-15",
         70984.0,
         280,
         253.5142857142857,
         252.97826086956522
        ],
        [
         6,
         "2015-03-16",
         71817.0,
         283,
         253.7703180212014,
         253.5142857142857
        ],
        [
         6,
         "2015-03-17",
         72625.0,
         286,
         253.93356643356643,
         253.7703180212014
        ],
        [
         6,
         "2015-03-18",
         73725.0,
         290,
         254.22413793103448,
         253.93356643356643
        ],
        [
         6,
         "2015-03-19",
         74513.0,
         293,
         254.31058020477815,
         254.22413793103448
        ],
        [
         6,
         "2015-03-20",
         75622.0,
         297,
         254.6195286195286,
         254.31058020477815
        ],
        [
         6,
         "2015-03-21",
         77005.0,
         305,
         252.47540983606558,
         254.6195286195286
        ],
        [
         6,
         "2015-03-22",
         78110.0,
         309,
         252.7831715210356,
         252.47540983606558
        ],
        [
         6,
         "2015-03-23",
         78914.0,
         312,
         252.92948717948718,
         252.7831715210356
        ],
        [
         6,
         "2015-03-24",
         79738.0,
         315,
         253.13650793650794,
         252.92948717948718
        ],
        [
         6,
         "2015-03-25",
         80937.0,
         319,
         253.72100313479623,
         253.13650793650794
        ],
        [
         6,
         "2015-03-26",
         81814.0,
         322,
         254.08074534161491,
         253.72100313479623
        ],
        [
         6,
         "2015-03-27",
         82957.0,
         326,
         254.46932515337423,
         254.08074534161491
        ],
        [
         6,
         "2015-03-28",
         84311.0,
         334,
         252.42814371257484,
         254.46932515337423
        ],
        [
         6,
         "2015-03-29",
         85431.0,
         338,
         252.75443786982248,
         252.42814371257484
        ],
        [
         6,
         "2015-03-30",
         86228.0,
         341,
         252.86803519061584,
         252.75443786982248
        ],
        [
         6,
         "2015-03-31",
         87050.0,
         344,
         253.05232558139534,
         252.86803519061584
        ],
        [
         7,
         "2015-01-01",
         1454.0,
         7,
         207.71428571428572,
         0.0
        ],
        [
         7,
         "2015-01-02",
         2903.0,
         14,
         207.35714285714286,
         207.71428571428572
        ],
        [
         7,
         "2015-01-03",
         3734.0,
         18,
         207.44444444444446,
         207.35714285714286
        ],
        [
         7,
         "2015-01-04",
         5024.0,
         23,
         218.43478260869566,
         207.44444444444446
        ],
        [
         7,
         "2015-01-05",
         6469.0,
         31,
         208.67741935483872,
         218.43478260869566
        ],
        [
         7,
         "2015-01-06",
         8208.0,
         40,
         205.2,
         208.67741935483872
        ],
        [
         7,
         "2015-01-07",
         9927.0,
         49,
         202.59183673469389,
         205.2
        ],
        [
         7,
         "2015-01-08",
         11658.0,
         58,
         201.0,
         202.59183673469389
        ],
        [
         7,
         "2015-01-09",
         13328.0,
         66,
         201.93939393939394,
         201.0
        ],
        [
         7,
         "2015-01-10",
         14512.0,
         70,
         207.31428571428572,
         201.93939393939394
        ],
        [
         7,
         "2015-01-11",
         16154.0,
         78,
         207.10256410256412,
         207.31428571428572
        ],
        [
         7,
         "2015-01-12",
         17888.0,
         87,
         205.60919540229884,
         207.10256410256412
        ],
        [
         7,
         "2015-01-13",
         19660.0,
         96,
         204.79166666666666,
         205.60919540229884
        ],
        [
         7,
         "2015-01-14",
         21396.0,
         105,
         203.77142857142857,
         204.79166666666666
        ],
        [
         7,
         "2015-01-15",
         23142.0,
         114,
         203.0,
         203.77142857142857
        ],
        [
         7,
         "2015-01-16",
         24858.0,
         123,
         202.09756097560975,
         203.0
        ],
        [
         7,
         "2015-01-17",
         26120.0,
         127,
         205.66929133858267,
         202.09756097560975
        ],
        [
         7,
         "2015-01-18",
         27369.0,
         131,
         208.9236641221374,
         205.66929133858267
        ],
        [
         7,
         "2015-01-19",
         29100.0,
         140,
         207.85714285714286,
         208.9236641221374
        ],
        [
         7,
         "2015-01-20",
         30832.0,
         149,
         206.9261744966443,
         207.85714285714286
        ],
        [
         7,
         "2015-01-21",
         32530.0,
         158,
         205.8860759493671,
         206.9261744966443
        ],
        [
         7,
         "2015-01-22",
         34194.0,
         167,
         204.75449101796409,
         205.8860759493671
        ],
        [
         7,
         "2015-01-23",
         35944.0,
         176,
         204.22727272727272,
         204.75449101796409
        ],
        [
         7,
         "2015-01-24",
         37179.0,
         180,
         206.55,
         204.22727272727272
        ],
        [
         7,
         "2015-01-25",
         38814.0,
         188,
         206.45744680851064,
         206.55
        ],
        [
         7,
         "2015-01-26",
         40162.0,
         195,
         205.95897435897436,
         206.45744680851064
        ],
        [
         7,
         "2015-01-27",
         41475.0,
         201,
         206.34328358208955,
         205.95897435897436
        ],
        [
         7,
         "2015-01-28",
         43205.0,
         210,
         205.73809523809524,
         206.34328358208955
        ],
        [
         7,
         "2015-01-29",
         44974.0,
         219,
         205.36073059360731,
         205.73809523809524
        ],
        [
         7,
         "2015-01-30",
         46746.0,
         228,
         205.02631578947367,
         205.36073059360731
        ],
        [
         7,
         "2015-01-31",
         47960.0,
         232,
         206.72413793103448,
         205.02631578947367
        ],
        [
         7,
         "2015-02-01",
         49589.0,
         239,
         207.48535564853557,
         206.72413793103448
        ],
        [
         7,
         "2015-02-02",
         51341.0,
         248,
         207.0201612903226,
         207.48535564853557
        ],
        [
         7,
         "2015-02-03",
         53076.0,
         257,
         206.5214007782101,
         207.0201612903226
        ],
        [
         7,
         "2015-02-04",
         54708.0,
         265,
         206.4452830188679,
         206.5214007782101
        ],
        [
         7,
         "2015-02-05",
         56433.0,
         274,
         205.95985401459853,
         206.4452830188679
        ],
        [
         7,
         "2015-02-06",
         58166.0,
         283,
         205.53356890459364,
         205.95985401459853
        ],
        [
         7,
         "2015-02-07",
         59394.0,
         287,
         206.94773519163763,
         205.53356890459364
        ],
        [
         7,
         "2015-02-08",
         61087.0,
         295,
         207.07457627118643,
         206.94773519163763
        ],
        [
         7,
         "2015-02-09",
         62774.0,
         303,
         207.17491749174917,
         207.07457627118643
        ],
        [
         7,
         "2015-02-10",
         64522.0,
         312,
         206.80128205128204,
         207.17491749174917
        ],
        [
         7,
         "2015-02-11",
         66270.0,
         321,
         206.44859813084113,
         206.80128205128204
        ],
        [
         7,
         "2015-02-12",
         67871.0,
         329,
         206.29483282674772,
         206.44859813084113
        ],
        [
         7,
         "2015-02-13",
         69572.0,
         338,
         205.8343195266272,
         206.29483282674772
        ],
        [
         7,
         "2015-02-14",
         70795.0,
         342,
         207.00292397660817,
         205.8343195266272
        ],
        [
         7,
         "2015-02-15",
         72134.0,
         348,
         207.2816091954023,
         207.00292397660817
        ],
        [
         7,
         "2015-02-16",
         73905.0,
         357,
         207.01680672268907,
         207.2816091954023
        ],
        [
         7,
         "2015-02-17",
         75588.0,
         366,
         206.52459016393442,
         207.01680672268907
        ],
        [
         7,
         "2015-02-18",
         77307.0,
         375,
         206.152,
         206.52459016393442
        ],
        [
         7,
         "2015-02-19",
         79076.0,
         384,
         205.92708333333334,
         206.152
        ],
        [
         7,
         "2015-02-20",
         80819.0,
         393,
         205.64631043256998,
         205.92708333333334
        ],
        [
         7,
         "2015-02-21",
         82057.0,
         397,
         206.69269521410578,
         205.64631043256998
        ],
        [
         7,
         "2015-02-22",
         83761.0,
         405,
         206.81728395061728,
         206.69269521410578
        ],
        [
         7,
         "2015-02-23",
         85308.0,
         411,
         207.56204379562044,
         206.81728395061728
        ],
        [
         7,
         "2015-02-24",
         87059.0,
         420,
         207.28333333333333,
         207.56204379562044
        ],
        [
         7,
         "2015-02-25",
         88700.0,
         428,
         207.2429906542056,
         207.28333333333333
        ],
        [
         7,
         "2015-02-26",
         90351.0,
         436,
         207.22706422018348,
         207.2429906542056
        ],
        [
         7,
         "2015-02-27",
         92102.0,
         445,
         206.97078651685393,
         207.22706422018348
        ],
        [
         7,
         "2015-02-28",
         92860.0,
         448,
         207.27678571428572,
         206.97078651685393
        ],
        [
         7,
         "2015-03-01",
         94217.0,
         454,
         207.52643171806167,
         207.27678571428572
        ],
        [
         7,
         "2015-03-02",
         96000.0,
         463,
         207.34341252699784,
         207.52643171806167
        ],
        [
         7,
         "2015-03-03",
         97801.0,
         472,
         207.20550847457628,
         207.34341252699784
        ],
        [
         7,
         "2015-03-04",
         99612.0,
         481,
         207.0935550935551,
         207.20550847457628
        ],
        [
         7,
         "2015-03-05",
         100945.0,
         486,
         207.70576131687244,
         207.0935550935551
        ],
        [
         7,
         "2015-03-06",
         102377.0,
         494,
         207.2408906882591,
         207.70576131687244
        ],
        [
         7,
         "2015-03-07",
         103673.0,
         499,
         207.76152304609218,
         207.2408906882591
        ],
        [
         7,
         "2015-03-08",
         104489.0,
         503,
         207.73161033797217,
         207.76152304609218
        ],
        [
         7,
         "2015-03-09",
         105368.0,
         508,
         207.41732283464566,
         207.73161033797217
        ],
        [
         7,
         "2015-03-10",
         106692.0,
         514,
         207.57198443579767,
         207.41732283464566
        ],
        [
         7,
         "2015-03-11",
         108041.0,
         520,
         207.77115384615385,
         207.57198443579767
        ],
        [
         7,
         "2015-03-12",
         109375.0,
         526,
         207.93726235741445,
         207.77115384615385
        ],
        [
         7,
         "2015-03-13",
         110718.0,
         532,
         208.11654135338347,
         207.93726235741445
        ],
        [
         7,
         "2015-03-14",
         112027.0,
         538,
         208.228624535316,
         208.11654135338347
        ],
        [
         7,
         "2015-03-15",
         113260.0,
         543,
         208.58195211786372,
         208.228624535316
        ],
        [
         7,
         "2015-03-16",
         114556.0,
         549,
         208.6630236794171,
         208.58195211786372
        ],
        [
         7,
         "2015-03-17",
         115845.0,
         555,
         208.72972972972974,
         208.6630236794171
        ],
        [
         7,
         "2015-03-18",
         117172.0,
         561,
         208.86274509803923,
         208.72972972972974
        ],
        [
         7,
         "2015-03-19",
         118504.0,
         567,
         209.00176366843033,
         208.86274509803923
        ],
        [
         7,
         "2015-03-20",
         119871.0,
         573,
         209.19895287958116,
         209.00176366843033
        ],
        [
         7,
         "2015-03-21",
         121226.0,
         579,
         209.3713298791019,
         209.19895287958116
        ],
        [
         7,
         "2015-03-22",
         122513.0,
         584,
         209.78253424657535,
         209.3713298791019
        ],
        [
         7,
         "2015-03-23",
         123821.0,
         590,
         209.86610169491524,
         209.78253424657535
        ],
        [
         7,
         "2015-03-24",
         125096.0,
         596,
         209.89261744966444,
         209.86610169491524
        ],
        [
         7,
         "2015-03-25",
         126385.0,
         602,
         209.9418604651163,
         209.89261744966444
        ],
        [
         7,
         "2015-03-26",
         127673.0,
         608,
         209.98848684210526,
         209.9418604651163
        ],
        [
         7,
         "2015-03-27",
         128929.0,
         614,
         209.98208469055373,
         209.98848684210526
        ],
        [
         7,
         "2015-03-28",
         130189.0,
         620,
         209.98225806451612,
         209.98208469055373
        ],
        [
         7,
         "2015-03-29",
         131439.0,
         625,
         210.3024,
         209.98225806451612
        ],
        [
         7,
         "2015-03-30",
         132770.0,
         631,
         210.4120443740095,
         210.3024
        ],
        [
         7,
         "2015-03-31",
         134114.0,
         637,
         210.54003139717426,
         210.4120443740095
        ],
        [
         8,
         "2015-01-01",
         1229.0,
         4,
         307.25,
         0.0
        ],
        [
         8,
         "2015-01-02",
         2655.0,
         11,
         241.36363636363637,
         307.25
        ],
        [
         8,
         "2015-01-03",
         4084.0,
         18,
         226.88888888888889,
         241.36363636363637
        ],
        [
         8,
         "2015-01-04",
         5497.0,
         25,
         219.88,
         226.88888888888889
        ],
        [
         8,
         "2015-01-05",
         6908.0,
         32,
         215.875,
         219.88
        ],
        [
         8,
         "2015-01-06",
         8312.0,
         39,
         213.12820512820514,
         215.875
        ],
        [
         8,
         "2015-01-07",
         9734.0,
         46,
         211.6086956521739,
         213.12820512820514
        ],
        [
         8,
         "2015-01-08",
         11137.0,
         53,
         210.1320754716981,
         211.6086956521739
        ],
        [
         8,
         "2015-01-09",
         12556.0,
         60,
         209.26666666666668,
         210.1320754716981
        ],
        [
         8,
         "2015-01-10",
         13867.0,
         65,
         213.33846153846153,
         209.26666666666668
        ],
        [
         8,
         "2015-01-11",
         15205.0,
         70,
         217.21428571428572,
         213.33846153846153
        ],
        [
         8,
         "2015-01-12",
         16600.0,
         77,
         215.58441558441558,
         217.21428571428572
        ],
        [
         8,
         "2015-01-13",
         17804.0,
         83,
         214.50602409638554,
         215.58441558441558
        ],
        [
         8,
         "2015-01-14",
         19209.0,
         90,
         213.43333333333334,
         214.50602409638554
        ],
        [
         8,
         "2015-01-15",
         20574.0,
         97,
         212.10309278350516,
         213.43333333333334
        ],
        [
         8,
         "2015-01-16",
         21940.0,
         104,
         210.96153846153845,
         212.10309278350516
        ],
        [
         8,
         "2015-01-17",
         23215.0,
         109,
         212.9816513761468,
         210.96153846153845
        ],
        [
         8,
         "2015-01-18",
         24558.0,
         115,
         213.54782608695652,
         212.9816513761468
        ],
        [
         8,
         "2015-01-19",
         25958.0,
         122,
         212.7704918032787,
         213.54782608695652
        ],
        [
         8,
         "2015-01-20",
         27371.0,
         129,
         212.1782945736434,
         212.7704918032787
        ],
        [
         8,
         "2015-01-21",
         28719.0,
         134,
         214.32089552238807,
         212.1782945736434
        ],
        [
         8,
         "2015-01-22",
         30173.0,
         141,
         213.99290780141843,
         214.32089552238807
        ],
        [
         8,
         "2015-01-23",
         31601.0,
         148,
         213.52027027027026,
         213.99290780141843
        ],
        [
         8,
         "2015-01-24",
         32955.0,
         153,
         215.3921568627451,
         213.52027027027026
        ],
        [
         8,
         "2015-01-25",
         34304.0,
         158,
         217.1139240506329,
         215.3921568627451
        ],
        [
         8,
         "2015-01-26",
         35661.0,
         164,
         217.4451219512195,
         217.1139240506329
        ],
        [
         8,
         "2015-01-27",
         36791.0,
         170,
         216.41764705882352,
         217.4451219512195
        ],
        [
         8,
         "2015-01-28",
         38186.0,
         177,
         215.74011299435028,
         216.41764705882352
        ],
        [
         8,
         "2015-01-29",
         39567.0,
         184,
         215.03804347826087,
         215.74011299435028
        ],
        [
         8,
         "2015-01-30",
         41004.0,
         191,
         214.6806282722513,
         215.03804347826087
        ],
        [
         8,
         "2015-01-31",
         42212.0,
         195,
         216.47179487179488,
         214.6806282722513
        ],
        [
         8,
         "2015-02-01",
         43562.0,
         201,
         216.726368159204,
         216.47179487179488
        ],
        [
         8,
         "2015-02-02",
         44716.0,
         207,
         216.01932367149757,
         216.726368159204
        ],
        [
         8,
         "2015-02-03",
         46048.0,
         213,
         216.18779342723005,
         216.01932367149757
        ],
        [
         8,
         "2015-02-04",
         47447.0,
         220,
         215.6681818181818,
         216.18779342723005
        ],
        [
         8,
         "2015-02-05",
         48819.0,
         227,
         215.06167400881057,
         215.6681818181818
        ],
        [
         8,
         "2015-02-06",
         50167.0,
         234,
         214.38888888888889,
         215.06167400881057
        ],
        [
         8,
         "2015-02-07",
         51440.0,
         239,
         215.23012552301256,
         214.38888888888889
        ],
        [
         8,
         "2015-02-08",
         52687.0,
         244,
         215.93032786885246,
         215.23012552301256
        ],
        [
         8,
         "2015-02-09",
         54090.0,
         251,
         215.4980079681275,
         215.93032786885246
        ],
        [
         8,
         "2015-02-10",
         55504.0,
         258,
         215.13178294573643,
         215.4980079681275
        ],
        [
         8,
         "2015-02-11",
         56931.0,
         265,
         214.83396226415095,
         215.13178294573643
        ],
        [
         8,
         "2015-02-12",
         58338.0,
         272,
         214.47794117647058,
         214.83396226415095
        ],
        [
         8,
         "2015-02-13",
         59777.0,
         279,
         214.25448028673836,
         214.47794117647058
        ],
        [
         8,
         "2015-02-14",
         61135.0,
         284,
         215.26408450704224,
         214.25448028673836
        ],
        [
         8,
         "2015-02-15",
         62506.0,
         290,
         215.53793103448277,
         215.26408450704224
        ],
        [
         8,
         "2015-02-16",
         63949.0,
         297,
         215.31649831649833,
         215.53793103448277
        ],
        [
         8,
         "2015-02-17",
         65376.0,
         304,
         215.05263157894737,
         215.31649831649833
        ],
        [
         8,
         "2015-02-18",
         66737.0,
         310,
         215.28064516129032,
         215.05263157894737
        ],
        [
         8,
         "2015-02-19",
         68139.0,
         317,
         214.9495268138801,
         215.28064516129032
        ],
        [
         8,
         "2015-02-20",
         69570.0,
         324,
         214.72222222222223,
         214.9495268138801
        ],
        [
         8,
         "2015-02-21",
         70905.0,
         329,
         215.51671732522797,
         214.72222222222223
        ],
        [
         8,
         "2015-02-22",
         72271.0,
         335,
         215.73432835820896,
         215.51671732522797
        ],
        [
         8,
         "2015-02-23",
         73642.0,
         341,
         215.95894428152494,
         215.73432835820896
        ],
        [
         8,
         "2015-02-24",
         75043.0,
         348,
         215.64080459770116,
         215.95894428152494
        ],
        [
         8,
         "2015-02-25",
         76478.0,
         355,
         215.43098591549295,
         215.64080459770116
        ],
        [
         8,
         "2015-02-26",
         77912.0,
         362,
         215.22651933701658,
         215.43098591549295
        ],
        [
         8,
         "2015-02-27",
         78908.0,
         368,
         214.42391304347825,
         215.22651933701658
        ],
        [
         8,
         "2015-02-28",
         80250.0,
         373,
         215.14745308310992,
         214.42391304347825
        ],
        [
         8,
         "2015-03-01",
         81378.0,
         378,
         215.28571428571428,
         215.14745308310992
        ],
        [
         8,
         "2015-03-02",
         82780.0,
         385,
         215.01298701298703,
         215.28571428571428
        ],
        [
         8,
         "2015-03-03",
         84151.0,
         391,
         215.21994884910487,
         215.01298701298703
        ],
        [
         8,
         "2015-03-04",
         85537.0,
         398,
         214.91708542713567,
         215.21994884910487
        ],
        [
         8,
         "2015-03-05",
         86930.0,
         405,
         214.64197530864197,
         214.91708542713567
        ],
        [
         8,
         "2015-03-06",
         88046.0,
         411,
         214.22384428223845,
         214.64197530864197
        ],
        [
         8,
         "2015-03-07",
         89646.0,
         419,
         213.95226730310262,
         214.22384428223845
        ],
        [
         8,
         "2015-03-08",
         90985.0,
         425,
         214.08235294117648,
         213.95226730310262
        ],
        [
         8,
         "2015-03-09",
         92384.0,
         432,
         213.85185185185185,
         214.08235294117648
        ],
        [
         8,
         "2015-03-10",
         93751.0,
         439,
         213.55580865603645,
         213.85185185185185
        ],
        [
         8,
         "2015-03-11",
         95114.0,
         446,
         213.26008968609867,
         213.55580865603645
        ],
        [
         8,
         "2015-03-12",
         96517.0,
         453,
         213.06181015452538,
         213.26008968609867
        ],
        [
         8,
         "2015-03-13",
         97938.0,
         460,
         212.90869565217392,
         213.06181015452538
        ],
        [
         8,
         "2015-03-14",
         99301.0,
         465,
         213.5505376344086,
         212.90869565217392
        ],
        [
         8,
         "2015-03-15",
         100682.0,
         471,
         213.76220806794055,
         213.5505376344086
        ],
        [
         8,
         "2015-03-16",
         102075.0,
         478,
         213.5460251046025,
         213.76220806794055
        ],
        [
         8,
         "2015-03-17",
         103447.0,
         484,
         213.73347107438016,
         213.5460251046025
        ],
        [
         8,
         "2015-03-18",
         104829.0,
         491,
         213.5010183299389,
         213.73347107438016
        ],
        [
         8,
         "2015-03-19",
         106216.0,
         498,
         213.28514056224898,
         213.5010183299389
        ],
        [
         8,
         "2015-03-20",
         107350.0,
         504,
         212.99603174603175,
         213.28514056224898
        ],
        [
         8,
         "2015-03-21",
         108664.0,
         509,
         213.4852652259332,
         212.99603174603175
        ],
        [
         8,
         "2015-03-22",
         110056.0,
         515,
         213.70097087378642,
         213.4852652259332
        ],
        [
         8,
         "2015-03-23",
         111495.0,
         522,
         213.59195402298852,
         213.70097087378642
        ],
        [
         8,
         "2015-03-24",
         112926.0,
         529,
         213.47069943289225,
         213.59195402298852
        ],
        [
         8,
         "2015-03-25",
         114351.0,
         536,
         213.34141791044777,
         213.47069943289225
        ],
        [
         8,
         "2015-03-26",
         115829.0,
         543,
         213.31307550644567,
         213.34141791044777
        ],
        [
         8,
         "2015-03-27",
         117279.0,
         550,
         213.23454545454547,
         213.31307550644567
        ],
        [
         8,
         "2015-03-28",
         118604.0,
         555,
         213.7009009009009,
         213.23454545454547
        ],
        [
         8,
         "2015-03-29",
         119958.0,
         561,
         213.8288770053476,
         213.7009009009009
        ],
        [
         8,
         "2015-03-30",
         121331.0,
         568,
         213.61091549295776,
         213.8288770053476
        ],
        [
         8,
         "2015-03-31",
         122181.0,
         573,
         213.2303664921466,
         213.61091549295776
        ],
        [
         9,
         "2015-01-01",
         707.0,
         2,
         353.5,
         0.0
        ],
        [
         9,
         "2015-01-02",
         1113.0,
         4,
         278.25,
         353.5
        ],
        [
         9,
         "2015-01-03",
         2258.0,
         9,
         250.88888888888889,
         278.25
        ],
        [
         9,
         "2015-01-04",
         3440.0,
         14,
         245.71428571428572,
         250.88888888888889
        ],
        [
         9,
         "2015-01-05",
         4226.0,
         18,
         234.77777777777777,
         245.71428571428572
        ],
        [
         9,
         "2015-01-06",
         5220.0,
         24,
         217.5,
         234.77777777777777
        ],
        [
         9,
         "2015-01-07",
         6224.0,
         30,
         207.46666666666667,
         217.5
        ],
        [
         9,
         "2015-01-08",
         7216.0,
         36,
         200.44444444444446,
         207.46666666666667
        ],
        [
         9,
         "2015-01-09",
         8200.0,
         42,
         195.23809523809524,
         200.44444444444446
        ],
        [
         9,
         "2015-01-10",
         9219.0,
         45,
         204.86666666666667,
         195.23809523809524
        ],
        [
         9,
         "2015-01-11",
         10471.0,
         51,
         205.31372549019608,
         204.86666666666667
        ],
        [
         9,
         "2015-01-12",
         11497.0,
         57,
         201.7017543859649,
         205.31372549019608
        ],
        [
         9,
         "2015-01-13",
         12489.0,
         63,
         198.23809523809524,
         201.7017543859649
        ],
        [
         9,
         "2015-01-14",
         13458.0,
         69,
         195.04347826086956,
         198.23809523809524
        ],
        [
         9,
         "2015-01-15",
         14408.0,
         75,
         192.10666666666665,
         195.04347826086956
        ],
        [
         9,
         "2015-01-16",
         15389.0,
         81,
         189.98765432098764,
         192.10666666666665
        ],
        [
         9,
         "2015-01-17",
         16464.0,
         84,
         196.0,
         189.98765432098764
        ],
        [
         9,
         "2015-01-18",
         17776.0,
         90,
         197.51111111111112,
         196.0
        ],
        [
         9,
         "2015-01-19",
         18773.0,
         96,
         195.55208333333334,
         197.51111111111112
        ],
        [
         9,
         "2015-01-20",
         19749.0,
         102,
         193.61764705882354,
         195.55208333333334
        ],
        [
         9,
         "2015-01-21",
         20730.0,
         108,
         191.94444444444446,
         193.61764705882354
        ],
        [
         9,
         "2015-01-22",
         21689.0,
         114,
         190.25438596491227,
         191.94444444444446
        ],
        [
         9,
         "2015-01-23",
         22682.0,
         120,
         189.01666666666668,
         190.25438596491227
        ],
        [
         9,
         "2015-01-24",
         23687.0,
         123,
         192.5772357723577,
         189.01666666666668
        ],
        [
         9,
         "2015-01-25",
         24932.0,
         129,
         193.27131782945736,
         192.5772357723577
        ],
        [
         9,
         "2015-01-26",
         25884.0,
         135,
         191.73333333333332,
         193.27131782945736
        ],
        [
         9,
         "2015-01-27",
         26530.0,
         140,
         189.5,
         191.73333333333332
        ],
        [
         9,
         "2015-01-28",
         27197.0,
         145,
         187.5655172413793,
         189.5
        ],
        [
         9,
         "2015-01-29",
         28213.0,
         151,
         186.841059602649,
         187.5655172413793
        ],
        [
         9,
         "2015-01-30",
         29255.0,
         157,
         186.3375796178344,
         186.841059602649
        ],
        [
         9,
         "2015-01-31",
         30308.0,
         160,
         189.425,
         186.3375796178344
        ],
        [
         9,
         "2015-02-01",
         31594.0,
         166,
         190.32530120481928,
         189.425
        ],
        [
         9,
         "2015-02-02",
         32243.0,
         171,
         188.55555555555554,
         190.32530120481928
        ],
        [
         9,
         "2015-02-03",
         33244.0,
         177,
         187.819209039548,
         188.55555555555554
        ],
        [
         9,
         "2015-02-04",
         34260.0,
         183,
         187.21311475409837,
         187.819209039548
        ],
        [
         9,
         "2015-02-05",
         35268.0,
         189,
         186.6031746031746,
         187.21311475409837
        ],
        [
         9,
         "2015-02-06",
         36285.0,
         195,
         186.07692307692307,
         186.6031746031746
        ],
        [
         9,
         "2015-02-07",
         37316.0,
         198,
         188.46464646464648,
         186.07692307692307
        ],
        [
         9,
         "2015-02-08",
         38666.0,
         204,
         189.5392156862745,
         188.46464646464648
        ],
        [
         9,
         "2015-02-09",
         39662.0,
         210,
         188.86666666666667,
         189.5392156862745
        ],
        [
         9,
         "2015-02-10",
         40700.0,
         216,
         188.42592592592592,
         188.86666666666667
        ],
        [
         9,
         "2015-02-11",
         41712.0,
         222,
         187.8918918918919,
         188.42592592592592
        ],
        [
         9,
         "2015-02-12",
         42692.0,
         228,
         187.24561403508773,
         187.8918918918919
        ],
        [
         9,
         "2015-02-13",
         43668.0,
         234,
         186.6153846153846,
         187.24561403508773
        ],
        [
         9,
         "2015-02-14",
         44707.0,
         237,
         188.63713080168776,
         186.6153846153846
        ],
        [
         9,
         "2015-02-15",
         45641.0,
         242,
         188.599173553719,
         188.63713080168776
        ],
        [
         9,
         "2015-02-16",
         46638.0,
         248,
         188.05645161290323,
         188.599173553719
        ],
        [
         9,
         "2015-02-17",
         47599.0,
         254,
         187.39763779527559,
         188.05645161290323
        ],
        [
         9,
         "2015-02-18",
         48592.0,
         260,
         186.8923076923077,
         187.39763779527559
        ],
        [
         9,
         "2015-02-19",
         49597.0,
         266,
         186.45488721804512,
         186.8923076923077
        ],
        [
         9,
         "2015-02-20",
         50601.0,
         272,
         186.03308823529412,
         186.45488721804512
        ],
        [
         9,
         "2015-02-21",
         51640.0,
         275,
         187.78181818181818,
         186.03308823529412
        ],
        [
         9,
         "2015-02-22",
         52927.0,
         281,
         188.35231316725978,
         187.78181818181818
        ],
        [
         9,
         "2015-02-23",
         53859.0,
         285,
         188.97894736842105,
         188.35231316725978
        ],
        [
         9,
         "2015-02-24",
         54843.0,
         291,
         188.46391752577318,
         188.97894736842105
        ],
        [
         9,
         "2015-02-25",
         55835.0,
         297,
         187.996632996633,
         188.46391752577318
        ],
        [
         9,
         "2015-02-26",
         56811.0,
         303,
         187.4950495049505,
         187.996632996633
        ],
        [
         9,
         "2015-02-27",
         57803.0,
         309,
         187.06472491909386,
         187.4950495049505
        ],
        [
         9,
         "2015-02-28",
         58863.0,
         312,
         188.66346153846155,
         187.06472491909386
        ],
        [
         9,
         "2015-03-01",
         60175.0,
         318,
         189.22955974842768,
         188.66346153846155
        ],
        [
         9,
         "2015-03-02",
         61223.0,
         324,
         188.95987654320987,
         189.22955974842768
        ],
        [
         9,
         "2015-03-03",
         62250.0,
         330,
         188.63636363636363,
         188.95987654320987
        ],
        [
         9,
         "2015-03-04",
         63322.0,
         336,
         188.45833333333334,
         188.63636363636363
        ],
        [
         9,
         "2015-03-05",
         63987.0,
         341,
         187.6451612903226,
         188.45833333333334
        ],
        [
         9,
         "2015-03-06",
         64969.0,
         347,
         187.23054755043228,
         187.6451612903226
        ],
        [
         9,
         "2015-03-07",
         66200.0,
         352,
         188.0681818181818,
         187.23054755043228
        ],
        [
         9,
         "2015-03-08",
         67429.0,
         357,
         188.8767507002801,
         188.0681818181818
        ],
        [
         9,
         "2015-03-09",
         68261.0,
         361,
         189.08864265927977,
         188.8767507002801
        ],
        [
         9,
         "2015-03-10",
         69092.0,
         365,
         189.2931506849315,
         189.08864265927977
        ],
        [
         9,
         "2015-03-11",
         69931.0,
         369,
         189.5149051490515,
         189.2931506849315
        ],
        [
         9,
         "2015-03-12",
         70781.0,
         373,
         189.76139410187668,
         189.5149051490515
        ],
        [
         9,
         "2015-03-13",
         71626.0,
         377,
         189.9893899204244,
         189.76139410187668
        ],
        [
         9,
         "2015-03-14",
         72636.0,
         380,
         191.14736842105262,
         189.9893899204244
        ],
        [
         9,
         "2015-03-15",
         73714.0,
         384,
         191.96354166666666,
         191.14736842105262
        ],
        [
         9,
         "2015-03-16",
         74485.0,
         388,
         191.97164948453607,
         191.96354166666666
        ],
        [
         9,
         "2015-03-17",
         75238.0,
         391,
         192.42455242966753,
         191.97164948453607
        ],
        [
         9,
         "2015-03-18",
         76045.0,
         395,
         192.51898734177215,
         192.42455242966753
        ],
        [
         9,
         "2015-03-19",
         76850.0,
         399,
         192.60651629072683,
         192.51898734177215
        ],
        [
         9,
         "2015-03-20",
         77641.0,
         403,
         192.6575682382134,
         192.60651629072683
        ],
        [
         9,
         "2015-03-21",
         78706.0,
         406,
         193.85714285714286,
         192.6575682382134
        ],
        [
         9,
         "2015-03-22",
         79853.0,
         411,
         194.28953771289537,
         193.85714285714286
        ],
        [
         9,
         "2015-03-23",
         80646.0,
         415,
         194.3277108433735,
         194.28953771289537
        ],
        [
         9,
         "2015-03-24",
         81427.0,
         419,
         194.3365155131265,
         194.3277108433735
        ],
        [
         9,
         "2015-03-25",
         82229.0,
         423,
         194.39479905437352,
         194.3365155131265
        ],
        [
         9,
         "2015-03-26",
         83001.0,
         427,
         194.38173302107728,
         194.39479905437352
        ],
        [
         9,
         "2015-03-27",
         83767.0,
         431,
         194.3549883990719,
         194.38173302107728
        ],
        [
         9,
         "2015-03-28",
         84757.0,
         434,
         195.2926267281106,
         194.3549883990719
        ],
        [
         9,
         "2015-03-29",
         85906.0,
         439,
         195.6856492027335,
         195.2926267281106
        ],
        [
         9,
         "2015-03-30",
         86732.0,
         443,
         195.78329571106096,
         195.6856492027335
        ],
        [
         9,
         "2015-03-31",
         87550.0,
         447,
         195.8612975391499,
         195.78329571106096
        ],
        [
         10,
         "2015-01-01",
         679.0,
         3,
         226.33333333333334,
         0.0
        ],
        [
         10,
         "2015-01-02",
         1860.0,
         9,
         206.66666666666666,
         226.33333333333334
        ],
        [
         10,
         "2015-01-03",
         3052.0,
         15,
         203.46666666666667,
         206.66666666666666
        ],
        [
         10,
         "2015-01-04",
         3902.0,
         20,
         195.1,
         203.46666666666667
        ],
        [
         10,
         "2015-01-05",
         4760.0,
         25,
         190.4,
         195.1
        ],
        [
         10,
         "2015-01-06",
         5396.0,
         29,
         186.06896551724137,
         190.4
        ],
        [
         10,
         "2015-01-07",
         6183.0,
         34,
         181.85294117647058,
         186.06896551724137
        ],
        [
         10,
         "2015-01-08",
         6971.0,
         39,
         178.74358974358975,
         181.85294117647058
        ],
        [
         10,
         "2015-01-09",
         8029.0,
         45,
         178.42222222222222,
         178.74358974358975
        ],
        [
         10,
         "2015-01-10",
         8896.0,
         48,
         185.33333333333334,
         178.42222222222222
        ],
        [
         10,
         "2015-01-11",
         9667.0,
         52,
         185.90384615384616,
         185.33333333333334
        ],
        [
         10,
         "2015-01-12",
         10463.0,
         57,
         183.56140350877192,
         185.90384615384616
        ],
        [
         10,
         "2015-01-13",
         11258.0,
         62,
         181.58064516129033,
         183.56140350877192
        ],
        [
         10,
         "2015-01-14",
         12065.0,
         67,
         180.07462686567163,
         181.58064516129033
        ],
        [
         10,
         "2015-01-15",
         12851.0,
         72,
         178.48611111111111,
         180.07462686567163
        ],
        [
         10,
         "2015-01-16",
         13913.0,
         78,
         178.37179487179486,
         178.48611111111111
        ],
        [
         10,
         "2015-01-17",
         14742.0,
         81,
         182.0,
         178.37179487179486
        ],
        [
         10,
         "2015-01-18",
         15491.0,
         85,
         182.24705882352941,
         182.0
        ],
        [
         10,
         "2015-01-19",
         16287.0,
         90,
         180.96666666666667,
         182.24705882352941
        ],
        [
         10,
         "2015-01-20",
         17082.0,
         95,
         179.81052631578947,
         180.96666666666667
        ],
        [
         10,
         "2015-01-21",
         17868.0,
         100,
         178.68,
         179.81052631578947
        ],
        [
         10,
         "2015-01-22",
         18491.0,
         103,
         179.5242718446602,
         178.68
        ],
        [
         10,
         "2015-01-23",
         19586.0,
         109,
         179.6880733944954,
         179.5242718446602
        ],
        [
         10,
         "2015-01-24",
         20460.0,
         112,
         182.67857142857142,
         179.6880733944954
        ],
        [
         10,
         "2015-01-25",
         21247.0,
         116,
         183.16379310344828,
         182.67857142857142
        ],
        [
         10,
         "2015-01-26",
         21775.0,
         120,
         181.45833333333334,
         183.16379310344828
        ],
        [
         10,
         "2015-01-27",
         22294.0,
         124,
         179.79032258064515,
         181.45833333333334
        ],
        [
         10,
         "2015-01-28",
         23088.0,
         129,
         178.97674418604652,
         179.79032258064515
        ],
        [
         10,
         "2015-01-29",
         23857.0,
         134,
         178.03731343283582,
         178.97674418604652
        ],
        [
         10,
         "2015-01-30",
         24901.0,
         140,
         177.86428571428573,
         178.03731343283582
        ],
        [
         10,
         "2015-01-31",
         25770.0,
         143,
         180.2097902097902,
         177.86428571428573
        ],
        [
         10,
         "2015-02-01",
         26217.0,
         146,
         179.56849315068493,
         180.2097902097902
        ],
        [
         10,
         "2015-02-02",
         26992.0,
         151,
         178.75496688741723,
         179.56849315068493
        ],
        [
         10,
         "2015-02-03",
         27794.0,
         156,
         178.16666666666666,
         178.75496688741723
        ],
        [
         10,
         "2015-02-04",
         28578.0,
         161,
         177.50310559006212,
         178.16666666666666
        ],
        [
         10,
         "2015-02-05",
         29383.0,
         166,
         177.00602409638554,
         177.50310559006212
        ],
        [
         10,
         "2015-02-06",
         30453.0,
         172,
         177.05232558139534,
         177.00602409638554
        ],
        [
         10,
         "2015-02-07",
         31258.0,
         175,
         178.61714285714285,
         177.05232558139534
        ],
        [
         10,
         "2015-02-08",
         32015.0,
         179,
         178.85474860335196,
         178.61714285714285
        ],
        [
         10,
         "2015-02-09",
         32799.0,
         184,
         178.2554347826087,
         178.85474860335196
        ],
        [
         10,
         "2015-02-10",
         33604.0,
         189,
         177.7989417989418,
         178.2554347826087
        ],
        [
         10,
         "2015-02-11",
         34385.0,
         194,
         177.2422680412371,
         177.7989417989418
        ],
        [
         10,
         "2015-02-12",
         35193.0,
         199,
         176.84924623115577,
         177.2422680412371
        ],
        [
         10,
         "2015-02-13",
         36340.0,
         206,
         176.40776699029126,
         176.84924623115577
        ],
        [
         10,
         "2015-02-14",
         36909.0,
         208,
         177.4471153846154,
         176.40776699029126
        ],
        [
         10,
         "2015-02-15",
         37760.0,
         213,
         177.27699530516432,
         177.4471153846154
        ],
        [
         10,
         "2015-02-16",
         38643.0,
         219,
         176.45205479452054,
         177.27699530516432
        ],
        [
         10,
         "2015-02-17",
         39407.0,
         224,
         175.92410714285714,
         176.45205479452054
        ],
        [
         10,
         "2015-02-18",
         40301.0,
         230,
         175.22173913043477,
         175.92410714285714
        ],
        [
         10,
         "2015-02-19",
         41158.0,
         236,
         174.39830508474577,
         175.22173913043477
        ],
        [
         10,
         "2015-02-20",
         42286.0,
         243,
         174.0164609053498,
         174.39830508474577
        ],
        [
         10,
         "2015-02-21",
         43133.0,
         246,
         175.33739837398375,
         174.0164609053498
        ],
        [
         10,
         "2015-02-22",
         43963.0,
         251,
         175.15139442231074,
         175.33739837398375
        ],
        [
         10,
         "2015-02-23",
         44830.0,
         257,
         174.43579766536965,
         175.15139442231074
        ],
        [
         10,
         "2015-02-24",
         45704.0,
         263,
         173.77946768060838,
         174.43579766536965
        ],
        [
         10,
         "2015-02-25",
         46589.0,
         269,
         173.19330855018586,
         173.77946768060838
        ],
        [
         10,
         "2015-02-26",
         47459.0,
         275,
         172.57818181818183,
         173.19330855018586
        ],
        [
         10,
         "2015-02-27",
         48622.0,
         282,
         172.41843971631207,
         172.57818181818183
        ],
        [
         10,
         "2015-02-28",
         49457.0,
         285,
         173.53333333333333,
         172.41843971631207
        ],
        [
         10,
         "2015-03-01",
         50270.0,
         290,
         173.3448275862069,
         173.53333333333333
        ],
        [
         10,
         "2015-03-02",
         51017.0,
         295,
         172.93898305084747,
         173.3448275862069
        ],
        [
         10,
         "2015-03-03",
         51748.0,
         299,
         173.0702341137124,
         172.93898305084747
        ],
        [
         10,
         "2015-03-04",
         52512.0,
         304,
         172.73684210526315,
         173.0702341137124
        ],
        [
         10,
         "2015-03-05",
         52867.0,
         307,
         172.20521172638436,
         172.73684210526315
        ],
        [
         10,
         "2015-03-06",
         53914.0,
         313,
         172.24920127795528,
         172.20521172638436
        ],
        [
         10,
         "2015-03-07",
         55036.0,
         317,
         173.61514195583595,
         172.24920127795528
        ],
        [
         10,
         "2015-03-08",
         55781.0,
         321,
         173.77258566978193,
         173.61514195583595
        ],
        [
         10,
         "2015-03-09",
         56605.0,
         326,
         173.63496932515338,
         173.77258566978193
        ],
        [
         10,
         "2015-03-10",
         57424.0,
         331,
         173.48640483383687,
         173.63496932515338
        ],
        [
         10,
         "2015-03-11",
         58232.0,
         336,
         173.3095238095238,
         173.48640483383687
        ],
        [
         10,
         "2015-03-12",
         59022.0,
         340,
         173.59411764705882,
         173.3095238095238
        ],
        [
         10,
         "2015-03-13",
         60182.0,
         346,
         173.9364161849711,
         173.59411764705882
        ],
        [
         10,
         "2015-03-14",
         61068.0,
         349,
         174.97994269340975,
         173.9364161849711
        ],
        [
         10,
         "2015-03-15",
         61913.0,
         354,
         174.8954802259887,
         174.97994269340975
        ],
        [
         10,
         "2015-03-16",
         62768.0,
         359,
         174.84122562674094,
         174.8954802259887
        ],
        [
         10,
         "2015-03-17",
         63586.0,
         364,
         174.6868131868132,
         174.84122562674094
        ],
        [
         10,
         "2015-03-18",
         64412.0,
         369,
         174.55826558265582,
         174.6868131868132
        ],
        [
         10,
         "2015-03-19",
         65228.0,
         374,
         174.40641711229947,
         174.55826558265582
        ],
        [
         10,
         "2015-03-20",
         66345.0,
         380,
         174.5921052631579,
         174.40641711229947
        ],
        [
         10,
         "2015-03-21",
         67212.0,
         383,
         175.48825065274153,
         174.5921052631579
        ],
        [
         10,
         "2015-03-22",
         68032.0,
         388,
         175.340206185567,
         175.48825065274153
        ],
        [
         10,
         "2015-03-23",
         68870.0,
         393,
         175.2417302798982,
         175.340206185567
        ],
        [
         10,
         "2015-03-24",
         69712.0,
         398,
         175.15577889447235,
         175.2417302798982
        ],
        [
         10,
         "2015-03-25",
         70565.0,
         403,
         175.09925558312656,
         175.15577889447235
        ],
        [
         10,
         "2015-03-26",
         71409.0,
         408,
         175.02205882352942,
         175.09925558312656
        ],
        [
         10,
         "2015-03-27",
         72557.0,
         414,
         175.2584541062802,
         175.02205882352942
        ],
        [
         10,
         "2015-03-28",
         73427.0,
         417,
         176.08393285371702,
         175.2584541062802
        ],
        [
         10,
         "2015-03-29",
         74307.0,
         422,
         176.0829383886256,
         176.08393285371702
        ],
        [
         10,
         "2015-03-30",
         75177.0,
         427,
         176.05854800936768,
         176.0829383886256
        ],
        [
         10,
         "2015-03-31",
         75656.0,
         430,
         175.94418604651162,
         176.05854800936768
        ],
        [
         11,
         "2015-01-01",
         656.0,
         2,
         328.0,
         0.0
        ],
        [
         11,
         "2015-01-02",
         1883.0,
         6,
         313.8333333333333,
         328.0
        ],
        [
         11,
         "2015-01-03",
         3313.0,
         13,
         254.84615384615384,
         313.8333333333333
        ],
        [
         11,
         "2015-01-04",
         4816.0,
         21,
         229.33333333333334,
         254.84615384615384
        ],
        [
         11,
         "2015-01-05",
         6015.0,
         25,
         240.6,
         229.33333333333334
        ],
        [
         11,
         "2015-01-06",
         7198.0,
         29,
         248.20689655172413,
         240.6
        ],
        [
         11,
         "2015-01-07",
         8377.0,
         33,
         253.84848484848484,
         248.20689655172413
        ],
        [
         11,
         "2015-01-08",
         9531.0,
         37,
         257.5945945945946,
         253.84848484848484
        ],
        [
         11,
         "2015-01-09",
         10699.0,
         41,
         260.9512195121951,
         257.5945945945946
        ],
        [
         11,
         "2015-01-10",
         11874.0,
         45,
         263.8666666666667,
         260.9512195121951
        ],
        [
         11,
         "2015-01-11",
         13006.0,
         49,
         265.42857142857144,
         263.8666666666667
        ],
        [
         11,
         "2015-01-12",
         14141.0,
         53,
         266.811320754717,
         265.42857142857144
        ],
        [
         11,
         "2015-01-13",
         15241.0,
         57,
         267.3859649122807,
         266.811320754717
        ],
        [
         11,
         "2015-01-14",
         16338.0,
         61,
         267.8360655737705,
         267.3859649122807
        ],
        [
         11,
         "2015-01-15",
         17496.0,
         65,
         269.16923076923075,
         267.8360655737705
        ],
        [
         11,
         "2015-01-16",
         18672.0,
         69,
         270.60869565217394,
         269.16923076923075
        ],
        [
         11,
         "2015-01-17",
         19701.0,
         72,
         273.625,
         270.60869565217394
        ],
        [
         11,
         "2015-01-18",
         20892.0,
         76,
         274.89473684210526,
         273.625
        ],
        [
         11,
         "2015-01-19",
         22056.0,
         80,
         275.7,
         274.89473684210526
        ],
        [
         11,
         "2015-01-20",
         23171.0,
         84,
         275.8452380952381,
         275.7
        ],
        [
         11,
         "2015-01-21",
         24234.0,
         88,
         275.3863636363636,
         275.8452380952381
        ],
        [
         11,
         "2015-01-22",
         25333.0,
         92,
         275.35869565217394,
         275.3863636363636
        ],
        [
         11,
         "2015-01-23",
         26475.0,
         96,
         275.78125,
         275.35869565217394
        ],
        [
         11,
         "2015-01-24",
         27595.0,
         100,
         275.95,
         275.78125
        ],
        [
         11,
         "2015-01-25",
         28708.0,
         104,
         276.03846153846155,
         275.95
        ],
        [
         11,
         "2015-01-26",
         29812.0,
         108,
         276.037037037037,
         276.03846153846155
        ],
        [
         11,
         "2015-01-27",
         30257.0,
         110,
         275.06363636363636,
         276.037037037037
        ],
        [
         11,
         "2015-01-28",
         31041.0,
         113,
         274.6991150442478,
         275.06363636363636
        ],
        [
         11,
         "2015-01-29",
         32196.0,
         117,
         275.1794871794872,
         274.6991150442478
        ],
        [
         11,
         "2015-01-30",
         33425.0,
         121,
         276.2396694214876,
         275.1794871794872
        ],
        [
         11,
         "2015-01-31",
         34633.0,
         125,
         277.064,
         276.2396694214876
        ],
        [
         11,
         "2015-02-01",
         36064.0,
         131,
         275.2977099236641,
         277.064
        ],
        [
         11,
         "2015-02-02",
         36527.0,
         133,
         274.6390977443609,
         275.2977099236641
        ],
        [
         11,
         "2015-02-03",
         37742.0,
         137,
         275.4890510948905,
         274.6390977443609
        ],
        [
         11,
         "2015-02-04",
         38934.0,
         141,
         276.1276595744681,
         275.4890510948905
        ],
        [
         11,
         "2015-02-05",
         40137.0,
         145,
         276.80689655172415,
         276.1276595744681
        ],
        [
         11,
         "2015-02-06",
         41360.0,
         149,
         277.5838926174497,
         276.80689655172415
        ],
        [
         11,
         "2015-02-07",
         42589.0,
         153,
         278.359477124183,
         277.5838926174497
        ],
        [
         11,
         "2015-02-08",
         43778.0,
         157,
         278.8407643312102,
         278.359477124183
        ],
        [
         11,
         "2015-02-09",
         44569.0,
         160,
         278.55625,
         278.8407643312102
        ],
        [
         11,
         "2015-02-10",
         45730.0,
         164,
         278.8414634146341,
         278.55625
        ],
        [
         11,
         "2015-02-11",
         46560.0,
         167,
         278.8023952095808,
         278.8414634146341
        ],
        [
         11,
         "2015-02-12",
         47703.0,
         171,
         278.96491228070175,
         278.8023952095808
        ],
        [
         11,
         "2015-02-13",
         48842.0,
         175,
         279.09714285714284,
         278.96491228070175
        ],
        [
         11,
         "2015-02-14",
         50023.0,
         179,
         279.4581005586592,
         279.09714285714284
        ],
        [
         11,
         "2015-02-15",
         50854.0,
         182,
         279.4175824175824,
         279.4581005586592
        ],
        [
         11,
         "2015-02-16",
         52007.0,
         186,
         279.60752688172045,
         279.4175824175824
        ],
        [
         11,
         "2015-02-17",
         52782.0,
         189,
         279.26984126984127,
         279.60752688172045
        ],
        [
         11,
         "2015-02-18",
         53943.0,
         193,
         279.4974093264249,
         279.26984126984127
        ],
        [
         11,
         "2015-02-19",
         55106.0,
         197,
         279.7258883248731,
         279.4974093264249
        ],
        [
         11,
         "2015-02-20",
         56270.0,
         201,
         279.9502487562189,
         279.7258883248731
        ],
        [
         11,
         "2015-02-21",
         57075.0,
         204,
         279.77941176470586,
         279.9502487562189
        ],
        [
         11,
         "2015-02-22",
         58170.0,
         208,
         279.66346153846155,
         279.77941176470586
        ],
        [
         11,
         "2015-02-23",
         59275.0,
         212,
         279.5990566037736,
         279.66346153846155
        ],
        [
         11,
         "2015-02-24",
         60395.0,
         216,
         279.60648148148147,
         279.5990566037736
        ],
        [
         11,
         "2015-02-25",
         61534.0,
         220,
         279.7,
         279.60648148148147
        ],
        [
         11,
         "2015-02-26",
         62637.0,
         224,
         279.6294642857143,
         279.7
        ],
        [
         11,
         "2015-02-27",
         63780.0,
         228,
         279.7368421052632,
         279.6294642857143
        ],
        [
         11,
         "2015-02-28",
         64928.0,
         232,
         279.86206896551727,
         279.7368421052632
        ],
        [
         11,
         "2015-03-01",
         65771.0,
         235,
         279.87659574468086,
         279.86206896551727
        ],
        [
         11,
         "2015-03-02",
         66235.0,
         237,
         279.47257383966246,
         279.87659574468086
        ],
        [
         11,
         "2015-03-03",
         67423.0,
         241,
         279.76348547717845,
         279.47257383966246
        ],
        [
         11,
         "2015-03-04",
         68626.0,
         245,
         280.1061224489796,
         279.76348547717845
        ],
        [
         11,
         "2015-03-05",
         69416.0,
         248,
         279.9032258064516,
         280.1061224489796
        ],
        [
         11,
         "2015-03-06",
         70562.0,
         252,
         280.0079365079365,
         279.9032258064516
        ],
        [
         11,
         "2015-03-07",
         71981.0,
         258,
         278.99612403100775,
         280.0079365079365
        ],
        [
         11,
         "2015-03-08",
         73196.0,
         262,
         279.37404580152673,
         278.99612403100775
        ],
        [
         11,
         "2015-03-09",
         74356.0,
         266,
         279.5338345864662,
         279.37404580152673
        ],
        [
         11,
         "2015-03-10",
         75551.0,
         270,
         279.81851851851854,
         279.5338345864662
        ],
        [
         11,
         "2015-03-11",
         76764.0,
         274,
         280.16058394160586,
         279.81851851851854
        ],
        [
         11,
         "2015-03-12",
         78100.0,
         279,
         279.9283154121864,
         280.16058394160586
        ],
        [
         11,
         "2015-03-13",
         79444.0,
         284,
         279.7323943661972,
         279.9283154121864
        ],
        [
         11,
         "2015-03-14",
         80808.0,
         290,
         278.64827586206894,
         279.7323943661972
        ],
        [
         11,
         "2015-03-15",
         82132.0,
         295,
         278.4135593220339,
         278.64827586206894
        ],
        [
         11,
         "2015-03-16",
         83437.0,
         300,
         278.12333333333333,
         278.4135593220339
        ],
        [
         11,
         "2015-03-17",
         84769.0,
         305,
         277.9311475409836,
         278.12333333333333
        ],
        [
         11,
         "2015-03-18",
         86134.0,
         310,
         277.8516129032258,
         277.9311475409836
        ],
        [
         11,
         "2015-03-19",
         87290.0,
         314,
         277.9936305732484,
         277.8516129032258
        ],
        [
         11,
         "2015-03-20",
         88127.0,
         317,
         278.0031545741325,
         277.9936305732484
        ],
        [
         11,
         "2015-03-21",
         89359.0,
         322,
         277.5124223602484,
         278.0031545741325
        ],
        [
         11,
         "2015-03-22",
         90541.0,
         326,
         277.73312883435585,
         277.5124223602484
        ],
        [
         11,
         "2015-03-23",
         91669.0,
         330,
         277.7848484848485,
         277.73312883435585
        ],
        [
         11,
         "2015-03-24",
         92787.0,
         334,
         277.8053892215569,
         277.7848484848485
        ],
        [
         11,
         "2015-03-25",
         93917.0,
         338,
         277.8609467455621,
         277.8053892215569
        ],
        [
         11,
         "2015-03-26",
         95049.0,
         342,
         277.92105263157896,
         277.8609467455621
        ],
        [
         11,
         "2015-03-27",
         96146.0,
         346,
         277.87861271676303,
         277.92105263157896
        ],
        [
         11,
         "2015-03-28",
         97292.0,
         351,
         277.18518518518516,
         277.87861271676303
        ],
        [
         11,
         "2015-03-29",
         98438.0,
         355,
         277.2901408450704,
         277.18518518518516
        ],
        [
         11,
         "2015-03-30",
         99601.0,
         359,
         277.4401114206128,
         277.2901408450704
        ],
        [
         11,
         "2015-03-31",
         100778.0,
         363,
         277.6253443526171,
         277.4401114206128
        ],
        [
         12,
         "2015-01-01",
         1608.0,
         8,
         201.0,
         0.0
        ],
        [
         12,
         "2015-01-02",
         3591.0,
         20,
         179.55,
         201.0
        ],
        [
         12,
         "2015-01-03",
         5333.0,
         27,
         197.5185185185185,
         179.55
        ],
        [
         12,
         "2015-01-04",
         6841.0,
         35,
         195.45714285714286,
         197.5185185185185
        ],
        [
         12,
         "2015-01-05",
         8512.0,
         44,
         193.45454545454547,
         195.45714285714286
        ],
        [
         12,
         "2015-01-06",
         10177.0,
         54,
         188.46296296296296,
         193.45454545454547
        ],
        [
         12,
         "2015-01-07",
         12028.0,
         64,
         187.9375,
         188.46296296296296
        ],
        [
         12,
         "2015-01-08",
         13806.0,
         73,
         189.12328767123287,
         187.9375
        ],
        [
         12,
         "2015-01-09",
         15715.0,
         84,
         187.08333333333334,
         189.12328767123287
        ],
        [
         12,
         "2015-01-10",
         17127.0,
         90,
         190.3,
         187.08333333333334
        ]
       ],
       "datasetInfos": [],
       "dbfsResultPath": null,
       "isJsonSchema": true,
       "metadata": {},
       "overflow": false,
       "plotOptions": {
        "customPlotOptions": {},
        "displayType": "table",
        "pivotAggregation": null,
        "pivotColumns": null,
        "xColumns": null,
        "yColumns": null
       },
       "removedWidgets": [],
       "schema": [
        {
         "metadata": "{}",
         "name": "FLIGHT_NUM",
         "type": "\"integer\""
        },
        {
         "metadata": "{}",
         "name": "FLIGHT_DATE",
         "type": "\"date\""
        },
        {
         "metadata": "{}",
         "name": "SUM_DURATION_BY_FLIGHT",
         "type": "\"double\""
        },
        {
         "metadata": "{}",
         "name": "NUM_FLIGHT_TODAY",
         "type": "\"long\""
        },
        {
         "metadata": "{}",
         "name": "AVG_DURATION",
         "type": "\"double\""
        },
        {
         "metadata": "{}",
         "name": "PRIOR_AVG_DURATION",
         "type": "\"double\""
        }
       ],
       "type": "table"
      }
     },
     "output_type": "display_data"
    },
    {
     "output_type": "stream",
     "name": "stdout",
     "output_type": "stream",
     "text": [
      "count after label\n"
     ]
    },
    {
     "output_type": "display_data",
     "data": {
      "text/plain": [
       "1357914"
      ]
     },
     "metadata": {},
     "output_type": "display_data"
    },
    {
     "output_type": "stream",
     "name": "stdout",
     "output_type": "stream",
     "text": [
      "root\n |-- label: double (nullable = true)\n |-- DISTANCE: double (nullable = true)\n |-- ELEVATION: double (nullable = true)\n |-- FE_PRIOR_DAILY_AVG_DEP_DELAY: double (nullable = true)\n |-- FE_PRIOR_AVG_DURATION: double (nullable = true)\n |-- FE_NUM_FLIGHT_SCHEDULED: long (nullable = true)\n |-- DEP_DELAY_LAG: double (nullable = false)\n |-- DAY_OF_WEEK: integer (nullable = true)\n |-- MONTH: integer (nullable = true)\n |-- YEAR: integer (nullable = true)\n |-- OP_UNIQUE_CARRIER: string (nullable = true)\n |-- origin_type: string (nullable = true)\n |-- dest_type: string (nullable = true)\n |-- is_holiday_double: double (nullable = true)\n |-- is_holiday_adjacent_double: double (nullable = true)\n |-- IS_FIRST_FLIGHT_OF_DAY_double: double (nullable = false)\n |-- DATE: timestamp (nullable = true)\n |-- FL_DATE: date (nullable = true)\n |-- OP_CARRIER_FL_NUM: integer (nullable = true)\n |-- DEP_DELAY: double (nullable = true)\n |-- AIR_TIME: double (nullable = true)\n |-- DEP_TIME_BLK: string (nullable = true)\n |-- origin_iata_code: string (nullable = true)\n |-- dest_iata_code: string (nullable = true)\n |-- TAIL_NUM: string (nullable = true)\n |-- sched_depart_date_time_UTC: timestamp (nullable = true)\n |-- CRS_DEP_TIME: integer (nullable = true)\n |-- ORIGIN: string (nullable = true)\n |-- DEST: string (nullable = true)\n\n['DAY_OF_WEEK_hot', 'MONTH_hot', 'YEAR_hot', 'OP_UNIQUE_CARRIER_hot', 'origin_type_hot', 'dest_type_hot', 'is_holiday_double_hot', 'is_holiday_adjacent_double_hot', 'IS_FIRST_FLIGHT_OF_DAY_double_hot', 'CRS_DEP_BUCKET_hot']\n+--------------------+\n|                 _c0|\n+--------------------+\n|IS_FIRST_FLIGHT_O...|\n|is_holiday_adjace...|\n|OP_UNIQUE_CARRIER...|\n|is_holiday_double...|\n|  CRS_DEP_BUCKET_hot|\n|     DAY_OF_WEEK_hot|\n|     origin_type_hot|\n|       dest_type_hot|\n|           MONTH_hot|\n|            YEAR_hot|\n+--------------------+\n\n"
     ]
    }
   ],
   "source": [
    "########## PIPELINE STAGE 1 DATA CLEANING: CLEAN ALL DATA ###########\n",
    "# Run this whenever we get a new time span of data or change our data cleaning process (pipelineAllData())\n",
    "\n",
    "####### 1. Pipeline Step 1: Data Transformation ########\n",
    "# (drop unneeded rows, add new features that do no leak, one-hot encode categorical).\n",
    "\n",
    "# Load Dataset\n",
    "df_otpw60 = spark.read.parquet(f'{team_blob_url}/OTPW_60M')\n",
    "#df_optw3m = spark.read.parquet(f'{team_blob_url}/OTPW_3M_2015')\n",
    "\n",
    "# Clean the Data\n",
    "features = []  # Features list will hold all final feature column names.  \n",
    "pipelineModel, df_slim = pipelineAllData(df_otpw60)\n",
    "cleanDF = pipelineModel.transform(df_slim)\n",
    "featuresList(features)  # Store global features list after cleaning data\n",
    "cleanDF.cache()\n",
    "\n",
    "# Checkpoint the Clean Data\n",
    "fold_name_clean = 'train_clean'\n",
    "cleanDF.write.format(\"parquet\").mode(\"overwrite\")\\\n",
    "    .option(\"path\", (f\"{team_blob_url}/{fold_name_clean}/baseline\" + timeInterval))\\\n",
    "    .save()"
   ]
  },
  {
   "cell_type": "code",
   "execution_count": 0,
   "metadata": {
    "application/vnd.databricks.v1+cell": {
     "cellMetadata": {
      "byteLimit": 2048000,
      "rowLimit": 10000
     },
     "inputWidgets": {},
     "nuid": "86036e74-aea6-4bcf-8c33-52073d9167e1",
     "showTitle": false,
     "title": ""
    }
   },
   "outputs": [
    {
     "output_type": "stream",
     "name": "stdout",
     "output_type": "stream",
     "text": [
      "23920802\n7259155\n"
     ]
    },
    {
     "output_type": "display_data",
     "data": {
      "text/plain": [
       "Are you sure you want to overwrite 'folds60mo'? (y/n) y"
      ]
     },
     "metadata": {},
     "output_type": "display_data"
    },
    {
     "output_type": "stream",
     "name": "stdout",
     "output_type": "stream",
     "text": [
      "Making train/val folds...\nCV FOLD START: 0: 2023-08-11 17:15:55.306373\n"
     ]
    },
    {
     "output_type": "display_data",
     "data": {
      "text/plain": [
       "3135321"
      ]
     },
     "metadata": {},
     "output_type": "display_data"
    },
    {
     "output_type": "display_data",
     "data": {
      "text/plain": [
       "1469648"
      ]
     },
     "metadata": {},
     "output_type": "display_data"
    },
    {
     "output_type": "display_data",
     "data": {
      "text/plain": [
       "1264186"
      ]
     },
     "metadata": {},
     "output_type": "display_data"
    },
    {
     "output_type": "stream",
     "name": "stdout",
     "output_type": "stream",
     "text": [
      "Done with downsampling: 2023-08-11 17:17:23.588876\n"
     ]
    },
    {
     "output_type": "display_data",
     "data": {
      "text/html": [
       "<style scoped>\n",
       "  .ansiout {\n",
       "    display: block;\n",
       "    unicode-bidi: embed;\n",
       "    white-space: pre-wrap;\n",
       "    word-wrap: break-word;\n",
       "    word-break: break-all;\n",
       "    font-family: \"Source Code Pro\", \"Menlo\", monospace;;\n",
       "    font-size: 13px;\n",
       "    color: #555;\n",
       "    margin-left: 4px;\n",
       "    line-height: 19px;\n",
       "  }\n",
       "</style>"
      ]
     },
     "metadata": {
      "application/vnd.databricks.v1+output": {
       "arguments": {},
       "data": "",
       "errorSummary": "Cancelled",
       "errorTraceType": "html",
       "metadata": {},
       "type": "ipynbError"
      }
     },
     "output_type": "display_data"
    }
   ],
   "source": [
    "# ######### PIPELINE STAGE 2 DATA CLEANING: CREATE CV FOLDS ############ \n",
    "# Run this whenever we get a new time span of data (or we want to change our data processing within each fold)\n",
    "\n",
    "###### 3. Make folds.  Save to blob storage. #####\n",
    "\n",
    "# Load feature list\n",
    "features_in = spark.read.format(\"csv\")\\\n",
    "    .option(\"path\", (f\"{team_blob_url}/features\"))\\\n",
    "    .load()\n",
    "features = features_in.toPandas().iloc[:, 0].tolist()\n",
    "\n",
    "# # Read clean training dataset from disk\n",
    "fold_name_clean = 'train_clean'\n",
    "cleanDF = spark.read.format(\"parquet\")\\\n",
    "    .option(\"path\", (f\"{team_blob_url}/{fold_name_clean}/baseline\" + timeInterval))\\\n",
    "    .load()\n",
    "\n",
    "# 3. Split Data: \n",
    "\n",
    "# 60 MONTH: train = 2015-2018, test = 2019\n",
    "train = cleanDF.filter(col(\"YEAR\") < 2019)\n",
    "test = cleanDF.filter(col(\"YEAR\") == 2019)\n",
    "\n",
    "print(train.count())\n",
    "print(test.count())\n",
    "\n",
    "# Make folds\n",
    "# ANSWER y to overwrite folds on disk\n",
    "fold_name = \"folds\" + timeInterval   # all features\n",
    "folds = make_folds_and_save(train, splits, fold_name=fold_name)\n",
    "display(dbutils.fs.ls(f\"{team_blob_url}/{fold_name}\"))\n",
    "\n",
    "#4. Load folds back in to memory\n",
    "fold_name = \"folds\" + timeInterval   # all features\n",
    "foldsloaded = load_folds_from_blob_and_cache(team_blob_url, fold_name)"
   ]
  },
  {
   "cell_type": "code",
   "execution_count": 0,
   "metadata": {
    "application/vnd.databricks.v1+cell": {
     "cellMetadata": {
      "byteLimit": 2048000,
      "rowLimit": 10000
     },
     "inputWidgets": {},
     "nuid": "44a49eb8-1479-4bc9-80bc-5ac841e103a2",
     "showTitle": false,
     "title": ""
    }
   },
   "outputs": [
    {
     "output_type": "display_data",
     "data": {
      "text/plain": [
       "23920802"
      ]
     },
     "metadata": {},
     "output_type": "display_data"
    },
    {
     "output_type": "display_data",
     "data": {
      "text/plain": [
       "7259155"
      ]
     },
     "metadata": {},
     "output_type": "display_data"
    },
    {
     "output_type": "stream",
     "name": "stdout",
     "output_type": "stream",
     "text": [
      "Job Start: 2023-08-10 19:20:30.192144\nCV FOLD START: 0: 2023-08-10 19:20:33.037139\n"
     ]
    },
    {
     "output_type": "display_data",
     "data": {
      "text/plain": [
       "23920802"
      ]
     },
     "metadata": {},
     "output_type": "display_data"
    },
    {
     "output_type": "display_data",
     "data": {
      "text/plain": [
       "7259155"
      ]
     },
     "metadata": {},
     "output_type": "display_data"
    },
    {
     "output_type": "display_data",
     "data": {
      "text/plain": [
       "8625718"
      ]
     },
     "metadata": {},
     "output_type": "display_data"
    },
    {
     "output_type": "stream",
     "name": "stdout",
     "output_type": "stream",
     "text": [
      "Done with downsampling: 2023-08-10 19:20:59.157733\nDone with graph features: 2023-08-10 19:24:00.481814\nDone with CV Pipeline: 2023-08-10 19:43:11.959040\ncv_features: ['scaled_numeric']\nfeatures_all: ['DAY_OF_WEEK_hot', 'MONTH_hot', 'YEAR_hot', 'OP_UNIQUE_CARRIER_hot', 'origin_type_hot', 'dest_type_hot', 'is_holiday_double_hot', 'is_holiday_adjacent_double_hot', 'IS_FIRST_FLIGHT_OF_DAY_double_hot', 'CRS_DEP_BUCKET_hot', 'scaled_numeric']\n"
     ]
    },
    {
     "output_type": "display_data",
     "data": {
      "text/plain": [
       "8625718"
      ]
     },
     "metadata": {},
     "output_type": "display_data"
    },
    {
     "output_type": "display_data",
     "data": {
      "text/plain": [
       "7259155"
      ]
     },
     "metadata": {},
     "output_type": "display_data"
    },
    {
     "output_type": "stream",
     "name": "stdout",
     "output_type": "stream",
     "text": [
      "Done with Assembling Features: 2023-08-10 19:46:12.925602\n"
     ]
    },
    {
     "output_type": "execute_result",
     "data": {
      "text/plain": [
       "DataFrame[label: double, DISTANCE: double, ELEVATION: double, FE_PRIOR_DAILY_AVG_DEP_DELAY: double, FE_PRIOR_AVG_DURATION: double, FE_NUM_FLIGHT_SCHEDULED: bigint, DEP_DELAY_LAG: double, DAY_OF_WEEK: int, MONTH: int, YEAR: int, OP_UNIQUE_CARRIER: string, origin_type: string, dest_type: string, is_holiday_double: double, is_holiday_adjacent_double: double, IS_FIRST_FLIGHT_OF_DAY_double: double, DATE: timestamp, FL_DATE: date, OP_CARRIER_FL_NUM: int, DEP_DELAY: double, AIR_TIME: double, DEP_TIME_BLK: string, origin_iata_code: string, dest_iata_code: string, TAIL_NUM: string, sched_depart_date_time_UTC: timestamp, CRS_DEP_TIME: int, ORIGIN: string, DEST: string, CRS_DEP_BUCKET: double, DAY_OF_WEEK_ix: double, MONTH_ix: double, YEAR_ix: double, OP_UNIQUE_CARRIER_ix: double, origin_type_ix: double, dest_type_ix: double, is_holiday_double_ix: double, is_holiday_adjacent_double_ix: double, IS_FIRST_FLIGHT_OF_DAY_double_ix: double, CRS_DEP_BUCKET_ix: double, DAY_OF_WEEK_hot: vector, MONTH_hot: vector, YEAR_hot: vector, OP_UNIQUE_CARRIER_hot: vector, origin_type_hot: vector, dest_type_hot: vector, is_holiday_double_hot: vector, is_holiday_adjacent_double_hot: vector, IS_FIRST_FLIGHT_OF_DAY_double_hot: vector, CRS_DEP_BUCKET_hot: vector]"
      ]
     },
     "execution_count": 32,
     "metadata": {},
     "output_type": "execute_result"
    }
   ],
   "source": []
  },
  {
   "cell_type": "code",
   "execution_count": 0,
   "metadata": {
    "application/vnd.databricks.v1+cell": {
     "cellMetadata": {},
     "inputWidgets": {},
     "nuid": "84ad59f0-b094-4e64-8ff7-8a0753519681",
     "showTitle": false,
     "title": ""
    }
   },
   "outputs": [],
   "source": [
    "# PIPELINE FINAL DATA CLEANING: STAGE 2 DATA CLEANING\n",
    "# Assumes you already did stage 1 cleaning (pipelineAllData()) on full dataset (before it was split into train and test)\n",
    "\n",
    "def createTrainTest(train_clean, test_clean):\n",
    "    '''Uses dataset cleaned by pipelineAllData(). Applies CV data processing. \n",
    "    Returns train and test split'''\n",
    "\n",
    "    print(f'Job Start: {datetime.now()}')\n",
    "\n",
    "    # 1. Load feature list\n",
    "    features_in = spark.read.format(\"csv\")\\\n",
    "        .option(\"path\", (f\"{team_blob_url}/features\"))\\\n",
    "        .load()\n",
    "    features = features_in.toPandas().iloc[:, 0].tolist()\n",
    "\n",
    "    # 2. Apply CV data processing to train and test (missing imputation, normalization, graph features)\n",
    "    train, test = foldsWork(0, train_clean, test_clean)\n",
    "    \n",
    "    # 3.  Checkpoint RAPID PIPELINE DATA Ready for Machine Learning Estimation\n",
    "    fold_name_clean = 'train_clean_downsampled'\n",
    "    train.write.format(\"parquet\").mode(\"overwrite\")\\\n",
    "        .option(\"path\", (f\"{team_blob_url}/{fold_name_clean}/rapid\" + timeInterval))\\\n",
    "        .save()\n",
    "\n",
    "    fold_name_clean = 'test_clean_downsampled'\n",
    "    test.write.format(\"parquet\").mode(\"overwrite\")\\\n",
    "        .option(\"path\", (f\"{team_blob_url}/{fold_name_clean}/rapid\" + timeInterval))\\\n",
    "        .save()\n",
    "        \n",
    "    return train, test\n",
    "\n",
    "# 1. Load clean train dataset from disk\n",
    "timeInterval = '60mo' \n",
    "fold_name_clean = 'train_clean'\n",
    "cleanDF = spark.read.format(\"parquet\")\\\n",
    "    .option(\"path\", (f\"{team_blob_url}/{fold_name_clean}/baseline\" + timeInterval))\\\n",
    "    .load()\n",
    "\n",
    "# 2. Cache\n",
    "df = cleanDF.cache()\n",
    "\n",
    "# 3. Split Data: train = 2015-2018. test = 2019\n",
    "train_df = df.filter(col(\"YEAR\") < 2019).cache()\n",
    "test_df = df.filter(col(\"YEAR\") == 2019).cache()\n",
    "\n",
    "display(train_df.count())\n",
    "display(test_df.count())\n",
    "\n",
    "train, test = createTrainTest(train_df, test_df)\n",
    "\n",
    "train_df.unpersist()\n",
    "test_df.unpersist()\n",
    "df.unpersist()\n",
    "    \n"
   ]
  },
  {
   "cell_type": "code",
   "execution_count": 0,
   "metadata": {
    "application/vnd.databricks.v1+cell": {
     "cellMetadata": {},
     "inputWidgets": {},
     "nuid": "8747e7f0-649d-408a-af16-083707d54c61",
     "showTitle": false,
     "title": ""
    }
   },
   "outputs": [],
   "source": []
  },
  {
   "cell_type": "code",
   "execution_count": 0,
   "metadata": {
    "application/vnd.databricks.v1+cell": {
     "cellMetadata": {},
     "inputWidgets": {},
     "nuid": "46c72d47-3e2a-470e-aeff-d7e274f5ee15",
     "showTitle": false,
     "title": ""
    }
   },
   "outputs": [],
   "source": []
  }
 ],
 "metadata": {
  "application/vnd.databricks.v1+notebook": {
   "dashboards": [],
   "language": "python",
   "notebookMetadata": {
    "pythonIndentUnit": 4
   },
   "notebookName": "Data Pipeline FINAL",
   "widgets": {}
  },
  "colab": {
   "provenance": []
  },
  "kernelspec": {
   "display_name": "Python 3",
   "name": "python3"
  },
  "language_info": {
   "name": "python"
  }
 },
 "nbformat": 4,
 "nbformat_minor": 0
}

{
 "cells": [
  {
   "cell_type": "markdown",
   "metadata": {
    "application/vnd.databricks.v1+cell": {
     "cellMetadata": {},
     "inputWidgets": {},
     "nuid": "ec7b476d-5abc-4530-b943-b1d13aa5b47d",
     "showTitle": false,
     "title": ""
    }
   },
   "source": [
    "# Hypertuning with Cross-Validation Folds\n",
    "This code estimates random forest and XGBoost (LightGBM package) and prints out our evaluation metric (f-beta, where beta=2). The code is working with the cleaned cross-validation folds created from the 2015-2018 dataset. We do both a baseline assessment accross 3-months of data and a full hypertuning with the 2015-2018 cross-validation folds. In the future, we plan to also try ensemble models. We adopted a bayesian hypertuning strategy appropriate for big data called Tree-structured Parazen Estimator (TPE) within the hyperopt package. TPE starts learning good values for your hyperparameters (within a range we set) as it goes through multiple trials. The bayesian approach is helpful for big data tuning because we do not have the compute resources to do a comprehensive grid search.\n",
    "\n",
    "![Pipeline Image](https://i.imgur.com/wq62T0E.png)\n",
    "\n",
    "### Project Description\n",
    "This is a group project conducted for course w261: Machine Learning at Scale at the University of California Berkeley in Summer 2023. This project develops a machine learning model that predicts flight delays based on historical flight, airport station, and weather data spanning five years from 2015-2019 in the United States.\n",
    "\n",
    "###Group members\n",
    "Jessica Stockham, Chase Madison, Kisha Kim, Eric Danforth\n",
    "\n",
    "Citation: Code written by Jessica Stockham"
   ]
  },
  {
   "cell_type": "code",
   "execution_count": 0,
   "metadata": {
    "application/vnd.databricks.v1+cell": {
     "cellMetadata": {
      "byteLimit": 2048000,
      "rowLimit": 10000
     },
     "inputWidgets": {},
     "nuid": "1f6d7ad5-1861-421c-8864-51818ea1ec9f",
     "showTitle": true,
     "title": "Import Packages"
    }
   },
   "outputs": [
    {
     "output_type": "display_data",
     "data": {
      "application/vnd.databricks.v1+bamboolib_hint": "{\"pd.DataFrames\": [], \"version\": \"0.0.1\"}",
      "text/plain": []
     },
     "metadata": {},
     "output_type": "display_data"
    }
   ],
   "source": [
    "import numpy as np\n",
    "import re\n",
    "import pandas as pd\n",
    "from datetime import datetime, timedelta, date\n",
    "\n",
    "from pyspark.sql.types import *\n",
    "from pyspark.sql.functions import *\n",
    "from pyspark.sql import Window\n",
    "from pyspark.sql.functions import udf, col,isnan,when,count\n",
    "from pyspark.ml.feature import OneHotEncoder, StringIndexer, VectorAssembler,StandardScaler, Imputer, Bucketizer\n",
    "from pyspark.ml.classification import LogisticRegression, RandomForestClassifier, GBTClassifier\n",
    "from pyspark.ml.evaluation import BinaryClassificationEvaluator, MulticlassClassificationEvaluator\n",
    "from pyspark.mllib.evaluation import MulticlassMetrics\n",
    "from lightgbm import LGBMClassifier\n",
    "\n",
    "from hyperopt import fmin, tpe, Trials, SparkTrials, hp, space_eval\n",
    "import mlflow"
   ]
  },
  {
   "cell_type": "code",
   "execution_count": 0,
   "metadata": {
    "application/vnd.databricks.v1+cell": {
     "cellMetadata": {
      "byteLimit": 2048000,
      "rowLimit": 10000
     },
     "inputWidgets": {},
     "nuid": "45e06db7-f12b-4f0d-bfad-a4dac06916da",
     "showTitle": false,
     "title": ""
    }
   },
   "outputs": [],
   "source": [
    "## Place this cell in any team notebook that needs access to the team cloud storage\n",
    "mids261_mount_path = '/mnt/mids-w261'  # 261 course blob storage is mounted here\n",
    "secret_scope = 'sec5-team1-scope'  # Name of the secret scope Chase created in Databricks CLI\n",
    "secret_key = 'sec5-team1-key'  # Name of the secret key Chase created in Databricks CLI\n",
    "storage_account = 'sec5team1storage'  # Name of the Azure Storage Account Chase created\n",
    "blob_container = 'sec5-team1-container'  # Name of the container Chase created in Azure Storage Account\n",
    "team_blob_url = f'wasbs://{blob_container}@{storage_account}.blob.core.windows.net'  # Points to the root of your team storage bucket\n",
    "spark.conf.set(  # SAS Token: Grant the team limited access to Azure Storage resources\n",
    "  f'fs.azure.sas.{blob_container}.{storage_account}.blob.core.windows.net',\n",
    "  dbutils.secrets.get(scope=secret_scope, key=secret_key)\n",
    ")"
   ]
  },
  {
   "cell_type": "markdown",
   "metadata": {
    "application/vnd.databricks.v1+cell": {
     "cellMetadata": {
      "byteLimit": 2048000,
      "rowLimit": 10000
     },
     "inputWidgets": {},
     "nuid": "3571b9b1-7381-42e3-aff1-85ac16ee1f9a",
     "showTitle": false,
     "title": ""
    }
   },
   "source": [
    "###Baseline Cross-Validation on 3-Month Folds"
   ]
  },
  {
   "cell_type": "code",
   "execution_count": 0,
   "metadata": {
    "application/vnd.databricks.v1+cell": {
     "cellMetadata": {
      "byteLimit": 2048000,
      "rowLimit": 10000
     },
     "inputWidgets": {},
     "nuid": "a36af02f-181d-4ae6-877d-ba63a5294124",
     "showTitle": true,
     "title": "Load 3-month Data"
    }
   },
   "outputs": [
    {
     "output_type": "stream",
     "name": "stdout",
     "output_type": "stream",
     "text": [
      "Loading 3 folds...\n"
     ]
    },
    {
     "output_type": "execute_result",
     "data": {
      "text/plain": [
       "{'numeric': [{'idx': 673, 'name': 'scaled_numeric_0'},\n",
       "  {'idx': 674, 'name': 'scaled_numeric_1'}],\n",
       " 'binary': [{'idx': 0, 'name': 'OP_UNIQUE_CARRIER_hot_WN'},\n",
       "  {'idx': 1, 'name': 'OP_UNIQUE_CARRIER_hot_DL'},\n",
       "  {'idx': 2, 'name': 'OP_UNIQUE_CARRIER_hot_EV'},\n",
       "  {'idx': 3, 'name': 'OP_UNIQUE_CARRIER_hot_OO'},\n",
       "  {'idx': 4, 'name': 'OP_UNIQUE_CARRIER_hot_AA'},\n",
       "  {'idx': 5, 'name': 'OP_UNIQUE_CARRIER_hot_UA'},\n",
       "  {'idx': 6, 'name': 'OP_UNIQUE_CARRIER_hot_US'},\n",
       "  {'idx': 7, 'name': 'OP_UNIQUE_CARRIER_hot_MQ'},\n",
       "  {'idx': 8, 'name': 'OP_UNIQUE_CARRIER_hot_B6'},\n",
       "  {'idx': 9, 'name': 'OP_UNIQUE_CARRIER_hot_AS'},\n",
       "  {'idx': 10, 'name': 'OP_UNIQUE_CARRIER_hot_NK'},\n",
       "  {'idx': 11, 'name': 'OP_UNIQUE_CARRIER_hot_F9'},\n",
       "  {'idx': 12, 'name': 'OP_UNIQUE_CARRIER_hot_HA'},\n",
       "  {'idx': 13, 'name': 'OP_UNIQUE_CARRIER_hot_VX'},\n",
       "  {'idx': 14, 'name': 'OP_UNIQUE_CARRIER_hot___unknown'},\n",
       "  {'idx': 15, 'name': 'CRS_DEP_BUCKET_hot_2.0'},\n",
       "  {'idx': 16, 'name': 'CRS_DEP_BUCKET_hot_3.0'},\n",
       "  {'idx': 17, 'name': 'CRS_DEP_BUCKET_hot_0.0'},\n",
       "  {'idx': 18, 'name': 'CRS_DEP_BUCKET_hot_1.0'},\n",
       "  {'idx': 19, 'name': 'CRS_DEP_BUCKET_hot_4.0'},\n",
       "  {'idx': 20, 'name': 'CRS_DEP_BUCKET_hot___unknown'},\n",
       "  {'idx': 21, 'name': 'DAY_OF_WEEK_hot_5'},\n",
       "  {'idx': 22, 'name': 'DAY_OF_WEEK_hot_4'},\n",
       "  {'idx': 23, 'name': 'DAY_OF_WEEK_hot_1'},\n",
       "  {'idx': 24, 'name': 'DAY_OF_WEEK_hot_2'},\n",
       "  {'idx': 25, 'name': 'DAY_OF_WEEK_hot_7'},\n",
       "  {'idx': 26, 'name': 'DAY_OF_WEEK_hot_3'},\n",
       "  {'idx': 27, 'name': 'DAY_OF_WEEK_hot_6'},\n",
       "  {'idx': 28, 'name': 'DAY_OF_WEEK_hot___unknown'},\n",
       "  {'idx': 29, 'name': 'origin_type_hot_large_airport'},\n",
       "  {'idx': 30, 'name': 'origin_type_hot_medium_airport'},\n",
       "  {'idx': 31, 'name': 'origin_type_hot_small_airport'},\n",
       "  {'idx': 32, 'name': 'origin_type_hot___unknown'},\n",
       "  {'idx': 33, 'name': 'dest_type_hot_large_airport'},\n",
       "  {'idx': 34, 'name': 'dest_type_hot_medium_airport'},\n",
       "  {'idx': 35, 'name': 'dest_type_hot_small_airport'},\n",
       "  {'idx': 36, 'name': 'dest_type_hot___unknown'},\n",
       "  {'idx': 37, 'name': 'ORIGIN_hot_ATL'},\n",
       "  {'idx': 38, 'name': 'ORIGIN_hot_ORD'},\n",
       "  {'idx': 39, 'name': 'ORIGIN_hot_DFW'},\n",
       "  {'idx': 40, 'name': 'ORIGIN_hot_DEN'},\n",
       "  {'idx': 41, 'name': 'ORIGIN_hot_LAX'},\n",
       "  {'idx': 42, 'name': 'ORIGIN_hot_PHX'},\n",
       "  {'idx': 43, 'name': 'ORIGIN_hot_IAH'},\n",
       "  {'idx': 44, 'name': 'ORIGIN_hot_SFO'},\n",
       "  {'idx': 45, 'name': 'ORIGIN_hot_LAS'},\n",
       "  {'idx': 46, 'name': 'ORIGIN_hot_MCO'},\n",
       "  {'idx': 47, 'name': 'ORIGIN_hot_DTW'},\n",
       "  {'idx': 48, 'name': 'ORIGIN_hot_MSP'},\n",
       "  {'idx': 49, 'name': 'ORIGIN_hot_CLT'},\n",
       "  {'idx': 50, 'name': 'ORIGIN_hot_LGA'},\n",
       "  {'idx': 51, 'name': 'ORIGIN_hot_SLC'},\n",
       "  {'idx': 52, 'name': 'ORIGIN_hot_SEA'},\n",
       "  {'idx': 53, 'name': 'ORIGIN_hot_BOS'},\n",
       "  {'idx': 54, 'name': 'ORIGIN_hot_EWR'},\n",
       "  {'idx': 55, 'name': 'ORIGIN_hot_JFK'},\n",
       "  {'idx': 56, 'name': 'ORIGIN_hot_FLL'},\n",
       "  {'idx': 57, 'name': 'ORIGIN_hot_BWI'},\n",
       "  {'idx': 58, 'name': 'ORIGIN_hot_MDW'},\n",
       "  {'idx': 59, 'name': 'ORIGIN_hot_MIA'},\n",
       "  {'idx': 60, 'name': 'ORIGIN_hot_DCA'},\n",
       "  {'idx': 61, 'name': 'ORIGIN_hot_TPA'},\n",
       "  {'idx': 62, 'name': 'ORIGIN_hot_SAN'},\n",
       "  {'idx': 63, 'name': 'ORIGIN_hot_PHL'},\n",
       "  {'idx': 64, 'name': 'ORIGIN_hot_DAL'},\n",
       "  {'idx': 65, 'name': 'ORIGIN_hot_HOU'},\n",
       "  {'idx': 66, 'name': 'ORIGIN_hot_STL'},\n",
       "  {'idx': 67, 'name': 'ORIGIN_hot_BNA'},\n",
       "  {'idx': 68, 'name': 'ORIGIN_hot_HNL'},\n",
       "  {'idx': 69, 'name': 'ORIGIN_hot_PDX'},\n",
       "  {'idx': 70, 'name': 'ORIGIN_hot_OAK'},\n",
       "  {'idx': 71, 'name': 'ORIGIN_hot_MSY'},\n",
       "  {'idx': 72, 'name': 'ORIGIN_hot_RSW'},\n",
       "  {'idx': 73, 'name': 'ORIGIN_hot_AUS'},\n",
       "  {'idx': 74, 'name': 'ORIGIN_hot_SJC'},\n",
       "  {'idx': 75, 'name': 'ORIGIN_hot_MCI'},\n",
       "  {'idx': 76, 'name': 'ORIGIN_hot_IAD'},\n",
       "  {'idx': 77, 'name': 'ORIGIN_hot_SNA'},\n",
       "  {'idx': 78, 'name': 'ORIGIN_hot_SMF'},\n",
       "  {'idx': 79, 'name': 'ORIGIN_hot_CLE'},\n",
       "  {'idx': 80, 'name': 'ORIGIN_hot_RDU'},\n",
       "  {'idx': 81, 'name': 'ORIGIN_hot_MKE'},\n",
       "  {'idx': 82, 'name': 'ORIGIN_hot_SAT'},\n",
       "  {'idx': 83, 'name': 'ORIGIN_hot_PBI'},\n",
       "  {'idx': 84, 'name': 'ORIGIN_hot_IND'},\n",
       "  {'idx': 85, 'name': 'ORIGIN_hot_PIT'},\n",
       "  {'idx': 86, 'name': 'ORIGIN_hot_CMH'},\n",
       "  {'idx': 87, 'name': 'ORIGIN_hot_OGG'},\n",
       "  {'idx': 88, 'name': 'ORIGIN_hot_SJU'},\n",
       "  {'idx': 89, 'name': 'ORIGIN_hot_CVG'},\n",
       "  {'idx': 90, 'name': 'ORIGIN_hot_BUR'},\n",
       "  {'idx': 91, 'name': 'ORIGIN_hot_BDL'},\n",
       "  {'idx': 92, 'name': 'ORIGIN_hot_ABQ'},\n",
       "  {'idx': 93, 'name': 'ORIGIN_hot_ONT'},\n",
       "  {'idx': 94, 'name': 'ORIGIN_hot_JAX'},\n",
       "  {'idx': 95, 'name': 'ORIGIN_hot_OMA'},\n",
       "  {'idx': 96, 'name': 'ORIGIN_hot_TUS'},\n",
       "  {'idx': 97, 'name': 'ORIGIN_hot_BUF'},\n",
       "  {'idx': 98, 'name': 'ORIGIN_hot_OKC'},\n",
       "  {'idx': 99, 'name': 'ORIGIN_hot_TUL'},\n",
       "  {'idx': 100, 'name': 'ORIGIN_hot_RIC'},\n",
       "  {'idx': 101, 'name': 'ORIGIN_hot_MEM'},\n",
       "  {'idx': 102, 'name': 'ORIGIN_hot_PSP'},\n",
       "  {'idx': 103, 'name': 'ORIGIN_hot_ANC'},\n",
       "  {'idx': 104, 'name': 'ORIGIN_hot_BHM'},\n",
       "  {'idx': 105, 'name': 'ORIGIN_hot_RNO'},\n",
       "  {'idx': 106, 'name': 'ORIGIN_hot_ELP'},\n",
       "  {'idx': 107, 'name': 'ORIGIN_hot_GRR'},\n",
       "  {'idx': 108, 'name': 'ORIGIN_hot_KOA'},\n",
       "  {'idx': 109, 'name': 'ORIGIN_hot_SDF'},\n",
       "  {'idx': 110, 'name': 'ORIGIN_hot_LIH'},\n",
       "  {'idx': 111, 'name': 'ORIGIN_hot_PVD'},\n",
       "  {'idx': 112, 'name': 'ORIGIN_hot_BOI'},\n",
       "  {'idx': 113, 'name': 'ORIGIN_hot_CHS'},\n",
       "  {'idx': 114, 'name': 'ORIGIN_hot_LIT'},\n",
       "  {'idx': 115, 'name': 'ORIGIN_hot_GEG'},\n",
       "  {'idx': 116, 'name': 'ORIGIN_hot_ORF'},\n",
       "  {'idx': 117, 'name': 'ORIGIN_hot_MSN'},\n",
       "  {'idx': 118, 'name': 'ORIGIN_hot_MAF'},\n",
       "  {'idx': 119, 'name': 'ORIGIN_hot_DSM'},\n",
       "  {'idx': 120, 'name': 'ORIGIN_hot_XNA'},\n",
       "  {'idx': 121, 'name': 'ORIGIN_hot_DAY'},\n",
       "  {'idx': 122, 'name': 'ORIGIN_hot_LGB'},\n",
       "  {'idx': 123, 'name': 'ORIGIN_hot_ICT'},\n",
       "  {'idx': 124, 'name': 'ORIGIN_hot_FAT'},\n",
       "  {'idx': 125, 'name': 'ORIGIN_hot_GSO'},\n",
       "  {'idx': 126, 'name': 'ORIGIN_hot_HPN'},\n",
       "  {'idx': 127, 'name': 'ORIGIN_hot_BTR'},\n",
       "  {'idx': 128, 'name': 'ORIGIN_hot_ASE'},\n",
       "  {'idx': 129, 'name': 'ORIGIN_hot_CID'},\n",
       "  {'idx': 130, 'name': 'ORIGIN_hot_ROC'},\n",
       "  {'idx': 131, 'name': 'ORIGIN_hot_SAV'},\n",
       "  {'idx': 132, 'name': 'ORIGIN_hot_PNS'},\n",
       "  {'idx': 133, 'name': 'ORIGIN_hot_JAN'},\n",
       "  {'idx': 134, 'name': 'ORIGIN_hot_COS'},\n",
       "  {'idx': 135, 'name': 'ORIGIN_hot_ALB'},\n",
       "  {'idx': 136, 'name': 'ORIGIN_hot_TYS'},\n",
       "  {'idx': 137, 'name': 'ORIGIN_hot_SGF'},\n",
       "  {'idx': 138, 'name': 'ORIGIN_hot_CAK'},\n",
       "  {'idx': 139, 'name': 'ORIGIN_hot_FSD'},\n",
       "  {'idx': 140, 'name': 'ORIGIN_hot_GSP'},\n",
       "  {'idx': 141, 'name': 'ORIGIN_hot_CRP'},\n",
       "  {'idx': 142, 'name': 'ORIGIN_hot_SBA'},\n",
       "  {'idx': 143, 'name': 'ORIGIN_hot_ITO'},\n",
       "  {'idx': 144, 'name': 'ORIGIN_hot_SHV'},\n",
       "  {'idx': 145, 'name': 'ORIGIN_hot_CAE'},\n",
       "  {'idx': 146, 'name': 'ORIGIN_hot_MHT'},\n",
       "  {'idx': 147, 'name': 'ORIGIN_hot_LFT'},\n",
       "  {'idx': 148, 'name': 'ORIGIN_hot_LEX'},\n",
       "  {'idx': 149, 'name': 'ORIGIN_hot_AMA'},\n",
       "  {'idx': 150, 'name': 'ORIGIN_hot_STT'},\n",
       "  {'idx': 151, 'name': 'ORIGIN_hot_FAR'},\n",
       "  {'idx': 152, 'name': 'ORIGIN_hot_SYR'},\n",
       "  {'idx': 153, 'name': 'ORIGIN_hot_MOB'},\n",
       "  {'idx': 154, 'name': 'ORIGIN_hot_LBB'},\n",
       "  {'idx': 155, 'name': 'ORIGIN_hot_GRB'},\n",
       "  {'idx': 156, 'name': 'ORIGIN_hot_SBP'},\n",
       "  {'idx': 157, 'name': 'ORIGIN_hot_SBN'},\n",
       "  {'idx': 158, 'name': 'ORIGIN_hot_HSV'},\n",
       "  {'idx': 159, 'name': 'ORIGIN_hot_FNT'},\n",
       "  {'idx': 160, 'name': 'ORIGIN_hot_VPS'},\n",
       "  {'idx': 161, 'name': 'ORIGIN_hot_FWA'},\n",
       "  {'idx': 162, 'name': 'ORIGIN_hot_MLI'},\n",
       "  {'idx': 163, 'name': 'ORIGIN_hot_SRQ'},\n",
       "  {'idx': 164, 'name': 'ORIGIN_hot_ISP'},\n",
       "  {'idx': 165, 'name': 'ORIGIN_hot_PIA'},\n",
       "  {'idx': 166, 'name': 'ORIGIN_hot_GRK'},\n",
       "  {'idx': 167, 'name': 'ORIGIN_hot_MFE'},\n",
       "  {'idx': 168, 'name': 'ORIGIN_hot_JAC'},\n",
       "  {'idx': 169, 'name': 'ORIGIN_hot_ACY'},\n",
       "  {'idx': 170, 'name': 'ORIGIN_hot_GPT'},\n",
       "  {'idx': 171, 'name': 'ORIGIN_hot_CHA'},\n",
       "  {'idx': 172, 'name': 'ORIGIN_hot_TLH'},\n",
       "  {'idx': 173, 'name': 'ORIGIN_hot_MYR'},\n",
       "  {'idx': 174, 'name': 'ORIGIN_hot_MDT'},\n",
       "  {'idx': 175, 'name': 'ORIGIN_hot_EUG'},\n",
       "  {'idx': 176, 'name': 'ORIGIN_hot_EVV'},\n",
       "  {'idx': 177, 'name': 'ORIGIN_hot_JNU'},\n",
       "  {'idx': 178, 'name': 'ORIGIN_hot_BIS'},\n",
       "  {'idx': 179, 'name': 'ORIGIN_hot_ECP'},\n",
       "  {'idx': 180, 'name': 'ORIGIN_hot_MRY'},\n",
       "  {'idx': 181, 'name': 'ORIGIN_hot_EGE'},\n",
       "  {'idx': 182, 'name': 'ORIGIN_hot_HRL'},\n",
       "  {'idx': 183, 'name': 'ORIGIN_hot_BZN'},\n",
       "  {'idx': 184, 'name': 'ORIGIN_hot_MGM'},\n",
       "  {'idx': 185, 'name': 'ORIGIN_hot_AEX'},\n",
       "  {'idx': 186, 'name': 'ORIGIN_hot_GJT'},\n",
       "  {'idx': 187, 'name': 'ORIGIN_hot_ISN'},\n",
       "  {'idx': 188, 'name': 'ORIGIN_hot_PWM'},\n",
       "  {'idx': 189, 'name': 'ORIGIN_hot_BMI'},\n",
       "  {'idx': 190, 'name': 'ORIGIN_hot_MLU'},\n",
       "  {'idx': 191, 'name': 'ORIGIN_hot_ATW'},\n",
       "  {'idx': 192, 'name': 'ORIGIN_hot_GNV'},\n",
       "  {'idx': 193, 'name': 'ORIGIN_hot_BIL'},\n",
       "  {'idx': 194, 'name': 'ORIGIN_hot_BFL'},\n",
       "  {'idx': 195, 'name': 'ORIGIN_hot_EYW'},\n",
       "  {'idx': 196, 'name': 'ORIGIN_hot_TTN'},\n",
       "  {'idx': 197, 'name': 'ORIGIN_hot_RAP'},\n",
       "  {'idx': 198, 'name': 'ORIGIN_hot_ABI'},\n",
       "  {'idx': 199, 'name': 'ORIGIN_hot_BTV'},\n",
       "  {'idx': 200, 'name': 'ORIGIN_hot_AVL'},\n",
       "  {'idx': 201, 'name': 'ORIGIN_hot_MFR'},\n",
       "  {'idx': 202, 'name': 'ORIGIN_hot_BRO'},\n",
       "  {'idx': 203, 'name': 'ORIGIN_hot_LNK'},\n",
       "  {'idx': 204, 'name': 'ORIGIN_hot_AGS'},\n",
       "  {'idx': 205, 'name': 'ORIGIN_hot_TVC'},\n",
       "  {'idx': 206, 'name': 'ORIGIN_hot_CLD'},\n",
       "  {'idx': 207, 'name': 'ORIGIN_hot_CRW'},\n",
       "  {'idx': 208, 'name': 'ORIGIN_hot_LRD'},\n",
       "  {'idx': 209, 'name': 'ORIGIN_hot_FSM'},\n",
       "  {'idx': 210, 'name': 'ORIGIN_hot_PSC'},\n",
       "  {'idx': 211, 'name': 'ORIGIN_hot_CLL'},\n",
       "  {'idx': 212, 'name': 'ORIGIN_hot_CHO'},\n",
       "  {'idx': 213, 'name': 'ORIGIN_hot_TYR'},\n",
       "  {'idx': 214, 'name': 'ORIGIN_hot_CMI'},\n",
       "  {'idx': 215, 'name': 'ORIGIN_hot_KTN'},\n",
       "  {'idx': 216, 'name': 'ORIGIN_hot_ABE'},\n",
       "  {'idx': 217, 'name': 'ORIGIN_hot_IDA'},\n",
       "  {'idx': 218, 'name': 'ORIGIN_hot_DRO'},\n",
       "  {'idx': 219, 'name': 'ORIGIN_hot_RST'},\n",
       "  {'idx': 220, 'name': 'ORIGIN_hot_AZO'},\n",
       "  {'idx': 221, 'name': 'ORIGIN_hot_CPR'},\n",
       "  {'idx': 222, 'name': 'ORIGIN_hot_YUM'},\n",
       "  {'idx': 223, 'name': 'ORIGIN_hot_ELM'},\n",
       "  {'idx': 224, 'name': 'ORIGIN_hot_LAN'},\n",
       "  {'idx': 225, 'name': 'ORIGIN_hot_RDM'},\n",
       "  {'idx': 226, 'name': 'ORIGIN_hot_LCH'},\n",
       "  {'idx': 227, 'name': 'ORIGIN_hot_ROA'},\n",
       "  {'idx': 228, 'name': 'ORIGIN_hot_TRI'},\n",
       "  {'idx': 229, 'name': 'ORIGIN_hot_HDN'},\n",
       "  {'idx': 230, 'name': 'ORIGIN_hot_MTJ'},\n",
       "  {'idx': 231, 'name': 'ORIGIN_hot_FAI'},\n",
       "  {'idx': 232, 'name': 'ORIGIN_hot_MBS'},\n",
       "  {'idx': 233, 'name': 'ORIGIN_hot_SGU'},\n",
       "  {'idx': 234, 'name': 'ORIGIN_hot_FAY'},\n",
       "  {'idx': 235, 'name': 'ORIGIN_hot_MOT'},\n",
       "  {'idx': 236, 'name': 'ORIGIN_hot_ILM'},\n",
       "  {'idx': 237, 'name': 'ORIGIN_hot_GTF'},\n",
       "  {'idx': 238, 'name': 'ORIGIN_hot_MHK'},\n",
       "  {'idx': 239, 'name': 'ORIGIN_hot_DAB'},\n",
       "  {'idx': 240, 'name': 'ORIGIN_hot_SJT'},\n",
       "  {'idx': 241, 'name': 'ORIGIN_hot_FCA'},\n",
       "  {'idx': 242, 'name': 'ORIGIN_hot_MSO'},\n",
       "  {'idx': 243, 'name': 'ORIGIN_hot_ACT'},\n",
       "  {'idx': 244, 'name': 'ORIGIN_hot_FLG'},\n",
       "  {'idx': 245, 'name': 'ORIGIN_hot_LSE'},\n",
       "  {'idx': 246, 'name': 'ORIGIN_hot_DLH'},\n",
       "  {'idx': 247, 'name': 'ORIGIN_hot_SPI'},\n",
       "  {'idx': 248, 'name': 'ORIGIN_hot_PHF'},\n",
       "  {'idx': 249, 'name': 'ORIGIN_hot_ACV'},\n",
       "  {'idx': 250, 'name': 'ORIGIN_hot_SAF'},\n",
       "  {'idx': 251, 'name': 'ORIGIN_hot_CWA'},\n",
       "  {'idx': 252, 'name': 'ORIGIN_hot_MLB'},\n",
       "  {'idx': 253, 'name': 'ORIGIN_hot_DHN'},\n",
       "  {'idx': 254, 'name': 'ORIGIN_hot_DIK'},\n",
       "  {'idx': 255, 'name': 'ORIGIN_hot_COU'},\n",
       "  {'idx': 256, 'name': 'ORIGIN_hot_HLN'},\n",
       "  {'idx': 257, 'name': 'ORIGIN_hot_LAW'},\n",
       "  {'idx': 258, 'name': 'ORIGIN_hot_SPS'},\n",
       "  {'idx': 259, 'name': 'ORIGIN_hot_OAJ'},\n",
       "  {'idx': 260, 'name': 'ORIGIN_hot_GCC'},\n",
       "  {'idx': 261, 'name': 'ORIGIN_hot_AVP'},\n",
       "  {'idx': 262, 'name': 'ORIGIN_hot_LBE'},\n",
       "  {'idx': 263, 'name': 'ORIGIN_hot_BLI'},\n",
       "  {'idx': 264, 'name': 'ORIGIN_hot_CSG'},\n",
       "  {'idx': 265, 'name': 'ORIGIN_hot_SUN'},\n",
       "  {'idx': 266, 'name': 'ORIGIN_hot_SIT'},\n",
       "  {'idx': 267, 'name': 'ORIGIN_hot_GUC'},\n",
       "  {'idx': 268, 'name': 'ORIGIN_hot_STX'},\n",
       "  {'idx': 269, 'name': 'ORIGIN_hot_ERI'},\n",
       "  {'idx': 270, 'name': 'ORIGIN_hot_RHI'},\n",
       "  {'idx': 271, 'name': 'ORIGIN_hot_VLD'},\n",
       "  {'idx': 272, 'name': 'ORIGIN_hot_ABY'},\n",
       "  {'idx': 273, 'name': 'ORIGIN_hot_GTR'},\n",
       "  {'idx': 274, 'name': 'ORIGIN_hot_BQK'},\n",
       "  {'idx': 275, 'name': 'ORIGIN_hot_BET'},\n",
       "  {'idx': 276, 'name': 'ORIGIN_hot_ROW'},\n",
       "  {'idx': 277, 'name': 'ORIGIN_hot_BPT'},\n",
       "  {'idx': 278, 'name': 'ORIGIN_hot_HIB'},\n",
       "  {'idx': 279, 'name': 'ORIGIN_hot_MEI'},\n",
       "  {'idx': 280, 'name': 'ORIGIN_hot_RDD'},\n",
       "  {'idx': 281, 'name': 'ORIGIN_hot_RKS'},\n",
       "  {'idx': 282, 'name': 'ORIGIN_hot_TXK'},\n",
       "  {'idx': 283, 'name': 'ORIGIN_hot_BRW'},\n",
       "  {'idx': 284, 'name': 'ORIGIN_hot_TOL'},\n",
       "  {'idx': 285, 'name': 'ORIGIN_hot_SCC'},\n",
       "  {'idx': 286, 'name': 'ORIGIN_hot_DBQ'},\n",
       "  {'idx': 287, 'name': 'ORIGIN_hot_JMS'},\n",
       "  {'idx': 288, 'name': 'ORIGIN_hot_SCE'},\n",
       "  {'idx': 289, 'name': 'ORIGIN_hot_SWF'},\n",
       "  {'idx': 290, 'name': 'ORIGIN_hot_BJI'},\n",
       "  {'idx': 291, 'name': 'ORIGIN_hot_PSG'},\n",
       "  {'idx': 292, 'name': 'ORIGIN_hot_ABR'},\n",
       "  {'idx': 293, 'name': 'ORIGIN_hot_SMX'},\n",
       "  {'idx': 294, 'name': 'ORIGIN_hot_WRG'},\n",
       "  {'idx': 295, 'name': 'ORIGIN_hot_BTM'},\n",
       "  {'idx': 296, 'name': 'ORIGIN_hot_CDV'},\n",
       "  {'idx': 297, 'name': 'ORIGIN_hot_COD'},\n",
       "  {'idx': 298, 'name': 'ORIGIN_hot_EAU'},\n",
       "  {'idx': 299, 'name': 'ORIGIN_hot_YAK'},\n",
       "  {'idx': 300, 'name': 'ORIGIN_hot_EKO'},\n",
       "  {'idx': 301, 'name': 'ORIGIN_hot_OTZ'},\n",
       "  {'idx': 302, 'name': 'ORIGIN_hot_PIH'},\n",
       "  {'idx': 303, 'name': 'ORIGIN_hot_OME'},\n",
       "  {'idx': 304, 'name': 'ORIGIN_hot_TWF'},\n",
       "  {'idx': 305, 'name': 'ORIGIN_hot_GCK'},\n",
       "  {'idx': 306, 'name': 'ORIGIN_hot_CIU'},\n",
       "  {'idx': 307, 'name': 'ORIGIN_hot_GRI'},\n",
       "  {'idx': 308, 'name': 'ORIGIN_hot_CEC'},\n",
       "  {'idx': 309, 'name': 'ORIGIN_hot_IMT'},\n",
       "  {'idx': 310, 'name': 'ORIGIN_hot_JLN'},\n",
       "  {'idx': 311, 'name': 'ORIGIN_hot_LAR'},\n",
       "  {'idx': 312, 'name': 'ORIGIN_hot_MKG'},\n",
       "  {'idx': 313, 'name': 'ORIGIN_hot_PAH'},\n",
       "  {'idx': 314, 'name': 'ORIGIN_hot_ORH'},\n",
       "  {'idx': 315, 'name': 'ORIGIN_hot_CMX'},\n",
       "  {'idx': 316, 'name': 'ORIGIN_hot_CNY'},\n",
       "  {'idx': 317, 'name': 'ORIGIN_hot_GGG'},\n",
       "  {'idx': 318, 'name': 'ORIGIN_hot_INL'},\n",
       "  {'idx': 319, 'name': 'ORIGIN_hot_SUX'},\n",
       "  {'idx': 320, 'name': 'ORIGIN_hot_CDC'},\n",
       "  {'idx': 321, 'name': 'ORIGIN_hot_BRD'},\n",
       "  {'idx': 322, 'name': 'ORIGIN_hot_EWN'},\n",
       "  {'idx': 323, 'name': 'ORIGIN_hot_HYS'},\n",
       "  {'idx': 324, 'name': 'ORIGIN_hot_ALO'},\n",
       "  {'idx': 325, 'name': 'ORIGIN_hot_LWS'},\n",
       "  {'idx': 326, 'name': 'ORIGIN_hot_VEL'},\n",
       "  {'idx': 327, 'name': 'ORIGIN_hot_PIB'},\n",
       "  {'idx': 328, 'name': 'ORIGIN_hot_PUB'},\n",
       "  {'idx': 329, 'name': 'ORIGIN_hot_ESC'},\n",
       "  {'idx': 330, 'name': 'ORIGIN_hot_PLN'},\n",
       "  {'idx': 331, 'name': 'ORIGIN_hot_APN'},\n",
       "  {'idx': 332, 'name': 'ORIGIN_hot_HOB'},\n",
       "  {'idx': 333, 'name': 'ORIGIN_hot_BQN'},\n",
       "  {'idx': 334, 'name': 'ORIGIN_hot_DVL'},\n",
       "  {'idx': 335, 'name': 'ORIGIN_hot_MMH'},\n",
       "  {'idx': 336, 'name': 'ORIGIN_hot_GFK'},\n",
       "  {'idx': 337, 'name': 'ORIGIN_hot_IAG'},\n",
       "  {'idx': 338, 'name': 'ORIGIN_hot_PBG'},\n",
       "  {'idx': 339, 'name': 'ORIGIN_hot_ADQ'},\n",
       "  {'idx': 340, 'name': 'ORIGIN_hot_STC'},\n",
       "  {'idx': 341, 'name': 'ORIGIN_hot_MQT'},\n",
       "  {'idx': 342, 'name': 'ORIGIN_hot_ILG'},\n",
       "  {'idx': 343, 'name': 'ORIGIN_hot_OTH'},\n",
       "  {'idx': 344, 'name': 'ORIGIN_hot_UST'},\n",
       "  {'idx': 345, 'name': 'ORIGIN_hot_BGM'},\n",
       "  {'idx': 346, 'name': 'ORIGIN_hot_PPG'},\n",
       "  {'idx': 347, 'name': 'ORIGIN_hot_ADK'},\n",
       "  {'idx': 348, 'name': 'ORIGIN_hot_BGR'},\n",
       "  {'idx': 349, 'name': 'ORIGIN_hot_ITH'},\n",
       "  {'idx': 350, 'name': 'ORIGIN_hot___unknown'},\n",
       "  {'idx': 351, 'name': 'MONTH_hot_3'},\n",
       "  {'idx': 352, 'name': 'MONTH_hot_1'},\n",
       "  {'idx': 353, 'name': 'MONTH_hot_2'},\n",
       "  {'idx': 354, 'name': 'MONTH_hot___unknown'},\n",
       "  {'idx': 355, 'name': 'YEAR_hot_2015'},\n",
       "  {'idx': 356, 'name': 'YEAR_hot___unknown'},\n",
       "  {'idx': 357, 'name': 'DEST_hot_ATL'},\n",
       "  {'idx': 358, 'name': 'DEST_hot_ORD'},\n",
       "  {'idx': 359, 'name': 'DEST_hot_DFW'},\n",
       "  {'idx': 360, 'name': 'DEST_hot_DEN'},\n",
       "  {'idx': 361, 'name': 'DEST_hot_LAX'},\n",
       "  {'idx': 362, 'name': 'DEST_hot_PHX'},\n",
       "  {'idx': 363, 'name': 'DEST_hot_IAH'},\n",
       "  {'idx': 364, 'name': 'DEST_hot_SFO'},\n",
       "  {'idx': 365, 'name': 'DEST_hot_LAS'},\n",
       "  {'idx': 366, 'name': 'DEST_hot_MCO'},\n",
       "  {'idx': 367, 'name': 'DEST_hot_DTW'},\n",
       "  {'idx': 368, 'name': 'DEST_hot_MSP'},\n",
       "  {'idx': 369, 'name': 'DEST_hot_CLT'},\n",
       "  {'idx': 370, 'name': 'DEST_hot_LGA'},\n",
       "  {'idx': 371, 'name': 'DEST_hot_SLC'},\n",
       "  {'idx': 372, 'name': 'DEST_hot_SEA'},\n",
       "  {'idx': 373, 'name': 'DEST_hot_BOS'},\n",
       "  {'idx': 374, 'name': 'DEST_hot_EWR'},\n",
       "  {'idx': 375, 'name': 'DEST_hot_JFK'},\n",
       "  {'idx': 376, 'name': 'DEST_hot_FLL'},\n",
       "  {'idx': 377, 'name': 'DEST_hot_BWI'},\n",
       "  {'idx': 378, 'name': 'DEST_hot_MDW'},\n",
       "  {'idx': 379, 'name': 'DEST_hot_MIA'},\n",
       "  {'idx': 380, 'name': 'DEST_hot_DCA'},\n",
       "  {'idx': 381, 'name': 'DEST_hot_SAN'},\n",
       "  {'idx': 382, 'name': 'DEST_hot_TPA'},\n",
       "  {'idx': 383, 'name': 'DEST_hot_PHL'},\n",
       "  {'idx': 384, 'name': 'DEST_hot_DAL'},\n",
       "  {'idx': 385, 'name': 'DEST_hot_HOU'},\n",
       "  {'idx': 386, 'name': 'DEST_hot_STL'},\n",
       "  {'idx': 387, 'name': 'DEST_hot_BNA'},\n",
       "  {'idx': 388, 'name': 'DEST_hot_HNL'},\n",
       "  {'idx': 389, 'name': 'DEST_hot_PDX'},\n",
       "  {'idx': 390, 'name': 'DEST_hot_OAK'},\n",
       "  {'idx': 391, 'name': 'DEST_hot_MSY'},\n",
       "  {'idx': 392, 'name': 'DEST_hot_RSW'},\n",
       "  {'idx': 393, 'name': 'DEST_hot_AUS'},\n",
       "  {'idx': 394, 'name': 'DEST_hot_SJC'},\n",
       "  {'idx': 395, 'name': 'DEST_hot_MCI'},\n",
       "  {'idx': 396, 'name': 'DEST_hot_IAD'},\n",
       "  {'idx': 397, 'name': 'DEST_hot_SNA'},\n",
       "  {'idx': 398, 'name': 'DEST_hot_SMF'},\n",
       "  {'idx': 399, 'name': 'DEST_hot_CLE'},\n",
       "  {'idx': 400, 'name': 'DEST_hot_RDU'},\n",
       "  {'idx': 401, 'name': 'DEST_hot_MKE'},\n",
       "  {'idx': 402, 'name': 'DEST_hot_SAT'},\n",
       "  {'idx': 403, 'name': 'DEST_hot_PBI'},\n",
       "  {'idx': 404, 'name': 'DEST_hot_SJU'},\n",
       "  {'idx': 405, 'name': 'DEST_hot_IND'},\n",
       "  {'idx': 406, 'name': 'DEST_hot_PIT'},\n",
       "  {'idx': 407, 'name': 'DEST_hot_CMH'},\n",
       "  {'idx': 408, 'name': 'DEST_hot_OGG'},\n",
       "  {'idx': 409, 'name': 'DEST_hot_CVG'},\n",
       "  {'idx': 410, 'name': 'DEST_hot_BUR'},\n",
       "  {'idx': 411, 'name': 'DEST_hot_ABQ'},\n",
       "  {'idx': 412, 'name': 'DEST_hot_BDL'},\n",
       "  {'idx': 413, 'name': 'DEST_hot_ONT'},\n",
       "  {'idx': 414, 'name': 'DEST_hot_OMA'},\n",
       "  {'idx': 415, 'name': 'DEST_hot_JAX'},\n",
       "  {'idx': 416, 'name': 'DEST_hot_TUS'},\n",
       "  {'idx': 417, 'name': 'DEST_hot_BUF'},\n",
       "  {'idx': 418, 'name': 'DEST_hot_OKC'},\n",
       "  {'idx': 419, 'name': 'DEST_hot_TUL'},\n",
       "  {'idx': 420, 'name': 'DEST_hot_RIC'},\n",
       "  {'idx': 421, 'name': 'DEST_hot_MEM'},\n",
       "  {'idx': 422, 'name': 'DEST_hot_PSP'},\n",
       "  {'idx': 423, 'name': 'DEST_hot_ANC'},\n",
       "  {'idx': 424, 'name': 'DEST_hot_BHM'},\n",
       "  {'idx': 425, 'name': 'DEST_hot_RNO'},\n",
       "  {'idx': 426, 'name': 'DEST_hot_ELP'},\n",
       "  {'idx': 427, 'name': 'DEST_hot_GRR'},\n",
       "  {'idx': 428, 'name': 'DEST_hot_KOA'},\n",
       "  {'idx': 429, 'name': 'DEST_hot_LIH'},\n",
       "  {'idx': 430, 'name': 'DEST_hot_SDF'},\n",
       "  {'idx': 431, 'name': 'DEST_hot_PVD'},\n",
       "  {'idx': 432, 'name': 'DEST_hot_BOI'},\n",
       "  {'idx': 433, 'name': 'DEST_hot_CHS'},\n",
       "  {'idx': 434, 'name': 'DEST_hot_LIT'},\n",
       "  {'idx': 435, 'name': 'DEST_hot_GEG'},\n",
       "  {'idx': 436, 'name': 'DEST_hot_ORF'},\n",
       "  {'idx': 437, 'name': 'DEST_hot_MSN'},\n",
       "  {'idx': 438, 'name': 'DEST_hot_MAF'},\n",
       "  {'idx': 439, 'name': 'DEST_hot_DSM'},\n",
       "  {'idx': 440, 'name': 'DEST_hot_XNA'},\n",
       "  {'idx': 441, 'name': 'DEST_hot_DAY'},\n",
       "  {'idx': 442, 'name': 'DEST_hot_LGB'},\n",
       "  {'idx': 443, 'name': 'DEST_hot_ICT'},\n",
       "  {'idx': 444, 'name': 'DEST_hot_HPN'},\n",
       "  {'idx': 445, 'name': 'DEST_hot_ASE'},\n",
       "  {'idx': 446, 'name': 'DEST_hot_FAT'},\n",
       "  {'idx': 447, 'name': 'DEST_hot_GSO'},\n",
       "  {'idx': 448, 'name': 'DEST_hot_BTR'},\n",
       "  {'idx': 449, 'name': 'DEST_hot_CID'},\n",
       "  {'idx': 450, 'name': 'DEST_hot_ROC'},\n",
       "  {'idx': 451, 'name': 'DEST_hot_SAV'},\n",
       "  {'idx': 452, 'name': 'DEST_hot_PNS'},\n",
       "  {'idx': 453, 'name': 'DEST_hot_JAN'},\n",
       "  {'idx': 454, 'name': 'DEST_hot_COS'},\n",
       "  {'idx': 455, 'name': 'DEST_hot_ALB'},\n",
       "  {'idx': 456, 'name': 'DEST_hot_TYS'},\n",
       "  {'idx': 457, 'name': 'DEST_hot_SGF'},\n",
       "  {'idx': 458, 'name': 'DEST_hot_CAK'},\n",
       "  {'idx': 459, 'name': 'DEST_hot_FSD'},\n",
       "  {'idx': 460, 'name': 'DEST_hot_GSP'},\n",
       "  {'idx': 461, 'name': 'DEST_hot_CRP'},\n",
       "  {'idx': 462, 'name': 'DEST_hot_SBA'},\n",
       "  {'idx': 463, 'name': 'DEST_hot_ITO'},\n",
       "  {'idx': 464, 'name': 'DEST_hot_SHV'},\n",
       "  {'idx': 465, 'name': 'DEST_hot_CAE'},\n",
       "  {'idx': 466, 'name': 'DEST_hot_LFT'},\n",
       "  {'idx': 467, 'name': 'DEST_hot_MHT'},\n",
       "  {'idx': 468, 'name': 'DEST_hot_LEX'},\n",
       "  {'idx': 469, 'name': 'DEST_hot_AMA'},\n",
       "  {'idx': 470, 'name': 'DEST_hot_STT'},\n",
       "  {'idx': 471, 'name': 'DEST_hot_FAR'},\n",
       "  {'idx': 472, 'name': 'DEST_hot_SYR'},\n",
       "  {'idx': 473, 'name': 'DEST_hot_MOB'},\n",
       "  {'idx': 474, 'name': 'DEST_hot_LBB'},\n",
       "  {'idx': 475, 'name': 'DEST_hot_GRB'},\n",
       "  {'idx': 476, 'name': 'DEST_hot_SBP'},\n",
       "  {'idx': 477, 'name': 'DEST_hot_SBN'},\n",
       "  {'idx': 478, 'name': 'DEST_hot_HSV'},\n",
       "  {'idx': 479, 'name': 'DEST_hot_FNT'},\n",
       "  {'idx': 480, 'name': 'DEST_hot_FWA'},\n",
       "  {'idx': 481, 'name': 'DEST_hot_VPS'},\n",
       "  {'idx': 482, 'name': 'DEST_hot_MLI'},\n",
       "  {'idx': 483, 'name': 'DEST_hot_ISP'},\n",
       "  {'idx': 484, 'name': 'DEST_hot_SRQ'},\n",
       "  {'idx': 485, 'name': 'DEST_hot_PIA'},\n",
       "  {'idx': 486, 'name': 'DEST_hot_GRK'},\n",
       "  {'idx': 487, 'name': 'DEST_hot_MFE'},\n",
       "  {'idx': 488, 'name': 'DEST_hot_JAC'},\n",
       "  {'idx': 489, 'name': 'DEST_hot_GPT'},\n",
       "  {'idx': 490, 'name': 'DEST_hot_ACY'},\n",
       "  {'idx': 491, 'name': 'DEST_hot_CHA'},\n",
       "  {'idx': 492, 'name': 'DEST_hot_MYR'},\n",
       "  {'idx': 493, 'name': 'DEST_hot_TLH'},\n",
       "  {'idx': 494, 'name': 'DEST_hot_MDT'},\n",
       "  {'idx': 495, 'name': 'DEST_hot_EUG'},\n",
       "  {'idx': 496, 'name': 'DEST_hot_EVV'},\n",
       "  {'idx': 497, 'name': 'DEST_hot_JNU'},\n",
       "  {'idx': 498, 'name': 'DEST_hot_BIS'},\n",
       "  {'idx': 499, 'name': 'DEST_hot_ECP'},\n",
       "  {'idx': 500, 'name': 'DEST_hot_MRY'},\n",
       "  {'idx': 501, 'name': 'DEST_hot_HRL'},\n",
       "  {'idx': 502, 'name': 'DEST_hot_EGE'},\n",
       "  {'idx': 503, 'name': 'DEST_hot_BZN'},\n",
       "  {'idx': 504, 'name': 'DEST_hot_MGM'},\n",
       "  {'idx': 505, 'name': 'DEST_hot_AEX'},\n",
       "  {'idx': 506, 'name': 'DEST_hot_GJT'},\n",
       "  {'idx': 507, 'name': 'DEST_hot_PWM'},\n",
       "  {'idx': 508, 'name': 'DEST_hot_ISN'},\n",
       "  {'idx': 509, 'name': 'DEST_hot_BMI'},\n",
       "  {'idx': 510, 'name': 'DEST_hot_ATW'},\n",
       "  {'idx': 511, 'name': 'DEST_hot_MLU'},\n",
       "  {'idx': 512, 'name': 'DEST_hot_GNV'},\n",
       "  {'idx': 513, 'name': 'DEST_hot_BIL'},\n",
       "  {'idx': 514, 'name': 'DEST_hot_BFL'},\n",
       "  {'idx': 515, 'name': 'DEST_hot_EYW'},\n",
       "  {'idx': 516, 'name': 'DEST_hot_TTN'},\n",
       "  {'idx': 517, 'name': 'DEST_hot_RAP'},\n",
       "  {'idx': 518, 'name': 'DEST_hot_ABI'},\n",
       "  {'idx': 519, 'name': 'DEST_hot_BTV'},\n",
       "  {'idx': 520, 'name': 'DEST_hot_AVL'},\n",
       "  {'idx': 521, 'name': 'DEST_hot_BRO'},\n",
       "  {'idx': 522, 'name': 'DEST_hot_MFR'},\n",
       "  {'idx': 523, 'name': 'DEST_hot_LNK'},\n",
       "  {'idx': 524, 'name': 'DEST_hot_AGS'},\n",
       "  {'idx': 525, 'name': 'DEST_hot_TVC'},\n",
       "  {'idx': 526, 'name': 'DEST_hot_CLD'},\n",
       "  {'idx': 527, 'name': 'DEST_hot_LRD'},\n",
       "  {'idx': 528, 'name': 'DEST_hot_CRW'},\n",
       "  {'idx': 529, 'name': 'DEST_hot_FSM'},\n",
       "  {'idx': 530, 'name': 'DEST_hot_CHO'},\n",
       "  {'idx': 531, 'name': 'DEST_hot_PSC'},\n",
       "  {'idx': 532, 'name': 'DEST_hot_CLL'},\n",
       "  {'idx': 533, 'name': 'DEST_hot_KTN'},\n",
       "  {'idx': 534, 'name': 'DEST_hot_TYR'},\n",
       "  {'idx': 535, 'name': 'DEST_hot_CMI'},\n",
       "  {'idx': 536, 'name': 'DEST_hot_ABE'},\n",
       "  {'idx': 537, 'name': 'DEST_hot_RST'},\n",
       "  {'idx': 538, 'name': 'DEST_hot_DRO'},\n",
       "  {'idx': 539, 'name': 'DEST_hot_IDA'},\n",
       "  {'idx': 540, 'name': 'DEST_hot_AZO'},\n",
       "  {'idx': 541, 'name': 'DEST_hot_CPR'},\n",
       "  {'idx': 542, 'name': 'DEST_hot_ELM'},\n",
       "  {'idx': 543, 'name': 'DEST_hot_YUM'},\n",
       "  {'idx': 544, 'name': 'DEST_hot_RDM'},\n",
       "  {'idx': 545, 'name': 'DEST_hot_LAN'},\n",
       "  {'idx': 546, 'name': 'DEST_hot_ROA'},\n",
       "  {'idx': 547, 'name': 'DEST_hot_TRI'},\n",
       "  {'idx': 548, 'name': 'DEST_hot_LCH'},\n",
       "  {'idx': 549, 'name': 'DEST_hot_HDN'},\n",
       "  {'idx': 550, 'name': 'DEST_hot_MTJ'},\n",
       "  {'idx': 551, 'name': 'DEST_hot_FAI'},\n",
       "  {'idx': 552, 'name': 'DEST_hot_MBS'},\n",
       "  {'idx': 553, 'name': 'DEST_hot_SGU'},\n",
       "  {'idx': 554, 'name': 'DEST_hot_FAY'},\n",
       "  {'idx': 555, 'name': 'DEST_hot_MOT'},\n",
       "  {'idx': 556, 'name': 'DEST_hot_ILM'},\n",
       "  {'idx': 557, 'name': 'DEST_hot_GTF'},\n",
       "  {'idx': 558, 'name': 'DEST_hot_MHK'},\n",
       "  {'idx': 559, 'name': 'DEST_hot_DAB'},\n",
       "  {'idx': 560, 'name': 'DEST_hot_SJT'},\n",
       "  {'idx': 561, 'name': 'DEST_hot_FCA'},\n",
       "  {'idx': 562, 'name': 'DEST_hot_ACT'},\n",
       "  {'idx': 563, 'name': 'DEST_hot_MSO'},\n",
       "  {'idx': 564, 'name': 'DEST_hot_FLG'},\n",
       "  {'idx': 565, 'name': 'DEST_hot_LSE'},\n",
       "  {'idx': 566, 'name': 'DEST_hot_PHF'},\n",
       "  {'idx': 567, 'name': 'DEST_hot_SPI'},\n",
       "  {'idx': 568, 'name': 'DEST_hot_DLH'},\n",
       "  {'idx': 569, 'name': 'DEST_hot_ACV'},\n",
       "  {'idx': 570, 'name': 'DEST_hot_SAF'},\n",
       "  {'idx': 571, 'name': 'DEST_hot_CWA'},\n",
       "  {'idx': 572, 'name': 'DEST_hot_MLB'},\n",
       "  {'idx': 573, 'name': 'DEST_hot_DIK'},\n",
       "  {'idx': 574, 'name': 'DEST_hot_COU'},\n",
       "  {'idx': 575, 'name': 'DEST_hot_DHN'},\n",
       "  {'idx': 576, 'name': 'DEST_hot_HLN'},\n",
       "  {'idx': 577, 'name': 'DEST_hot_LAW'},\n",
       "  {'idx': 578, 'name': 'DEST_hot_SPS'},\n",
       "  {'idx': 579, 'name': 'DEST_hot_SUN'},\n",
       "  {'idx': 580, 'name': 'DEST_hot_OAJ'},\n",
       "  {'idx': 581, 'name': 'DEST_hot_GCC'},\n",
       "  {'idx': 582, 'name': 'DEST_hot_BQN'},\n",
       "  {'idx': 583, 'name': 'DEST_hot_AVP'},\n",
       "  {'idx': 584, 'name': 'DEST_hot_LBE'},\n",
       "  {'idx': 585, 'name': 'DEST_hot_BLI'},\n",
       "  {'idx': 586, 'name': 'DEST_hot_CSG'},\n",
       "  {'idx': 587, 'name': 'DEST_hot_STX'},\n",
       "  {'idx': 588, 'name': 'DEST_hot_SIT'},\n",
       "  {'idx': 589, 'name': 'DEST_hot_GUC'},\n",
       "  {'idx': 590, 'name': 'DEST_hot_ERI'},\n",
       "  {'idx': 591, 'name': 'DEST_hot_RHI'},\n",
       "  {'idx': 592, 'name': 'DEST_hot_VLD'},\n",
       "  {'idx': 593, 'name': 'DEST_hot_GTR'},\n",
       "  {'idx': 594, 'name': 'DEST_hot_ABY'},\n",
       "  {'idx': 595, 'name': 'DEST_hot_BQK'},\n",
       "  {'idx': 596, 'name': 'DEST_hot_BET'},\n",
       "  {'idx': 597, 'name': 'DEST_hot_BPT'},\n",
       "  {'idx': 598, 'name': 'DEST_hot_ROW'},\n",
       "  {'idx': 599, 'name': 'DEST_hot_HIB'},\n",
       "  {'idx': 600, 'name': 'DEST_hot_MEI'},\n",
       "  {'idx': 601, 'name': 'DEST_hot_TXK'},\n",
       "  {'idx': 602, 'name': 'DEST_hot_RDD'},\n",
       "  {'idx': 603, 'name': 'DEST_hot_RKS'},\n",
       "  {'idx': 604, 'name': 'DEST_hot_SCC'},\n",
       "  {'idx': 605, 'name': 'DEST_hot_TOL'},\n",
       "  {'idx': 606, 'name': 'DEST_hot_BRW'},\n",
       "  {'idx': 607, 'name': 'DEST_hot_DBQ'},\n",
       "  {'idx': 608, 'name': 'DEST_hot_JMS'},\n",
       "  {'idx': 609, 'name': 'DEST_hot_SCE'},\n",
       "  {'idx': 610, 'name': 'DEST_hot_PSE'},\n",
       "  {'idx': 611, 'name': 'DEST_hot_SWF'},\n",
       "  {'idx': 612, 'name': 'DEST_hot_BJI'},\n",
       "  {'idx': 613, 'name': 'DEST_hot_PSG'},\n",
       "  {'idx': 614, 'name': 'DEST_hot_SMX'},\n",
       "  {'idx': 615, 'name': 'DEST_hot_WRG'},\n",
       "  {'idx': 616, 'name': 'DEST_hot_ABR'},\n",
       "  {'idx': 617, 'name': 'DEST_hot_BTM'},\n",
       "  {'idx': 618, 'name': 'DEST_hot_OTZ'},\n",
       "  {'idx': 619, 'name': 'DEST_hot_CDV'},\n",
       "  {'idx': 620, 'name': 'DEST_hot_YAK'},\n",
       "  {'idx': 621, 'name': 'DEST_hot_COD'},\n",
       "  {'idx': 622, 'name': 'DEST_hot_EKO'},\n",
       "  {'idx': 623, 'name': 'DEST_hot_OME'},\n",
       "  {'idx': 624, 'name': 'DEST_hot_EAU'},\n",
       "  {'idx': 625, 'name': 'DEST_hot_PIH'},\n",
       "  {'idx': 626, 'name': 'DEST_hot_CEC'},\n",
       "  {'idx': 627, 'name': 'DEST_hot_GCK'},\n",
       "  {'idx': 628, 'name': 'DEST_hot_JLN'},\n",
       "  {'idx': 629, 'name': 'DEST_hot_ORH'},\n",
       "  {'idx': 630, 'name': 'DEST_hot_TWF'},\n",
       "  {'idx': 631, 'name': 'DEST_hot_CIU'},\n",
       "  {'idx': 632, 'name': 'DEST_hot_IMT'},\n",
       "  {'idx': 633, 'name': 'DEST_hot_GRI'},\n",
       "  {'idx': 634, 'name': 'DEST_hot_PAH'},\n",
       "  {'idx': 635, 'name': 'DEST_hot_LAR'},\n",
       "  {'idx': 636, 'name': 'DEST_hot_MKG'},\n",
       "  {'idx': 637, 'name': 'DEST_hot_CMX'},\n",
       "  {'idx': 638, 'name': 'DEST_hot_SUX'},\n",
       "  {'idx': 639, 'name': 'DEST_hot_CNY'},\n",
       "  {'idx': 640, 'name': 'DEST_hot_GGG'},\n",
       "  {'idx': 641, 'name': 'DEST_hot_INL'},\n",
       "  {'idx': 642, 'name': 'DEST_hot_BRD'},\n",
       "  {'idx': 643, 'name': 'DEST_hot_CDC'},\n",
       "  {'idx': 644, 'name': 'DEST_hot_EWN'},\n",
       "  {'idx': 645, 'name': 'DEST_hot_ALO'},\n",
       "  {'idx': 646, 'name': 'DEST_hot_HYS'},\n",
       "  {'idx': 647, 'name': 'DEST_hot_LWS'},\n",
       "  {'idx': 648, 'name': 'DEST_hot_PUB'},\n",
       "  {'idx': 649, 'name': 'DEST_hot_VEL'},\n",
       "  {'idx': 650, 'name': 'DEST_hot_PIB'},\n",
       "  {'idx': 651, 'name': 'DEST_hot_PLN'},\n",
       "  {'idx': 652, 'name': 'DEST_hot_ESC'},\n",
       "  {'idx': 653, 'name': 'DEST_hot_APN'},\n",
       "  {'idx': 654, 'name': 'DEST_hot_HOB'},\n",
       "  {'idx': 655, 'name': 'DEST_hot_DVL'},\n",
       "  {'idx': 656, 'name': 'DEST_hot_MMH'},\n",
       "  {'idx': 657, 'name': 'DEST_hot_GFK'},\n",
       "  {'idx': 658, 'name': 'DEST_hot_IAG'},\n",
       "  {'idx': 659, 'name': 'DEST_hot_GUM'},\n",
       "  {'idx': 660, 'name': 'DEST_hot_PBG'},\n",
       "  {'idx': 661, 'name': 'DEST_hot_ADQ'},\n",
       "  {'idx': 662, 'name': 'DEST_hot_STC'},\n",
       "  {'idx': 663, 'name': 'DEST_hot_MQT'},\n",
       "  {'idx': 664, 'name': 'DEST_hot_ILG'},\n",
       "  {'idx': 665, 'name': 'DEST_hot_OTH'},\n",
       "  {'idx': 666, 'name': 'DEST_hot_UST'},\n",
       "  {'idx': 667, 'name': 'DEST_hot_BGM'},\n",
       "  {'idx': 668, 'name': 'DEST_hot_PPG'},\n",
       "  {'idx': 669, 'name': 'DEST_hot_ADK'},\n",
       "  {'idx': 670, 'name': 'DEST_hot_BGR'},\n",
       "  {'idx': 671, 'name': 'DEST_hot_ITH'},\n",
       "  {'idx': 672, 'name': 'DEST_hot___unknown'}]}"
      ]
     },
     "execution_count": 10,
     "metadata": {},
     "output_type": "execute_result"
    }
   ],
   "source": [
    "##### LOAD 3mo Baseline Folds DATASET ##########\n",
    "timeInterval = '3mo'\n",
    "fold_name = \"folds\" + timeInterval\n",
    "folds = load_folds_from_blob_and_cache(team_blob_url, fold_name)\n",
    "folds[0][1].schema[\"features\"].metadata[\"ml_attr\"][\"attrs\"]"
   ]
  },
  {
   "cell_type": "code",
   "execution_count": 0,
   "metadata": {
    "application/vnd.databricks.v1+cell": {
     "cellMetadata": {
      "byteLimit": 2048000,
      "rowLimit": 10000
     },
     "inputWidgets": {},
     "nuid": "ba91dec6-5e0e-4116-871d-f6f9759d0c47",
     "showTitle": true,
     "title": "Logistic Regression"
    }
   },
   "outputs": [
    {
     "output_type": "stream",
     "name": "stdout",
     "output_type": "stream",
     "text": [
      "CV FOLD START: 0: 2023-08-11 17:32:04.580162\nModel built: 0: 2023-08-11 17:34:05.160354\nPrediction Validation Set: 0: 2023-08-11 17:34:05.251975\n0.051851741323226605\nfold fscore: 0.051851741323226605\nCV FOLD START: 1: 2023-08-11 17:34:16.781711\nModel built: 1: 2023-08-11 17:36:27.640509\nPrediction Validation Set: 1: 2023-08-11 17:36:27.784065\n0.03454285614695528\nfold fscore: 0.03454285614695528\nCV FOLD START: 2: 2023-08-11 17:36:47.939786\nModel built: 2: 2023-08-11 17:38:00.923822\nPrediction Validation Set: 2: 2023-08-11 17:38:01.059795\n0.012566119564132575\nfold fscore: 0.012566119564132575\naverage fscore accross fold: 0.03298690567810482\n"
     ]
    }
   ],
   "source": [
    "# BASELINE LOGISTIC WITH FOLDS\n",
    "estimator = LogisticRegression(featuresCol = 'features', labelCol = 'label')\n",
    "fscore = trainPredictEval(estimator)"
   ]
  },
  {
   "cell_type": "code",
   "execution_count": 0,
   "metadata": {
    "application/vnd.databricks.v1+cell": {
     "cellMetadata": {
      "byteLimit": 2048000,
      "rowLimit": 10000
     },
     "inputWidgets": {},
     "nuid": "e0a718a9-93b1-4f42-8933-ca72a332be45",
     "showTitle": true,
     "title": "Random Forest"
    }
   },
   "outputs": [
    {
     "output_type": "stream",
     "name": "stdout",
     "output_type": "stream",
     "text": [
      "CV FOLD START: 0: 2023-08-11 17:38:33.238097\nModel built: 0: 2023-08-11 17:38:54.193041\nPrediction Validation Set: 0: 2023-08-11 17:38:54.283478\n0.0\nfold fscore: 0.0\nCV FOLD START: 1: 2023-08-11 17:38:56.695042\nModel built: 1: 2023-08-11 17:39:18.651062\nPrediction Validation Set: 1: 2023-08-11 17:39:18.728618\n0.0\nfold fscore: 0.0\nCV FOLD START: 2: 2023-08-11 17:39:20.015509\nModel built: 2: 2023-08-11 17:39:36.613758\nPrediction Validation Set: 2: 2023-08-11 17:39:36.693287\n0.0\nfold fscore: 0.0\naverage fscore accross fold: 0.0\n"
     ]
    }
   ],
   "source": [
    "# BASELINE RANDOM FOREST WITH FOLDS\n",
    "estimator = RandomForestClassifier(featuresCol = 'features', labelCol = 'label')    \n",
    "fscore_rf = trainPredictEval(estimator)"
   ]
  },
  {
   "cell_type": "markdown",
   "metadata": {
    "application/vnd.databricks.v1+cell": {
     "cellMetadata": {},
     "inputWidgets": {},
     "nuid": "9a7fd73b-3d71-4d1a-a047-5c79417c12c3",
     "showTitle": false,
     "title": ""
    }
   },
   "source": [
    "###Hypertuning Cross-Validation with 60 Month Dataset"
   ]
  },
  {
   "cell_type": "code",
   "execution_count": 0,
   "metadata": {
    "application/vnd.databricks.v1+cell": {
     "cellMetadata": {},
     "inputWidgets": {},
     "nuid": "b37af25a-47c2-4523-923a-bb25586865e3",
     "showTitle": false,
     "title": ""
    }
   },
   "outputs": [],
   "source": [
    "def load_folds_from_blob_and_cache(blob_url, fold_name):\n",
    "    '''Load folds from storage blob'''\n",
    "    \n",
    "    folds = list()\n",
    "    DEFAULT_PARTITION_COUNT = 50\n",
    "\n",
    "    # Compute the fold count\n",
    "    files = dbutils.fs.ls(f\"{blob_url}/{fold_name}\")\n",
    "    fold_names = sorted([f.name for f in files if f.name.startswith(\"train\")])\n",
    "    match = re.match(r\"train_(\\d+)_df\", fold_names[-1])\n",
    "    fold_count = int(match.group(1)) + 1\n",
    "    print(f\"Loading {fold_count} folds...\")\n",
    "\n",
    "    # Load folds\n",
    "    for i in range(fold_count):\n",
    "        train_df = (\n",
    "            spark.read.parquet(f\"{blob_url}/{fold_name}/train_{i}_df\")\n",
    "            .repartition(DEFAULT_PARTITION_COUNT)\n",
    "            .cache()\n",
    "        )\n",
    "        val_df = (\n",
    "            spark.read.parquet(f\"{blob_url}/{fold_name}/val_{i}_df\")\n",
    "            .repartition(DEFAULT_PARTITION_COUNT)\n",
    "            .cache()\n",
    "        )\n",
    "        folds.append((train_df, val_df))\n",
    "    return folds\n",
    "\n",
    "\n",
    "def trainPredictEval(estimator):  \n",
    "\n",
    "    \"\"\"\n",
    "    Get validation fscore across all folds. Function is called by objective_function_rf()\n",
    "\n",
    "    Parameters:\n",
    "        estimator: machine learning model defined in objective_function_rf()\n",
    "    \n",
    "    returns:\n",
    "        average validation fscore accross all folds\n",
    "    \"\"\"\n",
    "    from statistics import mean \n",
    "\n",
    "    metricsList = []\n",
    "\n",
    "    # Load folds data\n",
    "    for i, (train_df, val_df) in enumerate(folds):\n",
    "\n",
    "        print(f'CV FOLD START: {i}: {datetime.now()}')\n",
    "        \n",
    "        # Train\n",
    "        model = estimator.fit(train_df)\n",
    "\n",
    "        print(f'Model built: {i}: {datetime.now()}')\n",
    "        \n",
    "        pred = model.transform(val_df).cache()\n",
    "        \n",
    "        print(f'Prediction Validation Set: {i}: {datetime.now()}')\n",
    "            \n",
    "        # Compute Metrics\n",
    "\n",
    "        evaluator = MulticlassClassificationEvaluator(labelCol=\"label\", predictionCol=\"prediction\", metricName=\"fMeasureByLabel\", beta=2.0, metricLabel=1.0)\n",
    "        fmeasure = evaluator.evaluate(pred, {evaluator.metricLabel: 1.0})\n",
    "        print(fmeasure)\n",
    "\n",
    "        metricsList.append(fmeasure)\n",
    "        print(f'fold fscore: {fmeasure}')\n",
    "\n",
    "        pred.unpersist()\n",
    "\n",
    "    avgFscore = mean(metricsList)\n",
    "    print(f'average fscore accross fold: {avgFscore}')\n",
    "\n",
    "    # mlflow logging\n",
    "    mlflow.log_metric(\"f2_score\", (-1)*avgFscore)\n",
    "\n",
    "    # negate fscore becuase hyperopt minimizes\n",
    "    return (-1)*avgFscore"
   ]
  },
  {
   "cell_type": "code",
   "execution_count": 0,
   "metadata": {
    "application/vnd.databricks.v1+cell": {
     "cellMetadata": {},
     "inputWidgets": {},
     "nuid": "f2220c4c-03d1-4165-a880-66af1ba09c23",
     "showTitle": true,
     "title": "Load 60 month Dataset"
    }
   },
   "outputs": [],
   "source": [
    "# RUN THIS CODE BELOW TO PULL IN CV FOLDS IN VARIABLE \"folds\" for 60 month (only brings in 2015-2018 as training set)\n",
    "timeInterval = '60mo'\n",
    "fold_name = \"folds\" + timeInterval\n",
    "folds = load_folds_from_blob_and_cache(team_blob_url, fold_name)\n",
    "\n",
    "# Filter to the most recent 2 folds (2017 and 2018)\n",
    "fold_small = folds[3:5]\n",
    "\n",
    "# Create folds_slim that excludes ORIGIN_hot and DEST_hot (representing about 600 columns)\n",
    "folds_slim = []\n",
    "\n",
    "for i, (train_df, val_df) in enumerate(fold_small):\n",
    "\n",
    "    train_df_new = train_df.drop(\"features\")\n",
    "    val_df_new = val_df.drop(\"features\")\n",
    "    \n",
    "    features_all = ['IS_FIRST_FLIGHT_OF_DAY_double_hot',\n",
    "    'is_holiday_adjacent_double_hot',\n",
    "    'OP_UNIQUE_CARRIER_hot',\n",
    "    'is_holiday_double_hot',\n",
    "    'CRS_DEP_BUCKET_hot',\n",
    "    'DAY_OF_WEEK_hot',\n",
    "    'origin_type_hot',\n",
    "    'dest_type_hot',\n",
    "    'MONTH_hot',\n",
    "    'YEAR_hot'] + ['scaled_numeric']\n",
    "\n",
    "    #print(f'features_all: {features_all}')\n",
    "    assembler = VectorAssembler(inputCols=features_all, outputCol=\"features\")\n",
    "\n",
    "    train_df_slim = assembler.transform(train_df_new)\n",
    "    val_df_slim = assembler.transform(val_df_new)\n",
    "\n",
    "    train_df_slim = train_df_slim.select(['features', 'label'])\n",
    "    val_df_slim = val_df_slim.select(['features', 'label'])\n",
    "\n",
    "    folds_slim.append((train_df_slim, val_df_slim))\n",
    "\n",
    "folds_slim\n"
   ]
  },
  {
   "cell_type": "code",
   "execution_count": 0,
   "metadata": {
    "application/vnd.databricks.v1+cell": {
     "cellMetadata": {
      "byteLimit": 2048000,
      "rowLimit": 10000
     },
     "inputWidgets": {},
     "nuid": "e71fce0a-9512-476e-89dd-8de65a7915dd",
     "showTitle": false,
     "title": ""
    }
   },
   "outputs": [
    {
     "output_type": "stream",
     "name": "stdout",
     "output_type": "stream",
     "text": [
      "root\n |-- label: double (nullable = true)\n |-- DISTANCE: double (nullable = true)\n |-- ELEVATION: double (nullable = true)\n |-- FE_PRIOR_DAILY_AVG_DEP_DELAY: double (nullable = true)\n |-- FE_PRIOR_AVG_DURATION: double (nullable = true)\n |-- FE_NUM_FLIGHT_SCHEDULED: long (nullable = true)\n |-- DEP_DELAY_LAG: double (nullable = true)\n |-- DAY_OF_WEEK: integer (nullable = true)\n |-- MONTH: integer (nullable = true)\n |-- YEAR: integer (nullable = true)\n |-- OP_UNIQUE_CARRIER: string (nullable = true)\n |-- origin_type: string (nullable = true)\n |-- dest_type: string (nullable = true)\n |-- ORIGIN: string (nullable = true)\n |-- DEST: string (nullable = true)\n |-- is_holiday_double: double (nullable = true)\n |-- is_holiday_adjacent_double: double (nullable = true)\n |-- IS_FIRST_FLIGHT_OF_DAY_double: double (nullable = true)\n |-- DATE: timestamp (nullable = true)\n |-- FL_DATE: date (nullable = true)\n |-- OP_CARRIER_FL_NUM: integer (nullable = true)\n |-- DEP_DELAY: double (nullable = true)\n |-- AIR_TIME: double (nullable = true)\n |-- DEP_TIME_BLK: string (nullable = true)\n |-- origin_iata_code: string (nullable = true)\n |-- dest_iata_code: string (nullable = true)\n |-- TAIL_NUM: string (nullable = true)\n |-- sched_depart_date_time_UTC: timestamp (nullable = true)\n |-- CRS_DEP_TIME: integer (nullable = true)\n |-- CRS_DEP_BUCKET: double (nullable = true)\n |-- DAY_OF_WEEK_ix: double (nullable = true)\n |-- MONTH_ix: double (nullable = true)\n |-- YEAR_ix: double (nullable = true)\n |-- OP_UNIQUE_CARRIER_ix: double (nullable = true)\n |-- origin_type_ix: double (nullable = true)\n |-- dest_type_ix: double (nullable = true)\n |-- ORIGIN_ix: double (nullable = true)\n |-- DEST_ix: double (nullable = true)\n |-- is_holiday_double_ix: double (nullable = true)\n |-- is_holiday_adjacent_double_ix: double (nullable = true)\n |-- IS_FIRST_FLIGHT_OF_DAY_double_ix: double (nullable = true)\n |-- CRS_DEP_BUCKET_ix: double (nullable = true)\n |-- DAY_OF_WEEK_hot: vector (nullable = true)\n |-- MONTH_hot: vector (nullable = true)\n |-- YEAR_hot: vector (nullable = true)\n |-- OP_UNIQUE_CARRIER_hot: vector (nullable = true)\n |-- origin_type_hot: vector (nullable = true)\n |-- dest_type_hot: vector (nullable = true)\n |-- ORIGIN_hot: vector (nullable = true)\n |-- DEST_hot: vector (nullable = true)\n |-- is_holiday_double_hot: vector (nullable = true)\n |-- is_holiday_adjacent_double_hot: vector (nullable = true)\n |-- IS_FIRST_FLIGHT_OF_DAY_double_hot: vector (nullable = true)\n |-- CRS_DEP_BUCKET_hot: vector (nullable = true)\n |-- pagerank_origin: double (nullable = true)\n |-- triangle_count_origin: long (nullable = true)\n |-- pagerank_dest: double (nullable = true)\n |-- triangle_count_dest: long (nullable = true)\n |-- DISTANCE_imputed: double (nullable = true)\n |-- ELEVATION_imputed: double (nullable = true)\n |-- FE_PRIOR_DAILY_AVG_DEP_DELAY_imputed: double (nullable = true)\n |-- FE_PRIOR_AVG_DURATION_imputed: double (nullable = true)\n |-- FE_NUM_FLIGHT_SCHEDULED_imputed: long (nullable = true)\n |-- DEP_DELAY_LAG_imputed: double (nullable = true)\n |-- pagerank_origin_imputed: double (nullable = true)\n |-- pagerank_dest_imputed: double (nullable = true)\n |-- triangle_count_origin_imputed: long (nullable = true)\n |-- triangle_count_dest_imputed: long (nullable = true)\n |-- vectorized_numeric_features: vector (nullable = true)\n |-- scaled_numeric: vector (nullable = true)\n |-- features: vector (nullable = true)\n\n"
     ]
    }
   ],
   "source": [
    "# SCHEMA has \"features, label\" + individual features + intermediate features used for processing. \n",
    "# Jess changed this. Before just kept \"features, label\" but realized this gives us more flexibility.\n",
    "# Could change \"features\" input on the fly if you wanted.\n",
    "folds_slim[0][0].printSchema()"
   ]
  },
  {
   "cell_type": "code",
   "execution_count": 0,
   "metadata": {
    "application/vnd.databricks.v1+cell": {
     "cellMetadata": {
      "byteLimit": 2048000,
      "rowLimit": 10000
     },
     "inputWidgets": {},
     "nuid": "becd1312-99f2-4cdc-b318-09622512eaeb",
     "showTitle": false,
     "title": ""
    }
   },
   "outputs": [
    {
     "output_type": "execute_result",
     "data": {
      "text/plain": [
       "{'numeric': [{'idx': 810, 'name': 'scaled_numeric_0'},\n",
       "  {'idx': 811, 'name': 'scaled_numeric_1'},\n",
       "  {'idx': 812, 'name': 'scaled_numeric_2'},\n",
       "  {'idx': 813, 'name': 'scaled_numeric_3'},\n",
       "  {'idx': 814, 'name': 'scaled_numeric_4'},\n",
       "  {'idx': 815, 'name': 'scaled_numeric_5'},\n",
       "  {'idx': 816, 'name': 'scaled_numeric_6'},\n",
       "  {'idx': 817, 'name': 'scaled_numeric_7'},\n",
       "  {'idx': 818, 'name': 'scaled_numeric_8'},\n",
       "  {'idx': 819, 'name': 'scaled_numeric_9'}],\n",
       " 'binary': [{'idx': 0, 'name': 'IS_FIRST_FLIGHT_OF_DAY_double_hot_0.0'},\n",
       "  {'idx': 1, 'name': 'IS_FIRST_FLIGHT_OF_DAY_double_hot_1.0'},\n",
       "  {'idx': 2, 'name': 'IS_FIRST_FLIGHT_OF_DAY_double_hot___unknown'},\n",
       "  {'idx': 3, 'name': 'is_holiday_adjacent_double_hot_0.0'},\n",
       "  {'idx': 4, 'name': 'is_holiday_adjacent_double_hot_1.0'},\n",
       "  {'idx': 5, 'name': 'is_holiday_adjacent_double_hot___unknown'},\n",
       "  {'idx': 6, 'name': 'OP_UNIQUE_CARRIER_hot_WN'},\n",
       "  {'idx': 7, 'name': 'OP_UNIQUE_CARRIER_hot_DL'},\n",
       "  {'idx': 8, 'name': 'OP_UNIQUE_CARRIER_hot_AA'},\n",
       "  {'idx': 9, 'name': 'OP_UNIQUE_CARRIER_hot_OO'},\n",
       "  {'idx': 10, 'name': 'OP_UNIQUE_CARRIER_hot_UA'},\n",
       "  {'idx': 11, 'name': 'OP_UNIQUE_CARRIER_hot_EV'},\n",
       "  {'idx': 12, 'name': 'OP_UNIQUE_CARRIER_hot_B6'},\n",
       "  {'idx': 13, 'name': 'OP_UNIQUE_CARRIER_hot_AS'},\n",
       "  {'idx': 14, 'name': 'OP_UNIQUE_CARRIER_hot_MQ'},\n",
       "  {'idx': 15, 'name': 'OP_UNIQUE_CARRIER_hot_NK'},\n",
       "  {'idx': 16, 'name': 'OP_UNIQUE_CARRIER_hot_YX'},\n",
       "  {'idx': 17, 'name': 'OP_UNIQUE_CARRIER_hot_OH'},\n",
       "  {'idx': 18, 'name': 'OP_UNIQUE_CARRIER_hot_F9'},\n",
       "  {'idx': 19, 'name': 'OP_UNIQUE_CARRIER_hot_9E'},\n",
       "  {'idx': 20, 'name': 'OP_UNIQUE_CARRIER_hot_YV'},\n",
       "  {'idx': 21, 'name': 'OP_UNIQUE_CARRIER_hot_HA'},\n",
       "  {'idx': 22, 'name': 'OP_UNIQUE_CARRIER_hot_VX'},\n",
       "  {'idx': 23, 'name': 'OP_UNIQUE_CARRIER_hot_G4'},\n",
       "  {'idx': 24, 'name': 'OP_UNIQUE_CARRIER_hot_US'},\n",
       "  {'idx': 25, 'name': 'OP_UNIQUE_CARRIER_hot___unknown'},\n",
       "  {'idx': 26, 'name': 'is_holiday_double_hot_0.0'},\n",
       "  {'idx': 27, 'name': 'is_holiday_double_hot_1.0'},\n",
       "  {'idx': 28, 'name': 'is_holiday_double_hot___unknown'},\n",
       "  {'idx': 29, 'name': 'CRS_DEP_BUCKET_hot_2.0'},\n",
       "  {'idx': 30, 'name': 'CRS_DEP_BUCKET_hot_3.0'},\n",
       "  {'idx': 31, 'name': 'CRS_DEP_BUCKET_hot_0.0'},\n",
       "  {'idx': 32, 'name': 'CRS_DEP_BUCKET_hot_1.0'},\n",
       "  {'idx': 33, 'name': 'CRS_DEP_BUCKET_hot_4.0'},\n",
       "  {'idx': 34, 'name': 'CRS_DEP_BUCKET_hot___unknown'},\n",
       "  {'idx': 35, 'name': 'DAY_OF_WEEK_hot_5'},\n",
       "  {'idx': 36, 'name': 'DAY_OF_WEEK_hot_1'},\n",
       "  {'idx': 37, 'name': 'DAY_OF_WEEK_hot_4'},\n",
       "  {'idx': 38, 'name': 'DAY_OF_WEEK_hot_3'},\n",
       "  {'idx': 39, 'name': 'DAY_OF_WEEK_hot_2'},\n",
       "  {'idx': 40, 'name': 'DAY_OF_WEEK_hot_7'},\n",
       "  {'idx': 41, 'name': 'DAY_OF_WEEK_hot_6'},\n",
       "  {'idx': 42, 'name': 'DAY_OF_WEEK_hot___unknown'},\n",
       "  {'idx': 43, 'name': 'origin_type_hot_large_airport'},\n",
       "  {'idx': 44, 'name': 'origin_type_hot_medium_airport'},\n",
       "  {'idx': 45, 'name': 'origin_type_hot_small_airport'},\n",
       "  {'idx': 46, 'name': 'origin_type_hot_seaplane_base'},\n",
       "  {'idx': 47, 'name': 'origin_type_hot___unknown'},\n",
       "  {'idx': 48, 'name': 'dest_type_hot_large_airport'},\n",
       "  {'idx': 49, 'name': 'dest_type_hot_medium_airport'},\n",
       "  {'idx': 50, 'name': 'dest_type_hot_small_airport'},\n",
       "  {'idx': 51, 'name': 'dest_type_hot___unknown'},\n",
       "  {'idx': 52, 'name': 'ORIGIN_hot_ATL'},\n",
       "  {'idx': 53, 'name': 'ORIGIN_hot_ORD'},\n",
       "  {'idx': 54, 'name': 'ORIGIN_hot_DFW'},\n",
       "  {'idx': 55, 'name': 'ORIGIN_hot_DEN'},\n",
       "  {'idx': 56, 'name': 'ORIGIN_hot_LAX'},\n",
       "  {'idx': 57, 'name': 'ORIGIN_hot_SFO'},\n",
       "  {'idx': 58, 'name': 'ORIGIN_hot_PHX'},\n",
       "  {'idx': 59, 'name': 'ORIGIN_hot_CLT'},\n",
       "  {'idx': 60, 'name': 'ORIGIN_hot_IAH'},\n",
       "  {'idx': 61, 'name': 'ORIGIN_hot_LAS'},\n",
       "  {'idx': 62, 'name': 'ORIGIN_hot_MSP'},\n",
       "  {'idx': 63, 'name': 'ORIGIN_hot_DTW'},\n",
       "  {'idx': 64, 'name': 'ORIGIN_hot_SEA'},\n",
       "  {'idx': 65, 'name': 'ORIGIN_hot_MCO'},\n",
       "  {'idx': 66, 'name': 'ORIGIN_hot_BOS'},\n",
       "  {'idx': 67, 'name': 'ORIGIN_hot_LGA'},\n",
       "  {'idx': 68, 'name': 'ORIGIN_hot_EWR'},\n",
       "  {'idx': 69, 'name': 'ORIGIN_hot_SLC'},\n",
       "  {'idx': 70, 'name': 'ORIGIN_hot_JFK'},\n",
       "  {'idx': 71, 'name': 'ORIGIN_hot_BWI'},\n",
       "  {'idx': 72, 'name': 'ORIGIN_hot_DCA'},\n",
       "  {'idx': 73, 'name': 'ORIGIN_hot_PHL'},\n",
       "  {'idx': 74, 'name': 'ORIGIN_hot_FLL'},\n",
       "  {'idx': 75, 'name': 'ORIGIN_hot_MDW'},\n",
       "  {'idx': 76, 'name': 'ORIGIN_hot_SAN'},\n",
       "  {'idx': 77, 'name': 'ORIGIN_hot_MIA'},\n",
       "  {'idx': 78, 'name': 'ORIGIN_hot_TPA'},\n",
       "  {'idx': 79, 'name': 'ORIGIN_hot_DAL'},\n",
       "  {'idx': 80, 'name': 'ORIGIN_hot_BNA'},\n",
       "  {'idx': 81, 'name': 'ORIGIN_hot_PDX'},\n",
       "  {'idx': 82, 'name': 'ORIGIN_hot_STL'},\n",
       "  {'idx': 83, 'name': 'ORIGIN_hot_HOU'},\n",
       "  {'idx': 84, 'name': 'ORIGIN_hot_AUS'},\n",
       "  {'idx': 85, 'name': 'ORIGIN_hot_OAK'},\n",
       "  {'idx': 86, 'name': 'ORIGIN_hot_SJC'},\n",
       "  {'idx': 87, 'name': 'ORIGIN_hot_MSY'},\n",
       "  {'idx': 88, 'name': 'ORIGIN_hot_HNL'},\n",
       "  {'idx': 89, 'name': 'ORIGIN_hot_IAD'},\n",
       "  {'idx': 90, 'name': 'ORIGIN_hot_MCI'},\n",
       "  {'idx': 91, 'name': 'ORIGIN_hot_RDU'},\n",
       "  {'idx': 92, 'name': 'ORIGIN_hot_SMF'},\n",
       "  {'idx': 93, 'name': 'ORIGIN_hot_SNA'},\n",
       "  {'idx': 94, 'name': 'ORIGIN_hot_CLE'},\n",
       "  {'idx': 95, 'name': 'ORIGIN_hot_IND'},\n",
       "  {'idx': 96, 'name': 'ORIGIN_hot_PIT'},\n",
       "  {'idx': 97, 'name': 'ORIGIN_hot_SAT'},\n",
       "  {'idx': 98, 'name': 'ORIGIN_hot_CMH'},\n",
       "  {'idx': 99, 'name': 'ORIGIN_hot_MKE'},\n",
       "  {'idx': 100, 'name': 'ORIGIN_hot_RSW'},\n",
       "  {'idx': 101, 'name': 'ORIGIN_hot_CVG'},\n",
       "  {'idx': 102, 'name': 'ORIGIN_hot_BUR'},\n",
       "  {'idx': 103, 'name': 'ORIGIN_hot_OGG'},\n",
       "  {'idx': 104, 'name': 'ORIGIN_hot_PBI'},\n",
       "  {'idx': 105, 'name': 'ORIGIN_hot_JAX'},\n",
       "  {'idx': 106, 'name': 'ORIGIN_hot_BDL'},\n",
       "  {'idx': 107, 'name': 'ORIGIN_hot_ABQ'},\n",
       "  {'idx': 108, 'name': 'ORIGIN_hot_OMA'},\n",
       "  {'idx': 109, 'name': 'ORIGIN_hot_ONT'},\n",
       "  {'idx': 110, 'name': 'ORIGIN_hot_BUF'},\n",
       "  {'idx': 111, 'name': 'ORIGIN_hot_SJU'},\n",
       "  {'idx': 112, 'name': 'ORIGIN_hot_RIC'},\n",
       "  {'idx': 113, 'name': 'ORIGIN_hot_OKC'},\n",
       "  {'idx': 114, 'name': 'ORIGIN_hot_MEM'},\n",
       "  {'idx': 115, 'name': 'ORIGIN_hot_CHS'},\n",
       "  {'idx': 116, 'name': 'ORIGIN_hot_ANC'},\n",
       "  {'idx': 117, 'name': 'ORIGIN_hot_TUS'},\n",
       "  {'idx': 118, 'name': 'ORIGIN_hot_RNO'},\n",
       "  {'idx': 119, 'name': 'ORIGIN_hot_BOI'},\n",
       "  {'idx': 120, 'name': 'ORIGIN_hot_ORF'},\n",
       "  {'idx': 121, 'name': 'ORIGIN_hot_SDF'},\n",
       "  {'idx': 122, 'name': 'ORIGIN_hot_TUL'},\n",
       "  {'idx': 123, 'name': 'ORIGIN_hot_BHM'},\n",
       "  {'idx': 124, 'name': 'ORIGIN_hot_PVD'},\n",
       "  {'idx': 125, 'name': 'ORIGIN_hot_LGB'},\n",
       "  {'idx': 126, 'name': 'ORIGIN_hot_ELP'},\n",
       "  {'idx': 127, 'name': 'ORIGIN_hot_KOA'},\n",
       "  {'idx': 128, 'name': 'ORIGIN_hot_GRR'},\n",
       "  {'idx': 129, 'name': 'ORIGIN_hot_LIH'},\n",
       "  {'idx': 130, 'name': 'ORIGIN_hot_DSM'},\n",
       "  {'idx': 131, 'name': 'ORIGIN_hot_GEG'},\n",
       "  {'idx': 132, 'name': 'ORIGIN_hot_SAV'},\n",
       "  {'idx': 133, 'name': 'ORIGIN_hot_TYS'},\n",
       "  {'idx': 134, 'name': 'ORIGIN_hot_LIT'},\n",
       "  {'idx': 135, 'name': 'ORIGIN_hot_MSN'},\n",
       "  {'idx': 136, 'name': 'ORIGIN_hot_PSP'},\n",
       "  {'idx': 137, 'name': 'ORIGIN_hot_ALB'},\n",
       "  {'idx': 138, 'name': 'ORIGIN_hot_ROC'},\n",
       "  {'idx': 139, 'name': 'ORIGIN_hot_GSP'},\n",
       "  {'idx': 140, 'name': 'ORIGIN_hot_DAY'},\n",
       "  {'idx': 141, 'name': 'ORIGIN_hot_FAT'},\n",
       "  {'idx': 142, 'name': 'ORIGIN_hot_XNA'},\n",
       "  {'idx': 143, 'name': 'ORIGIN_hot_GSO'},\n",
       "  {'idx': 144, 'name': 'ORIGIN_hot_ICT'},\n",
       "  {'idx': 145, 'name': 'ORIGIN_hot_SYR'},\n",
       "  {'idx': 146, 'name': 'ORIGIN_hot_COS'},\n",
       "  {'idx': 147, 'name': 'ORIGIN_hot_HPN'},\n",
       "  {'idx': 148, 'name': 'ORIGIN_hot_PNS'},\n",
       "  {'idx': 149, 'name': 'ORIGIN_hot_MYR'},\n",
       "  {'idx': 150, 'name': 'ORIGIN_hot_PWM'},\n",
       "  {'idx': 151, 'name': 'ORIGIN_hot_MAF'},\n",
       "  {'idx': 152, 'name': 'ORIGIN_hot_MHT'},\n",
       "  {'idx': 153, 'name': 'ORIGIN_hot_BTR'},\n",
       "  {'idx': 154, 'name': 'ORIGIN_hot_LEX'},\n",
       "  {'idx': 155, 'name': 'ORIGIN_hot_CID'},\n",
       "  {'idx': 156, 'name': 'ORIGIN_hot_JAN'},\n",
       "  {'idx': 157, 'name': 'ORIGIN_hot_SBA'},\n",
       "  {'idx': 158, 'name': 'ORIGIN_hot_CAK'},\n",
       "  {'idx': 159, 'name': 'ORIGIN_hot_HSV'},\n",
       "  {'idx': 160, 'name': 'ORIGIN_hot_SHV'},\n",
       "  {'idx': 161, 'name': 'ORIGIN_hot_ITO'},\n",
       "  {'idx': 162, 'name': 'ORIGIN_hot_CHA'},\n",
       "  {'idx': 163, 'name': 'ORIGIN_hot_FWA'},\n",
       "  {'idx': 164, 'name': 'ORIGIN_hot_VPS'},\n",
       "  {'idx': 165, 'name': 'ORIGIN_hot_BTV'},\n",
       "  {'idx': 166, 'name': 'ORIGIN_hot_SBN'},\n",
       "  {'idx': 167, 'name': 'ORIGIN_hot_SGF'},\n",
       "  {'idx': 168, 'name': 'ORIGIN_hot_CAE'},\n",
       "  {'idx': 169, 'name': 'ORIGIN_hot_FSD'},\n",
       "  {'idx': 170, 'name': 'ORIGIN_hot_LBB'},\n",
       "  {'idx': 171, 'name': 'ORIGIN_hot_AVL'},\n",
       "  {'idx': 172, 'name': 'ORIGIN_hot_ISP'},\n",
       "  {'idx': 173, 'name': 'ORIGIN_hot_MOB'},\n",
       "  {'idx': 174, 'name': 'ORIGIN_hot_BZN'},\n",
       "  {'idx': 175, 'name': 'ORIGIN_hot_ECP'},\n",
       "  {'idx': 176, 'name': 'ORIGIN_hot_ASE'},\n",
       "  {'idx': 177, 'name': 'ORIGIN_hot_SRQ'},\n",
       "  {'idx': 178, 'name': 'ORIGIN_hot_FAR'},\n",
       "  {'idx': 179, 'name': 'ORIGIN_hot_GRB'},\n",
       "  {'idx': 180, 'name': 'ORIGIN_hot_JNU'},\n",
       "  {'idx': 181, 'name': 'ORIGIN_hot_CRP'},\n",
       "  {'idx': 182, 'name': 'ORIGIN_hot_MDT'},\n",
       "  {'idx': 183, 'name': 'ORIGIN_hot_AMA'},\n",
       "  {'idx': 184, 'name': 'ORIGIN_hot_LFT'},\n",
       "  {'idx': 185, 'name': 'ORIGIN_hot_EUG'},\n",
       "  {'idx': 186, 'name': 'ORIGIN_hot_PIA'},\n",
       "  {'idx': 187, 'name': 'ORIGIN_hot_TLH'},\n",
       "  {'idx': 188, 'name': 'ORIGIN_hot_FNT'},\n",
       "  {'idx': 189, 'name': 'ORIGIN_hot_SFB'},\n",
       "  {'idx': 190, 'name': 'ORIGIN_hot_SBP'},\n",
       "  {'idx': 191, 'name': 'ORIGIN_hot_ILM'},\n",
       "  {'idx': 192, 'name': 'ORIGIN_hot_STT'},\n",
       "  {'idx': 193, 'name': 'ORIGIN_hot_JAC'},\n",
       "  {'idx': 194, 'name': 'ORIGIN_hot_MLI'},\n",
       "  {'idx': 195, 'name': 'ORIGIN_hot_RAP'},\n",
       "  {'idx': 196, 'name': 'ORIGIN_hot_BIL'},\n",
       "  {'idx': 197, 'name': 'ORIGIN_hot_CHO'},\n",
       "  {'idx': 198, 'name': 'ORIGIN_hot_GPT'},\n",
       "  {'idx': 199, 'name': 'ORIGIN_hot_MFE'},\n",
       "  {'idx': 200, 'name': 'ORIGIN_hot_MFR'},\n",
       "  {'idx': 201, 'name': 'ORIGIN_hot_EVV'},\n",
       "  {'idx': 202, 'name': 'ORIGIN_hot_ATW'},\n",
       "  {'idx': 203, 'name': 'ORIGIN_hot_ACY'},\n",
       "  {'idx': 204, 'name': 'ORIGIN_hot_FAI'},\n",
       "  {'idx': 205, 'name': 'ORIGIN_hot_GJT'},\n",
       "  {'idx': 206, 'name': 'ORIGIN_hot_HRL'},\n",
       "  {'idx': 207, 'name': 'ORIGIN_hot_AGS'},\n",
       "  {'idx': 208, 'name': 'ORIGIN_hot_RDM'},\n",
       "  {'idx': 209, 'name': 'ORIGIN_hot_GNV'},\n",
       "  {'idx': 210, 'name': 'ORIGIN_hot_MRY'},\n",
       "  {'idx': 211, 'name': 'ORIGIN_hot_TVC'},\n",
       "  {'idx': 212, 'name': 'ORIGIN_hot_BIS'},\n",
       "  {'idx': 213, 'name': 'ORIGIN_hot_PSC'},\n",
       "  {'idx': 214, 'name': 'ORIGIN_hot_ABE'},\n",
       "  {'idx': 215, 'name': 'ORIGIN_hot_CRW'},\n",
       "  {'idx': 216, 'name': 'ORIGIN_hot_EYW'},\n",
       "  {'idx': 217, 'name': 'ORIGIN_hot_MGM'},\n",
       "  {'idx': 218, 'name': 'ORIGIN_hot_PIE'},\n",
       "  {'idx': 219, 'name': 'ORIGIN_hot_AEX'},\n",
       "  {'idx': 220, 'name': 'ORIGIN_hot_MLU'},\n",
       "  {'idx': 221, 'name': 'ORIGIN_hot_MSO'},\n",
       "  {'idx': 222, 'name': 'ORIGIN_hot_GRK'},\n",
       "  {'idx': 223, 'name': 'ORIGIN_hot_LAN'},\n",
       "  {'idx': 224, 'name': 'ORIGIN_hot_DLH'},\n",
       "  {'idx': 225, 'name': 'ORIGIN_hot_LNK'},\n",
       "  {'idx': 226, 'name': 'ORIGIN_hot_TTN'},\n",
       "  {'idx': 227, 'name': 'ORIGIN_hot_SGU'},\n",
       "  {'idx': 228, 'name': 'ORIGIN_hot_RST'},\n",
       "  {'idx': 229, 'name': 'ORIGIN_hot_BMI'},\n",
       "  {'idx': 230, 'name': 'ORIGIN_hot_FCA'},\n",
       "  {'idx': 231, 'name': 'ORIGIN_hot_DAB'},\n",
       "  {'idx': 232, 'name': 'ORIGIN_hot_BFL'},\n",
       "  {'idx': 233, 'name': 'ORIGIN_hot_FAY'},\n",
       "  {'idx': 234, 'name': 'ORIGIN_hot_KTN'},\n",
       "  {'idx': 235, 'name': 'ORIGIN_hot_TRI'},\n",
       "  {'idx': 236, 'name': 'ORIGIN_hot_DRO'},\n",
       "  {'idx': 237, 'name': 'ORIGIN_hot_MBS'},\n",
       "  {'idx': 238, 'name': 'ORIGIN_hot_AVP'},\n",
       "  {'idx': 239, 'name': 'ORIGIN_hot_IDA'},\n",
       "  {'idx': 240, 'name': 'ORIGIN_hot_ROA'},\n",
       "  {'idx': 241, 'name': 'ORIGIN_hot_LRD'},\n",
       "  {'idx': 242, 'name': 'ORIGIN_hot_AZO'},\n",
       "  {'idx': 243, 'name': 'ORIGIN_hot_AZA'},\n",
       "  {'idx': 244, 'name': 'ORIGIN_hot_PGD'},\n",
       "  {'idx': 245, 'name': 'ORIGIN_hot_BRO'},\n",
       "  {'idx': 246, 'name': 'ORIGIN_hot_MOT'},\n",
       "  {'idx': 247, 'name': 'ORIGIN_hot_MLB'},\n",
       "  {'idx': 248, 'name': 'ORIGIN_hot_CLL'},\n",
       "  {'idx': 249, 'name': 'ORIGIN_hot_BGR'},\n",
       "  {'idx': 250, 'name': 'ORIGIN_hot_GTF'},\n",
       "  {'idx': 251, 'name': 'ORIGIN_hot_OAJ'},\n",
       "  {'idx': 252, 'name': 'ORIGIN_hot_CWA'},\n",
       "  {'idx': 253, 'name': 'ORIGIN_hot_YUM'},\n",
       "  {'idx': 254, 'name': 'ORIGIN_hot_EGE'},\n",
       "  {'idx': 255, 'name': 'ORIGIN_hot_LSE'},\n",
       "  {'idx': 256, 'name': 'ORIGIN_hot_PHF'},\n",
       "  {'idx': 257, 'name': 'ORIGIN_hot_FSM'},\n",
       "  {'idx': 258, 'name': 'ORIGIN_hot_LCH'},\n",
       "  {'idx': 259, 'name': 'ORIGIN_hot_HLN'},\n",
       "  {'idx': 260, 'name': 'ORIGIN_hot_FLG'},\n",
       "  {'idx': 261, 'name': 'ORIGIN_hot_SPI'},\n",
       "  {'idx': 262, 'name': 'ORIGIN_hot_GFK'},\n",
       "  {'idx': 263, 'name': 'ORIGIN_hot_ISN'},\n",
       "  {'idx': 264, 'name': 'ORIGIN_hot_SAF'},\n",
       "  {'idx': 265, 'name': 'ORIGIN_hot_CMI'},\n",
       "  {'idx': 266, 'name': 'ORIGIN_hot_ACV'},\n",
       "  {'idx': 267, 'name': 'ORIGIN_hot_ABI'},\n",
       "  {'idx': 268, 'name': 'ORIGIN_hot_SIT'},\n",
       "  {'idx': 269, 'name': 'ORIGIN_hot_DHN'},\n",
       "  {'idx': 270, 'name': 'ORIGIN_hot_ACT'},\n",
       "  {'idx': 271, 'name': 'ORIGIN_hot_SJT'},\n",
       "  {'idx': 272, 'name': 'ORIGIN_hot_COU'},\n",
       "  {'idx': 273, 'name': 'ORIGIN_hot_SCE'},\n",
       "  {'idx': 274, 'name': 'ORIGIN_hot_MHK'},\n",
       "  {'idx': 275, 'name': 'ORIGIN_hot_SWF'},\n",
       "  {'idx': 276, 'name': 'ORIGIN_hot_CPR'},\n",
       "  {'idx': 277, 'name': 'ORIGIN_hot_EWN'},\n",
       "  {'idx': 278, 'name': 'ORIGIN_hot_BLI'},\n",
       "  {'idx': 279, 'name': 'ORIGIN_hot_MTJ'},\n",
       "  {'idx': 280, 'name': 'ORIGIN_hot_TYR'},\n",
       "  {'idx': 281, 'name': 'ORIGIN_hot_LAW'},\n",
       "  {'idx': 282, 'name': 'ORIGIN_hot_CSG'},\n",
       "  {'idx': 283, 'name': 'ORIGIN_hot_SUN'},\n",
       "  {'idx': 284, 'name': 'ORIGIN_hot_TWF'},\n",
       "  {'idx': 285, 'name': 'ORIGIN_hot_LBE'},\n",
       "  {'idx': 286, 'name': 'ORIGIN_hot_ELM'},\n",
       "  {'idx': 287, 'name': 'ORIGIN_hot_TOL'},\n",
       "  {'idx': 288, 'name': 'ORIGIN_hot_RDD'},\n",
       "  {'idx': 289, 'name': 'ORIGIN_hot_ERI'},\n",
       "  {'idx': 290, 'name': 'ORIGIN_hot_STS'},\n",
       "  {'idx': 291, 'name': 'ORIGIN_hot_GTR'},\n",
       "  {'idx': 292, 'name': 'ORIGIN_hot_STX'},\n",
       "  {'idx': 293, 'name': 'ORIGIN_hot_MEI'},\n",
       "  {'idx': 294, 'name': 'ORIGIN_hot_PIH'},\n",
       "  {'idx': 295, 'name': 'ORIGIN_hot_PLN'},\n",
       "  {'idx': 296, 'name': 'ORIGIN_hot_VLD'},\n",
       "  {'idx': 297, 'name': 'ORIGIN_hot_BQK'},\n",
       "  {'idx': 298, 'name': 'ORIGIN_hot_GCC'},\n",
       "  {'idx': 299, 'name': 'ORIGIN_hot_ROW'},\n",
       "  {'idx': 300, 'name': 'ORIGIN_hot_SPS'},\n",
       "  {'idx': 301, 'name': 'ORIGIN_hot_ABY'},\n",
       "  {'idx': 302, 'name': 'ORIGIN_hot_HDN'},\n",
       "  {'idx': 303, 'name': 'ORIGIN_hot_MQT'},\n",
       "  {'idx': 304, 'name': 'ORIGIN_hot_JMS'},\n",
       "  {'idx': 305, 'name': 'ORIGIN_hot_BET'},\n",
       "  {'idx': 306, 'name': 'ORIGIN_hot_BQN'},\n",
       "  {'idx': 307, 'name': 'ORIGIN_hot_SCC'},\n",
       "  {'idx': 308, 'name': 'ORIGIN_hot_TXK'},\n",
       "  {'idx': 309, 'name': 'ORIGIN_hot_RHI'},\n",
       "  {'idx': 310, 'name': 'ORIGIN_hot_ORH'},\n",
       "  {'idx': 311, 'name': 'ORIGIN_hot_BRW'},\n",
       "  {'idx': 312, 'name': 'ORIGIN_hot_HYS'},\n",
       "  {'idx': 313, 'name': 'ORIGIN_hot_PAH'},\n",
       "  {'idx': 314, 'name': 'ORIGIN_hot_BGM'},\n",
       "  {'idx': 315, 'name': 'ORIGIN_hot_ACK'},\n",
       "  {'idx': 316, 'name': 'ORIGIN_hot_HIB'},\n",
       "  {'idx': 317, 'name': 'ORIGIN_hot_ITH'},\n",
       "  {'idx': 318, 'name': 'ORIGIN_hot_LWS'},\n",
       "  {'idx': 319, 'name': 'ORIGIN_hot_COD'},\n",
       "  {'idx': 320, 'name': 'ORIGIN_hot_ABR'},\n",
       "  {'idx': 321, 'name': 'ORIGIN_hot_BJI'},\n",
       "  {'idx': 322, 'name': 'ORIGIN_hot_CDV'},\n",
       "  {'idx': 323, 'name': 'ORIGIN_hot_WRG'},\n",
       "  {'idx': 324, 'name': 'ORIGIN_hot_PSG'},\n",
       "  {'idx': 325, 'name': 'ORIGIN_hot_YAK'},\n",
       "  {'idx': 326, 'name': 'ORIGIN_hot_OTZ'},\n",
       "  {'idx': 327, 'name': 'ORIGIN_hot_OME'},\n",
       "  {'idx': 328, 'name': 'ORIGIN_hot_JLN'},\n",
       "  {'idx': 329, 'name': 'ORIGIN_hot_CMX'},\n",
       "  {'idx': 330, 'name': 'ORIGIN_hot_EAU'},\n",
       "  {'idx': 331, 'name': 'ORIGIN_hot_RKS'},\n",
       "  {'idx': 332, 'name': 'ORIGIN_hot_BTM'},\n",
       "  {'idx': 333, 'name': 'ORIGIN_hot_GRI'},\n",
       "  {'idx': 334, 'name': 'ORIGIN_hot_PBG'},\n",
       "  {'idx': 335, 'name': 'ORIGIN_hot_MKG'},\n",
       "  {'idx': 336, 'name': 'ORIGIN_hot_BPT'},\n",
       "  {'idx': 337, 'name': 'ORIGIN_hot_PIB'},\n",
       "  {'idx': 338, 'name': 'ORIGIN_hot_IMT'},\n",
       "  {'idx': 339, 'name': 'ORIGIN_hot_CIU'},\n",
       "  {'idx': 340, 'name': 'ORIGIN_hot_CDC'},\n",
       "  {'idx': 341, 'name': 'ORIGIN_hot_HOB'},\n",
       "  {'idx': 342, 'name': 'ORIGIN_hot_EKO'},\n",
       "  {'idx': 343, 'name': 'ORIGIN_hot_BRD'},\n",
       "  {'idx': 344, 'name': 'ORIGIN_hot_INL'},\n",
       "  {'idx': 345, 'name': 'ORIGIN_hot_SUX'},\n",
       "  {'idx': 346, 'name': 'ORIGIN_hot_APN'},\n",
       "  {'idx': 347, 'name': 'ORIGIN_hot_ESC'},\n",
       "  {'idx': 348, 'name': 'ORIGIN_hot_LAR'},\n",
       "  {'idx': 349, 'name': 'ORIGIN_hot_DBQ'},\n",
       "  {'idx': 350, 'name': 'ORIGIN_hot_DVL'},\n",
       "  {'idx': 351, 'name': 'ORIGIN_hot_IAG'},\n",
       "  {'idx': 352, 'name': 'ORIGIN_hot_ADQ'},\n",
       "  {'idx': 353, 'name': 'ORIGIN_hot_GGG'},\n",
       "  {'idx': 354, 'name': 'ORIGIN_hot_GCK'},\n",
       "  {'idx': 355, 'name': 'ORIGIN_hot_HHH'},\n",
       "  {'idx': 356, 'name': 'ORIGIN_hot_ALO'},\n",
       "  {'idx': 357, 'name': 'ORIGIN_hot_USA'},\n",
       "  {'idx': 358, 'name': 'ORIGIN_hot_PUB'},\n",
       "  {'idx': 359, 'name': 'ORIGIN_hot_LCK'},\n",
       "  {'idx': 360, 'name': 'ORIGIN_hot_BLV'},\n",
       "  {'idx': 361, 'name': 'ORIGIN_hot_HVN'},\n",
       "  {'idx': 362, 'name': 'ORIGIN_hot_LYH'},\n",
       "  {'idx': 363, 'name': 'ORIGIN_hot_SCK'},\n",
       "  {'idx': 364, 'name': 'ORIGIN_hot_CKB'},\n",
       "  {'idx': 365, 'name': 'ORIGIN_hot_MVY'},\n",
       "  {'idx': 366, 'name': 'ORIGIN_hot_SWO'},\n",
       "  {'idx': 367, 'name': 'ORIGIN_hot_SMX'},\n",
       "  {'idx': 368, 'name': 'ORIGIN_hot_PAE'},\n",
       "  {'idx': 369, 'name': 'ORIGIN_hot_SLN'},\n",
       "  {'idx': 370, 'name': 'ORIGIN_hot_OTH'},\n",
       "  {'idx': 371, 'name': 'ORIGIN_hot_CGI'},\n",
       "  {'idx': 372, 'name': 'ORIGIN_hot_HTS'},\n",
       "  {'idx': 373, 'name': 'ORIGIN_hot_UIN'},\n",
       "  {'idx': 374, 'name': 'ORIGIN_hot_RFD'},\n",
       "  {'idx': 375, 'name': 'ORIGIN_hot_GUC'},\n",
       "  {'idx': 376, 'name': 'ORIGIN_hot_SHD'},\n",
       "  {'idx': 377, 'name': 'ORIGIN_hot_PVU'},\n",
       "  {'idx': 378, 'name': 'ORIGIN_hot_CNY'},\n",
       "  {'idx': 379, 'name': 'ORIGIN_hot_LWB'},\n",
       "  {'idx': 380, 'name': 'ORIGIN_hot_BFF'},\n",
       "  {'idx': 381, 'name': 'ORIGIN_hot_LBL'},\n",
       "  {'idx': 382, 'name': 'ORIGIN_hot_LBF'},\n",
       "  {'idx': 383, 'name': 'ORIGIN_hot_WYS'},\n",
       "  {'idx': 384, 'name': 'ORIGIN_hot_VEL'},\n",
       "  {'idx': 385, 'name': 'ORIGIN_hot_DIK'},\n",
       "  {'idx': 386, 'name': 'ORIGIN_hot_PRC'},\n",
       "  {'idx': 387, 'name': 'ORIGIN_hot_MMH'},\n",
       "  {'idx': 388, 'name': 'ORIGIN_hot_PGV'},\n",
       "  {'idx': 389, 'name': 'ORIGIN_hot_EAR'},\n",
       "  {'idx': 390, 'name': 'ORIGIN_hot_DRT'},\n",
       "  {'idx': 391, 'name': 'ORIGIN_hot_PSM'},\n",
       "  {'idx': 392, 'name': 'ORIGIN_hot_CLD'},\n",
       "  {'idx': 393, 'name': 'ORIGIN_hot_OGS'},\n",
       "  {'idx': 394, 'name': 'ORIGIN_hot_PIR'},\n",
       "  {'idx': 395, 'name': 'ORIGIN_hot_PPG'},\n",
       "  {'idx': 396, 'name': 'ORIGIN_hot_CYS'},\n",
       "  {'idx': 397, 'name': 'ORIGIN_hot_ATY'},\n",
       "  {'idx': 398, 'name': 'ORIGIN_hot_ADK'},\n",
       "  {'idx': 399, 'name': 'ORIGIN_hot_HYA'},\n",
       "  {'idx': 400, 'name': 'ORIGIN_hot_DLG'},\n",
       "  {'idx': 401, 'name': 'ORIGIN_hot_UST'},\n",
       "  {'idx': 402, 'name': 'ORIGIN_hot_GST'},\n",
       "  {'idx': 403, 'name': 'ORIGIN_hot_IFP'},\n",
       "  {'idx': 404, 'name': 'ORIGIN_hot_STC'},\n",
       "  {'idx': 405, 'name': 'ORIGIN_hot_HGR'},\n",
       "  {'idx': 406, 'name': 'ORIGIN_hot_AKN'},\n",
       "  {'idx': 407, 'name': 'ORIGIN_hot_BKG'},\n",
       "  {'idx': 408, 'name': 'ORIGIN_hot_ART'},\n",
       "  {'idx': 409, 'name': 'ORIGIN_hot_OGD'},\n",
       "  {'idx': 410, 'name': 'ORIGIN_hot_OWB'},\n",
       "  {'idx': 411, 'name': 'ORIGIN_hot_CEC'},\n",
       "  {'idx': 412, 'name': 'ORIGIN_hot_FLO'},\n",
       "  {'idx': 413, 'name': 'ORIGIN_hot_BFM'},\n",
       "  {'idx': 414, 'name': 'ORIGIN_hot_ILG'},\n",
       "  {'idx': 415, 'name': 'ORIGIN_hot_XWA'},\n",
       "  {'idx': 416, 'name': 'ORIGIN_hot_PSE'},\n",
       "  {'idx': 417, 'name': 'ORIGIN_hot_YNG'},\n",
       "  {'idx': 418, 'name': 'ORIGIN_hot_EFD'},\n",
       "  {'idx': 419, 'name': 'ORIGIN_hot_ENV'},\n",
       "  {'idx': 420, 'name': 'ORIGIN_hot_TKI'},\n",
       "  {'idx': 421, 'name': 'ORIGIN_hot___unknown'},\n",
       "  {'idx': 422, 'name': 'MONTH_hot_7'},\n",
       "  {'idx': 423, 'name': 'MONTH_hot_8'},\n",
       "  {'idx': 424, 'name': 'MONTH_hot_6'},\n",
       "  {'idx': 425, 'name': 'MONTH_hot_5'},\n",
       "  {'idx': 426, 'name': 'MONTH_hot_10'},\n",
       "  {'idx': 427, 'name': 'MONTH_hot_3'},\n",
       "  {'idx': 428, 'name': 'MONTH_hot_4'},\n",
       "  {'idx': 429, 'name': 'MONTH_hot_12'},\n",
       "  {'idx': 430, 'name': 'MONTH_hot_11'},\n",
       "  {'idx': 431, 'name': 'MONTH_hot_9'},\n",
       "  {'idx': 432, 'name': 'MONTH_hot_1'},\n",
       "  {'idx': 433, 'name': 'MONTH_hot_2'},\n",
       "  {'idx': 434, 'name': 'MONTH_hot___unknown'},\n",
       "  {'idx': 435, 'name': 'YEAR_hot_2019'},\n",
       "  {'idx': 436, 'name': 'YEAR_hot_2018'},\n",
       "  {'idx': 437, 'name': 'YEAR_hot_2015'},\n",
       "  {'idx': 438, 'name': 'YEAR_hot_2017'},\n",
       "  {'idx': 439, 'name': 'YEAR_hot_2016'},\n",
       "  {'idx': 440, 'name': 'YEAR_hot___unknown'},\n",
       "  {'idx': 441, 'name': 'DEST_hot_ATL'},\n",
       "  {'idx': 442, 'name': 'DEST_hot_ORD'},\n",
       "  {'idx': 443, 'name': 'DEST_hot_DFW'},\n",
       "  {'idx': 444, 'name': 'DEST_hot_DEN'},\n",
       "  {'idx': 445, 'name': 'DEST_hot_LAX'},\n",
       "  {'idx': 446, 'name': 'DEST_hot_SFO'},\n",
       "  {'idx': 447, 'name': 'DEST_hot_PHX'},\n",
       "  {'idx': 448, 'name': 'DEST_hot_CLT'},\n",
       "  {'idx': 449, 'name': 'DEST_hot_LAS'},\n",
       "  {'idx': 450, 'name': 'DEST_hot_IAH'},\n",
       "  {'idx': 451, 'name': 'DEST_hot_MSP'},\n",
       "  {'idx': 452, 'name': 'DEST_hot_DTW'},\n",
       "  {'idx': 453, 'name': 'DEST_hot_SEA'},\n",
       "  {'idx': 454, 'name': 'DEST_hot_BOS'},\n",
       "  {'idx': 455, 'name': 'DEST_hot_MCO'},\n",
       "  {'idx': 456, 'name': 'DEST_hot_LGA'},\n",
       "  {'idx': 457, 'name': 'DEST_hot_EWR'},\n",
       "  {'idx': 458, 'name': 'DEST_hot_SLC'},\n",
       "  {'idx': 459, 'name': 'DEST_hot_JFK'},\n",
       "  {'idx': 460, 'name': 'DEST_hot_BWI'},\n",
       "  {'idx': 461, 'name': 'DEST_hot_DCA'},\n",
       "  {'idx': 462, 'name': 'DEST_hot_PHL'},\n",
       "  {'idx': 463, 'name': 'DEST_hot_FLL'},\n",
       "  {'idx': 464, 'name': 'DEST_hot_MDW'},\n",
       "  {'idx': 465, 'name': 'DEST_hot_SAN'},\n",
       "  {'idx': 466, 'name': 'DEST_hot_MIA'},\n",
       "  {'idx': 467, 'name': 'DEST_hot_TPA'},\n",
       "  {'idx': 468, 'name': 'DEST_hot_DAL'},\n",
       "  {'idx': 469, 'name': 'DEST_hot_BNA'},\n",
       "  {'idx': 470, 'name': 'DEST_hot_PDX'},\n",
       "  {'idx': 471, 'name': 'DEST_hot_STL'},\n",
       "  {'idx': 472, 'name': 'DEST_hot_HOU'},\n",
       "  {'idx': 473, 'name': 'DEST_hot_AUS'},\n",
       "  {'idx': 474, 'name': 'DEST_hot_OAK'},\n",
       "  {'idx': 475, 'name': 'DEST_hot_SJC'},\n",
       "  {'idx': 476, 'name': 'DEST_hot_MSY'},\n",
       "  {'idx': 477, 'name': 'DEST_hot_IAD'},\n",
       "  {'idx': 478, 'name': 'DEST_hot_HNL'},\n",
       "  {'idx': 479, 'name': 'DEST_hot_MCI'},\n",
       "  {'idx': 480, 'name': 'DEST_hot_RDU'},\n",
       "  {'idx': 481, 'name': 'DEST_hot_SMF'},\n",
       "  {'idx': 482, 'name': 'DEST_hot_SNA'},\n",
       "  {'idx': 483, 'name': 'DEST_hot_CLE'},\n",
       "  {'idx': 484, 'name': 'DEST_hot_IND'},\n",
       "  {'idx': 485, 'name': 'DEST_hot_PIT'},\n",
       "  {'idx': 486, 'name': 'DEST_hot_SAT'},\n",
       "  {'idx': 487, 'name': 'DEST_hot_CMH'},\n",
       "  {'idx': 488, 'name': 'DEST_hot_MKE'},\n",
       "  {'idx': 489, 'name': 'DEST_hot_RSW'},\n",
       "  {'idx': 490, 'name': 'DEST_hot_CVG'},\n",
       "  {'idx': 491, 'name': 'DEST_hot_SJU'},\n",
       "  {'idx': 492, 'name': 'DEST_hot_BUR'},\n",
       "  {'idx': 493, 'name': 'DEST_hot_OGG'},\n",
       "  {'idx': 494, 'name': 'DEST_hot_PBI'},\n",
       "  {'idx': 495, 'name': 'DEST_hot_JAX'},\n",
       "  {'idx': 496, 'name': 'DEST_hot_BDL'},\n",
       "  {'idx': 497, 'name': 'DEST_hot_ABQ'},\n",
       "  {'idx': 498, 'name': 'DEST_hot_OMA'},\n",
       "  {'idx': 499, 'name': 'DEST_hot_BUF'},\n",
       "  {'idx': 500, 'name': 'DEST_hot_ONT'},\n",
       "  {'idx': 501, 'name': 'DEST_hot_RIC'},\n",
       "  {'idx': 502, 'name': 'DEST_hot_OKC'},\n",
       "  {'idx': 503, 'name': 'DEST_hot_MEM'},\n",
       "  {'idx': 504, 'name': 'DEST_hot_CHS'},\n",
       "  {'idx': 505, 'name': 'DEST_hot_ANC'},\n",
       "  {'idx': 506, 'name': 'DEST_hot_TUS'},\n",
       "  {'idx': 507, 'name': 'DEST_hot_RNO'},\n",
       "  {'idx': 508, 'name': 'DEST_hot_BOI'},\n",
       "  {'idx': 509, 'name': 'DEST_hot_ORF'},\n",
       "  {'idx': 510, 'name': 'DEST_hot_SDF'},\n",
       "  {'idx': 511, 'name': 'DEST_hot_TUL'},\n",
       "  {'idx': 512, 'name': 'DEST_hot_BHM'},\n",
       "  {'idx': 513, 'name': 'DEST_hot_PVD'},\n",
       "  {'idx': 514, 'name': 'DEST_hot_LGB'},\n",
       "  {'idx': 515, 'name': 'DEST_hot_ELP'},\n",
       "  {'idx': 516, 'name': 'DEST_hot_KOA'},\n",
       "  {'idx': 517, 'name': 'DEST_hot_GRR'},\n",
       "  {'idx': 518, 'name': 'DEST_hot_LIH'},\n",
       "  {'idx': 519, 'name': 'DEST_hot_DSM'},\n",
       "  {'idx': 520, 'name': 'DEST_hot_GEG'},\n",
       "  {'idx': 521, 'name': 'DEST_hot_SAV'},\n",
       "  {'idx': 522, 'name': 'DEST_hot_TYS'},\n",
       "  {'idx': 523, 'name': 'DEST_hot_LIT'},\n",
       "  {'idx': 524, 'name': 'DEST_hot_MSN'},\n",
       "  {'idx': 525, 'name': 'DEST_hot_PSP'},\n",
       "  {'idx': 526, 'name': 'DEST_hot_ALB'},\n",
       "  {'idx': 527, 'name': 'DEST_hot_ROC'},\n",
       "  {'idx': 528, 'name': 'DEST_hot_GSP'},\n",
       "  {'idx': 529, 'name': 'DEST_hot_DAY'},\n",
       "  {'idx': 530, 'name': 'DEST_hot_FAT'},\n",
       "  {'idx': 531, 'name': 'DEST_hot_XNA'},\n",
       "  {'idx': 532, 'name': 'DEST_hot_GSO'},\n",
       "  {'idx': 533, 'name': 'DEST_hot_ICT'},\n",
       "  {'idx': 534, 'name': 'DEST_hot_SYR'},\n",
       "  {'idx': 535, 'name': 'DEST_hot_COS'},\n",
       "  {'idx': 536, 'name': 'DEST_hot_HPN'},\n",
       "  {'idx': 537, 'name': 'DEST_hot_PNS'},\n",
       "  {'idx': 538, 'name': 'DEST_hot_MYR'},\n",
       "  {'idx': 539, 'name': 'DEST_hot_PWM'},\n",
       "  {'idx': 540, 'name': 'DEST_hot_MAF'},\n",
       "  {'idx': 541, 'name': 'DEST_hot_MHT'},\n",
       "  {'idx': 542, 'name': 'DEST_hot_BTR'},\n",
       "  {'idx': 543, 'name': 'DEST_hot_LEX'},\n",
       "  {'idx': 544, 'name': 'DEST_hot_CID'},\n",
       "  {'idx': 545, 'name': 'DEST_hot_JAN'},\n",
       "  {'idx': 546, 'name': 'DEST_hot_SBA'},\n",
       "  {'idx': 547, 'name': 'DEST_hot_ITO'},\n",
       "  {'idx': 548, 'name': 'DEST_hot_CAK'},\n",
       "  {'idx': 549, 'name': 'DEST_hot_HSV'},\n",
       "  {'idx': 550, 'name': 'DEST_hot_SHV'},\n",
       "  {'idx': 551, 'name': 'DEST_hot_CHA'},\n",
       "  {'idx': 552, 'name': 'DEST_hot_VPS'},\n",
       "  {'idx': 553, 'name': 'DEST_hot_BTV'},\n",
       "  {'idx': 554, 'name': 'DEST_hot_FWA'},\n",
       "  {'idx': 555, 'name': 'DEST_hot_SGF'},\n",
       "  {'idx': 556, 'name': 'DEST_hot_SBN'},\n",
       "  {'idx': 557, 'name': 'DEST_hot_CAE'},\n",
       "  {'idx': 558, 'name': 'DEST_hot_FSD'},\n",
       "  {'idx': 559, 'name': 'DEST_hot_AVL'},\n",
       "  {'idx': 560, 'name': 'DEST_hot_LBB'},\n",
       "  {'idx': 561, 'name': 'DEST_hot_ASE'},\n",
       "  {'idx': 562, 'name': 'DEST_hot_MOB'},\n",
       "  {'idx': 563, 'name': 'DEST_hot_ISP'},\n",
       "  {'idx': 564, 'name': 'DEST_hot_BZN'},\n",
       "  {'idx': 565, 'name': 'DEST_hot_ECP'},\n",
       "  {'idx': 566, 'name': 'DEST_hot_SRQ'},\n",
       "  {'idx': 567, 'name': 'DEST_hot_FAR'},\n",
       "  {'idx': 568, 'name': 'DEST_hot_GRB'},\n",
       "  {'idx': 569, 'name': 'DEST_hot_JNU'},\n",
       "  {'idx': 570, 'name': 'DEST_hot_CRP'},\n",
       "  {'idx': 571, 'name': 'DEST_hot_MDT'},\n",
       "  {'idx': 572, 'name': 'DEST_hot_AMA'},\n",
       "  {'idx': 573, 'name': 'DEST_hot_LFT'},\n",
       "  {'idx': 574, 'name': 'DEST_hot_EUG'},\n",
       "  {'idx': 575, 'name': 'DEST_hot_PIA'},\n",
       "  {'idx': 576, 'name': 'DEST_hot_TLH'},\n",
       "  {'idx': 577, 'name': 'DEST_hot_FNT'},\n",
       "  {'idx': 578, 'name': 'DEST_hot_SFB'},\n",
       "  {'idx': 579, 'name': 'DEST_hot_SBP'},\n",
       "  {'idx': 580, 'name': 'DEST_hot_JAC'},\n",
       "  {'idx': 581, 'name': 'DEST_hot_ILM'},\n",
       "  {'idx': 582, 'name': 'DEST_hot_STT'},\n",
       "  {'idx': 583, 'name': 'DEST_hot_MLI'},\n",
       "  {'idx': 584, 'name': 'DEST_hot_RAP'},\n",
       "  {'idx': 585, 'name': 'DEST_hot_BIL'},\n",
       "  {'idx': 586, 'name': 'DEST_hot_CHO'},\n",
       "  {'idx': 587, 'name': 'DEST_hot_GPT'},\n",
       "  {'idx': 588, 'name': 'DEST_hot_MFE'},\n",
       "  {'idx': 589, 'name': 'DEST_hot_MFR'},\n",
       "  {'idx': 590, 'name': 'DEST_hot_EVV'},\n",
       "  {'idx': 591, 'name': 'DEST_hot_ATW'},\n",
       "  {'idx': 592, 'name': 'DEST_hot_ACY'},\n",
       "  {'idx': 593, 'name': 'DEST_hot_FAI'},\n",
       "  {'idx': 594, 'name': 'DEST_hot_GJT'},\n",
       "  {'idx': 595, 'name': 'DEST_hot_HRL'},\n",
       "  {'idx': 596, 'name': 'DEST_hot_AGS'},\n",
       "  {'idx': 597, 'name': 'DEST_hot_RDM'},\n",
       "  {'idx': 598, 'name': 'DEST_hot_MRY'},\n",
       "  {'idx': 599, 'name': 'DEST_hot_GNV'},\n",
       "  {'idx': 600, 'name': 'DEST_hot_TVC'},\n",
       "  {'idx': 601, 'name': 'DEST_hot_BIS'},\n",
       "  {'idx': 602, 'name': 'DEST_hot_PSC'},\n",
       "  {'idx': 603, 'name': 'DEST_hot_ABE'},\n",
       "  {'idx': 604, 'name': 'DEST_hot_CRW'},\n",
       "  {'idx': 605, 'name': 'DEST_hot_EYW'},\n",
       "  {'idx': 606, 'name': 'DEST_hot_MGM'},\n",
       "  {'idx': 607, 'name': 'DEST_hot_PIE'},\n",
       "  {'idx': 608, 'name': 'DEST_hot_AEX'},\n",
       "  {'idx': 609, 'name': 'DEST_hot_MLU'},\n",
       "  {'idx': 610, 'name': 'DEST_hot_MSO'},\n",
       "  {'idx': 611, 'name': 'DEST_hot_GRK'},\n",
       "  {'idx': 612, 'name': 'DEST_hot_LAN'},\n",
       "  {'idx': 613, 'name': 'DEST_hot_DLH'},\n",
       "  {'idx': 614, 'name': 'DEST_hot_LNK'},\n",
       "  {'idx': 615, 'name': 'DEST_hot_SGU'},\n",
       "  {'idx': 616, 'name': 'DEST_hot_TTN'},\n",
       "  {'idx': 617, 'name': 'DEST_hot_RST'},\n",
       "  {'idx': 618, 'name': 'DEST_hot_BMI'},\n",
       "  {'idx': 619, 'name': 'DEST_hot_FCA'},\n",
       "  {'idx': 620, 'name': 'DEST_hot_DAB'},\n",
       "  {'idx': 621, 'name': 'DEST_hot_BFL'},\n",
       "  {'idx': 622, 'name': 'DEST_hot_KTN'},\n",
       "  {'idx': 623, 'name': 'DEST_hot_FAY'},\n",
       "  {'idx': 624, 'name': 'DEST_hot_TRI'},\n",
       "  {'idx': 625, 'name': 'DEST_hot_DRO'},\n",
       "  {'idx': 626, 'name': 'DEST_hot_MBS'},\n",
       "  {'idx': 627, 'name': 'DEST_hot_AVP'},\n",
       "  {'idx': 628, 'name': 'DEST_hot_IDA'},\n",
       "  {'idx': 629, 'name': 'DEST_hot_ROA'},\n",
       "  {'idx': 630, 'name': 'DEST_hot_LRD'},\n",
       "  {'idx': 631, 'name': 'DEST_hot_AZO'},\n",
       "  {'idx': 632, 'name': 'DEST_hot_AZA'},\n",
       "  {'idx': 633, 'name': 'DEST_hot_PGD'},\n",
       "  {'idx': 634, 'name': 'DEST_hot_BRO'},\n",
       "  {'idx': 635, 'name': 'DEST_hot_MOT'},\n",
       "  {'idx': 636, 'name': 'DEST_hot_MLB'},\n",
       "  {'idx': 637, 'name': 'DEST_hot_CLL'},\n",
       "  {'idx': 638, 'name': 'DEST_hot_BGR'},\n",
       "  {'idx': 639, 'name': 'DEST_hot_GTF'},\n",
       "  {'idx': 640, 'name': 'DEST_hot_OAJ'},\n",
       "  {'idx': 641, 'name': 'DEST_hot_BQN'},\n",
       "  {'idx': 642, 'name': 'DEST_hot_CWA'},\n",
       "  {'idx': 643, 'name': 'DEST_hot_YUM'},\n",
       "  {'idx': 644, 'name': 'DEST_hot_EGE'},\n",
       "  {'idx': 645, 'name': 'DEST_hot_LSE'},\n",
       "  {'idx': 646, 'name': 'DEST_hot_PHF'},\n",
       "  {'idx': 647, 'name': 'DEST_hot_FSM'},\n",
       "  {'idx': 648, 'name': 'DEST_hot_LCH'},\n",
       "  {'idx': 649, 'name': 'DEST_hot_HLN'},\n",
       "  {'idx': 650, 'name': 'DEST_hot_FLG'},\n",
       "  {'idx': 651, 'name': 'DEST_hot_SPI'},\n",
       "  {'idx': 652, 'name': 'DEST_hot_GFK'},\n",
       "  {'idx': 653, 'name': 'DEST_hot_ISN'},\n",
       "  {'idx': 654, 'name': 'DEST_hot_SAF'},\n",
       "  {'idx': 655, 'name': 'DEST_hot_CMI'},\n",
       "  {'idx': 656, 'name': 'DEST_hot_ACV'},\n",
       "  {'idx': 657, 'name': 'DEST_hot_ABI'},\n",
       "  {'idx': 658, 'name': 'DEST_hot_SIT'},\n",
       "  {'idx': 659, 'name': 'DEST_hot_DHN'},\n",
       "  {'idx': 660, 'name': 'DEST_hot_ACT'},\n",
       "  {'idx': 661, 'name': 'DEST_hot_SJT'},\n",
       "  {'idx': 662, 'name': 'DEST_hot_SUN'},\n",
       "  {'idx': 663, 'name': 'DEST_hot_COU'},\n",
       "  {'idx': 664, 'name': 'DEST_hot_MHK'},\n",
       "  {'idx': 665, 'name': 'DEST_hot_SCE'},\n",
       "  {'idx': 666, 'name': 'DEST_hot_SWF'},\n",
       "  {'idx': 667, 'name': 'DEST_hot_CPR'},\n",
       "  {'idx': 668, 'name': 'DEST_hot_EWN'},\n",
       "  {'idx': 669, 'name': 'DEST_hot_BLI'},\n",
       "  {'idx': 670, 'name': 'DEST_hot_MTJ'},\n",
       "  {'idx': 671, 'name': 'DEST_hot_TYR'},\n",
       "  {'idx': 672, 'name': 'DEST_hot_LAW'},\n",
       "  {'idx': 673, 'name': 'DEST_hot_CSG'},\n",
       "  {'idx': 674, 'name': 'DEST_hot_LBE'},\n",
       "  {'idx': 675, 'name': 'DEST_hot_ELM'},\n",
       "  {'idx': 676, 'name': 'DEST_hot_TOL'},\n",
       "  {'idx': 677, 'name': 'DEST_hot_RDD'},\n",
       "  {'idx': 678, 'name': 'DEST_hot_ERI'},\n",
       "  {'idx': 679, 'name': 'DEST_hot_STS'},\n",
       "  {'idx': 680, 'name': 'DEST_hot_GTR'},\n",
       "  {'idx': 681, 'name': 'DEST_hot_TWF'},\n",
       "  {'idx': 682, 'name': 'DEST_hot_STX'},\n",
       "  {'idx': 683, 'name': 'DEST_hot_MEI'},\n",
       "  {'idx': 684, 'name': 'DEST_hot_PIH'},\n",
       "  {'idx': 685, 'name': 'DEST_hot_PLN'},\n",
       "  {'idx': 686, 'name': 'DEST_hot_VLD'},\n",
       "  {'idx': 687, 'name': 'DEST_hot_BQK'},\n",
       "  {'idx': 688, 'name': 'DEST_hot_GCC'},\n",
       "  {'idx': 689, 'name': 'DEST_hot_HDN'},\n",
       "  {'idx': 690, 'name': 'DEST_hot_JMS'},\n",
       "  {'idx': 691, 'name': 'DEST_hot_ROW'},\n",
       "  {'idx': 692, 'name': 'DEST_hot_SPS'},\n",
       "  {'idx': 693, 'name': 'DEST_hot_ABY'},\n",
       "  {'idx': 694, 'name': 'DEST_hot_MQT'},\n",
       "  {'idx': 695, 'name': 'DEST_hot_BET'},\n",
       "  {'idx': 696, 'name': 'DEST_hot_SCC'},\n",
       "  {'idx': 697, 'name': 'DEST_hot_RHI'},\n",
       "  {'idx': 698, 'name': 'DEST_hot_TXK'},\n",
       "  {'idx': 699, 'name': 'DEST_hot_ORH'},\n",
       "  {'idx': 700, 'name': 'DEST_hot_BRW'},\n",
       "  {'idx': 701, 'name': 'DEST_hot_HYS'},\n",
       "  {'idx': 702, 'name': 'DEST_hot_PAH'},\n",
       "  {'idx': 703, 'name': 'DEST_hot_PSE'},\n",
       "  {'idx': 704, 'name': 'DEST_hot_BGM'},\n",
       "  {'idx': 705, 'name': 'DEST_hot_ACK'},\n",
       "  {'idx': 706, 'name': 'DEST_hot_HIB'},\n",
       "  {'idx': 707, 'name': 'DEST_hot_ITH'},\n",
       "  {'idx': 708, 'name': 'DEST_hot_LWS'},\n",
       "  {'idx': 709, 'name': 'DEST_hot_COD'},\n",
       "  {'idx': 710, 'name': 'DEST_hot_ABR'},\n",
       "  {'idx': 711, 'name': 'DEST_hot_BJI'},\n",
       "  {'idx': 712, 'name': 'DEST_hot_PSG'},\n",
       "  {'idx': 713, 'name': 'DEST_hot_YAK'},\n",
       "  {'idx': 714, 'name': 'DEST_hot_WRG'},\n",
       "  {'idx': 715, 'name': 'DEST_hot_CDV'},\n",
       "  {'idx': 716, 'name': 'DEST_hot_OTZ'},\n",
       "  {'idx': 717, 'name': 'DEST_hot_OME'},\n",
       "  {'idx': 718, 'name': 'DEST_hot_JLN'},\n",
       "  {'idx': 719, 'name': 'DEST_hot_CMX'},\n",
       "  {'idx': 720, 'name': 'DEST_hot_RKS'},\n",
       "  {'idx': 721, 'name': 'DEST_hot_EAU'},\n",
       "  {'idx': 722, 'name': 'DEST_hot_BTM'},\n",
       "  {'idx': 723, 'name': 'DEST_hot_GRI'},\n",
       "  {'idx': 724, 'name': 'DEST_hot_PBG'},\n",
       "  {'idx': 725, 'name': 'DEST_hot_MKG'},\n",
       "  {'idx': 726, 'name': 'DEST_hot_BPT'},\n",
       "  {'idx': 727, 'name': 'DEST_hot_CIU'},\n",
       "  {'idx': 728, 'name': 'DEST_hot_IMT'},\n",
       "  {'idx': 729, 'name': 'DEST_hot_PIB'},\n",
       "  {'idx': 730, 'name': 'DEST_hot_CDC'},\n",
       "  {'idx': 731, 'name': 'DEST_hot_HOB'},\n",
       "  {'idx': 732, 'name': 'DEST_hot_EKO'},\n",
       "  {'idx': 733, 'name': 'DEST_hot_BRD'},\n",
       "  {'idx': 734, 'name': 'DEST_hot_INL'},\n",
       "  {'idx': 735, 'name': 'DEST_hot_SUX'},\n",
       "  {'idx': 736, 'name': 'DEST_hot_ESC'},\n",
       "  {'idx': 737, 'name': 'DEST_hot_LAR'},\n",
       "  {'idx': 738, 'name': 'DEST_hot_APN'},\n",
       "  {'idx': 739, 'name': 'DEST_hot_DBQ'},\n",
       "  {'idx': 740, 'name': 'DEST_hot_DVL'},\n",
       "  {'idx': 741, 'name': 'DEST_hot_IAG'},\n",
       "  {'idx': 742, 'name': 'DEST_hot_ADQ'},\n",
       "  {'idx': 743, 'name': 'DEST_hot_GGG'},\n",
       "  {'idx': 744, 'name': 'DEST_hot_GCK'},\n",
       "  {'idx': 745, 'name': 'DEST_hot_HHH'},\n",
       "  {'idx': 746, 'name': 'DEST_hot_ALO'},\n",
       "  {'idx': 747, 'name': 'DEST_hot_USA'},\n",
       "  {'idx': 748, 'name': 'DEST_hot_PUB'},\n",
       "  {'idx': 749, 'name': 'DEST_hot_LCK'},\n",
       "  {'idx': 750, 'name': 'DEST_hot_BLV'},\n",
       "  {'idx': 751, 'name': 'DEST_hot_HVN'},\n",
       "  {'idx': 752, 'name': 'DEST_hot_LYH'},\n",
       "  {'idx': 753, 'name': 'DEST_hot_GUM'},\n",
       "  {'idx': 754, 'name': 'DEST_hot_SCK'},\n",
       "  {'idx': 755, 'name': 'DEST_hot_MVY'},\n",
       "  {'idx': 756, 'name': 'DEST_hot_CKB'},\n",
       "  {'idx': 757, 'name': 'DEST_hot_SWO'},\n",
       "  {'idx': 758, 'name': 'DEST_hot_SMX'},\n",
       "  {'idx': 759, 'name': 'DEST_hot_OTH'},\n",
       "  {'idx': 760, 'name': 'DEST_hot_PAE'},\n",
       "  {'idx': 761, 'name': 'DEST_hot_SLN'},\n",
       "  {'idx': 762, 'name': 'DEST_hot_HTS'},\n",
       "  {'idx': 763, 'name': 'DEST_hot_CGI'},\n",
       "  {'idx': 764, 'name': 'DEST_hot_UIN'},\n",
       "  {'idx': 765, 'name': 'DEST_hot_RFD'},\n",
       "  {'idx': 766, 'name': 'DEST_hot_GUC'},\n",
       "  {'idx': 767, 'name': 'DEST_hot_SHD'},\n",
       "  {'idx': 768, 'name': 'DEST_hot_PVU'},\n",
       "  {'idx': 769, 'name': 'DEST_hot_CNY'},\n",
       "  {'idx': 770, 'name': 'DEST_hot_LWB'},\n",
       "  {'idx': 771, 'name': 'DEST_hot_BFF'},\n",
       "  {'idx': 772, 'name': 'DEST_hot_WYS'},\n",
       "  {'idx': 773, 'name': 'DEST_hot_LBF'},\n",
       "  {'idx': 774, 'name': 'DEST_hot_LBL'},\n",
       "  {'idx': 775, 'name': 'DEST_hot_VEL'},\n",
       "  {'idx': 776, 'name': 'DEST_hot_DIK'},\n",
       "  {'idx': 777, 'name': 'DEST_hot_PRC'},\n",
       "  {'idx': 778, 'name': 'DEST_hot_PGV'},\n",
       "  {'idx': 779, 'name': 'DEST_hot_MMH'},\n",
       "  {'idx': 780, 'name': 'DEST_hot_EAR'},\n",
       "  {'idx': 781, 'name': 'DEST_hot_DRT'},\n",
       "  {'idx': 782, 'name': 'DEST_hot_PSM'},\n",
       "  {'idx': 783, 'name': 'DEST_hot_OGS'},\n",
       "  {'idx': 784, 'name': 'DEST_hot_PIR'},\n",
       "  {'idx': 785, 'name': 'DEST_hot_CLD'},\n",
       "  {'idx': 786, 'name': 'DEST_hot_PPG'},\n",
       "  {'idx': 787, 'name': 'DEST_hot_CYS'},\n",
       "  {'idx': 788, 'name': 'DEST_hot_ADK'},\n",
       "  {'idx': 789, 'name': 'DEST_hot_ATY'},\n",
       "  {'idx': 790, 'name': 'DEST_hot_HYA'},\n",
       "  {'idx': 791, 'name': 'DEST_hot_UST'},\n",
       "  {'idx': 792, 'name': 'DEST_hot_DLG'},\n",
       "  {'idx': 793, 'name': 'DEST_hot_GST'},\n",
       "  {'idx': 794, 'name': 'DEST_hot_IFP'},\n",
       "  {'idx': 795, 'name': 'DEST_hot_STC'},\n",
       "  {'idx': 796, 'name': 'DEST_hot_HGR'},\n",
       "  {'idx': 797, 'name': 'DEST_hot_AKN'},\n",
       "  {'idx': 798, 'name': 'DEST_hot_BKG'},\n",
       "  {'idx': 799, 'name': 'DEST_hot_ART'},\n",
       "  {'idx': 800, 'name': 'DEST_hot_OGD'},\n",
       "  {'idx': 801, 'name': 'DEST_hot_OWB'},\n",
       "  {'idx': 802, 'name': 'DEST_hot_XWA'},\n",
       "  {'idx': 803, 'name': 'DEST_hot_CEC'},\n",
       "  {'idx': 804, 'name': 'DEST_hot_FLO'},\n",
       "  {'idx': 805, 'name': 'DEST_hot_BFM'},\n",
       "  {'idx': 806, 'name': 'DEST_hot_ILG'},\n",
       "  {'idx': 807, 'name': 'DEST_hot_YNG'},\n",
       "  {'idx': 808, 'name': 'DEST_hot_FNL'},\n",
       "  {'idx': 809, 'name': 'DEST_hot___unknown'}]}"
      ]
     },
     "execution_count": 85,
     "metadata": {},
     "output_type": "execute_result"
    }
   ],
   "source": [
    "# Inspect features\n",
    "folds_slim[0][0].schema[\"features\"].metadata[\"ml_attr\"][\"attrs\"]"
   ]
  },
  {
   "cell_type": "markdown",
   "metadata": {
    "application/vnd.databricks.v1+cell": {
     "cellMetadata": {},
     "inputWidgets": {},
     "nuid": "46e3091f-71a6-40b4-982b-6d6550467c28",
     "showTitle": false,
     "title": ""
    }
   },
   "source": [
    "# HYPERTUNE WITH HYPERFLOW"
   ]
  },
  {
   "cell_type": "code",
   "execution_count": 0,
   "metadata": {
    "application/vnd.databricks.v1+cell": {
     "cellMetadata": {
      "byteLimit": 2048000,
      "rowLimit": 10000
     },
     "inputWidgets": {},
     "nuid": "d23f62aa-ed58-42eb-9378-17e3ea8d296e",
     "showTitle": true,
     "title": "Random Forest"
    }
   },
   "outputs": [
    {
     "output_type": "stream",
     "name": "stdout",
     "output_type": "stream",
     "text": [
      "Loading 5 folds...\n"
     ]
    },
    {
     "output_type": "display_data",
     "data": {
      "text/plain": [
       "{'numeric': [{'idx': 71, 'name': 'scaled_numeric_0'},\n",
       "  {'idx': 72, 'name': 'scaled_numeric_1'},\n",
       "  {'idx': 73, 'name': 'scaled_numeric_2'},\n",
       "  {'idx': 74, 'name': 'scaled_numeric_3'},\n",
       "  {'idx': 75, 'name': 'scaled_numeric_4'},\n",
       "  {'idx': 76, 'name': 'scaled_numeric_5'},\n",
       "  {'idx': 77, 'name': 'scaled_numeric_6'},\n",
       "  {'idx': 78, 'name': 'scaled_numeric_7'},\n",
       "  {'idx': 79, 'name': 'scaled_numeric_8'},\n",
       "  {'idx': 80, 'name': 'scaled_numeric_9'}],\n",
       " 'binary': [{'idx': 0, 'name': 'IS_FIRST_FLIGHT_OF_DAY_double_hot_0.0'},\n",
       "  {'idx': 1, 'name': 'IS_FIRST_FLIGHT_OF_DAY_double_hot_1.0'},\n",
       "  {'idx': 2, 'name': 'IS_FIRST_FLIGHT_OF_DAY_double_hot___unknown'},\n",
       "  {'idx': 3, 'name': 'is_holiday_adjacent_double_hot_0.0'},\n",
       "  {'idx': 4, 'name': 'is_holiday_adjacent_double_hot_1.0'},\n",
       "  {'idx': 5, 'name': 'is_holiday_adjacent_double_hot___unknown'},\n",
       "  {'idx': 6, 'name': 'OP_UNIQUE_CARRIER_hot_WN'},\n",
       "  {'idx': 7, 'name': 'OP_UNIQUE_CARRIER_hot_DL'},\n",
       "  {'idx': 8, 'name': 'OP_UNIQUE_CARRIER_hot_AA'},\n",
       "  {'idx': 9, 'name': 'OP_UNIQUE_CARRIER_hot_OO'},\n",
       "  {'idx': 10, 'name': 'OP_UNIQUE_CARRIER_hot_UA'},\n",
       "  {'idx': 11, 'name': 'OP_UNIQUE_CARRIER_hot_EV'},\n",
       "  {'idx': 12, 'name': 'OP_UNIQUE_CARRIER_hot_B6'},\n",
       "  {'idx': 13, 'name': 'OP_UNIQUE_CARRIER_hot_AS'},\n",
       "  {'idx': 14, 'name': 'OP_UNIQUE_CARRIER_hot_MQ'},\n",
       "  {'idx': 15, 'name': 'OP_UNIQUE_CARRIER_hot_NK'},\n",
       "  {'idx': 16, 'name': 'OP_UNIQUE_CARRIER_hot_YX'},\n",
       "  {'idx': 17, 'name': 'OP_UNIQUE_CARRIER_hot_OH'},\n",
       "  {'idx': 18, 'name': 'OP_UNIQUE_CARRIER_hot_F9'},\n",
       "  {'idx': 19, 'name': 'OP_UNIQUE_CARRIER_hot_9E'},\n",
       "  {'idx': 20, 'name': 'OP_UNIQUE_CARRIER_hot_YV'},\n",
       "  {'idx': 21, 'name': 'OP_UNIQUE_CARRIER_hot_HA'},\n",
       "  {'idx': 22, 'name': 'OP_UNIQUE_CARRIER_hot_VX'},\n",
       "  {'idx': 23, 'name': 'OP_UNIQUE_CARRIER_hot_G4'},\n",
       "  {'idx': 24, 'name': 'OP_UNIQUE_CARRIER_hot_US'},\n",
       "  {'idx': 25, 'name': 'OP_UNIQUE_CARRIER_hot___unknown'},\n",
       "  {'idx': 26, 'name': 'is_holiday_double_hot_0.0'},\n",
       "  {'idx': 27, 'name': 'is_holiday_double_hot_1.0'},\n",
       "  {'idx': 28, 'name': 'is_holiday_double_hot___unknown'},\n",
       "  {'idx': 29, 'name': 'CRS_DEP_BUCKET_hot_2.0'},\n",
       "  {'idx': 30, 'name': 'CRS_DEP_BUCKET_hot_3.0'},\n",
       "  {'idx': 31, 'name': 'CRS_DEP_BUCKET_hot_0.0'},\n",
       "  {'idx': 32, 'name': 'CRS_DEP_BUCKET_hot_1.0'},\n",
       "  {'idx': 33, 'name': 'CRS_DEP_BUCKET_hot_4.0'},\n",
       "  {'idx': 34, 'name': 'CRS_DEP_BUCKET_hot___unknown'},\n",
       "  {'idx': 35, 'name': 'DAY_OF_WEEK_hot_5'},\n",
       "  {'idx': 36, 'name': 'DAY_OF_WEEK_hot_1'},\n",
       "  {'idx': 37, 'name': 'DAY_OF_WEEK_hot_4'},\n",
       "  {'idx': 38, 'name': 'DAY_OF_WEEK_hot_3'},\n",
       "  {'idx': 39, 'name': 'DAY_OF_WEEK_hot_2'},\n",
       "  {'idx': 40, 'name': 'DAY_OF_WEEK_hot_7'},\n",
       "  {'idx': 41, 'name': 'DAY_OF_WEEK_hot_6'},\n",
       "  {'idx': 42, 'name': 'DAY_OF_WEEK_hot___unknown'},\n",
       "  {'idx': 43, 'name': 'origin_type_hot_large_airport'},\n",
       "  {'idx': 44, 'name': 'origin_type_hot_medium_airport'},\n",
       "  {'idx': 45, 'name': 'origin_type_hot_small_airport'},\n",
       "  {'idx': 46, 'name': 'origin_type_hot_seaplane_base'},\n",
       "  {'idx': 47, 'name': 'origin_type_hot___unknown'},\n",
       "  {'idx': 48, 'name': 'dest_type_hot_large_airport'},\n",
       "  {'idx': 49, 'name': 'dest_type_hot_medium_airport'},\n",
       "  {'idx': 50, 'name': 'dest_type_hot_small_airport'},\n",
       "  {'idx': 51, 'name': 'dest_type_hot___unknown'},\n",
       "  {'idx': 52, 'name': 'MONTH_hot_7'},\n",
       "  {'idx': 53, 'name': 'MONTH_hot_8'},\n",
       "  {'idx': 54, 'name': 'MONTH_hot_6'},\n",
       "  {'idx': 55, 'name': 'MONTH_hot_5'},\n",
       "  {'idx': 56, 'name': 'MONTH_hot_10'},\n",
       "  {'idx': 57, 'name': 'MONTH_hot_3'},\n",
       "  {'idx': 58, 'name': 'MONTH_hot_4'},\n",
       "  {'idx': 59, 'name': 'MONTH_hot_12'},\n",
       "  {'idx': 60, 'name': 'MONTH_hot_11'},\n",
       "  {'idx': 61, 'name': 'MONTH_hot_9'},\n",
       "  {'idx': 62, 'name': 'MONTH_hot_1'},\n",
       "  {'idx': 63, 'name': 'MONTH_hot_2'},\n",
       "  {'idx': 64, 'name': 'MONTH_hot___unknown'},\n",
       "  {'idx': 65, 'name': 'YEAR_hot_2019'},\n",
       "  {'idx': 66, 'name': 'YEAR_hot_2018'},\n",
       "  {'idx': 67, 'name': 'YEAR_hot_2015'},\n",
       "  {'idx': 68, 'name': 'YEAR_hot_2017'},\n",
       "  {'idx': 69, 'name': 'YEAR_hot_2016'},\n",
       "  {'idx': 70, 'name': 'YEAR_hot___unknown'}]}"
      ]
     },
     "metadata": {},
     "output_type": "display_data"
    },
    {
     "output_type": "stream",
     "name": "stdout",
     "output_type": "stream",
     "text": [
      "Job START: 1: 2023-08-08 09:41:19.415446\n\r  0%|          | 0/8 [00:00<?, ?trial/s, best loss=?]\r                                                     \rCV FOLD START: 0: 2023-08-08 09:41:20.178859\n\r  0%|          | 0/8 [00:00<?, ?trial/s, best loss=?]"
     ]
    },
    {
     "output_type": "stream",
     "name": "stderr",
     "output_type": "stream",
     "text": [
      "2023/08/08 09:41:20 WARNING mlflow.data.spark_dataset: Failed to infer schema for Spark dataset. Exception: Unsupported Spark Type '<class 'pyspark.ml.linalg.VectorUDT'>', MLflow schema is only supported for scalar Spark types.\n\n"
     ]
    },
    {
     "output_type": "stream",
     "name": "stdout",
     "output_type": "stream",
     "text": [
      "\r                                                     \rModel built: 0: 2023-08-08 10:14:40.530339\n\r  0%|          | 0/8 [33:21<?, ?trial/s, best loss=?]\r                                                     \rPrediction Validation Set: 0: 2023-08-08 10:14:40.622530\n\r  0%|          | 0/8 [33:21<?, ?trial/s, best loss=?]"
     ]
    },
    {
     "output_type": "stream",
     "name": "stderr",
     "output_type": "stream",
     "text": [
      "2023/08/08 10:16:29 WARNING mlflow.data.spark_dataset: Failed to infer schema for Spark dataset. Exception: Unsupported Spark Type '<class 'pyspark.ml.linalg.VectorUDT'>', MLflow schema is only supported for scalar Spark types.\n\n"
     ]
    },
    {
     "output_type": "stream",
     "name": "stdout",
     "output_type": "stream",
     "text": [
      "\r                                                     \r0.26049919049283454\n\r  0%|          | 0/8 [35:15<?, ?trial/s, best loss=?]\r                                                     \rfold fscore: 0.26049919049283454\n\r  0%|          | 0/8 [35:15<?, ?trial/s, best loss=?]\r                                                     \rCV FOLD START: 1: 2023-08-08 10:16:35.149048\n\r  0%|          | 0/8 [35:15<?, ?trial/s, best loss=?]"
     ]
    },
    {
     "output_type": "stream",
     "name": "stderr",
     "output_type": "stream",
     "text": [
      "2023/08/08 10:16:35 WARNING mlflow.data.spark_dataset: Failed to infer schema for Spark dataset. Exception: Unsupported Spark Type '<class 'pyspark.ml.linalg.VectorUDT'>', MLflow schema is only supported for scalar Spark types.\n\n"
     ]
    },
    {
     "output_type": "stream",
     "name": "stdout",
     "output_type": "stream",
     "text": [
      "\r                                                     \rModel built: 1: 2023-08-08 11:00:46.451835\n\r  0%|          | 0/8 [1:19:26<?, ?trial/s, best loss=?]\r                                                       \rPrediction Validation Set: 1: 2023-08-08 11:00:46.564373\n\r  0%|          | 0/8 [1:19:27<?, ?trial/s, best loss=?]"
     ]
    },
    {
     "output_type": "stream",
     "name": "stderr",
     "output_type": "stream",
     "text": [
      "2023/08/08 11:02:54 WARNING mlflow.data.spark_dataset: Failed to infer schema for Spark dataset. Exception: Unsupported Spark Type '<class 'pyspark.ml.linalg.VectorUDT'>', MLflow schema is only supported for scalar Spark types.\n\n"
     ]
    },
    {
     "output_type": "stream",
     "name": "stdout",
     "output_type": "stream",
     "text": [
      "\r                                                       \r0.3750751168066343\n\r  0%|          | 0/8 [1:21:40<?, ?trial/s, best loss=?]\r                                                       \rfold fscore: 0.3750751168066343\n\r  0%|          | 0/8 [1:21:40<?, ?trial/s, best loss=?]\r                                                       \raverage fscore accross fold: 0.3177871536497344\n\r  0%|          | 0/8 [1:21:40<?, ?trial/s, best loss=?]\r 12%|█▎        | 1/8 [1:21:40<9:31:43, 4900.47s/trial, best loss: -0.3177871536497344]\r                                                                                      \rCV FOLD START: 0: 2023-08-08 11:03:00.745883\n\r 12%|█▎        | 1/8 [1:21:41<9:31:43, 4900.47s/trial, best loss: -0.3177871536497344]"
     ]
    },
    {
     "output_type": "stream",
     "name": "stderr",
     "output_type": "stream",
     "text": [
      "2023/08/08 11:03:01 WARNING mlflow.data.spark_dataset: Failed to infer schema for Spark dataset. Exception: Unsupported Spark Type '<class 'pyspark.ml.linalg.VectorUDT'>', MLflow schema is only supported for scalar Spark types.\n\n"
     ]
    },
    {
     "output_type": "stream",
     "name": "stdout",
     "output_type": "stream",
     "text": [
      "\r                                                                                      \rModel built: 0: 2023-08-08 11:21:43.400762\n\r 12%|█▎        | 1/8 [1:40:23<9:31:43, 4900.47s/trial, best loss: -0.3177871536497344]\r                                                                                      \rPrediction Validation Set: 0: 2023-08-08 11:21:43.496273\n\r 12%|█▎        | 1/8 [1:40:24<9:31:43, 4900.47s/trial, best loss: -0.3177871536497344]"
     ]
    },
    {
     "output_type": "stream",
     "name": "stderr",
     "output_type": "stream",
     "text": [
      "2023/08/08 11:22:43 WARNING mlflow.data.spark_dataset: Failed to infer schema for Spark dataset. Exception: Unsupported Spark Type '<class 'pyspark.ml.linalg.VectorUDT'>', MLflow schema is only supported for scalar Spark types.\n\n"
     ]
    },
    {
     "output_type": "stream",
     "name": "stdout",
     "output_type": "stream",
     "text": [
      "\r                                                                                      \r0.37022813830220574\n\r 12%|█▎        | 1/8 [1:41:28<9:31:43, 4900.47s/trial, best loss: -0.3177871536497344]\r                                                                                      \rfold fscore: 0.37022813830220574\n\r 12%|█▎        | 1/8 [1:41:28<9:31:43, 4900.47s/trial, best loss: -0.3177871536497344]\r                                                                                      \rCV FOLD START: 1: 2023-08-08 11:22:48.330284\n\r 12%|█▎        | 1/8 [1:41:28<9:31:43, 4900.47s/trial, best loss: -0.3177871536497344]"
     ]
    },
    {
     "output_type": "stream",
     "name": "stderr",
     "output_type": "stream",
     "text": [
      "2023/08/08 11:22:48 WARNING mlflow.data.spark_dataset: Failed to infer schema for Spark dataset. Exception: Unsupported Spark Type '<class 'pyspark.ml.linalg.VectorUDT'>', MLflow schema is only supported for scalar Spark types.\n\n"
     ]
    },
    {
     "output_type": "stream",
     "name": "stdout",
     "output_type": "stream",
     "text": [
      "\r                                                                                      \rModel built: 1: 2023-08-08 11:48:27.750829\n\r 12%|█▎        | 1/8 [2:07:08<9:31:43, 4900.47s/trial, best loss: -0.3177871536497344]\r                                                                                      \rPrediction Validation Set: 1: 2023-08-08 11:48:27.866561\n\r 12%|█▎        | 1/8 [2:07:08<9:31:43, 4900.47s/trial, best loss: -0.3177871536497344]"
     ]
    },
    {
     "output_type": "stream",
     "name": "stderr",
     "output_type": "stream",
     "text": [
      "2023/08/08 11:50:06 WARNING mlflow.data.spark_dataset: Failed to infer schema for Spark dataset. Exception: Unsupported Spark Type '<class 'pyspark.ml.linalg.VectorUDT'>', MLflow schema is only supported for scalar Spark types.\n\n"
     ]
    },
    {
     "output_type": "stream",
     "name": "stdout",
     "output_type": "stream",
     "text": [
      "\r                                                                                      \r0.3791464174945349\n\r 12%|█▎        | 1/8 [2:08:52<9:31:43, 4900.47s/trial, best loss: -0.3177871536497344]\r                                                                                      \rfold fscore: 0.3791464174945349\n\r 12%|█▎        | 1/8 [2:08:52<9:31:43, 4900.47s/trial, best loss: -0.3177871536497344]\r                                                                                      \raverage fscore accross fold: 0.3746872778983703\n\r 12%|█▎        | 1/8 [2:08:52<9:31:43, 4900.47s/trial, best loss: -0.3177871536497344]\r 25%|██▌       | 2/8 [2:08:52<6:08:22, 3683.80s/trial, best loss: -0.3746872778983703]\r                                                                                      \rCV FOLD START: 0: 2023-08-08 11:50:12.808793\n\r 25%|██▌       | 2/8 [2:08:53<6:08:22, 3683.80s/trial, best loss: -0.3746872778983703]"
     ]
    },
    {
     "output_type": "stream",
     "name": "stderr",
     "output_type": "stream",
     "text": [
      "2023/08/08 11:50:13 WARNING mlflow.data.spark_dataset: Failed to infer schema for Spark dataset. Exception: Unsupported Spark Type '<class 'pyspark.ml.linalg.VectorUDT'>', MLflow schema is only supported for scalar Spark types.\n\n"
     ]
    },
    {
     "output_type": "stream",
     "name": "stdout",
     "output_type": "stream",
     "text": [
      "\r                                                                                      \rModel built: 0: 2023-08-08 11:56:55.483665\n\r 25%|██▌       | 2/8 [2:15:36<6:08:22, 3683.80s/trial, best loss: -0.3746872778983703]\r                                                                                      \rPrediction Validation Set: 0: 2023-08-08 11:56:55.609645\n\r 25%|██▌       | 2/8 [2:15:36<6:08:22, 3683.80s/trial, best loss: -0.3746872778983703]"
     ]
    },
    {
     "output_type": "stream",
     "name": "stderr",
     "output_type": "stream",
     "text": [
      "2023/08/08 11:57:28 WARNING mlflow.data.spark_dataset: Failed to infer schema for Spark dataset. Exception: Unsupported Spark Type '<class 'pyspark.ml.linalg.VectorUDT'>', MLflow schema is only supported for scalar Spark types.\n\n"
     ]
    },
    {
     "output_type": "stream",
     "name": "stdout",
     "output_type": "stream",
     "text": [
      "\r                                                                                      \r0.0\n\r 25%|██▌       | 2/8 [2:16:14<6:08:22, 3683.80s/trial, best loss: -0.3746872778983703]\r                                                                                      \rfold fscore: 0.0\n\r 25%|██▌       | 2/8 [2:16:14<6:08:22, 3683.80s/trial, best loss: -0.3746872778983703]\r                                                                                      \rCV FOLD START: 1: 2023-08-08 11:57:33.861913\n\r 25%|██▌       | 2/8 [2:16:14<6:08:22, 3683.80s/trial, best loss: -0.3746872778983703]"
     ]
    },
    {
     "output_type": "stream",
     "name": "stderr",
     "output_type": "stream",
     "text": [
      "2023/08/08 11:57:34 WARNING mlflow.data.spark_dataset: Failed to infer schema for Spark dataset. Exception: Unsupported Spark Type '<class 'pyspark.ml.linalg.VectorUDT'>', MLflow schema is only supported for scalar Spark types.\n\n"
     ]
    },
    {
     "output_type": "stream",
     "name": "stdout",
     "output_type": "stream",
     "text": [
      "\r                                                                                      \rModel built: 1: 2023-08-08 12:05:03.963597\n\r 25%|██▌       | 2/8 [2:23:44<6:08:22, 3683.80s/trial, best loss: -0.3746872778983703]\r                                                                                      \rPrediction Validation Set: 1: 2023-08-08 12:05:04.070502\n\r 25%|██▌       | 2/8 [2:23:44<6:08:22, 3683.80s/trial, best loss: -0.3746872778983703]"
     ]
    },
    {
     "output_type": "stream",
     "name": "stderr",
     "output_type": "stream",
     "text": [
      "2023/08/08 12:06:09 WARNING mlflow.data.spark_dataset: Failed to infer schema for Spark dataset. Exception: Unsupported Spark Type '<class 'pyspark.ml.linalg.VectorUDT'>', MLflow schema is only supported for scalar Spark types.\n\n"
     ]
    },
    {
     "output_type": "stream",
     "name": "stdout",
     "output_type": "stream",
     "text": [
      "\r                                                                                      \r0.0\n\r 25%|██▌       | 2/8 [2:24:55<6:08:22, 3683.80s/trial, best loss: -0.3746872778983703]\r                                                                                      \rfold fscore: 0.0\n\r 25%|██▌       | 2/8 [2:24:55<6:08:22, 3683.80s/trial, best loss: -0.3746872778983703]\r                                                                                      \raverage fscore accross fold: 0.0\n\r 25%|██▌       | 2/8 [2:24:55<6:08:22, 3683.80s/trial, best loss: -0.3746872778983703]\r 38%|███▊      | 3/8 [2:24:55<3:23:28, 2441.60s/trial, best loss: -0.3746872778983703]\r                                                                                      \rCV FOLD START: 0: 2023-08-08 12:06:16.105846\n\r 38%|███▊      | 3/8 [2:24:56<3:23:28, 2441.60s/trial, best loss: -0.3746872778983703]"
     ]
    },
    {
     "output_type": "stream",
     "name": "stderr",
     "output_type": "stream",
     "text": [
      "2023/08/08 12:06:16 WARNING mlflow.data.spark_dataset: Failed to infer schema for Spark dataset. Exception: Unsupported Spark Type '<class 'pyspark.ml.linalg.VectorUDT'>', MLflow schema is only supported for scalar Spark types.\n\n"
     ]
    },
    {
     "output_type": "stream",
     "name": "stdout",
     "output_type": "stream",
     "text": [
      "\r                                                                                      \rModel built: 0: 2023-08-08 12:20:56.464300\n\r 38%|███▊      | 3/8 [2:39:37<3:23:28, 2441.60s/trial, best loss: -0.3746872778983703]\r                                                                                      \rPrediction Validation Set: 0: 2023-08-08 12:20:56.562120\n\r 38%|███▊      | 3/8 [2:39:37<3:23:28, 2441.60s/trial, best loss: -0.3746872778983703]"
     ]
    },
    {
     "output_type": "stream",
     "name": "stderr",
     "output_type": "stream",
     "text": [
      "2023/08/08 12:22:15 WARNING mlflow.data.spark_dataset: Failed to infer schema for Spark dataset. Exception: Unsupported Spark Type '<class 'pyspark.ml.linalg.VectorUDT'>', MLflow schema is only supported for scalar Spark types.\n\n"
     ]
    },
    {
     "output_type": "stream",
     "name": "stdout",
     "output_type": "stream",
     "text": [
      "\r                                                                                      \r0.06073111688469884\n\r 38%|███▊      | 3/8 [2:41:01<3:23:28, 2441.60s/trial, best loss: -0.3746872778983703]\r                                                                                      \rfold fscore: 0.06073111688469884\n\r 38%|███▊      | 3/8 [2:41:01<3:23:28, 2441.60s/trial, best loss: -0.3746872778983703]\r                                                                                      \rCV FOLD START: 1: 2023-08-08 12:22:20.971171\n\r 38%|███▊      | 3/8 [2:41:01<3:23:28, 2441.60s/trial, best loss: -0.3746872778983703]"
     ]
    },
    {
     "output_type": "stream",
     "name": "stderr",
     "output_type": "stream",
     "text": [
      "2023/08/08 12:22:21 WARNING mlflow.data.spark_dataset: Failed to infer schema for Spark dataset. Exception: Unsupported Spark Type '<class 'pyspark.ml.linalg.VectorUDT'>', MLflow schema is only supported for scalar Spark types.\n\n"
     ]
    },
    {
     "output_type": "stream",
     "name": "stdout",
     "output_type": "stream",
     "text": [
      "\r                                                                                      \rModel built: 1: 2023-08-08 12:40:57.683493\n\r 38%|███▊      | 3/8 [2:59:38<3:23:28, 2441.60s/trial, best loss: -0.3746872778983703]\r                                                                                      \rPrediction Validation Set: 1: 2023-08-08 12:40:57.777038\n\r 38%|███▊      | 3/8 [2:59:38<3:23:28, 2441.60s/trial, best loss: -0.3746872778983703]"
     ]
    },
    {
     "output_type": "stream",
     "name": "stderr",
     "output_type": "stream",
     "text": [
      "2023/08/08 12:42:06 WARNING mlflow.data.spark_dataset: Failed to infer schema for Spark dataset. Exception: Unsupported Spark Type '<class 'pyspark.ml.linalg.VectorUDT'>', MLflow schema is only supported for scalar Spark types.\n\n"
     ]
    },
    {
     "output_type": "stream",
     "name": "stdout",
     "output_type": "stream",
     "text": [
      "\r                                                                                      \r0.16556247112276679\n\r 38%|███▊      | 3/8 [3:00:52<3:23:28, 2441.60s/trial, best loss: -0.3746872778983703]\r                                                                                      \rfold fscore: 0.16556247112276679\n\r 38%|███▊      | 3/8 [3:00:52<3:23:28, 2441.60s/trial, best loss: -0.3746872778983703]\r                                                                                      \raverage fscore accross fold: 0.11314679400373281\n\r 38%|███▊      | 3/8 [3:00:52<3:23:28, 2441.60s/trial, best loss: -0.3746872778983703]\r 50%|█████     | 4/8 [3:00:52<2:35:16, 2329.22s/trial, best loss: -0.3746872778983703]\r                                                                                      \rCV FOLD START: 0: 2023-08-08 12:42:13.119743\n\r 50%|█████     | 4/8 [3:00:53<2:35:16, 2329.22s/trial, best loss: -0.3746872778983703]"
     ]
    },
    {
     "output_type": "stream",
     "name": "stderr",
     "output_type": "stream",
     "text": [
      "2023/08/08 12:42:13 WARNING mlflow.data.spark_dataset: Failed to infer schema for Spark dataset. Exception: Unsupported Spark Type '<class 'pyspark.ml.linalg.VectorUDT'>', MLflow schema is only supported for scalar Spark types.\n\n"
     ]
    },
    {
     "output_type": "stream",
     "name": "stdout",
     "output_type": "stream",
     "text": [
      "\r                                                                                      \rModel built: 0: 2023-08-08 12:53:55.105127\n\r 50%|█████     | 4/8 [3:12:35<2:35:16, 2329.22s/trial, best loss: -0.3746872778983703]\r                                                                                      \rPrediction Validation Set: 0: 2023-08-08 12:53:55.225410\n\r 50%|█████     | 4/8 [3:12:35<2:35:16, 2329.22s/trial, best loss: -0.3746872778983703]"
     ]
    },
    {
     "output_type": "stream",
     "name": "stderr",
     "output_type": "stream",
     "text": [
      "2023/08/08 12:54:44 WARNING mlflow.data.spark_dataset: Failed to infer schema for Spark dataset. Exception: Unsupported Spark Type '<class 'pyspark.ml.linalg.VectorUDT'>', MLflow schema is only supported for scalar Spark types.\n\n"
     ]
    },
    {
     "output_type": "stream",
     "name": "stdout",
     "output_type": "stream",
     "text": [
      "\r                                                                                      \r0.0\n\r 50%|█████     | 4/8 [3:13:30<2:35:16, 2329.22s/trial, best loss: -0.3746872778983703]\r                                                                                      \rfold fscore: 0.0\n\r 50%|█████     | 4/8 [3:13:30<2:35:16, 2329.22s/trial, best loss: -0.3746872778983703]\r                                                                                      \rCV FOLD START: 1: 2023-08-08 12:54:49.913694\n\r 50%|█████     | 4/8 [3:13:30<2:35:16, 2329.22s/trial, best loss: -0.3746872778983703]"
     ]
    },
    {
     "output_type": "stream",
     "name": "stderr",
     "output_type": "stream",
     "text": [
      "2023/08/08 12:54:50 WARNING mlflow.data.spark_dataset: Failed to infer schema for Spark dataset. Exception: Unsupported Spark Type '<class 'pyspark.ml.linalg.VectorUDT'>', MLflow schema is only supported for scalar Spark types.\n\n"
     ]
    },
    {
     "output_type": "stream",
     "name": "stdout",
     "output_type": "stream",
     "text": [
      "\r                                                                                      \rModel built: 1: 2023-08-08 13:08:38.491508\n\r 50%|█████     | 4/8 [3:27:19<2:35:16, 2329.22s/trial, best loss: -0.3746872778983703]\r                                                                                      \rPrediction Validation Set: 1: 2023-08-08 13:08:38.590881\n\r 50%|█████     | 4/8 [3:27:19<2:35:16, 2329.22s/trial, best loss: -0.3746872778983703]"
     ]
    },
    {
     "output_type": "stream",
     "name": "stderr",
     "output_type": "stream",
     "text": [
      "2023/08/08 13:09:41 WARNING mlflow.data.spark_dataset: Failed to infer schema for Spark dataset. Exception: Unsupported Spark Type '<class 'pyspark.ml.linalg.VectorUDT'>', MLflow schema is only supported for scalar Spark types.\n\n"
     ]
    },
    {
     "output_type": "stream",
     "name": "stdout",
     "output_type": "stream",
     "text": [
      "\r                                                                                      \r0.0\n\r 50%|█████     | 4/8 [3:28:27<2:35:16, 2329.22s/trial, best loss: -0.3746872778983703]\r                                                                                      \rfold fscore: 0.0\n\r 50%|█████     | 4/8 [3:28:27<2:35:16, 2329.22s/trial, best loss: -0.3746872778983703]\r                                                                                      \raverage fscore accross fold: 0.0\n\r 50%|█████     | 4/8 [3:28:27<2:35:16, 2329.22s/trial, best loss: -0.3746872778983703]\r 62%|██████▎   | 5/8 [3:28:27<1:44:17, 2085.97s/trial, best loss: -0.3746872778983703]\r                                                                                      \rCV FOLD START: 0: 2023-08-08 13:09:47.861237\n\r 62%|██████▎   | 5/8 [3:28:28<1:44:17, 2085.97s/trial, best loss: -0.3746872778983703]"
     ]
    },
    {
     "output_type": "stream",
     "name": "stderr",
     "output_type": "stream",
     "text": [
      "2023/08/08 13:09:48 WARNING mlflow.data.spark_dataset: Failed to infer schema for Spark dataset. Exception: Unsupported Spark Type '<class 'pyspark.ml.linalg.VectorUDT'>', MLflow schema is only supported for scalar Spark types.\n\n"
     ]
    },
    {
     "output_type": "stream",
     "name": "stdout",
     "output_type": "stream",
     "text": [
      "\r                                                                                      \rModel built: 0: 2023-08-08 13:31:23.699178\n\r 62%|██████▎   | 5/8 [3:50:04<1:44:17, 2085.97s/trial, best loss: -0.3746872778983703]\r                                                                                      \rPrediction Validation Set: 0: 2023-08-08 13:31:23.807799\n\r 62%|██████▎   | 5/8 [3:50:04<1:44:17, 2085.97s/trial, best loss: -0.3746872778983703]"
     ]
    },
    {
     "output_type": "stream",
     "name": "stderr",
     "output_type": "stream",
     "text": [
      "2023/08/08 13:33:01 WARNING mlflow.data.spark_dataset: Failed to infer schema for Spark dataset. Exception: Unsupported Spark Type '<class 'pyspark.ml.linalg.VectorUDT'>', MLflow schema is only supported for scalar Spark types.\n\n"
     ]
    },
    {
     "output_type": "stream",
     "name": "stdout",
     "output_type": "stream",
     "text": [
      "\r                                                                                      \r0.001657131044898001\n\r 62%|██████▎   | 5/8 [3:51:47<1:44:17, 2085.97s/trial, best loss: -0.3746872778983703]\r                                                                                      \rfold fscore: 0.001657131044898001\n\r 62%|██████▎   | 5/8 [3:51:47<1:44:17, 2085.97s/trial, best loss: -0.3746872778983703]\r                                                                                      \rCV FOLD START: 1: 2023-08-08 13:33:06.793069\n\r 62%|██████▎   | 5/8 [3:51:47<1:44:17, 2085.97s/trial, best loss: -0.3746872778983703]"
     ]
    },
    {
     "output_type": "stream",
     "name": "stderr",
     "output_type": "stream",
     "text": [
      "2023/08/08 13:33:07 WARNING mlflow.data.spark_dataset: Failed to infer schema for Spark dataset. Exception: Unsupported Spark Type '<class 'pyspark.ml.linalg.VectorUDT'>', MLflow schema is only supported for scalar Spark types.\n\n"
     ]
    },
    {
     "output_type": "stream",
     "name": "stdout",
     "output_type": "stream",
     "text": [
      "\r                                                                                      \rModel built: 1: 2023-08-08 14:01:01.153146\n\r 62%|██████▎   | 5/8 [4:19:41<1:44:17, 2085.97s/trial, best loss: -0.3746872778983703]\r                                                                                      \rPrediction Validation Set: 1: 2023-08-08 14:01:01.257577\n\r 62%|██████▎   | 5/8 [4:19:41<1:44:17, 2085.97s/trial, best loss: -0.3746872778983703]"
     ]
    },
    {
     "output_type": "stream",
     "name": "stderr",
     "output_type": "stream",
     "text": [
      "2023/08/08 14:02:39 WARNING mlflow.data.spark_dataset: Failed to infer schema for Spark dataset. Exception: Unsupported Spark Type '<class 'pyspark.ml.linalg.VectorUDT'>', MLflow schema is only supported for scalar Spark types.\n\n"
     ]
    },
    {
     "output_type": "stream",
     "name": "stdout",
     "output_type": "stream",
     "text": [
      "\r                                                                                      \r0.10799852052928027\n\r 62%|██████▎   | 5/8 [4:21:25<1:44:17, 2085.97s/trial, best loss: -0.3746872778983703]\r                                                                                      \rfold fscore: 0.10799852052928027\n\r 62%|██████▎   | 5/8 [4:21:25<1:44:17, 2085.97s/trial, best loss: -0.3746872778983703]\r                                                                                      \raverage fscore accross fold: 0.054827825787089134\n\r 62%|██████▎   | 5/8 [4:21:25<1:44:17, 2085.97s/trial, best loss: -0.3746872778983703]\r 75%|███████▌  | 6/8 [4:21:25<1:21:54, 2457.18s/trial, best loss: -0.3746872778983703]\r                                                                                      \rCV FOLD START: 0: 2023-08-08 14:02:45.517384\n\r 75%|███████▌  | 6/8 [4:21:26<1:21:54, 2457.18s/trial, best loss: -0.3746872778983703]"
     ]
    },
    {
     "output_type": "stream",
     "name": "stderr",
     "output_type": "stream",
     "text": [
      "2023/08/08 14:02:45 WARNING mlflow.data.spark_dataset: Failed to infer schema for Spark dataset. Exception: Unsupported Spark Type '<class 'pyspark.ml.linalg.VectorUDT'>', MLflow schema is only supported for scalar Spark types.\n\n"
     ]
    },
    {
     "output_type": "stream",
     "name": "stdout",
     "output_type": "stream",
     "text": [
      "\r                                                                                      \rModel built: 0: 2023-08-08 15:23:58.496719\n\r 75%|███████▌  | 6/8 [5:42:39<1:21:54, 2457.18s/trial, best loss: -0.3746872778983703]\r                                                                                      \rPrediction Validation Set: 0: 2023-08-08 15:23:58.599859\n\r 75%|███████▌  | 6/8 [5:42:39<1:21:54, 2457.18s/trial, best loss: -0.3746872778983703]"
     ]
    },
    {
     "output_type": "stream",
     "name": "stderr",
     "output_type": "stream",
     "text": [
      "2023/08/08 15:27:48 WARNING mlflow.data.spark_dataset: Failed to infer schema for Spark dataset. Exception: Unsupported Spark Type '<class 'pyspark.ml.linalg.VectorUDT'>', MLflow schema is only supported for scalar Spark types.\n\n"
     ]
    },
    {
     "output_type": "stream",
     "name": "stdout",
     "output_type": "stream",
     "text": [
      "\r                                                                                      \r0.39581951266878845\n\r 75%|███████▌  | 6/8 [5:46:34<1:21:54, 2457.18s/trial, best loss: -0.3746872778983703]\r                                                                                      \rfold fscore: 0.39581951266878845\n\r 75%|███████▌  | 6/8 [5:46:34<1:21:54, 2457.18s/trial, best loss: -0.3746872778983703]\r                                                                                      \rCV FOLD START: 1: 2023-08-08 15:27:54.033494\n\r 75%|███████▌  | 6/8 [5:46:34<1:21:54, 2457.18s/trial, best loss: -0.3746872778983703]"
     ]
    },
    {
     "output_type": "stream",
     "name": "stderr",
     "output_type": "stream",
     "text": [
      "2023/08/08 15:27:54 WARNING mlflow.data.spark_dataset: Failed to infer schema for Spark dataset. Exception: Unsupported Spark Type '<class 'pyspark.ml.linalg.VectorUDT'>', MLflow schema is only supported for scalar Spark types.\n\n"
     ]
    },
    {
     "output_type": "stream",
     "name": "stdout",
     "output_type": "stream",
     "text": [
      "\r                                                                                      \rModel built: 1: 2023-08-08 17:02:27.151429\n\r 75%|███████▌  | 6/8 [7:21:07<1:21:54, 2457.18s/trial, best loss: -0.3746872778983703]\r                                                                                      \rPrediction Validation Set: 1: 2023-08-08 17:02:27.460655\n\r 75%|███████▌  | 6/8 [7:21:08<1:21:54, 2457.18s/trial, best loss: -0.3746872778983703]"
     ]
    },
    {
     "output_type": "stream",
     "name": "stderr",
     "output_type": "stream",
     "text": [
      "2023/08/08 17:07:14 WARNING mlflow.data.spark_dataset: Failed to infer schema for Spark dataset. Exception: Unsupported Spark Type '<class 'pyspark.ml.linalg.VectorUDT'>', MLflow schema is only supported for scalar Spark types.\n\n"
     ]
    },
    {
     "output_type": "stream",
     "name": "stdout",
     "output_type": "stream",
     "text": [
      "\r                                                                                      \r0.4053420979951356\n\r 75%|███████▌  | 6/8 [7:25:59<1:21:54, 2457.18s/trial, best loss: -0.3746872778983703]\r                                                                                      \rfold fscore: 0.4053420979951356\n\r 75%|███████▌  | 6/8 [7:25:59<1:21:54, 2457.18s/trial, best loss: -0.3746872778983703]\r                                                                                      \raverage fscore accross fold: 0.40058080533196205\n\r 75%|███████▌  | 6/8 [7:25:59<1:21:54, 2457.18s/trial, best loss: -0.3746872778983703]\r 88%|████████▊ | 7/8 [7:26:00<1:27:54, 5274.50s/trial, best loss: -0.40058080533196205]\r                                                                                       \rCV FOLD START: 0: 2023-08-08 17:07:20.210388\n\r 88%|████████▊ | 7/8 [7:26:00<1:27:54, 5274.50s/trial, best loss: -0.40058080533196205]"
     ]
    },
    {
     "output_type": "stream",
     "name": "stderr",
     "output_type": "stream",
     "text": [
      "2023/08/08 17:07:20 WARNING mlflow.data.spark_dataset: Failed to infer schema for Spark dataset. Exception: Unsupported Spark Type '<class 'pyspark.ml.linalg.VectorUDT'>', MLflow schema is only supported for scalar Spark types.\n\n"
     ]
    },
    {
     "output_type": "stream",
     "name": "stdout",
     "output_type": "stream",
     "text": [
      "\r                                                                                       \rModel built: 0: 2023-08-08 17:21:49.459008\n\r 88%|████████▊ | 7/8 [7:40:30<1:27:54, 5274.50s/trial, best loss: -0.40058080533196205]\r                                                                                       \rPrediction Validation Set: 0: 2023-08-08 17:21:49.582713\n\r 88%|████████▊ | 7/8 [7:40:30<1:27:54, 5274.50s/trial, best loss: -0.40058080533196205]"
     ]
    },
    {
     "output_type": "stream",
     "name": "stderr",
     "output_type": "stream",
     "text": [
      "2023/08/08 17:22:54 WARNING mlflow.data.spark_dataset: Failed to infer schema for Spark dataset. Exception: Unsupported Spark Type '<class 'pyspark.ml.linalg.VectorUDT'>', MLflow schema is only supported for scalar Spark types.\n\n"
     ]
    },
    {
     "output_type": "stream",
     "name": "stdout",
     "output_type": "stream",
     "text": [
      "\r                                                                                       \r0.3613048411562015\n\r 88%|████████▊ | 7/8 [7:41:39<1:27:54, 5274.50s/trial, best loss: -0.40058080533196205]\r                                                                                       \rfold fscore: 0.3613048411562015\n\r 88%|████████▊ | 7/8 [7:41:39<1:27:54, 5274.50s/trial, best loss: -0.40058080533196205]\r                                                                                       \rCV FOLD START: 1: 2023-08-08 17:22:59.261069\n\r 88%|████████▊ | 7/8 [7:41:39<1:27:54, 5274.50s/trial, best loss: -0.40058080533196205]"
     ]
    },
    {
     "output_type": "stream",
     "name": "stderr",
     "output_type": "stream",
     "text": [
      "2023/08/08 17:22:59 WARNING mlflow.data.spark_dataset: Failed to infer schema for Spark dataset. Exception: Unsupported Spark Type '<class 'pyspark.ml.linalg.VectorUDT'>', MLflow schema is only supported for scalar Spark types.\n\n"
     ]
    },
    {
     "output_type": "stream",
     "name": "stdout",
     "output_type": "stream",
     "text": [
      "\r                                                                                       \rModel built: 1: 2023-08-08 17:40:32.161381\n\r 88%|████████▊ | 7/8 [7:59:12<1:27:54, 5274.50s/trial, best loss: -0.40058080533196205]\r                                                                                       \rPrediction Validation Set: 1: 2023-08-08 17:40:32.266446\n\r 88%|████████▊ | 7/8 [7:59:12<1:27:54, 5274.50s/trial, best loss: -0.40058080533196205]"
     ]
    },
    {
     "output_type": "stream",
     "name": "stderr",
     "output_type": "stream",
     "text": [
      "2023/08/08 17:42:04 WARNING mlflow.data.spark_dataset: Failed to infer schema for Spark dataset. Exception: Unsupported Spark Type '<class 'pyspark.ml.linalg.VectorUDT'>', MLflow schema is only supported for scalar Spark types.\n\n"
     ]
    },
    {
     "output_type": "stream",
     "name": "stdout",
     "output_type": "stream",
     "text": [
      "\r                                                                                       \r0.40170511320329555\n\r 88%|████████▊ | 7/8 [8:00:50<1:27:54, 5274.50s/trial, best loss: -0.40058080533196205]\r                                                                                       \rfold fscore: 0.40170511320329555\n\r 88%|████████▊ | 7/8 [8:00:50<1:27:54, 5274.50s/trial, best loss: -0.40058080533196205]\r                                                                                       \raverage fscore accross fold: 0.3815049771797485\n\r 88%|████████▊ | 7/8 [8:00:50<1:27:54, 5274.50s/trial, best loss: -0.40058080533196205]\r100%|██████████| 8/8 [8:00:50<00:00, 4260.75s/trial, best loss: -0.40058080533196205]  \r100%|██████████| 8/8 [8:00:50<00:00, 3606.29s/trial, best loss: -0.40058080533196205]\nbest parameters: {'maxDepth': 12.0, 'numTrees': 140.0}\n"
     ]
    }
   ],
   "source": [
    "def objective_function_rf(params):\n",
    "\n",
    "    \"\"\"\n",
    "    Define estimator\n",
    "\n",
    "    Parameters:\n",
    "        params: default in hyperopt. Do not change.\n",
    "    \n",
    "    returns:\n",
    "        trainPredictEval(estimator) function\n",
    "    \"\"\"\n",
    "\n",
    "    # set hyperparameters we want to tune\n",
    "    maxDepth = params[\"maxDepth\"]\n",
    "    numTrees = params[\"numTrees\"]\n",
    "\n",
    "    with mlflow.start_run():\n",
    "\n",
    "        # Train\n",
    "        estimator = RandomForestClassifier(featuresCol = 'features'\n",
    "                                    , labelCol = 'label'\n",
    "                                    , maxDepth = maxDepth\n",
    "                                    , numTrees = numTrees\n",
    "                                    )\n",
    "        \n",
    "        return trainPredictEval(estimator)    \n",
    "\n",
    "folds = folds_slim\n",
    "\n",
    "display(folds[0][0].schema[\"features\"].metadata[\"ml_attr\"][\"attrs\"])\n",
    "\n",
    "print(f'Job START: {i}: {datetime.now()}')\n",
    "\n",
    "mlflow.end_run()\n",
    "\n",
    "# Keep logging off during hypertuning\n",
    "mlflow.pyspark.ml.autolog(log_models=False)\n",
    "\n",
    "# hp.quniform(label, low, high, q) Returns a value like round(uniform(low, high) / q) * q\n",
    "search_space_rf = {\n",
    "    \"maxDepth\": hp.quniform(\"maxDepth\", 4, 12, 2),   \n",
    "    \"numTrees\": hp.quniform(\"numTrees\", 20, 200, 20)\n",
    "\n",
    "}\n",
    "\n",
    "\n",
    "num_evals = 8\n",
    "trials = Trials()\n",
    "\n",
    "best_hyperparam_rf = fmin(fn=objective_function_rf,\n",
    "                       space=search_space_rf,\n",
    "                       algo=tpe.suggest,\n",
    "                       max_evals=num_evals,\n",
    "                       trials=trials,\n",
    "                       rstate=np.random.default_rng(42))\n",
    "\n",
    "# BEST PARAMETERS\n",
    "best_params = space_eval(search_space_rf, best_hyperparam_rf)\n",
    "print(f'best parameters: {best_params}')\n",
    "\n",
    "# LOG IT\n",
    "\n",
    "with mlflow.start_run():\n",
    "    mlflow.log_params(best_params)\n",
    "    mlflow.log_metric(\"CV_2folds_Drop_Origin_Dest_fbeta_rf\", trials.best_trial['result']['loss'])\n",
    "# End prior mlfow run\n",
    "mlflow.end_run()"
   ]
  },
  {
   "cell_type": "code",
   "execution_count": 0,
   "metadata": {
    "application/vnd.databricks.v1+cell": {
     "cellMetadata": {
      "byteLimit": 2048000,
      "rowLimit": 10000
     },
     "inputWidgets": {},
     "nuid": "bf20db0e-b1b5-424e-a25f-6131e17192d4",
     "showTitle": true,
     "title": "LightGBM"
    }
   },
   "outputs": [],
   "source": []
  },
  {
   "cell_type": "code",
   "execution_count": 0,
   "metadata": {
    "application/vnd.databricks.v1+cell": {
     "cellMetadata": {
      "byteLimit": 2048000,
      "rowLimit": 10000
     },
     "inputWidgets": {},
     "nuid": "e5b71c7a-453b-4e2c-a3d9-aed46dbffd0e",
     "showTitle": false,
     "title": ""
    }
   },
   "outputs": [
    {
     "output_type": "stream",
     "name": "stdout",
     "output_type": "stream",
     "text": [
      "Loading 5 folds...\n"
     ]
    },
    {
     "output_type": "display_data",
     "data": {
      "text/plain": [
       "{'numeric': [{'idx': 71, 'name': 'scaled_numeric_0'},\n",
       "  {'idx': 72, 'name': 'scaled_numeric_1'},\n",
       "  {'idx': 73, 'name': 'scaled_numeric_2'},\n",
       "  {'idx': 74, 'name': 'scaled_numeric_3'},\n",
       "  {'idx': 75, 'name': 'scaled_numeric_4'},\n",
       "  {'idx': 76, 'name': 'scaled_numeric_5'},\n",
       "  {'idx': 77, 'name': 'scaled_numeric_6'},\n",
       "  {'idx': 78, 'name': 'scaled_numeric_7'},\n",
       "  {'idx': 79, 'name': 'scaled_numeric_8'},\n",
       "  {'idx': 80, 'name': 'scaled_numeric_9'}],\n",
       " 'binary': [{'idx': 0, 'name': 'IS_FIRST_FLIGHT_OF_DAY_double_hot_0.0'},\n",
       "  {'idx': 1, 'name': 'IS_FIRST_FLIGHT_OF_DAY_double_hot_1.0'},\n",
       "  {'idx': 2, 'name': 'IS_FIRST_FLIGHT_OF_DAY_double_hot___unknown'},\n",
       "  {'idx': 3, 'name': 'is_holiday_adjacent_double_hot_0.0'},\n",
       "  {'idx': 4, 'name': 'is_holiday_adjacent_double_hot_1.0'},\n",
       "  {'idx': 5, 'name': 'is_holiday_adjacent_double_hot___unknown'},\n",
       "  {'idx': 6, 'name': 'OP_UNIQUE_CARRIER_hot_WN'},\n",
       "  {'idx': 7, 'name': 'OP_UNIQUE_CARRIER_hot_DL'},\n",
       "  {'idx': 8, 'name': 'OP_UNIQUE_CARRIER_hot_AA'},\n",
       "  {'idx': 9, 'name': 'OP_UNIQUE_CARRIER_hot_OO'},\n",
       "  {'idx': 10, 'name': 'OP_UNIQUE_CARRIER_hot_UA'},\n",
       "  {'idx': 11, 'name': 'OP_UNIQUE_CARRIER_hot_EV'},\n",
       "  {'idx': 12, 'name': 'OP_UNIQUE_CARRIER_hot_B6'},\n",
       "  {'idx': 13, 'name': 'OP_UNIQUE_CARRIER_hot_AS'},\n",
       "  {'idx': 14, 'name': 'OP_UNIQUE_CARRIER_hot_MQ'},\n",
       "  {'idx': 15, 'name': 'OP_UNIQUE_CARRIER_hot_NK'},\n",
       "  {'idx': 16, 'name': 'OP_UNIQUE_CARRIER_hot_YX'},\n",
       "  {'idx': 17, 'name': 'OP_UNIQUE_CARRIER_hot_OH'},\n",
       "  {'idx': 18, 'name': 'OP_UNIQUE_CARRIER_hot_F9'},\n",
       "  {'idx': 19, 'name': 'OP_UNIQUE_CARRIER_hot_9E'},\n",
       "  {'idx': 20, 'name': 'OP_UNIQUE_CARRIER_hot_YV'},\n",
       "  {'idx': 21, 'name': 'OP_UNIQUE_CARRIER_hot_HA'},\n",
       "  {'idx': 22, 'name': 'OP_UNIQUE_CARRIER_hot_VX'},\n",
       "  {'idx': 23, 'name': 'OP_UNIQUE_CARRIER_hot_G4'},\n",
       "  {'idx': 24, 'name': 'OP_UNIQUE_CARRIER_hot_US'},\n",
       "  {'idx': 25, 'name': 'OP_UNIQUE_CARRIER_hot___unknown'},\n",
       "  {'idx': 26, 'name': 'is_holiday_double_hot_0.0'},\n",
       "  {'idx': 27, 'name': 'is_holiday_double_hot_1.0'},\n",
       "  {'idx': 28, 'name': 'is_holiday_double_hot___unknown'},\n",
       "  {'idx': 29, 'name': 'CRS_DEP_BUCKET_hot_2.0'},\n",
       "  {'idx': 30, 'name': 'CRS_DEP_BUCKET_hot_3.0'},\n",
       "  {'idx': 31, 'name': 'CRS_DEP_BUCKET_hot_0.0'},\n",
       "  {'idx': 32, 'name': 'CRS_DEP_BUCKET_hot_1.0'},\n",
       "  {'idx': 33, 'name': 'CRS_DEP_BUCKET_hot_4.0'},\n",
       "  {'idx': 34, 'name': 'CRS_DEP_BUCKET_hot___unknown'},\n",
       "  {'idx': 35, 'name': 'DAY_OF_WEEK_hot_5'},\n",
       "  {'idx': 36, 'name': 'DAY_OF_WEEK_hot_1'},\n",
       "  {'idx': 37, 'name': 'DAY_OF_WEEK_hot_4'},\n",
       "  {'idx': 38, 'name': 'DAY_OF_WEEK_hot_3'},\n",
       "  {'idx': 39, 'name': 'DAY_OF_WEEK_hot_2'},\n",
       "  {'idx': 40, 'name': 'DAY_OF_WEEK_hot_7'},\n",
       "  {'idx': 41, 'name': 'DAY_OF_WEEK_hot_6'},\n",
       "  {'idx': 42, 'name': 'DAY_OF_WEEK_hot___unknown'},\n",
       "  {'idx': 43, 'name': 'origin_type_hot_large_airport'},\n",
       "  {'idx': 44, 'name': 'origin_type_hot_medium_airport'},\n",
       "  {'idx': 45, 'name': 'origin_type_hot_small_airport'},\n",
       "  {'idx': 46, 'name': 'origin_type_hot_seaplane_base'},\n",
       "  {'idx': 47, 'name': 'origin_type_hot___unknown'},\n",
       "  {'idx': 48, 'name': 'dest_type_hot_large_airport'},\n",
       "  {'idx': 49, 'name': 'dest_type_hot_medium_airport'},\n",
       "  {'idx': 50, 'name': 'dest_type_hot_small_airport'},\n",
       "  {'idx': 51, 'name': 'dest_type_hot___unknown'},\n",
       "  {'idx': 52, 'name': 'MONTH_hot_7'},\n",
       "  {'idx': 53, 'name': 'MONTH_hot_8'},\n",
       "  {'idx': 54, 'name': 'MONTH_hot_6'},\n",
       "  {'idx': 55, 'name': 'MONTH_hot_5'},\n",
       "  {'idx': 56, 'name': 'MONTH_hot_10'},\n",
       "  {'idx': 57, 'name': 'MONTH_hot_3'},\n",
       "  {'idx': 58, 'name': 'MONTH_hot_4'},\n",
       "  {'idx': 59, 'name': 'MONTH_hot_12'},\n",
       "  {'idx': 60, 'name': 'MONTH_hot_11'},\n",
       "  {'idx': 61, 'name': 'MONTH_hot_9'},\n",
       "  {'idx': 62, 'name': 'MONTH_hot_1'},\n",
       "  {'idx': 63, 'name': 'MONTH_hot_2'},\n",
       "  {'idx': 64, 'name': 'MONTH_hot___unknown'},\n",
       "  {'idx': 65, 'name': 'YEAR_hot_2019'},\n",
       "  {'idx': 66, 'name': 'YEAR_hot_2018'},\n",
       "  {'idx': 67, 'name': 'YEAR_hot_2015'},\n",
       "  {'idx': 68, 'name': 'YEAR_hot_2017'},\n",
       "  {'idx': 69, 'name': 'YEAR_hot_2016'},\n",
       "  {'idx': 70, 'name': 'YEAR_hot___unknown'}]}"
      ]
     },
     "metadata": {},
     "output_type": "display_data"
    },
    {
     "output_type": "stream",
     "name": "stdout",
     "output_type": "stream",
     "text": [
      "\r  0%|          | 0/10 [00:00<?, ?trial/s, best loss=?]\r                                                      \rCV FOLD START: 0: 2023-08-08 06:26:48.574583\n\r  0%|          | 0/10 [00:00<?, ?trial/s, best loss=?]"
     ]
    },
    {
     "output_type": "stream",
     "name": "stderr",
     "output_type": "stream",
     "text": [
      "2023/08/08 06:26:48 WARNING mlflow.data.spark_dataset: Failed to infer schema for Spark dataset. Exception: Unsupported Spark Type '<class 'pyspark.ml.linalg.VectorUDT'>', MLflow schema is only supported for scalar Spark types.\n\n"
     ]
    },
    {
     "output_type": "stream",
     "name": "stdout",
     "output_type": "stream",
     "text": [
      "\r                                                      \rModel built: 0: 2023-08-08 06:33:19.114570\n\r  0%|          | 0/10 [06:31<?, ?trial/s, best loss=?]\r                                                      \rPrediction Validation Set: 0: 2023-08-08 06:33:19.190269\n\r  0%|          | 0/10 [06:31<?, ?trial/s, best loss=?]"
     ]
    },
    {
     "output_type": "stream",
     "name": "stderr",
     "output_type": "stream",
     "text": [
      "2023/08/08 06:34:01 WARNING mlflow.data.spark_dataset: Failed to infer schema for Spark dataset. Exception: Unsupported Spark Type '<class 'pyspark.ml.linalg.VectorUDT'>', MLflow schema is only supported for scalar Spark types.\n\n"
     ]
    },
    {
     "output_type": "stream",
     "name": "stdout",
     "output_type": "stream",
     "text": [
      "\r                                                      \r0.1507283981018264\n\r  0%|          | 0/10 [07:18<?, ?trial/s, best loss=?]\r                                                      \rfold fscore: 0.1507283981018264\n\r  0%|          | 0/10 [07:18<?, ?trial/s, best loss=?]\r                                                      \rCV FOLD START: 1: 2023-08-08 06:34:06.507445\n\r  0%|          | 0/10 [07:18<?, ?trial/s, best loss=?]"
     ]
    },
    {
     "output_type": "stream",
     "name": "stderr",
     "output_type": "stream",
     "text": [
      "2023/08/08 06:34:06 WARNING mlflow.data.spark_dataset: Failed to infer schema for Spark dataset. Exception: Unsupported Spark Type '<class 'pyspark.ml.linalg.VectorUDT'>', MLflow schema is only supported for scalar Spark types.\n\n"
     ]
    },
    {
     "output_type": "stream",
     "name": "stdout",
     "output_type": "stream",
     "text": [
      "\r                                                      \rModel built: 1: 2023-08-08 06:44:32.303248\n\r  0%|          | 0/10 [17:44<?, ?trial/s, best loss=?]\r                                                      \rPrediction Validation Set: 1: 2023-08-08 06:44:32.387729\n\r  0%|          | 0/10 [17:44<?, ?trial/s, best loss=?]"
     ]
    },
    {
     "output_type": "stream",
     "name": "stderr",
     "output_type": "stream",
     "text": [
      "2023/08/08 06:46:09 WARNING mlflow.data.spark_dataset: Failed to infer schema for Spark dataset. Exception: Unsupported Spark Type '<class 'pyspark.ml.linalg.VectorUDT'>', MLflow schema is only supported for scalar Spark types.\n\n"
     ]
    },
    {
     "output_type": "stream",
     "name": "stdout",
     "output_type": "stream",
     "text": [
      "\r                                                      \r0.3259635789839808\n\r  0%|          | 0/10 [19:26<?, ?trial/s, best loss=?]\r                                                      \rfold fscore: 0.3259635789839808\n\r  0%|          | 0/10 [19:26<?, ?trial/s, best loss=?]\r                                                      \raverage fscore accross fold: 0.23834598854290362\n\r  0%|          | 0/10 [19:26<?, ?trial/s, best loss=?]\r 10%|█         | 1/10 [19:26<2:55:02, 1166.93s/trial, best loss: -0.23834598854290362]\r                                                                                      \rCV FOLD START: 0: 2023-08-08 06:46:15.325637\n\r 10%|█         | 1/10 [19:27<2:55:02, 1166.93s/trial, best loss: -0.23834598854290362]"
     ]
    },
    {
     "output_type": "stream",
     "name": "stderr",
     "output_type": "stream",
     "text": [
      "2023/08/08 06:46:15 WARNING mlflow.data.spark_dataset: Failed to infer schema for Spark dataset. Exception: Unsupported Spark Type '<class 'pyspark.ml.linalg.VectorUDT'>', MLflow schema is only supported for scalar Spark types.\n\n"
     ]
    },
    {
     "output_type": "stream",
     "name": "stdout",
     "output_type": "stream",
     "text": [
      "\r                                                                                      \rModel built: 0: 2023-08-08 06:54:25.536426\n\r 10%|█         | 1/10 [27:37<2:55:02, 1166.93s/trial, best loss: -0.23834598854290362]\r                                                                                      \rPrediction Validation Set: 0: 2023-08-08 06:54:25.779432\n\r 10%|█         | 1/10 [27:38<2:55:02, 1166.93s/trial, best loss: -0.23834598854290362]"
     ]
    },
    {
     "output_type": "stream",
     "name": "stderr",
     "output_type": "stream",
     "text": [
      "2023/08/08 06:55:14 WARNING mlflow.data.spark_dataset: Failed to infer schema for Spark dataset. Exception: Unsupported Spark Type '<class 'pyspark.ml.linalg.VectorUDT'>', MLflow schema is only supported for scalar Spark types.\n\n"
     ]
    },
    {
     "output_type": "stream",
     "name": "stdout",
     "output_type": "stream",
     "text": [
      "\r                                                                                      \r0.14803960290317122\n\r 10%|█         | 1/10 [28:31<2:55:02, 1166.93s/trial, best loss: -0.23834598854290362]\r                                                                                      \rfold fscore: 0.14803960290317122\n\r 10%|█         | 1/10 [28:31<2:55:02, 1166.93s/trial, best loss: -0.23834598854290362]\r                                                                                      \rCV FOLD START: 1: 2023-08-08 06:55:19.215470\n\r 10%|█         | 1/10 [28:31<2:55:02, 1166.93s/trial, best loss: -0.23834598854290362]"
     ]
    },
    {
     "output_type": "stream",
     "name": "stderr",
     "output_type": "stream",
     "text": [
      "2023/08/08 06:55:19 WARNING mlflow.data.spark_dataset: Failed to infer schema for Spark dataset. Exception: Unsupported Spark Type '<class 'pyspark.ml.linalg.VectorUDT'>', MLflow schema is only supported for scalar Spark types.\n\n"
     ]
    },
    {
     "output_type": "stream",
     "name": "stdout",
     "output_type": "stream",
     "text": [
      "\r                                                                                      \rModel built: 1: 2023-08-08 07:05:41.097655\n\r 10%|█         | 1/10 [38:53<2:55:02, 1166.93s/trial, best loss: -0.23834598854290362]\r                                                                                      \rPrediction Validation Set: 1: 2023-08-08 07:05:41.192201\n\r 10%|█         | 1/10 [38:53<2:55:02, 1166.93s/trial, best loss: -0.23834598854290362]"
     ]
    },
    {
     "output_type": "stream",
     "name": "stderr",
     "output_type": "stream",
     "text": [
      "2023/08/08 07:06:45 WARNING mlflow.data.spark_dataset: Failed to infer schema for Spark dataset. Exception: Unsupported Spark Type '<class 'pyspark.ml.linalg.VectorUDT'>', MLflow schema is only supported for scalar Spark types.\n\n"
     ]
    },
    {
     "output_type": "stream",
     "name": "stdout",
     "output_type": "stream",
     "text": [
      "\r                                                                                      \r0.2680171191661673\n\r 10%|█         | 1/10 [40:02<2:55:02, 1166.93s/trial, best loss: -0.23834598854290362]\r                                                                                      \rfold fscore: 0.2680171191661673\n\r 10%|█         | 1/10 [40:02<2:55:02, 1166.93s/trial, best loss: -0.23834598854290362]\r                                                                                      \raverage fscore accross fold: 0.20802836103466926\n\r 10%|█         | 1/10 [40:03<2:55:02, 1166.93s/trial, best loss: -0.23834598854290362]\r 20%|██        | 2/10 [40:03<2:41:01, 1207.73s/trial, best loss: -0.23834598854290362]\r                                                                                      \rCV FOLD START: 0: 2023-08-08 07:06:51.477976\n\r 20%|██        | 2/10 [40:03<2:41:01, 1207.73s/trial, best loss: -0.23834598854290362]"
     ]
    },
    {
     "output_type": "stream",
     "name": "stderr",
     "output_type": "stream",
     "text": [
      "2023/08/08 07:06:51 WARNING mlflow.data.spark_dataset: Failed to infer schema for Spark dataset. Exception: Unsupported Spark Type '<class 'pyspark.ml.linalg.VectorUDT'>', MLflow schema is only supported for scalar Spark types.\n\n"
     ]
    },
    {
     "output_type": "stream",
     "name": "stdout",
     "output_type": "stream",
     "text": [
      "\r                                                                                      \rModel built: 0: 2023-08-08 07:13:25.689015\n\r 20%|██        | 2/10 [46:38<2:41:01, 1207.73s/trial, best loss: -0.23834598854290362]\r                                                                                      \rPrediction Validation Set: 0: 2023-08-08 07:13:25.760136\n\r 20%|██        | 2/10 [46:38<2:41:01, 1207.73s/trial, best loss: -0.23834598854290362]"
     ]
    },
    {
     "output_type": "stream",
     "name": "stderr",
     "output_type": "stream",
     "text": [
      "2023/08/08 07:14:04 WARNING mlflow.data.spark_dataset: Failed to infer schema for Spark dataset. Exception: Unsupported Spark Type '<class 'pyspark.ml.linalg.VectorUDT'>', MLflow schema is only supported for scalar Spark types.\n\n"
     ]
    },
    {
     "output_type": "stream",
     "name": "stdout",
     "output_type": "stream",
     "text": [
      "\r                                                                                      \r0.14803960290317122\n\r 20%|██        | 2/10 [47:22<2:41:01, 1207.73s/trial, best loss: -0.23834598854290362]\r                                                                                      \rfold fscore: 0.14803960290317122\n\r 20%|██        | 2/10 [47:22<2:41:01, 1207.73s/trial, best loss: -0.23834598854290362]\r                                                                                      \rCV FOLD START: 1: 2023-08-08 07:14:10.084925\n\r 20%|██        | 2/10 [47:22<2:41:01, 1207.73s/trial, best loss: -0.23834598854290362]"
     ]
    },
    {
     "output_type": "stream",
     "name": "stderr",
     "output_type": "stream",
     "text": [
      "2023/08/08 07:14:10 WARNING mlflow.data.spark_dataset: Failed to infer schema for Spark dataset. Exception: Unsupported Spark Type '<class 'pyspark.ml.linalg.VectorUDT'>', MLflow schema is only supported for scalar Spark types.\n\n"
     ]
    },
    {
     "output_type": "stream",
     "name": "stdout",
     "output_type": "stream",
     "text": [
      "\r                                                                                      \rModel built: 1: 2023-08-08 07:22:22.262236\n\r 20%|██        | 2/10 [55:34<2:41:01, 1207.73s/trial, best loss: -0.23834598854290362]\r                                                                                      \rPrediction Validation Set: 1: 2023-08-08 07:22:22.335977\n\r 20%|██        | 2/10 [55:34<2:41:01, 1207.73s/trial, best loss: -0.23834598854290362]"
     ]
    },
    {
     "output_type": "stream",
     "name": "stderr",
     "output_type": "stream",
     "text": [
      "2023/08/08 07:23:09 WARNING mlflow.data.spark_dataset: Failed to infer schema for Spark dataset. Exception: Unsupported Spark Type '<class 'pyspark.ml.linalg.VectorUDT'>', MLflow schema is only supported for scalar Spark types.\n\n"
     ]
    },
    {
     "output_type": "stream",
     "name": "stdout",
     "output_type": "stream",
     "text": [
      "\r                                                                                      \r0.2791327551881639\n\r 20%|██        | 2/10 [56:26<2:41:01, 1207.73s/trial, best loss: -0.23834598854290362]\r                                                                                      \rfold fscore: 0.2791327551881639\n\r 20%|██        | 2/10 [56:26<2:41:01, 1207.73s/trial, best loss: -0.23834598854290362]\r                                                                                      \raverage fscore accross fold: 0.21358617904566757\n\r 20%|██        | 2/10 [56:26<2:41:01, 1207.73s/trial, best loss: -0.23834598854290362]\r 30%|███       | 3/10 [56:26<2:08:58, 1105.43s/trial, best loss: -0.23834598854290362]\r                                                                                      \rCV FOLD START: 0: 2023-08-08 07:23:15.260064\n\r 30%|███       | 3/10 [56:27<2:08:58, 1105.43s/trial, best loss: -0.23834598854290362]"
     ]
    },
    {
     "output_type": "stream",
     "name": "stderr",
     "output_type": "stream",
     "text": [
      "2023/08/08 07:23:15 WARNING mlflow.data.spark_dataset: Failed to infer schema for Spark dataset. Exception: Unsupported Spark Type '<class 'pyspark.ml.linalg.VectorUDT'>', MLflow schema is only supported for scalar Spark types.\n\n"
     ]
    },
    {
     "output_type": "stream",
     "name": "stdout",
     "output_type": "stream",
     "text": [
      "\r                                                                                      \rModel built: 0: 2023-08-08 07:30:14.265132\n\r 30%|███       | 3/10 [1:03:26<2:08:58, 1105.43s/trial, best loss: -0.23834598854290362]\r                                                                                        \rPrediction Validation Set: 0: 2023-08-08 07:30:14.345377\n\r 30%|███       | 3/10 [1:03:26<2:08:58, 1105.43s/trial, best loss: -0.23834598854290362]"
     ]
    },
    {
     "output_type": "stream",
     "name": "stderr",
     "output_type": "stream",
     "text": [
      "2023/08/08 07:31:03 WARNING mlflow.data.spark_dataset: Failed to infer schema for Spark dataset. Exception: Unsupported Spark Type '<class 'pyspark.ml.linalg.VectorUDT'>', MLflow schema is only supported for scalar Spark types.\n\n"
     ]
    },
    {
     "output_type": "stream",
     "name": "stdout",
     "output_type": "stream",
     "text": [
      "\r                                                                                        \r0.14803960290317122\n\r 30%|███       | 3/10 [1:04:21<2:08:58, 1105.43s/trial, best loss: -0.23834598854290362]\r                                                                                        \rfold fscore: 0.14803960290317122\n\r 30%|███       | 3/10 [1:04:21<2:08:58, 1105.43s/trial, best loss: -0.23834598854290362]\r                                                                                        \rCV FOLD START: 1: 2023-08-08 07:31:09.142546\n\r 30%|███       | 3/10 [1:04:21<2:08:58, 1105.43s/trial, best loss: -0.23834598854290362]"
     ]
    },
    {
     "output_type": "stream",
     "name": "stderr",
     "output_type": "stream",
     "text": [
      "2023/08/08 07:31:09 WARNING mlflow.data.spark_dataset: Failed to infer schema for Spark dataset. Exception: Unsupported Spark Type '<class 'pyspark.ml.linalg.VectorUDT'>', MLflow schema is only supported for scalar Spark types.\n\n"
     ]
    },
    {
     "output_type": "stream",
     "name": "stdout",
     "output_type": "stream",
     "text": [
      "\r                                                                                        \rModel built: 1: 2023-08-08 07:39:11.055517\n\r 30%|███       | 3/10 [1:12:23<2:08:58, 1105.43s/trial, best loss: -0.23834598854290362]\r                                                                                        \rPrediction Validation Set: 1: 2023-08-08 07:39:11.128819\n\r 30%|███       | 3/10 [1:12:23<2:08:58, 1105.43s/trial, best loss: -0.23834598854290362]"
     ]
    },
    {
     "output_type": "stream",
     "name": "stderr",
     "output_type": "stream",
     "text": [
      "2023/08/08 07:40:25 WARNING mlflow.data.spark_dataset: Failed to infer schema for Spark dataset. Exception: Unsupported Spark Type '<class 'pyspark.ml.linalg.VectorUDT'>', MLflow schema is only supported for scalar Spark types.\n\n"
     ]
    },
    {
     "output_type": "stream",
     "name": "stdout",
     "output_type": "stream",
     "text": [
      "\r                                                                                        \r0.31067492617420894\n\r 30%|███       | 3/10 [1:13:43<2:08:58, 1105.43s/trial, best loss: -0.23834598854290362]\r                                                                                        \rfold fscore: 0.31067492617420894\n\r 30%|███       | 3/10 [1:13:43<2:08:58, 1105.43s/trial, best loss: -0.23834598854290362]\r                                                                                        \raverage fscore accross fold: 0.2293572645386901\n\r 30%|███       | 3/10 [1:13:43<2:08:58, 1105.43s/trial, best loss: -0.23834598854290362]\r 40%|████      | 4/10 [1:13:43<1:47:49, 1078.26s/trial, best loss: -0.23834598854290362]\r                                                                                        \rCV FOLD START: 0: 2023-08-08 07:40:31.743326\n\r 40%|████      | 4/10 [1:13:44<1:47:49, 1078.26s/trial, best loss: -0.23834598854290362]"
     ]
    },
    {
     "output_type": "stream",
     "name": "stderr",
     "output_type": "stream",
     "text": [
      "2023/08/08 07:40:32 WARNING mlflow.data.spark_dataset: Failed to infer schema for Spark dataset. Exception: Unsupported Spark Type '<class 'pyspark.ml.linalg.VectorUDT'>', MLflow schema is only supported for scalar Spark types.\n\n"
     ]
    },
    {
     "output_type": "stream",
     "name": "stdout",
     "output_type": "stream",
     "text": [
      "\r                                                                                        \rModel built: 0: 2023-08-08 07:47:05.024656\n\r 40%|████      | 4/10 [1:20:17<1:47:49, 1078.26s/trial, best loss: -0.23834598854290362]\r                                                                                        \rPrediction Validation Set: 0: 2023-08-08 07:47:05.105530\n\r 40%|████      | 4/10 [1:20:17<1:47:49, 1078.26s/trial, best loss: -0.23834598854290362]"
     ]
    },
    {
     "output_type": "stream",
     "name": "stderr",
     "output_type": "stream",
     "text": [
      "2023/08/08 07:47:53 WARNING mlflow.data.spark_dataset: Failed to infer schema for Spark dataset. Exception: Unsupported Spark Type '<class 'pyspark.ml.linalg.VectorUDT'>', MLflow schema is only supported for scalar Spark types.\n\n"
     ]
    },
    {
     "output_type": "stream",
     "name": "stdout",
     "output_type": "stream",
     "text": [
      "\r                                                                                        \r0.14803960290317122\n\r 40%|████      | 4/10 [1:21:10<1:47:49, 1078.26s/trial, best loss: -0.23834598854290362]\r                                                                                        \rfold fscore: 0.14803960290317122\n\r 40%|████      | 4/10 [1:21:10<1:47:49, 1078.26s/trial, best loss: -0.23834598854290362]\r                                                                                        \rCV FOLD START: 1: 2023-08-08 07:47:58.259081\n\r 40%|████      | 4/10 [1:21:10<1:47:49, 1078.26s/trial, best loss: -0.23834598854290362]"
     ]
    },
    {
     "output_type": "stream",
     "name": "stderr",
     "output_type": "stream",
     "text": [
      "2023/08/08 07:47:58 WARNING mlflow.data.spark_dataset: Failed to infer schema for Spark dataset. Exception: Unsupported Spark Type '<class 'pyspark.ml.linalg.VectorUDT'>', MLflow schema is only supported for scalar Spark types.\n\n"
     ]
    },
    {
     "output_type": "stream",
     "name": "stdout",
     "output_type": "stream",
     "text": [
      "\r                                                                                        \rModel built: 1: 2023-08-08 07:56:34.328840\n\r 40%|████      | 4/10 [1:29:46<1:47:49, 1078.26s/trial, best loss: -0.23834598854290362]\r                                                                                        \rPrediction Validation Set: 1: 2023-08-08 07:56:34.404933\n\r 40%|████      | 4/10 [1:29:46<1:47:49, 1078.26s/trial, best loss: -0.23834598854290362]"
     ]
    },
    {
     "output_type": "stream",
     "name": "stderr",
     "output_type": "stream",
     "text": [
      "2023/08/08 07:57:36 WARNING mlflow.data.spark_dataset: Failed to infer schema for Spark dataset. Exception: Unsupported Spark Type '<class 'pyspark.ml.linalg.VectorUDT'>', MLflow schema is only supported for scalar Spark types.\n\n"
     ]
    },
    {
     "output_type": "stream",
     "name": "stdout",
     "output_type": "stream",
     "text": [
      "\r                                                                                        \r0.2791327551881639\n\r 40%|████      | 4/10 [1:30:53<1:47:49, 1078.26s/trial, best loss: -0.23834598854290362]\r                                                                                        \rfold fscore: 0.2791327551881639\n\r 40%|████      | 4/10 [1:30:53<1:47:49, 1078.26s/trial, best loss: -0.23834598854290362]\r                                                                                        \raverage fscore accross fold: 0.21358617904566757\n\r 40%|████      | 4/10 [1:30:53<1:47:49, 1078.26s/trial, best loss: -0.23834598854290362]\r 50%|█████     | 5/10 [1:30:53<1:28:25, 1061.02s/trial, best loss: -0.23834598854290362]\r                                                                                        \rCV FOLD START: 0: 2023-08-08 07:57:42.207547\n\r 50%|█████     | 5/10 [1:30:54<1:28:25, 1061.02s/trial, best loss: -0.23834598854290362]"
     ]
    },
    {
     "output_type": "stream",
     "name": "stderr",
     "output_type": "stream",
     "text": [
      "2023/08/08 07:57:42 WARNING mlflow.data.spark_dataset: Failed to infer schema for Spark dataset. Exception: Unsupported Spark Type '<class 'pyspark.ml.linalg.VectorUDT'>', MLflow schema is only supported for scalar Spark types.\n\n"
     ]
    },
    {
     "output_type": "stream",
     "name": "stdout",
     "output_type": "stream",
     "text": [
      "\r                                                                                        \rModel built: 0: 2023-08-08 08:04:33.418241\n\r 50%|█████     | 5/10 [1:37:45<1:28:25, 1061.02s/trial, best loss: -0.23834598854290362]\r                                                                                        \rPrediction Validation Set: 0: 2023-08-08 08:04:33.499989\n\r 50%|█████     | 5/10 [1:37:45<1:28:25, 1061.02s/trial, best loss: -0.23834598854290362]"
     ]
    },
    {
     "output_type": "stream",
     "name": "stderr",
     "output_type": "stream",
     "text": [
      "2023/08/08 08:05:19 WARNING mlflow.data.spark_dataset: Failed to infer schema for Spark dataset. Exception: Unsupported Spark Type '<class 'pyspark.ml.linalg.VectorUDT'>', MLflow schema is only supported for scalar Spark types.\n\n"
     ]
    },
    {
     "output_type": "stream",
     "name": "stdout",
     "output_type": "stream",
     "text": [
      "\r                                                                                        \r0.17475168642847178\n\r 50%|█████     | 5/10 [1:38:36<1:28:25, 1061.02s/trial, best loss: -0.23834598854290362]\r                                                                                        \rfold fscore: 0.17475168642847178\n\r 50%|█████     | 5/10 [1:38:36<1:28:25, 1061.02s/trial, best loss: -0.23834598854290362]\r                                                                                        \rCV FOLD START: 1: 2023-08-08 08:05:24.546158\n\r 50%|█████     | 5/10 [1:38:36<1:28:25, 1061.02s/trial, best loss: -0.23834598854290362]"
     ]
    },
    {
     "output_type": "stream",
     "name": "stderr",
     "output_type": "stream",
     "text": [
      "2023/08/08 08:05:24 WARNING mlflow.data.spark_dataset: Failed to infer schema for Spark dataset. Exception: Unsupported Spark Type '<class 'pyspark.ml.linalg.VectorUDT'>', MLflow schema is only supported for scalar Spark types.\n\n"
     ]
    },
    {
     "output_type": "stream",
     "name": "stdout",
     "output_type": "stream",
     "text": [
      "\r                                                                                        \rModel built: 1: 2023-08-08 08:15:23.517339\n\r 50%|█████     | 5/10 [1:48:35<1:28:25, 1061.02s/trial, best loss: -0.23834598854290362]\r                                                                                        \rPrediction Validation Set: 1: 2023-08-08 08:15:23.596095\n\r 50%|█████     | 5/10 [1:48:35<1:28:25, 1061.02s/trial, best loss: -0.23834598854290362]"
     ]
    },
    {
     "output_type": "stream",
     "name": "stderr",
     "output_type": "stream",
     "text": [
      "2023/08/08 08:16:33 WARNING mlflow.data.spark_dataset: Failed to infer schema for Spark dataset. Exception: Unsupported Spark Type '<class 'pyspark.ml.linalg.VectorUDT'>', MLflow schema is only supported for scalar Spark types.\n\n"
     ]
    },
    {
     "output_type": "stream",
     "name": "stdout",
     "output_type": "stream",
     "text": [
      "\r                                                                                        \r0.3098193630930614\n\r 50%|█████     | 5/10 [1:49:51<1:28:25, 1061.02s/trial, best loss: -0.23834598854290362]\r                                                                                        \rfold fscore: 0.3098193630930614\n\r 50%|█████     | 5/10 [1:49:51<1:28:25, 1061.02s/trial, best loss: -0.23834598854290362]\r                                                                                        \raverage fscore accross fold: 0.2422855247607666\n\r 50%|█████     | 5/10 [1:49:51<1:28:25, 1061.02s/trial, best loss: -0.23834598854290362]\r 60%|██████    | 6/10 [1:49:51<1:12:27, 1086.96s/trial, best loss: -0.2422855247607666] \r                                                                                       \rCV FOLD START: 0: 2023-08-08 08:16:39.643054\n\r 60%|██████    | 6/10 [1:49:51<1:12:27, 1086.96s/trial, best loss: -0.2422855247607666]"
     ]
    },
    {
     "output_type": "stream",
     "name": "stderr",
     "output_type": "stream",
     "text": [
      "2023/08/08 08:16:39 WARNING mlflow.data.spark_dataset: Failed to infer schema for Spark dataset. Exception: Unsupported Spark Type '<class 'pyspark.ml.linalg.VectorUDT'>', MLflow schema is only supported for scalar Spark types.\n\n"
     ]
    },
    {
     "output_type": "stream",
     "name": "stdout",
     "output_type": "stream",
     "text": [
      "\r                                                                                       \rModel built: 0: 2023-08-08 08:23:42.712098\n\r 60%|██████    | 6/10 [1:56:55<1:12:27, 1086.96s/trial, best loss: -0.2422855247607666]\r                                                                                       \rPrediction Validation Set: 0: 2023-08-08 08:23:42.792400\n\r 60%|██████    | 6/10 [1:56:55<1:12:27, 1086.96s/trial, best loss: -0.2422855247607666]"
     ]
    },
    {
     "output_type": "stream",
     "name": "stderr",
     "output_type": "stream",
     "text": [
      "2023/08/08 08:24:32 WARNING mlflow.data.spark_dataset: Failed to infer schema for Spark dataset. Exception: Unsupported Spark Type '<class 'pyspark.ml.linalg.VectorUDT'>', MLflow schema is only supported for scalar Spark types.\n\n"
     ]
    },
    {
     "output_type": "stream",
     "name": "stdout",
     "output_type": "stream",
     "text": [
      "\r                                                                                       \r0.2905477275143471\n\r 60%|██████    | 6/10 [1:57:50<1:12:27, 1086.96s/trial, best loss: -0.2422855247607666]\r                                                                                       \rfold fscore: 0.2905477275143471\n\r 60%|██████    | 6/10 [1:57:50<1:12:27, 1086.96s/trial, best loss: -0.2422855247607666]\r                                                                                       \rCV FOLD START: 1: 2023-08-08 08:24:38.223135\n\r 60%|██████    | 6/10 [1:57:50<1:12:27, 1086.96s/trial, best loss: -0.2422855247607666]"
     ]
    },
    {
     "output_type": "stream",
     "name": "stderr",
     "output_type": "stream",
     "text": [
      "2023/08/08 08:24:38 WARNING mlflow.data.spark_dataset: Failed to infer schema for Spark dataset. Exception: Unsupported Spark Type '<class 'pyspark.ml.linalg.VectorUDT'>', MLflow schema is only supported for scalar Spark types.\n\n"
     ]
    },
    {
     "output_type": "stream",
     "name": "stdout",
     "output_type": "stream",
     "text": [
      "\r                                                                                       \rModel built: 1: 2023-08-08 08:36:02.729151\n\r 60%|██████    | 6/10 [2:09:15<1:12:27, 1086.96s/trial, best loss: -0.2422855247607666]\r                                                                                       \rPrediction Validation Set: 1: 2023-08-08 08:36:02.823415\n\r 60%|██████    | 6/10 [2:09:15<1:12:27, 1086.96s/trial, best loss: -0.2422855247607666]"
     ]
    },
    {
     "output_type": "stream",
     "name": "stderr",
     "output_type": "stream",
     "text": [
      "2023/08/08 08:37:28 WARNING mlflow.data.spark_dataset: Failed to infer schema for Spark dataset. Exception: Unsupported Spark Type '<class 'pyspark.ml.linalg.VectorUDT'>', MLflow schema is only supported for scalar Spark types.\n\n"
     ]
    },
    {
     "output_type": "stream",
     "name": "stdout",
     "output_type": "stream",
     "text": [
      "\r                                                                                       \r0.28381140677775346\n\r 60%|██████    | 6/10 [2:10:46<1:12:27, 1086.96s/trial, best loss: -0.2422855247607666]\r                                                                                       \rfold fscore: 0.28381140677775346\n\r 60%|██████    | 6/10 [2:10:46<1:12:27, 1086.96s/trial, best loss: -0.2422855247607666]\r                                                                                       \raverage fscore accross fold: 0.2871795671460503\n\r 60%|██████    | 6/10 [2:10:46<1:12:27, 1086.96s/trial, best loss: -0.2422855247607666]\r 70%|███████   | 7/10 [2:10:46<57:05, 1141.96s/trial, best loss: -0.2871795671460503]  \r                                                                                     \rCV FOLD START: 0: 2023-08-08 08:37:34.871991\n\r 70%|███████   | 7/10 [2:10:47<57:05, 1141.96s/trial, best loss: -0.2871795671460503]"
     ]
    },
    {
     "output_type": "stream",
     "name": "stderr",
     "output_type": "stream",
     "text": [
      "2023/08/08 08:37:35 WARNING mlflow.data.spark_dataset: Failed to infer schema for Spark dataset. Exception: Unsupported Spark Type '<class 'pyspark.ml.linalg.VectorUDT'>', MLflow schema is only supported for scalar Spark types.\n\n"
     ]
    },
    {
     "output_type": "stream",
     "name": "stdout",
     "output_type": "stream",
     "text": [
      "\r                                                                                     \rModel built: 0: 2023-08-08 08:45:29.493263\n\r 70%|███████   | 7/10 [2:18:41<57:05, 1141.96s/trial, best loss: -0.2871795671460503]\r                                                                                     \rPrediction Validation Set: 0: 2023-08-08 08:45:29.571469\n\r 70%|███████   | 7/10 [2:18:41<57:05, 1141.96s/trial, best loss: -0.2871795671460503]"
     ]
    },
    {
     "output_type": "stream",
     "name": "stderr",
     "output_type": "stream",
     "text": [
      "2023/08/08 08:46:07 WARNING mlflow.data.spark_dataset: Failed to infer schema for Spark dataset. Exception: Unsupported Spark Type '<class 'pyspark.ml.linalg.VectorUDT'>', MLflow schema is only supported for scalar Spark types.\n\n"
     ]
    },
    {
     "output_type": "stream",
     "name": "stdout",
     "output_type": "stream",
     "text": [
      "\r                                                                                     \r0.15125945199491264\n\r 70%|███████   | 7/10 [2:19:24<57:05, 1141.96s/trial, best loss: -0.2871795671460503]\r                                                                                     \rfold fscore: 0.15125945199491264\n\r 70%|███████   | 7/10 [2:19:24<57:05, 1141.96s/trial, best loss: -0.2871795671460503]\r                                                                                     \rCV FOLD START: 1: 2023-08-08 08:46:12.239955\n\r 70%|███████   | 7/10 [2:19:24<57:05, 1141.96s/trial, best loss: -0.2871795671460503]"
     ]
    },
    {
     "output_type": "stream",
     "name": "stderr",
     "output_type": "stream",
     "text": [
      "2023/08/08 08:46:12 WARNING mlflow.data.spark_dataset: Failed to infer schema for Spark dataset. Exception: Unsupported Spark Type '<class 'pyspark.ml.linalg.VectorUDT'>', MLflow schema is only supported for scalar Spark types.\n\n"
     ]
    },
    {
     "output_type": "stream",
     "name": "stdout",
     "output_type": "stream",
     "text": [
      "\r                                                                                     \rModel built: 1: 2023-08-08 08:57:01.631416\n\r 70%|███████   | 7/10 [2:30:13<57:05, 1141.96s/trial, best loss: -0.2871795671460503]\r                                                                                     \rPrediction Validation Set: 1: 2023-08-08 08:57:01.708236\n\r 70%|███████   | 7/10 [2:30:14<57:05, 1141.96s/trial, best loss: -0.2871795671460503]"
     ]
    },
    {
     "output_type": "stream",
     "name": "stderr",
     "output_type": "stream",
     "text": [
      "2023/08/08 08:58:18 WARNING mlflow.data.spark_dataset: Failed to infer schema for Spark dataset. Exception: Unsupported Spark Type '<class 'pyspark.ml.linalg.VectorUDT'>', MLflow schema is only supported for scalar Spark types.\n\n"
     ]
    },
    {
     "output_type": "stream",
     "name": "stdout",
     "output_type": "stream",
     "text": [
      "\r                                                                                     \r0.2630376854989977\n\r 70%|███████   | 7/10 [2:31:36<57:05, 1141.96s/trial, best loss: -0.2871795671460503]\r                                                                                     \rfold fscore: 0.2630376854989977\n\r 70%|███████   | 7/10 [2:31:36<57:05, 1141.96s/trial, best loss: -0.2871795671460503]\r                                                                                     \raverage fscore accross fold: 0.20714856874695517\n\r 70%|███████   | 7/10 [2:31:36<57:05, 1141.96s/trial, best loss: -0.2871795671460503]\r 80%|████████  | 8/10 [2:31:36<39:12, 1176.39s/trial, best loss: -0.2871795671460503]\r                                                                                     \rCV FOLD START: 0: 2023-08-08 08:58:24.977380\n\r 80%|████████  | 8/10 [2:31:37<39:12, 1176.39s/trial, best loss: -0.2871795671460503]"
     ]
    },
    {
     "output_type": "stream",
     "name": "stderr",
     "output_type": "stream",
     "text": [
      "2023/08/08 08:58:25 WARNING mlflow.data.spark_dataset: Failed to infer schema for Spark dataset. Exception: Unsupported Spark Type '<class 'pyspark.ml.linalg.VectorUDT'>', MLflow schema is only supported for scalar Spark types.\n\n"
     ]
    },
    {
     "output_type": "stream",
     "name": "stdout",
     "output_type": "stream",
     "text": [
      "\r                                                                                     \rModel built: 0: 2023-08-08 09:07:06.295402\n\r 80%|████████  | 8/10 [2:40:18<39:12, 1176.39s/trial, best loss: -0.2871795671460503]\r                                                                                     \rPrediction Validation Set: 0: 2023-08-08 09:07:06.389511\n\r 80%|████████  | 8/10 [2:40:18<39:12, 1176.39s/trial, best loss: -0.2871795671460503]"
     ]
    },
    {
     "output_type": "stream",
     "name": "stderr",
     "output_type": "stream",
     "text": [
      "2023/08/08 09:07:42 WARNING mlflow.data.spark_dataset: Failed to infer schema for Spark dataset. Exception: Unsupported Spark Type '<class 'pyspark.ml.linalg.VectorUDT'>', MLflow schema is only supported for scalar Spark types.\n\n"
     ]
    },
    {
     "output_type": "stream",
     "name": "stdout",
     "output_type": "stream",
     "text": [
      "\r                                                                                     \r0.1678479219500937\n\r 80%|████████  | 8/10 [2:41:00<39:12, 1176.39s/trial, best loss: -0.2871795671460503]\r                                                                                     \rfold fscore: 0.1678479219500937\n\r 80%|████████  | 8/10 [2:41:00<39:12, 1176.39s/trial, best loss: -0.2871795671460503]\r                                                                                     \rCV FOLD START: 1: 2023-08-08 09:07:47.957522\n\r 80%|████████  | 8/10 [2:41:00<39:12, 1176.39s/trial, best loss: -0.2871795671460503]"
     ]
    },
    {
     "output_type": "stream",
     "name": "stderr",
     "output_type": "stream",
     "text": [
      "2023/08/08 09:07:48 WARNING mlflow.data.spark_dataset: Failed to infer schema for Spark dataset. Exception: Unsupported Spark Type '<class 'pyspark.ml.linalg.VectorUDT'>', MLflow schema is only supported for scalar Spark types.\n\n"
     ]
    },
    {
     "output_type": "stream",
     "name": "stdout",
     "output_type": "stream",
     "text": [
      "\r                                                                                     \rModel built: 1: 2023-08-08 09:22:38.333821\n\r 80%|████████  | 8/10 [2:55:50<39:12, 1176.39s/trial, best loss: -0.2871795671460503]\r                                                                                     \rPrediction Validation Set: 1: 2023-08-08 09:22:38.420706\n\r 80%|████████  | 8/10 [2:55:50<39:12, 1176.39s/trial, best loss: -0.2871795671460503]"
     ]
    },
    {
     "output_type": "stream",
     "name": "stderr",
     "output_type": "stream",
     "text": [
      "2023/08/08 09:23:33 WARNING mlflow.data.spark_dataset: Failed to infer schema for Spark dataset. Exception: Unsupported Spark Type '<class 'pyspark.ml.linalg.VectorUDT'>', MLflow schema is only supported for scalar Spark types.\n\n"
     ]
    },
    {
     "output_type": "stream",
     "name": "stdout",
     "output_type": "stream",
     "text": [
      "\r                                                                                     \r0.29688935656658855\n\r 80%|████████  | 8/10 [2:56:51<39:12, 1176.39s/trial, best loss: -0.2871795671460503]\r                                                                                     \rfold fscore: 0.29688935656658855\n\r 80%|████████  | 8/10 [2:56:51<39:12, 1176.39s/trial, best loss: -0.2871795671460503]\r                                                                                     \raverage fscore accross fold: 0.23236863925834111\n\r 80%|████████  | 8/10 [2:56:51<39:12, 1176.39s/trial, best loss: -0.2871795671460503]\r 90%|█████████ | 9/10 [2:56:51<21:22, 1282.23s/trial, best loss: -0.2871795671460503]\r                                                                                     \rCV FOLD START: 0: 2023-08-08 09:23:39.740057\n\r 90%|█████████ | 9/10 [2:56:52<21:22, 1282.23s/trial, best loss: -0.2871795671460503]"
     ]
    },
    {
     "output_type": "stream",
     "name": "stderr",
     "output_type": "stream",
     "text": [
      "2023/08/08 09:23:40 WARNING mlflow.data.spark_dataset: Failed to infer schema for Spark dataset. Exception: Unsupported Spark Type '<class 'pyspark.ml.linalg.VectorUDT'>', MLflow schema is only supported for scalar Spark types.\n\n"
     ]
    },
    {
     "output_type": "stream",
     "name": "stdout",
     "output_type": "stream",
     "text": [
      "\r                                                                                     \rModel built: 0: 2023-08-08 09:30:52.824875\n\r 90%|█████████ | 9/10 [3:04:05<21:22, 1282.23s/trial, best loss: -0.2871795671460503]\r                                                                                     \rPrediction Validation Set: 0: 2023-08-08 09:30:52.904865\n\r 90%|█████████ | 9/10 [3:04:05<21:22, 1282.23s/trial, best loss: -0.2871795671460503]"
     ]
    },
    {
     "output_type": "stream",
     "name": "stderr",
     "output_type": "stream",
     "text": [
      "2023/08/08 09:31:35 WARNING mlflow.data.spark_dataset: Failed to infer schema for Spark dataset. Exception: Unsupported Spark Type '<class 'pyspark.ml.linalg.VectorUDT'>', MLflow schema is only supported for scalar Spark types.\n\n"
     ]
    },
    {
     "output_type": "stream",
     "name": "stdout",
     "output_type": "stream",
     "text": [
      "\r                                                                                     \r0.12735659920322326\n\r 90%|█████████ | 9/10 [3:04:53<21:22, 1282.23s/trial, best loss: -0.2871795671460503]\r                                                                                     \rfold fscore: 0.12735659920322326\n\r 90%|█████████ | 9/10 [3:04:53<21:22, 1282.23s/trial, best loss: -0.2871795671460503]\r                                                                                     \rCV FOLD START: 1: 2023-08-08 09:31:40.804562\n\r 90%|█████████ | 9/10 [3:04:53<21:22, 1282.23s/trial, best loss: -0.2871795671460503]"
     ]
    },
    {
     "output_type": "stream",
     "name": "stderr",
     "output_type": "stream",
     "text": [
      "2023/08/08 09:31:41 WARNING mlflow.data.spark_dataset: Failed to infer schema for Spark dataset. Exception: Unsupported Spark Type '<class 'pyspark.ml.linalg.VectorUDT'>', MLflow schema is only supported for scalar Spark types.\n\n"
     ]
    },
    {
     "output_type": "stream",
     "name": "stdout",
     "output_type": "stream",
     "text": [
      "\r                                                                                     \rModel built: 1: 2023-08-08 09:39:21.951473\n\r 90%|█████████ | 9/10 [3:12:34<21:22, 1282.23s/trial, best loss: -0.2871795671460503]\r                                                                                     \rPrediction Validation Set: 1: 2023-08-08 09:39:22.036498\n\r 90%|█████████ | 9/10 [3:12:34<21:22, 1282.23s/trial, best loss: -0.2871795671460503]"
     ]
    },
    {
     "output_type": "stream",
     "name": "stderr",
     "output_type": "stream",
     "text": [
      "2023/08/08 09:40:08 WARNING mlflow.data.spark_dataset: Failed to infer schema for Spark dataset. Exception: Unsupported Spark Type '<class 'pyspark.ml.linalg.VectorUDT'>', MLflow schema is only supported for scalar Spark types.\n\n"
     ]
    },
    {
     "output_type": "stream",
     "name": "stdout",
     "output_type": "stream",
     "text": [
      "\r                                                                                     \r0.33998018764358134\n\r 90%|█████████ | 9/10 [3:13:26<21:22, 1282.23s/trial, best loss: -0.2871795671460503]\r                                                                                     \rfold fscore: 0.33998018764358134\n\r 90%|█████████ | 9/10 [3:13:26<21:22, 1282.23s/trial, best loss: -0.2871795671460503]\r                                                                                     \raverage fscore accross fold: 0.2336683934234023\n\r 90%|█████████ | 9/10 [3:13:26<21:22, 1282.23s/trial, best loss: -0.2871795671460503]\r100%|██████████| 10/10 [3:13:26<00:00, 1193.61s/trial, best loss: -0.2871795671460503]\r100%|██████████| 10/10 [3:13:26<00:00, 1160.67s/trial, best loss: -0.2871795671460503]\nbest parameters: {'max_depth': 10.0, 'min_child_weight': 2.0, 'min_data_in_leaf': 1000.0, 'reg_alpha': 1, 'subsample': 0.8}\n"
     ]
    }
   ],
   "source": [
    "def objective_function_lightgb(params):\n",
    "\n",
    "    # set hyperparameters we want to tune\n",
    "    maxDepth = params[\"max_depth\"]\n",
    "    minchildweight = params[\"min_child_weight\"]\n",
    "    mindatainleaf = params[\"min_data_in_leaf\"]\n",
    "    subSample = params[\"subsample\"]\n",
    "    alp = params[\"reg_alpha\"]\n",
    "\n",
    "\n",
    "\n",
    "    #subsample\n",
    "    with mlflow.start_run():\n",
    "\n",
    "        # Build Model\n",
    "        estimator_lgbm = LGBMClassifier(featuresCol = 'features'\n",
    "                            , labelCol = 'label'\n",
    "                            , maxDepth = maxDepth\n",
    "                            ,min_child_weight=minchildweight\n",
    "                            ,min_data_in_leaf=mindatainleaf\n",
    "                             ,subsample=subSample\n",
    "                            ,reg_alpha=alp\n",
    "                            , numRound=100, numWorkers=2\n",
    "                            )\n",
    "\n",
    "        return trainPredictEval(estimator_lgbm)\n",
    "    \n",
    "    folds = folds_slim\n",
    "\n",
    "mlflow.end_run()\n",
    "\n",
    "# Keep logging off during hypertuning\n",
    "mlflow.pyspark.ml.autolog(log_models=False)\n",
    "\n",
    "\n",
    "search_space_lightgb = {\n",
    "    #step 1 - tree specific drivers\n",
    "        #\"maxDepth\": hp.quniform(\"maxDepth\", 2, 10, 1),   \n",
    "\n",
    "#  #step 1b- data in each tree\n",
    "\n",
    "     'max_depth':hp.quniform(\"max_depth\", 3,10,2),\n",
    "     'min_child_weight':hp.quniform(\"min_child_weight\", 1,6,2),\n",
    "     'min_data_in_leaf':hp.quniform(\"min_data_in_leaf\", 100, 1000, 200),\n",
    "    'subsample':hp.choice(\"subsample\", [i/10.0 for i in range(6,10)]),\n",
    "    \n",
    "\n",
    "#  #step 2 - regularization\n",
    "\n",
    "     'reg_alpha':hp.choice(\"reg_alpha\", [1e-5, 1e-2, 0.1, 1, 100])\n",
    "}\n",
    "\n",
    "num_evals = 10\n",
    "trials = Trials()\n",
    "\n",
    "\n",
    "best_hyperparam_lightgb = fmin(fn=objective_function_lightgb,\n",
    "                       space=search_space_lightgb,\n",
    "                       algo=tpe.suggest,\n",
    "                       max_evals=num_evals,\n",
    "                       trials=trials,\n",
    "                       rstate=np.random.default_rng(42))\n",
    "\n",
    "# BEST PARAMETERS\n",
    "best_params_lightgb = space_eval(search_space_lightgb, best_hyperparam_lightgb)\n",
    "print(f'best parameters: {best_params_lightgb}')\n",
    "\n",
    "# LOG IT\n",
    "\n",
    "with mlflow.start_run():\n",
    "    mlflow.log_params(best_params_lightgb)\n",
    "    mlflow.log_metric(\"CV_2folds_Drop_Origin_Dest_fbeta_XG\", trials.best_trial['result']['loss'])\n",
    "# End prior mlfow run\n",
    "mlflow.end_run()\n",
    "\n",
    "\n",
    "\n"
   ]
  },
  {
   "cell_type": "code",
   "execution_count": 0,
   "metadata": {
    "application/vnd.databricks.v1+cell": {
     "cellMetadata": {},
     "inputWidgets": {},
     "nuid": "51549baa-572d-439c-93c2-8b70aef4f730",
     "showTitle": false,
     "title": ""
    }
   },
   "outputs": [],
   "source": []
  },
  {
   "cell_type": "code",
   "execution_count": 0,
   "metadata": {
    "application/vnd.databricks.v1+cell": {
     "cellMetadata": {},
     "inputWidgets": {},
     "nuid": "f794374d-53a5-4d61-8c24-87f3649222d3",
     "showTitle": false,
     "title": ""
    }
   },
   "outputs": [],
   "source": []
  },
  {
   "cell_type": "code",
   "execution_count": 0,
   "metadata": {
    "application/vnd.databricks.v1+cell": {
     "cellMetadata": {},
     "inputWidgets": {},
     "nuid": "6e135194-138c-4648-a37c-d03333029dd3",
     "showTitle": false,
     "title": ""
    }
   },
   "outputs": [],
   "source": []
  },
  {
   "cell_type": "code",
   "execution_count": 0,
   "metadata": {
    "application/vnd.databricks.v1+cell": {
     "cellMetadata": {},
     "inputWidgets": {},
     "nuid": "c227010e-8562-4b68-8134-20e31a752920",
     "showTitle": false,
     "title": ""
    }
   },
   "outputs": [],
   "source": []
  },
  {
   "cell_type": "code",
   "execution_count": 0,
   "metadata": {
    "application/vnd.databricks.v1+cell": {
     "cellMetadata": {},
     "inputWidgets": {},
     "nuid": "fb546c42-5f48-4193-80c3-12148730a6a8",
     "showTitle": false,
     "title": ""
    }
   },
   "outputs": [],
   "source": []
  },
  {
   "cell_type": "code",
   "execution_count": 0,
   "metadata": {
    "application/vnd.databricks.v1+cell": {
     "cellMetadata": {},
     "inputWidgets": {},
     "nuid": "a8ae0534-24e0-418c-8c40-7910705372d3",
     "showTitle": false,
     "title": ""
    }
   },
   "outputs": [],
   "source": []
  },
  {
   "cell_type": "code",
   "execution_count": 0,
   "metadata": {
    "application/vnd.databricks.v1+cell": {
     "cellMetadata": {
      "byteLimit": 2048000,
      "rowLimit": 10000
     },
     "inputWidgets": {},
     "nuid": "f2e73cb7-5118-4b84-8093-4b082c79dd39",
     "showTitle": false,
     "title": ""
    }
   },
   "outputs": [],
   "source": []
  },
  {
   "cell_type": "code",
   "execution_count": 0,
   "metadata": {
    "application/vnd.databricks.v1+cell": {
     "cellMetadata": {
      "byteLimit": 2048000,
      "rowLimit": 10000
     },
     "inputWidgets": {},
     "nuid": "0be6f94c-de0d-47a9-8abb-05a5e278f2a5",
     "showTitle": false,
     "title": ""
    }
   },
   "outputs": [],
   "source": []
  }
 ],
 "metadata": {
  "application/vnd.databricks.v1+notebook": {
   "dashboards": [],
   "language": "python",
   "notebookMetadata": {
    "pythonIndentUnit": 4
   },
   "notebookName": "Hypertuning with CV Folds",
   "widgets": {}
  }
 },
 "nbformat": 4,
 "nbformat_minor": 0
}
